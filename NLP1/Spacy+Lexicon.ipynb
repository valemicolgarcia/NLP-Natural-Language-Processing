{
  "cells": [
    {
      "cell_type": "code",
      "execution_count": 2,
      "metadata": {
        "id": "foMpMT33SfY8"
      },
      "outputs": [],
      "source": [
        "import spacy"
      ]
    },
    {
      "cell_type": "code",
      "execution_count": 3,
      "metadata": {},
      "outputs": [
        {
          "name": "stdout",
          "output_type": "stream",
          "text": [
            "Requirement already satisfied: spacy in c:\\users\\victus\\anaconda3\\lib\\site-packages (3.7.5)\n",
            "Requirement already satisfied: spacy-legacy<3.1.0,>=3.0.11 in c:\\users\\victus\\anaconda3\\lib\\site-packages (from spacy) (3.0.12)\n",
            "Requirement already satisfied: spacy-loggers<2.0.0,>=1.0.0 in c:\\users\\victus\\anaconda3\\lib\\site-packages (from spacy) (1.0.5)\n",
            "Requirement already satisfied: murmurhash<1.1.0,>=0.28.0 in c:\\users\\victus\\anaconda3\\lib\\site-packages (from spacy) (1.0.10)\n",
            "Requirement already satisfied: cymem<2.1.0,>=2.0.2 in c:\\users\\victus\\anaconda3\\lib\\site-packages (from spacy) (2.0.8)\n",
            "Requirement already satisfied: preshed<3.1.0,>=3.0.2 in c:\\users\\victus\\anaconda3\\lib\\site-packages (from spacy) (3.0.9)\n",
            "Requirement already satisfied: thinc<8.3.0,>=8.2.2 in c:\\users\\victus\\anaconda3\\lib\\site-packages (from spacy) (8.2.5)\n",
            "Requirement already satisfied: wasabi<1.2.0,>=0.9.1 in c:\\users\\victus\\anaconda3\\lib\\site-packages (from spacy) (1.1.3)\n",
            "Requirement already satisfied: srsly<3.0.0,>=2.4.3 in c:\\users\\victus\\anaconda3\\lib\\site-packages (from spacy) (2.4.8)\n",
            "Requirement already satisfied: catalogue<2.1.0,>=2.0.6 in c:\\users\\victus\\anaconda3\\lib\\site-packages (from spacy) (2.0.10)\n",
            "Requirement already satisfied: weasel<0.5.0,>=0.1.0 in c:\\users\\victus\\anaconda3\\lib\\site-packages (from spacy) (0.4.1)\n",
            "Requirement already satisfied: typer<1.0.0,>=0.3.0 in c:\\users\\victus\\anaconda3\\lib\\site-packages (from spacy) (0.12.3)\n",
            "Requirement already satisfied: tqdm<5.0.0,>=4.38.0 in c:\\users\\victus\\anaconda3\\lib\\site-packages (from spacy) (4.65.0)\n",
            "Requirement already satisfied: requests<3.0.0,>=2.13.0 in c:\\users\\victus\\anaconda3\\lib\\site-packages (from spacy) (2.31.0)\n",
            "Requirement already satisfied: pydantic!=1.8,!=1.8.1,<3.0.0,>=1.7.4 in c:\\users\\victus\\anaconda3\\lib\\site-packages (from spacy) (1.10.8)\n",
            "Requirement already satisfied: jinja2 in c:\\users\\victus\\anaconda3\\lib\\site-packages (from spacy) (3.1.2)\n",
            "Requirement already satisfied: setuptools in c:\\users\\victus\\anaconda3\\lib\\site-packages (from spacy) (68.0.0)\n",
            "Requirement already satisfied: packaging>=20.0 in c:\\users\\victus\\anaconda3\\lib\\site-packages (from spacy) (23.1)\n",
            "Requirement already satisfied: langcodes<4.0.0,>=3.2.0 in c:\\users\\victus\\anaconda3\\lib\\site-packages (from spacy) (3.4.0)\n",
            "Requirement already satisfied: numpy>=1.19.0 in c:\\users\\victus\\anaconda3\\lib\\site-packages (from spacy) (1.24.4)\n",
            "Requirement already satisfied: language-data>=1.2 in c:\\users\\victus\\anaconda3\\lib\\site-packages (from langcodes<4.0.0,>=3.2.0->spacy) (1.2.0)\n",
            "Requirement already satisfied: typing-extensions>=4.2.0 in c:\\users\\victus\\anaconda3\\lib\\site-packages (from pydantic!=1.8,!=1.8.1,<3.0.0,>=1.7.4->spacy) (4.5.0)\n",
            "Requirement already satisfied: charset-normalizer<4,>=2 in c:\\users\\victus\\anaconda3\\lib\\site-packages (from requests<3.0.0,>=2.13.0->spacy) (2.0.4)\n",
            "Requirement already satisfied: idna<4,>=2.5 in c:\\users\\victus\\anaconda3\\lib\\site-packages (from requests<3.0.0,>=2.13.0->spacy) (3.4)\n",
            "Requirement already satisfied: urllib3<3,>=1.21.1 in c:\\users\\victus\\anaconda3\\lib\\site-packages (from requests<3.0.0,>=2.13.0->spacy) (1.26.16)\n",
            "Requirement already satisfied: certifi>=2017.4.17 in c:\\users\\victus\\anaconda3\\lib\\site-packages (from requests<3.0.0,>=2.13.0->spacy) (2024.7.4)\n",
            "Requirement already satisfied: blis<0.8.0,>=0.7.8 in c:\\users\\victus\\anaconda3\\lib\\site-packages (from thinc<8.3.0,>=8.2.2->spacy) (0.7.11)\n",
            "Requirement already satisfied: confection<1.0.0,>=0.0.1 in c:\\users\\victus\\anaconda3\\lib\\site-packages (from thinc<8.3.0,>=8.2.2->spacy) (0.1.5)\n",
            "Requirement already satisfied: colorama in c:\\users\\victus\\anaconda3\\lib\\site-packages (from tqdm<5.0.0,>=4.38.0->spacy) (0.4.6)\n",
            "Requirement already satisfied: click>=8.0.0 in c:\\users\\victus\\anaconda3\\lib\\site-packages (from typer<1.0.0,>=0.3.0->spacy) (8.0.4)\n",
            "Requirement already satisfied: shellingham>=1.3.0 in c:\\users\\victus\\anaconda3\\lib\\site-packages (from typer<1.0.0,>=0.3.0->spacy) (1.5.4)\n",
            "Requirement already satisfied: rich>=10.11.0 in c:\\users\\victus\\anaconda3\\lib\\site-packages (from typer<1.0.0,>=0.3.0->spacy) (13.7.1)\n",
            "Requirement already satisfied: cloudpathlib<1.0.0,>=0.7.0 in c:\\users\\victus\\anaconda3\\lib\\site-packages (from weasel<0.5.0,>=0.1.0->spacy) (0.18.1)\n",
            "Requirement already satisfied: smart-open<8.0.0,>=5.2.1 in c:\\users\\victus\\anaconda3\\lib\\site-packages (from weasel<0.5.0,>=0.1.0->spacy) (5.2.1)\n",
            "Requirement already satisfied: MarkupSafe>=2.0 in c:\\users\\victus\\anaconda3\\lib\\site-packages (from jinja2->spacy) (2.1.1)\n",
            "Requirement already satisfied: marisa-trie>=0.7.7 in c:\\users\\victus\\anaconda3\\lib\\site-packages (from language-data>=1.2->langcodes<4.0.0,>=3.2.0->spacy) (1.2.0)\n",
            "Requirement already satisfied: markdown-it-py>=2.2.0 in c:\\users\\victus\\anaconda3\\lib\\site-packages (from rich>=10.11.0->typer<1.0.0,>=0.3.0->spacy) (2.2.0)\n",
            "Requirement already satisfied: pygments<3.0.0,>=2.13.0 in c:\\users\\victus\\anaconda3\\lib\\site-packages (from rich>=10.11.0->typer<1.0.0,>=0.3.0->spacy) (2.15.1)\n",
            "Requirement already satisfied: mdurl~=0.1 in c:\\users\\victus\\anaconda3\\lib\\site-packages (from markdown-it-py>=2.2.0->rich>=10.11.0->typer<1.0.0,>=0.3.0->spacy) (0.1.0)\n"
          ]
        }
      ],
      "source": [
        "!pip install spacy"
      ]
    },
    {
      "cell_type": "code",
      "execution_count": 4,
      "metadata": {
        "colab": {
          "base_uri": "https://localhost:8080/"
        },
        "id": "TAR0lp87SfY9",
        "outputId": "a1bfd5b5-b1ad-4fc9-860a-b8d6794362ff"
      },
      "outputs": [
        {
          "name": "stdout",
          "output_type": "stream",
          "text": [
            "Collecting es-core-news-sm==3.7.0\n",
            "  Downloading https://github.com/explosion/spacy-models/releases/download/es_core_news_sm-3.7.0/es_core_news_sm-3.7.0-py3-none-any.whl (12.9 MB)\n",
            "     ---------------------------------------- 0.0/12.9 MB ? eta -:--:--\n",
            "     ---------------------------------------- 0.0/12.9 MB ? eta -:--:--\n",
            "     ---------------------------------------- 0.1/12.9 MB 1.1 MB/s eta 0:00:13\n",
            "     - -------------------------------------- 0.4/12.9 MB 3.3 MB/s eta 0:00:04\n",
            "     -- ------------------------------------- 1.0/12.9 MB 5.5 MB/s eta 0:00:03\n",
            "     ---- ----------------------------------- 1.5/12.9 MB 6.7 MB/s eta 0:00:02\n",
            "     ------ --------------------------------- 2.0/12.9 MB 7.5 MB/s eta 0:00:02\n",
            "     ------- -------------------------------- 2.5/12.9 MB 8.0 MB/s eta 0:00:02\n",
            "     --------- ------------------------------ 3.0/12.9 MB 8.4 MB/s eta 0:00:02\n",
            "     ---------- ----------------------------- 3.5/12.9 MB 8.6 MB/s eta 0:00:02\n",
            "     ------------ --------------------------- 4.0/12.9 MB 8.9 MB/s eta 0:00:01\n",
            "     -------------- ------------------------- 4.5/12.9 MB 9.1 MB/s eta 0:00:01\n",
            "     --------------- ------------------------ 5.0/12.9 MB 9.1 MB/s eta 0:00:01\n",
            "     ----------------- ---------------------- 5.6/12.9 MB 9.3 MB/s eta 0:00:01\n",
            "     ------------------ --------------------- 6.1/12.9 MB 9.5 MB/s eta 0:00:01\n",
            "     -------------------- ------------------- 6.6/12.9 MB 9.6 MB/s eta 0:00:01\n",
            "     ---------------------- ----------------- 7.1/12.9 MB 9.7 MB/s eta 0:00:01\n",
            "     ----------------------- ---------------- 7.6/12.9 MB 9.7 MB/s eta 0:00:01\n",
            "     ------------------------- -------------- 8.1/12.9 MB 9.8 MB/s eta 0:00:01\n",
            "     --------------------------- ------------ 8.7/12.9 MB 9.9 MB/s eta 0:00:01\n",
            "     ---------------------------- ----------- 9.2/12.9 MB 10.0 MB/s eta 0:00:01\n",
            "     ------------------------------ --------- 9.8/12.9 MB 10.1 MB/s eta 0:00:01\n",
            "     ------------------------------ -------- 10.2/12.9 MB 10.2 MB/s eta 0:00:01\n",
            "     -------------------------------- ------ 10.8/12.9 MB 11.1 MB/s eta 0:00:01\n",
            "     ---------------------------------- ---- 11.3/12.9 MB 11.1 MB/s eta 0:00:01\n",
            "     ----------------------------------- --- 11.7/12.9 MB 11.1 MB/s eta 0:00:01\n",
            "     ------------------------------------ -- 12.1/12.9 MB 11.1 MB/s eta 0:00:01\n",
            "     --------------------------------------  12.8/12.9 MB 11.1 MB/s eta 0:00:01\n",
            "     --------------------------------------  12.9/12.9 MB 11.1 MB/s eta 0:00:01\n",
            "     --------------------------------------- 12.9/12.9 MB 10.6 MB/s eta 0:00:00\n",
            "Requirement already satisfied: spacy<3.8.0,>=3.7.0 in c:\\users\\victus\\anaconda3\\lib\\site-packages (from es-core-news-sm==3.7.0) (3.7.5)\n",
            "Requirement already satisfied: spacy-legacy<3.1.0,>=3.0.11 in c:\\users\\victus\\anaconda3\\lib\\site-packages (from spacy<3.8.0,>=3.7.0->es-core-news-sm==3.7.0) (3.0.12)\n",
            "Requirement already satisfied: spacy-loggers<2.0.0,>=1.0.0 in c:\\users\\victus\\anaconda3\\lib\\site-packages (from spacy<3.8.0,>=3.7.0->es-core-news-sm==3.7.0) (1.0.5)\n",
            "Requirement already satisfied: murmurhash<1.1.0,>=0.28.0 in c:\\users\\victus\\anaconda3\\lib\\site-packages (from spacy<3.8.0,>=3.7.0->es-core-news-sm==3.7.0) (1.0.10)\n",
            "Requirement already satisfied: cymem<2.1.0,>=2.0.2 in c:\\users\\victus\\anaconda3\\lib\\site-packages (from spacy<3.8.0,>=3.7.0->es-core-news-sm==3.7.0) (2.0.8)\n",
            "Requirement already satisfied: preshed<3.1.0,>=3.0.2 in c:\\users\\victus\\anaconda3\\lib\\site-packages (from spacy<3.8.0,>=3.7.0->es-core-news-sm==3.7.0) (3.0.9)\n",
            "Requirement already satisfied: thinc<8.3.0,>=8.2.2 in c:\\users\\victus\\anaconda3\\lib\\site-packages (from spacy<3.8.0,>=3.7.0->es-core-news-sm==3.7.0) (8.2.5)\n",
            "Requirement already satisfied: wasabi<1.2.0,>=0.9.1 in c:\\users\\victus\\anaconda3\\lib\\site-packages (from spacy<3.8.0,>=3.7.0->es-core-news-sm==3.7.0) (1.1.3)\n",
            "Requirement already satisfied: srsly<3.0.0,>=2.4.3 in c:\\users\\victus\\anaconda3\\lib\\site-packages (from spacy<3.8.0,>=3.7.0->es-core-news-sm==3.7.0) (2.4.8)\n",
            "Requirement already satisfied: catalogue<2.1.0,>=2.0.6 in c:\\users\\victus\\anaconda3\\lib\\site-packages (from spacy<3.8.0,>=3.7.0->es-core-news-sm==3.7.0) (2.0.10)\n",
            "Requirement already satisfied: weasel<0.5.0,>=0.1.0 in c:\\users\\victus\\anaconda3\\lib\\site-packages (from spacy<3.8.0,>=3.7.0->es-core-news-sm==3.7.0) (0.4.1)\n",
            "Requirement already satisfied: typer<1.0.0,>=0.3.0 in c:\\users\\victus\\anaconda3\\lib\\site-packages (from spacy<3.8.0,>=3.7.0->es-core-news-sm==3.7.0) (0.12.3)\n",
            "Requirement already satisfied: tqdm<5.0.0,>=4.38.0 in c:\\users\\victus\\anaconda3\\lib\\site-packages (from spacy<3.8.0,>=3.7.0->es-core-news-sm==3.7.0) (4.65.0)\n",
            "Requirement already satisfied: requests<3.0.0,>=2.13.0 in c:\\users\\victus\\anaconda3\\lib\\site-packages (from spacy<3.8.0,>=3.7.0->es-core-news-sm==3.7.0) (2.31.0)\n",
            "Requirement already satisfied: pydantic!=1.8,!=1.8.1,<3.0.0,>=1.7.4 in c:\\users\\victus\\anaconda3\\lib\\site-packages (from spacy<3.8.0,>=3.7.0->es-core-news-sm==3.7.0) (1.10.8)\n",
            "Requirement already satisfied: jinja2 in c:\\users\\victus\\anaconda3\\lib\\site-packages (from spacy<3.8.0,>=3.7.0->es-core-news-sm==3.7.0) (3.1.2)\n",
            "Requirement already satisfied: setuptools in c:\\users\\victus\\anaconda3\\lib\\site-packages (from spacy<3.8.0,>=3.7.0->es-core-news-sm==3.7.0) (68.0.0)\n",
            "Requirement already satisfied: packaging>=20.0 in c:\\users\\victus\\anaconda3\\lib\\site-packages (from spacy<3.8.0,>=3.7.0->es-core-news-sm==3.7.0) (23.1)\n",
            "Requirement already satisfied: langcodes<4.0.0,>=3.2.0 in c:\\users\\victus\\anaconda3\\lib\\site-packages (from spacy<3.8.0,>=3.7.0->es-core-news-sm==3.7.0) (3.4.0)\n",
            "Requirement already satisfied: numpy>=1.19.0 in c:\\users\\victus\\anaconda3\\lib\\site-packages (from spacy<3.8.0,>=3.7.0->es-core-news-sm==3.7.0) (1.24.4)\n",
            "Requirement already satisfied: language-data>=1.2 in c:\\users\\victus\\anaconda3\\lib\\site-packages (from langcodes<4.0.0,>=3.2.0->spacy<3.8.0,>=3.7.0->es-core-news-sm==3.7.0) (1.2.0)\n",
            "Requirement already satisfied: typing-extensions>=4.2.0 in c:\\users\\victus\\anaconda3\\lib\\site-packages (from pydantic!=1.8,!=1.8.1,<3.0.0,>=1.7.4->spacy<3.8.0,>=3.7.0->es-core-news-sm==3.7.0) (4.5.0)\n",
            "Requirement already satisfied: charset-normalizer<4,>=2 in c:\\users\\victus\\anaconda3\\lib\\site-packages (from requests<3.0.0,>=2.13.0->spacy<3.8.0,>=3.7.0->es-core-news-sm==3.7.0) (2.0.4)\n",
            "Requirement already satisfied: idna<4,>=2.5 in c:\\users\\victus\\anaconda3\\lib\\site-packages (from requests<3.0.0,>=2.13.0->spacy<3.8.0,>=3.7.0->es-core-news-sm==3.7.0) (3.4)\n",
            "Requirement already satisfied: urllib3<3,>=1.21.1 in c:\\users\\victus\\anaconda3\\lib\\site-packages (from requests<3.0.0,>=2.13.0->spacy<3.8.0,>=3.7.0->es-core-news-sm==3.7.0) (1.26.16)\n",
            "Requirement already satisfied: certifi>=2017.4.17 in c:\\users\\victus\\anaconda3\\lib\\site-packages (from requests<3.0.0,>=2.13.0->spacy<3.8.0,>=3.7.0->es-core-news-sm==3.7.0) (2024.7.4)\n",
            "Requirement already satisfied: blis<0.8.0,>=0.7.8 in c:\\users\\victus\\anaconda3\\lib\\site-packages (from thinc<8.3.0,>=8.2.2->spacy<3.8.0,>=3.7.0->es-core-news-sm==3.7.0) (0.7.11)\n",
            "Requirement already satisfied: confection<1.0.0,>=0.0.1 in c:\\users\\victus\\anaconda3\\lib\\site-packages (from thinc<8.3.0,>=8.2.2->spacy<3.8.0,>=3.7.0->es-core-news-sm==3.7.0) (0.1.5)\n",
            "Requirement already satisfied: colorama in c:\\users\\victus\\anaconda3\\lib\\site-packages (from tqdm<5.0.0,>=4.38.0->spacy<3.8.0,>=3.7.0->es-core-news-sm==3.7.0) (0.4.6)\n",
            "Requirement already satisfied: click>=8.0.0 in c:\\users\\victus\\anaconda3\\lib\\site-packages (from typer<1.0.0,>=0.3.0->spacy<3.8.0,>=3.7.0->es-core-news-sm==3.7.0) (8.0.4)\n",
            "Requirement already satisfied: shellingham>=1.3.0 in c:\\users\\victus\\anaconda3\\lib\\site-packages (from typer<1.0.0,>=0.3.0->spacy<3.8.0,>=3.7.0->es-core-news-sm==3.7.0) (1.5.4)\n",
            "Requirement already satisfied: rich>=10.11.0 in c:\\users\\victus\\anaconda3\\lib\\site-packages (from typer<1.0.0,>=0.3.0->spacy<3.8.0,>=3.7.0->es-core-news-sm==3.7.0) (13.7.1)\n",
            "Requirement already satisfied: cloudpathlib<1.0.0,>=0.7.0 in c:\\users\\victus\\anaconda3\\lib\\site-packages (from weasel<0.5.0,>=0.1.0->spacy<3.8.0,>=3.7.0->es-core-news-sm==3.7.0) (0.18.1)\n",
            "Requirement already satisfied: smart-open<8.0.0,>=5.2.1 in c:\\users\\victus\\anaconda3\\lib\\site-packages (from weasel<0.5.0,>=0.1.0->spacy<3.8.0,>=3.7.0->es-core-news-sm==3.7.0) (5.2.1)\n",
            "Requirement already satisfied: MarkupSafe>=2.0 in c:\\users\\victus\\anaconda3\\lib\\site-packages (from jinja2->spacy<3.8.0,>=3.7.0->es-core-news-sm==3.7.0) (2.1.1)\n",
            "Requirement already satisfied: marisa-trie>=0.7.7 in c:\\users\\victus\\anaconda3\\lib\\site-packages (from language-data>=1.2->langcodes<4.0.0,>=3.2.0->spacy<3.8.0,>=3.7.0->es-core-news-sm==3.7.0) (1.2.0)\n",
            "Requirement already satisfied: markdown-it-py>=2.2.0 in c:\\users\\victus\\anaconda3\\lib\\site-packages (from rich>=10.11.0->typer<1.0.0,>=0.3.0->spacy<3.8.0,>=3.7.0->es-core-news-sm==3.7.0) (2.2.0)\n",
            "Requirement already satisfied: pygments<3.0.0,>=2.13.0 in c:\\users\\victus\\anaconda3\\lib\\site-packages (from rich>=10.11.0->typer<1.0.0,>=0.3.0->spacy<3.8.0,>=3.7.0->es-core-news-sm==3.7.0) (2.15.1)\n",
            "Requirement already satisfied: mdurl~=0.1 in c:\\users\\victus\\anaconda3\\lib\\site-packages (from markdown-it-py>=2.2.0->rich>=10.11.0->typer<1.0.0,>=0.3.0->spacy<3.8.0,>=3.7.0->es-core-news-sm==3.7.0) (0.1.0)\n",
            "\u001b[38;5;2m✔ Download and installation successful\u001b[0m\n",
            "You can now load the package via spacy.load('es_core_news_sm')\n"
          ]
        }
      ],
      "source": [
        "!python -m spacy download es_core_news_sm"
      ]
    },
    {
      "cell_type": "code",
      "execution_count": 5,
      "metadata": {
        "id": "EbdYAByZSfY_"
      },
      "outputs": [],
      "source": [
        "sp = spacy.load('es_core_news_sm')"
      ]
    },
    {
      "cell_type": "code",
      "execution_count": 6,
      "metadata": {
        "id": "Be0EJrS0SfY_"
      },
      "outputs": [],
      "source": [
        "coment='Argenzuela le empieza a quedar grande, a los muchachos ya ni las cámaras los asusta. Hasta que la justicia no sea justa y con toda la fuerza de la ley, estos muchachos van a seguir haciendo lo que quieren.'"
      ]
    },
    {
      "cell_type": "code",
      "execution_count": 7,
      "metadata": {
        "id": "hDNJYSuSSfY_"
      },
      "outputs": [],
      "source": [
        "doc=sp(coment) #agarra el documento y lo tokeniza"
      ]
    },
    {
      "cell_type": "code",
      "execution_count": 8,
      "metadata": {},
      "outputs": [
        {
          "data": {
            "text/plain": [
              "spacy.tokens.doc.Doc"
            ]
          },
          "execution_count": 8,
          "metadata": {},
          "output_type": "execute_result"
        }
      ],
      "source": [
        "type(doc) #es como si fuera el df"
      ]
    },
    {
      "cell_type": "code",
      "execution_count": 9,
      "metadata": {
        "colab": {
          "base_uri": "https://localhost:8080/"
        },
        "id": "fvpk2XWRSfY_",
        "outputId": "2f9b0878-3541-4cd4-eefe-5840c17a6f28"
      },
      "outputs": [
        {
          "name": "stdout",
          "output_type": "stream",
          "text": [
            "Argenzuela\n",
            "le\n",
            "empieza\n",
            "a\n",
            "quedar\n",
            "grande\n",
            ",\n",
            "a\n",
            "los\n",
            "muchachos\n",
            "ya\n",
            "ni\n",
            "las\n",
            "cámaras\n",
            "los\n",
            "asusta\n",
            ".\n",
            "Hasta\n",
            "que\n",
            "la\n",
            "justicia\n",
            "no\n",
            "sea\n",
            "justa\n",
            "y\n",
            "con\n",
            "toda\n",
            "la\n",
            "fuerza\n",
            "de\n",
            "la\n",
            "ley\n",
            ",\n",
            "estos\n",
            "muchachos\n",
            "van\n",
            "a\n",
            "seguir\n",
            "haciendo\n",
            "lo\n",
            "que\n",
            "quieren\n",
            ".\n"
          ]
        }
      ],
      "source": [
        "for x in doc: print(x)"
      ]
    },
    {
      "cell_type": "code",
      "execution_count": 10,
      "metadata": {
        "colab": {
          "base_uri": "https://localhost:8080/"
        },
        "id": "O-JrjqiLSfZA",
        "outputId": "35966252-f4d0-430e-95f1-beadeb05b74e"
      },
      "outputs": [
        {
          "name": "stdout",
          "output_type": "stream",
          "text": [
            "Argenzuela\n",
            "él\n",
            "empezar\n",
            "a\n",
            "quedar\n",
            "grande\n",
            ",\n",
            "a\n",
            "el\n",
            "muchacho\n",
            "ya\n",
            "ni\n",
            "el\n",
            "cámara\n",
            "el\n",
            "asusta\n",
            ".\n",
            "hasta\n",
            "que\n",
            "el\n",
            "justicia\n",
            "no\n",
            "ser\n",
            "justo\n",
            "y\n",
            "con\n",
            "todo\n",
            "el\n",
            "fuerza\n",
            "de\n",
            "el\n",
            "ley\n",
            ",\n",
            "este\n",
            "muchacho\n",
            "ir\n",
            "a\n",
            "seguir\n",
            "hacer\n",
            "él\n",
            "que\n",
            "querer\n",
            ".\n"
          ]
        }
      ],
      "source": [
        "lemi=list()\n",
        "for x in doc:\n",
        "    print(x.lemma_) #los lemas ej: quieren se transformo en querer, empieza --> empezar"
      ]
    },
    {
      "cell_type": "code",
      "execution_count": 11,
      "metadata": {},
      "outputs": [
        {
          "data": {
            "text/plain": [
              "Argenzuela"
            ]
          },
          "execution_count": 11,
          "metadata": {},
          "output_type": "execute_result"
        }
      ],
      "source": [
        "doc[0] #primer token"
      ]
    },
    {
      "cell_type": "code",
      "execution_count": 12,
      "metadata": {},
      "outputs": [
        {
          "data": {
            "text/plain": [
              "spacy.tokens.token.Token"
            ]
          },
          "execution_count": 12,
          "metadata": {},
          "output_type": "execute_result"
        }
      ],
      "source": [
        "type(doc[0])"
      ]
    },
    {
      "cell_type": "code",
      "execution_count": 13,
      "metadata": {},
      "outputs": [
        {
          "data": {
            "text/plain": [
              "['_',\n",
              " '__bytes__',\n",
              " '__class__',\n",
              " '__delattr__',\n",
              " '__dir__',\n",
              " '__doc__',\n",
              " '__eq__',\n",
              " '__format__',\n",
              " '__ge__',\n",
              " '__getattribute__',\n",
              " '__getstate__',\n",
              " '__gt__',\n",
              " '__hash__',\n",
              " '__init__',\n",
              " '__init_subclass__',\n",
              " '__le__',\n",
              " '__len__',\n",
              " '__lt__',\n",
              " '__ne__',\n",
              " '__new__',\n",
              " '__pyx_vtable__',\n",
              " '__reduce__',\n",
              " '__reduce_ex__',\n",
              " '__repr__',\n",
              " '__setattr__',\n",
              " '__sizeof__',\n",
              " '__str__',\n",
              " '__subclasshook__',\n",
              " '__unicode__',\n",
              " 'ancestors',\n",
              " 'check_flag',\n",
              " 'children',\n",
              " 'cluster',\n",
              " 'conjuncts',\n",
              " 'dep',\n",
              " 'dep_',\n",
              " 'doc',\n",
              " 'ent_id',\n",
              " 'ent_id_',\n",
              " 'ent_iob',\n",
              " 'ent_iob_',\n",
              " 'ent_kb_id',\n",
              " 'ent_kb_id_',\n",
              " 'ent_type',\n",
              " 'ent_type_',\n",
              " 'get_extension',\n",
              " 'has_dep',\n",
              " 'has_extension',\n",
              " 'has_head',\n",
              " 'has_morph',\n",
              " 'has_vector',\n",
              " 'head',\n",
              " 'i',\n",
              " 'idx',\n",
              " 'iob_strings',\n",
              " 'is_alpha',\n",
              " 'is_ancestor',\n",
              " 'is_ascii',\n",
              " 'is_bracket',\n",
              " 'is_currency',\n",
              " 'is_digit',\n",
              " 'is_left_punct',\n",
              " 'is_lower',\n",
              " 'is_oov',\n",
              " 'is_punct',\n",
              " 'is_quote',\n",
              " 'is_right_punct',\n",
              " 'is_sent_end',\n",
              " 'is_sent_start',\n",
              " 'is_space',\n",
              " 'is_stop',\n",
              " 'is_title',\n",
              " 'is_upper',\n",
              " 'lang',\n",
              " 'lang_',\n",
              " 'left_edge',\n",
              " 'lefts',\n",
              " 'lemma',\n",
              " 'lemma_',\n",
              " 'lex',\n",
              " 'lex_id',\n",
              " 'like_email',\n",
              " 'like_num',\n",
              " 'like_url',\n",
              " 'lower',\n",
              " 'lower_',\n",
              " 'morph',\n",
              " 'n_lefts',\n",
              " 'n_rights',\n",
              " 'nbor',\n",
              " 'norm',\n",
              " 'norm_',\n",
              " 'orth',\n",
              " 'orth_',\n",
              " 'pos',\n",
              " 'pos_',\n",
              " 'prefix',\n",
              " 'prefix_',\n",
              " 'prob',\n",
              " 'rank',\n",
              " 'remove_extension',\n",
              " 'right_edge',\n",
              " 'rights',\n",
              " 'sent',\n",
              " 'sent_start',\n",
              " 'sentiment',\n",
              " 'set_extension',\n",
              " 'set_morph',\n",
              " 'shape',\n",
              " 'shape_',\n",
              " 'similarity',\n",
              " 'subtree',\n",
              " 'suffix',\n",
              " 'suffix_',\n",
              " 'tag',\n",
              " 'tag_',\n",
              " 'tensor',\n",
              " 'text',\n",
              " 'text_with_ws',\n",
              " 'vector',\n",
              " 'vector_norm',\n",
              " 'vocab',\n",
              " 'whitespace_']"
            ]
          },
          "execution_count": 13,
          "metadata": {},
          "output_type": "execute_result"
        }
      ],
      "source": [
        "dir(doc[0]) #puedo ver todas las funciones que se pueden hacer (todos los atributos y metodos de un objeto token)"
      ]
    },
    {
      "cell_type": "markdown",
      "metadata": {
        "id": "9372Pa--SfZA"
      },
      "source": [
        "https://universaldependencies.org/docs/u/pos/"
      ]
    },
    {
      "cell_type": "markdown",
      "metadata": {
        "id": "-cZ7scDiSfZB"
      },
      "source": [
        "* Text: The original word text.\n",
        "* Lemma: The base form of the word.\n",
        "* POS: The simple UPOS part-of-speech tag.\n",
        "* Tag: The detailed part-of-speech tag.\n",
        "* Dep: Syntactic dependency, i.e. the relation between tokens.\n",
        "* Shape: The word shape – capitalization, punctuation, digits.\n",
        "* is alpha: Is the token an alpha character?\n",
        "* is stop: Is the token part of a stop list, i.e. the most common words of the language?"
      ]
    },
    {
      "cell_type": "code",
      "execution_count": 14,
      "metadata": {},
      "outputs": [
        {
          "data": {
            "text/plain": [
              "'PROPN'"
            ]
          },
          "execution_count": 14,
          "metadata": {},
          "output_type": "execute_result"
        }
      ],
      "source": [
        "doc[0].pos_ #me dice que el primer token Argenzuela es un PROPN (pronombre)"
      ]
    },
    {
      "cell_type": "code",
      "execution_count": 15,
      "metadata": {
        "id": "hoUhc16LSfZC",
        "outputId": "dd55e5df-30e5-424c-bc08-ecadcadf50b1"
      },
      "outputs": [
        {
          "name": "stdout",
          "output_type": "stream",
          "text": [
            "le\n",
            "a\n",
            "grande\n",
            "a\n",
            "los\n",
            "ya\n",
            "ni\n",
            "las\n",
            "los\n",
            "Hasta\n",
            "que\n",
            "la\n",
            "no\n",
            "sea\n",
            "y\n",
            "con\n",
            "toda\n",
            "la\n",
            "de\n",
            "la\n",
            "estos\n",
            "van\n",
            "a\n",
            "haciendo\n",
            "lo\n",
            "que\n"
          ]
        }
      ],
      "source": [
        "# Stopwords\n",
        "\n",
        "for x in doc:\n",
        "    if x.is_stop:\n",
        "        print(x)\n",
        "\n",
        "#aca puedo determinar que me deje \"grande\" y el resto de las palabras no, ya que no dice nda importante"
      ]
    },
    {
      "cell_type": "code",
      "execution_count": 16,
      "metadata": {
        "id": "ld1z_5owSfZC",
        "outputId": "43e08ec2-4709-4555-f3e1-6ad0ba48e3bf"
      },
      "outputs": [
        {
          "data": {
            "text/plain": [
              "[empieza, quedar, seguir, haciendo, quieren]"
            ]
          },
          "execution_count": 16,
          "metadata": {},
          "output_type": "execute_result"
        }
      ],
      "source": [
        "[token for token in sp(coment) if token.pos_ == \"VERB\"]"
      ]
    },
    {
      "cell_type": "code",
      "execution_count": 17,
      "metadata": {
        "id": "83muYg4lSfZC",
        "outputId": "00992fc7-b600-4e35-fabf-a8a4b6ee97b1"
      },
      "outputs": [
        {
          "data": {
            "text/plain": [
              "['empezar', 'quedar', 'seguir', 'hacer', 'querer']"
            ]
          },
          "execution_count": 17,
          "metadata": {},
          "output_type": "execute_result"
        }
      ],
      "source": [
        "[token.lemma_ for token in sp(coment) if token.pos_ == \"VERB\"] #solo me quedo con los lemas que son verbos"
      ]
    },
    {
      "cell_type": "code",
      "execution_count": 18,
      "metadata": {
        "id": "PQF0dt-iSfZD",
        "outputId": "65a20d38-703b-4e8a-fcb4-8f6539db98e8"
      },
      "outputs": [
        {
          "name": "stdout",
          "output_type": "stream",
          "text": [
            "Argenzuela PROPN   nsubj   nominal subject\n",
            "le         PRON    iobj    indirect object\n",
            "empieza    VERB    ROOT    root\n",
            "a          ADP     mark    marker\n",
            "quedar     VERB    xcomp   open clausal complement\n",
            "grande     ADJ     obj     object\n",
            ",          PUNCT   punct   punctuation\n",
            "a          ADP     case    case marking\n",
            "los        DET     det     determiner\n",
            "muchachos  NOUN    obl     oblique nominal\n",
            "ya         ADV     advmod  adverbial modifier\n",
            "ni         CCONJ   cc      coordinating conjunction\n",
            "las        DET     det     determiner\n",
            "cámaras    NOUN    conj    conjunct\n",
            "los        DET     det     determiner\n",
            "asusta     NOUN    obj     object\n",
            ".          PUNCT   punct   punctuation\n",
            "Hasta      ADP     mark    marker\n",
            "que        SCONJ   mark    marker\n",
            "la         DET     det     determiner\n",
            "justicia   NOUN    nsubj   nominal subject\n",
            "no         ADV     advmod  adverbial modifier\n",
            "sea        AUX     cop     copula\n",
            "justa      ADJ     advcl   adverbial clause modifier\n",
            "y          CCONJ   cc      coordinating conjunction\n",
            "con        ADP     case    case marking\n",
            "toda       DET     det     determiner\n",
            "la         DET     det     determiner\n",
            "fuerza     NOUN    conj    conjunct\n",
            "de         ADP     case    case marking\n",
            "la         DET     det     determiner\n",
            "ley        NOUN    nmod    modifier of nominal\n",
            ",          PUNCT   punct   punctuation\n",
            "estos      DET     det     determiner\n",
            "muchachos  NOUN    nsubj   nominal subject\n",
            "van        AUX     aux     auxiliary\n",
            "a          ADP     mark    marker\n",
            "seguir     VERB    ROOT    root\n",
            "haciendo   VERB    xcomp   open clausal complement\n",
            "lo         PRON    det     determiner\n",
            "que        PRON    obj     object\n",
            "quieren    VERB    ccomp   clausal complement\n",
            ".          PUNCT   punct   punctuation\n"
          ]
        }
      ],
      "source": [
        "for token in doc:\n",
        "    print(f'{token.text:{10}} {token.pos_:{7}} {token.dep_:{7}} {spacy.explain(token.dep_)}')\n",
        "\n",
        "#para cada token, propiedades: part of speech --- dependencia --- explicacion de la dependencia"
      ]
    },
    {
      "cell_type": "code",
      "execution_count": 19,
      "metadata": {
        "id": "mqKaFiDESfZD",
        "outputId": "e8af92e2-25c0-4993-e71a-427356cb37af"
      },
      "outputs": [
        {
          "data": {
            "text/plain": [
              "[,, ., ,, .]"
            ]
          },
          "execution_count": 19,
          "metadata": {},
          "output_type": "execute_result"
        }
      ],
      "source": [
        "[token for token in sp(coment) if token.pos_ == \"PUNCT\"]"
      ]
    },
    {
      "cell_type": "code",
      "execution_count": 20,
      "metadata": {
        "id": "7AY9vgPYSfZD"
      },
      "outputs": [],
      "source": [
        "nota='Sin cifras oficiales Elecciones en Bolivia: Carlos Mesa reconoció su derrota ante Luis Arce y habló de una “amplia ventaja”“Es un resultado que aceptamos y que consideramos que no va a modificarse cuando se conozca el resultado oficial”, dijo el candidato de Comunidad Ciudadana.'"
      ]
    },
    {
      "cell_type": "code",
      "execution_count": 21,
      "metadata": {
        "id": "bICPv8sgSfZD",
        "outputId": "e44e0c3e-0042-4ca2-f76e-5790fae1727e"
      },
      "outputs": [
        {
          "data": {
            "text/html": [
              "<span class=\"tex2jax_ignore\"><div class=\"entities\" style=\"line-height: 2.5; direction: ltr\">Sin cifras oficiales \n",
              "<mark class=\"entity\" style=\"background: #ddd; padding: 0.45em 0.6em; margin: 0 0.25em; line-height: 1; border-radius: 0.35em;\">\n",
              "    Elecciones\n",
              "    <span style=\"font-size: 0.8em; font-weight: bold; line-height: 1; border-radius: 0.35em; vertical-align: middle; margin-left: 0.5rem\">PER</span>\n",
              "</mark>\n",
              " en \n",
              "<mark class=\"entity\" style=\"background: #ff9561; padding: 0.45em 0.6em; margin: 0 0.25em; line-height: 1; border-radius: 0.35em;\">\n",
              "    Bolivia\n",
              "    <span style=\"font-size: 0.8em; font-weight: bold; line-height: 1; border-radius: 0.35em; vertical-align: middle; margin-left: 0.5rem\">LOC</span>\n",
              "</mark>\n",
              ": \n",
              "<mark class=\"entity\" style=\"background: #ddd; padding: 0.45em 0.6em; margin: 0 0.25em; line-height: 1; border-radius: 0.35em;\">\n",
              "    Carlos Mesa\n",
              "    <span style=\"font-size: 0.8em; font-weight: bold; line-height: 1; border-radius: 0.35em; vertical-align: middle; margin-left: 0.5rem\">PER</span>\n",
              "</mark>\n",
              " reconoció su derrota ante \n",
              "<mark class=\"entity\" style=\"background: #ddd; padding: 0.45em 0.6em; margin: 0 0.25em; line-height: 1; border-radius: 0.35em;\">\n",
              "    Luis Arce\n",
              "    <span style=\"font-size: 0.8em; font-weight: bold; line-height: 1; border-radius: 0.35em; vertical-align: middle; margin-left: 0.5rem\">PER</span>\n",
              "</mark>\n",
              " y habló de una \n",
              "<mark class=\"entity\" style=\"background: #ddd; padding: 0.45em 0.6em; margin: 0 0.25em; line-height: 1; border-radius: 0.35em;\">\n",
              "    “\n",
              "    <span style=\"font-size: 0.8em; font-weight: bold; line-height: 1; border-radius: 0.35em; vertical-align: middle; margin-left: 0.5rem\">MISC</span>\n",
              "</mark>\n",
              "amplia ventaja”“Es un resultado que aceptamos y que consideramos que no va a modificarse cuando se conozca el resultado oficial”, dijo el candidato de \n",
              "<mark class=\"entity\" style=\"background: #ff9561; padding: 0.45em 0.6em; margin: 0 0.25em; line-height: 1; border-radius: 0.35em;\">\n",
              "    Comunidad Ciudadana\n",
              "    <span style=\"font-size: 0.8em; font-weight: bold; line-height: 1; border-radius: 0.35em; vertical-align: middle; margin-left: 0.5rem\">LOC</span>\n",
              "</mark>\n",
              ".</div></span>"
            ],
            "text/plain": [
              "<IPython.core.display.HTML object>"
            ]
          },
          "metadata": {},
          "output_type": "display_data"
        }
      ],
      "source": [
        "from spacy import displacy #displacy es una libreria que permite hacer graficos\n",
        "doc=sp(nota)\n",
        "# In[2]:\n",
        "displacy.render(doc, style=\"ent\",jupyter=True) \n",
        "\n",
        "#identifica las entidades, elecciones la predijo mal"
      ]
    },
    {
      "cell_type": "code",
      "execution_count": 22,
      "metadata": {
        "id": "2TJFk-Y1SfZE"
      },
      "outputs": [],
      "source": [
        "cm='Otro infame aprovechador de la miseria gestada por él mismo. Se dice socialista, debería vivir un tiempo no más en Cuba, en Nicaragua, en China, por ejemplo. Pero como un ciudadano común, no como un prófugo VIP. Verá lo que es socialismo, comunismo, etc. Toda América, riquísima en agricultura, minería y tantas otras cosas que ningún gobierno quiere explotarlas. Es mas fácil permitir que ocupen tierras y darles planes para tenerlo sometidos.'"
      ]
    },
    {
      "cell_type": "code",
      "execution_count": 23,
      "metadata": {
        "id": "EwYTZubCSfZE"
      },
      "outputs": [],
      "source": [
        "doc=sp(cm)"
      ]
    },
    {
      "cell_type": "code",
      "execution_count": 24,
      "metadata": {
        "id": "kCDh2FWSSfZE",
        "outputId": "921fdb18-cb27-4f1e-95e8-e083c1f43e11"
      },
      "outputs": [
        {
          "data": {
            "text/html": [
              "<span class=\"tex2jax_ignore\"><div class=\"entities\" style=\"line-height: 2.5; direction: ltr\">Otro infame aprovechador de la miseria gestada por él mismo. Se dice socialista, debería vivir un tiempo no más en \n",
              "<mark class=\"entity\" style=\"background: #ff9561; padding: 0.45em 0.6em; margin: 0 0.25em; line-height: 1; border-radius: 0.35em;\">\n",
              "    Cuba\n",
              "    <span style=\"font-size: 0.8em; font-weight: bold; line-height: 1; border-radius: 0.35em; vertical-align: middle; margin-left: 0.5rem\">LOC</span>\n",
              "</mark>\n",
              ", en \n",
              "<mark class=\"entity\" style=\"background: #ff9561; padding: 0.45em 0.6em; margin: 0 0.25em; line-height: 1; border-radius: 0.35em;\">\n",
              "    Nicaragua\n",
              "    <span style=\"font-size: 0.8em; font-weight: bold; line-height: 1; border-radius: 0.35em; vertical-align: middle; margin-left: 0.5rem\">LOC</span>\n",
              "</mark>\n",
              ", en \n",
              "<mark class=\"entity\" style=\"background: #ff9561; padding: 0.45em 0.6em; margin: 0 0.25em; line-height: 1; border-radius: 0.35em;\">\n",
              "    China\n",
              "    <span style=\"font-size: 0.8em; font-weight: bold; line-height: 1; border-radius: 0.35em; vertical-align: middle; margin-left: 0.5rem\">LOC</span>\n",
              "</mark>\n",
              ", por ejemplo. Pero como un ciudadano común, no como un prófugo VIP. \n",
              "<mark class=\"entity\" style=\"background: #7aecec; padding: 0.45em 0.6em; margin: 0 0.25em; line-height: 1; border-radius: 0.35em;\">\n",
              "    Verá\n",
              "    <span style=\"font-size: 0.8em; font-weight: bold; line-height: 1; border-radius: 0.35em; vertical-align: middle; margin-left: 0.5rem\">ORG</span>\n",
              "</mark>\n",
              " lo que es socialismo, comunismo, etc. \n",
              "<mark class=\"entity\" style=\"background: #ff9561; padding: 0.45em 0.6em; margin: 0 0.25em; line-height: 1; border-radius: 0.35em;\">\n",
              "    Toda América\n",
              "    <span style=\"font-size: 0.8em; font-weight: bold; line-height: 1; border-radius: 0.35em; vertical-align: middle; margin-left: 0.5rem\">LOC</span>\n",
              "</mark>\n",
              ", riquísima en agricultura, minería y tantas otras cosas que ningún gobierno quiere explotarlas. Es mas fácil permitir que ocupen tierras y darles planes para tenerlo sometidos.</div></span>"
            ],
            "text/plain": [
              "<IPython.core.display.HTML object>"
            ]
          },
          "metadata": {},
          "output_type": "display_data"
        }
      ],
      "source": [
        "displacy.render(doc, style=\"ent\",jupyter=True)"
      ]
    },
    {
      "cell_type": "code",
      "execution_count": 25,
      "metadata": {
        "id": "5bkOGwSWSfZE",
        "outputId": "4fe5a65d-192c-48b4-c20c-e327ec00ee64"
      },
      "outputs": [
        {
          "data": {
            "text/plain": [
              "[infame, gestada, mismo, socialista, común, fácil, sometidos]"
            ]
          },
          "execution_count": 25,
          "metadata": {},
          "output_type": "execute_result"
        }
      ],
      "source": [
        "[token for token in doc if token.pos_ == \"ADJ\"]"
      ]
    },
    {
      "cell_type": "code",
      "execution_count": 26,
      "metadata": {
        "id": "zjpH2jUwSfZE"
      },
      "outputs": [],
      "source": [
        "url1='https://www.clarin.com/mundo/elecciones-bolivia-carlos-mesa-reconocio-derrota-luis-arce-hablo-amplia-ventaja-_0_y2ogl-WnE.html'\n",
        "url2='https://www.pagina12.com.ar/300200-elecciones-bolivia-2020-carlos-mesa-reconocio-la-derrota'"
      ]
    },
    {
      "cell_type": "code",
      "execution_count": 27,
      "metadata": {
        "id": "zwrRRx_kSfZF"
      },
      "outputs": [
        {
          "ename": "ModuleNotFoundError",
          "evalue": "No module named 'nscrap'",
          "output_type": "error",
          "traceback": [
            "\u001b[1;31m---------------------------------------------------------------------------\u001b[0m",
            "\u001b[1;31mModuleNotFoundError\u001b[0m                       Traceback (most recent call last)",
            "Cell \u001b[1;32mIn[27], line 1\u001b[0m\n\u001b[1;32m----> 1\u001b[0m \u001b[38;5;28;01mimport\u001b[39;00m \u001b[38;5;21;01mnscrap\u001b[39;00m \u001b[38;5;28;01mas\u001b[39;00m \u001b[38;5;21;01mn\u001b[39;00m\n",
            "\u001b[1;31mModuleNotFoundError\u001b[0m: No module named 'nscrap'"
          ]
        }
      ],
      "source": [
        "import nscrap as n"
      ]
    },
    {
      "cell_type": "code",
      "execution_count": null,
      "metadata": {
        "id": "CO37YojhSfZF"
      },
      "outputs": [],
      "source": [
        "nota1=n.clarin(url1)\n",
        "nota2=n.p12(url2)"
      ]
    },
    {
      "cell_type": "code",
      "execution_count": null,
      "metadata": {
        "id": "VlK1YPw5SfZF"
      },
      "outputs": [],
      "source": [
        "nota1.get()"
      ]
    },
    {
      "cell_type": "code",
      "execution_count": null,
      "metadata": {
        "id": "0So3x9Z5SfZF"
      },
      "outputs": [],
      "source": [
        "nota2.get()"
      ]
    },
    {
      "cell_type": "code",
      "execution_count": null,
      "metadata": {
        "id": "iY-pIYKXSfZF"
      },
      "outputs": [],
      "source": [
        "doc1=sp(nota1.com)\n",
        "doc2=sp(nota2.com)\n"
      ]
    },
    {
      "cell_type": "code",
      "execution_count": null,
      "metadata": {
        "id": "dKhUstMWSfZG",
        "outputId": "b5c2f18e-7fa3-438e-dd17-7013905db6b5"
      },
      "outputs": [
        {
          "data": {
            "text/plain": [
              "'Todo un logro de Añez y los suyos. Habían sido lógicos los reclamos populares a Evo y la movilización contra su fraude, pero se pusieron a liderarla los peorcitos (\"Payasito\" Camacho, la rosca y el empresariado más revanchista, los ganaderos mafiosos de Santa Cruz, etc.). Si el supuesto golpe había sido en gran parte una coreografía dada por la vergonzosa huida (o \"táctica\") de Evo, estos cosos luego le dieron todo el contenido de dictadura, se pusieron a reprimir cuando no les daba el cuero para hacerlo y después aguantársela, y encima gobernaron para el tujes... ¿Para qué se ponen la derecha y la centroderecha a querer convocar reclamos populares, si después no tardan ni cinco meses en defraudar al pueblo y se quedan sin su apoyo? Pueblo ignorante que se reproduce SALUDO AL ENORME Y DEMOCRÁTICO PUEBLO BOLIVIANO. AL QUE PRONTO SE UNIRÁN\\xa0 LOS CHILENOSY LOS ECUATORIANOS.\\xa0 Y SI TRUMP PIERDE LAS ELECCIONES, BOLSONARO SE QUEDARÁ SIN SU PRINCIPAL APOYO.\\xa0 ¡A RECONSTRUIR LA PATRIA GRANDE LATINOAMERICANA!'"
            ]
          },
          "execution_count": 82,
          "metadata": {},
          "output_type": "execute_result"
        }
      ],
      "source": [
        "nota1.com"
      ]
    },
    {
      "cell_type": "code",
      "execution_count": null,
      "metadata": {
        "id": "zmkSpCFISfZG",
        "outputId": "5066da1e-fb48-4a3c-b0c6-fd8d4bd3bcab"
      },
      "outputs": [
        {
          "data": {
            "text/plain": [
              "[lógicos,\n",
              " populares,\n",
              " revanchista,\n",
              " mafiosos,\n",
              " supuesto,\n",
              " gran,\n",
              " dada,\n",
              " vergonzosa,\n",
              " táctica,\n",
              " cosos,\n",
              " aguantársela,\n",
              " populares,\n",
              " ignorante]"
            ]
          },
          "execution_count": 39,
          "metadata": {},
          "output_type": "execute_result"
        }
      ],
      "source": [
        "[token for token in doc1 if token.pos_ == \"ADJ\"]"
      ]
    },
    {
      "cell_type": "code",
      "execution_count": null,
      "metadata": {
        "id": "NU0rFsqQSfZG",
        "outputId": "0bf19fc1-0522-4128-c728-5291778f6dc2"
      },
      "outputs": [
        {
          "data": {
            "text/plain": [
              "[Palabras,\n",
              " principal,\n",
              " nuevo,\n",
              " primera,\n",
              " oficiales,\n",
              " avanzados,\n",
              " enorme,\n",
              " solo,\n",
              " favorables,\n",
              " próximas,\n",
              " parlamentaria,\n",
              " necesarias,\n",
              " eternos,\n",
              " bolivianos,\n",
              " rápido,\n",
              " electorales,\n",
              " apabullantes,\n",
              " gran,\n",
              " boliviano,\n",
              " ultimo,\n",
              " Grande]"
            ]
          },
          "execution_count": 40,
          "metadata": {},
          "output_type": "execute_result"
        }
      ],
      "source": [
        "[token for token in doc2 if token.pos_ == \"ADJ\"]"
      ]
    },
    {
      "cell_type": "markdown",
      "metadata": {
        "id": "ZzQgkhTdSfZG"
      },
      "source": [
        "# Sentiment analysis usando un lexicon en castellano\n",
        "\n",
        "https://bibliotecadigital.exactas.uba.ar/download/technicalreport/technicalreport_n00001.pdf"
      ]
    },
    {
      "cell_type": "code",
      "execution_count": 28,
      "metadata": {
        "id": "_YzEMbhNfJWb"
      },
      "outputs": [],
      "source": [
        "import pandas as pd"
      ]
    },
    {
      "cell_type": "code",
      "execution_count": 29,
      "metadata": {
        "id": "wnkn3mr_fJWf"
      },
      "outputs": [],
      "source": [
        "dal = pd.read_csv(\"https://raw.githubusercontent.com/carabedo/labs/master/spanish_dal.csv\",sep=\";\",header=None)\n",
        "dal.columns = [\"lemma\",\"agradable_mean\",\"activo_mean\",\"imaginable_mean\",\"agradable_sd\",\"activo_sd\",\"imaginable_sd\"]"
      ]
    },
    {
      "cell_type": "code",
      "execution_count": 30,
      "metadata": {
        "id": "F-4IiTN1SfZG",
        "outputId": "81fa0825-d58e-47e2-feca-cb4f50662bfb"
      },
      "outputs": [
        {
          "data": {
            "text/html": [
              "<div>\n",
              "<style scoped>\n",
              "    .dataframe tbody tr th:only-of-type {\n",
              "        vertical-align: middle;\n",
              "    }\n",
              "\n",
              "    .dataframe tbody tr th {\n",
              "        vertical-align: top;\n",
              "    }\n",
              "\n",
              "    .dataframe thead th {\n",
              "        text-align: right;\n",
              "    }\n",
              "</style>\n",
              "<table border=\"1\" class=\"dataframe\">\n",
              "  <thead>\n",
              "    <tr style=\"text-align: right;\">\n",
              "      <th></th>\n",
              "      <th>lemma</th>\n",
              "      <th>agradable_mean</th>\n",
              "      <th>activo_mean</th>\n",
              "      <th>imaginable_mean</th>\n",
              "      <th>agradable_sd</th>\n",
              "      <th>activo_sd</th>\n",
              "      <th>imaginable_sd</th>\n",
              "    </tr>\n",
              "  </thead>\n",
              "  <tbody>\n",
              "    <tr>\n",
              "      <th>0</th>\n",
              "      <td>población_N</td>\n",
              "      <td>1.8</td>\n",
              "      <td>2.0</td>\n",
              "      <td>2.6</td>\n",
              "      <td>0.4472</td>\n",
              "      <td>0.7071</td>\n",
              "      <td>0.5477</td>\n",
              "    </tr>\n",
              "    <tr>\n",
              "      <th>1</th>\n",
              "      <td>obra_N</td>\n",
              "      <td>2.2</td>\n",
              "      <td>2.4</td>\n",
              "      <td>2.4</td>\n",
              "      <td>0.4472</td>\n",
              "      <td>0.5477</td>\n",
              "      <td>0.8944</td>\n",
              "    </tr>\n",
              "    <tr>\n",
              "      <th>2</th>\n",
              "      <td>dormir_V</td>\n",
              "      <td>3.0</td>\n",
              "      <td>1.4</td>\n",
              "      <td>3.0</td>\n",
              "      <td>0.0000</td>\n",
              "      <td>0.8944</td>\n",
              "      <td>0.0000</td>\n",
              "    </tr>\n",
              "    <tr>\n",
              "      <th>3</th>\n",
              "      <td>dar_V</td>\n",
              "      <td>2.8</td>\n",
              "      <td>3.0</td>\n",
              "      <td>3.0</td>\n",
              "      <td>0.4472</td>\n",
              "      <td>0.0000</td>\n",
              "      <td>0.0000</td>\n",
              "    </tr>\n",
              "    <tr>\n",
              "      <th>4</th>\n",
              "      <td>realizar_V</td>\n",
              "      <td>2.6</td>\n",
              "      <td>3.0</td>\n",
              "      <td>2.8</td>\n",
              "      <td>0.5477</td>\n",
              "      <td>0.0000</td>\n",
              "      <td>0.4472</td>\n",
              "    </tr>\n",
              "    <tr>\n",
              "      <th>...</th>\n",
              "      <td>...</td>\n",
              "      <td>...</td>\n",
              "      <td>...</td>\n",
              "      <td>...</td>\n",
              "      <td>...</td>\n",
              "      <td>...</td>\n",
              "      <td>...</td>\n",
              "    </tr>\n",
              "    <tr>\n",
              "      <th>2875</th>\n",
              "      <td>sien_N</td>\n",
              "      <td>2.0</td>\n",
              "      <td>2.2</td>\n",
              "      <td>3.0</td>\n",
              "      <td>0.0000</td>\n",
              "      <td>0.4472</td>\n",
              "      <td>0.0000</td>\n",
              "    </tr>\n",
              "    <tr>\n",
              "      <th>2876</th>\n",
              "      <td>contento_A</td>\n",
              "      <td>3.0</td>\n",
              "      <td>2.4</td>\n",
              "      <td>3.0</td>\n",
              "      <td>0.0000</td>\n",
              "      <td>0.8944</td>\n",
              "      <td>0.0000</td>\n",
              "    </tr>\n",
              "    <tr>\n",
              "      <th>2877</th>\n",
              "      <td>administrativo_N</td>\n",
              "      <td>1.8</td>\n",
              "      <td>2.4</td>\n",
              "      <td>2.2</td>\n",
              "      <td>0.4472</td>\n",
              "      <td>0.8944</td>\n",
              "      <td>0.8367</td>\n",
              "    </tr>\n",
              "    <tr>\n",
              "      <th>2878</th>\n",
              "      <td>taxi_N</td>\n",
              "      <td>2.0</td>\n",
              "      <td>2.8</td>\n",
              "      <td>3.0</td>\n",
              "      <td>0.0000</td>\n",
              "      <td>0.4472</td>\n",
              "      <td>0.0000</td>\n",
              "    </tr>\n",
              "    <tr>\n",
              "      <th>2879</th>\n",
              "      <td>petición_N</td>\n",
              "      <td>2.0</td>\n",
              "      <td>2.8</td>\n",
              "      <td>2.0</td>\n",
              "      <td>0.0000</td>\n",
              "      <td>0.4472</td>\n",
              "      <td>1.0000</td>\n",
              "    </tr>\n",
              "  </tbody>\n",
              "</table>\n",
              "<p>2880 rows × 7 columns</p>\n",
              "</div>"
            ],
            "text/plain": [
              "                 lemma  agradable_mean  activo_mean  imaginable_mean  \\\n",
              "0          población_N             1.8          2.0              2.6   \n",
              "1               obra_N             2.2          2.4              2.4   \n",
              "2             dormir_V             3.0          1.4              3.0   \n",
              "3                dar_V             2.8          3.0              3.0   \n",
              "4           realizar_V             2.6          3.0              2.8   \n",
              "...                ...             ...          ...              ...   \n",
              "2875            sien_N             2.0          2.2              3.0   \n",
              "2876        contento_A             3.0          2.4              3.0   \n",
              "2877  administrativo_N             1.8          2.4              2.2   \n",
              "2878            taxi_N             2.0          2.8              3.0   \n",
              "2879        petición_N             2.0          2.8              2.0   \n",
              "\n",
              "      agradable_sd  activo_sd  imaginable_sd  \n",
              "0           0.4472     0.7071         0.5477  \n",
              "1           0.4472     0.5477         0.8944  \n",
              "2           0.0000     0.8944         0.0000  \n",
              "3           0.4472     0.0000         0.0000  \n",
              "4           0.5477     0.0000         0.4472  \n",
              "...            ...        ...            ...  \n",
              "2875        0.0000     0.4472         0.0000  \n",
              "2876        0.0000     0.8944         0.0000  \n",
              "2877        0.4472     0.8944         0.8367  \n",
              "2878        0.0000     0.4472         0.0000  \n",
              "2879        0.0000     0.4472         1.0000  \n",
              "\n",
              "[2880 rows x 7 columns]"
            ]
          },
          "execution_count": 30,
          "metadata": {},
          "output_type": "execute_result"
        }
      ],
      "source": [
        "dal"
      ]
    },
    {
      "cell_type": "code",
      "execution_count": 31,
      "metadata": {},
      "outputs": [
        {
          "data": {
            "text/html": [
              "<div>\n",
              "<style scoped>\n",
              "    .dataframe tbody tr th:only-of-type {\n",
              "        vertical-align: middle;\n",
              "    }\n",
              "\n",
              "    .dataframe tbody tr th {\n",
              "        vertical-align: top;\n",
              "    }\n",
              "\n",
              "    .dataframe thead th {\n",
              "        text-align: right;\n",
              "    }\n",
              "</style>\n",
              "<table border=\"1\" class=\"dataframe\">\n",
              "  <thead>\n",
              "    <tr style=\"text-align: right;\">\n",
              "      <th></th>\n",
              "      <th>lemma</th>\n",
              "      <th>agradable_mean</th>\n",
              "      <th>activo_mean</th>\n",
              "      <th>imaginable_mean</th>\n",
              "      <th>agradable_sd</th>\n",
              "      <th>activo_sd</th>\n",
              "      <th>imaginable_sd</th>\n",
              "    </tr>\n",
              "  </thead>\n",
              "  <tbody>\n",
              "    <tr>\n",
              "      <th>664</th>\n",
              "      <td>ataque_N</td>\n",
              "      <td>1.0</td>\n",
              "      <td>3.0</td>\n",
              "      <td>3.0</td>\n",
              "      <td>0.0</td>\n",
              "      <td>0.0000</td>\n",
              "      <td>0.0000</td>\n",
              "    </tr>\n",
              "    <tr>\n",
              "      <th>1495</th>\n",
              "      <td>molestar_V</td>\n",
              "      <td>1.0</td>\n",
              "      <td>2.8</td>\n",
              "      <td>2.6</td>\n",
              "      <td>0.0</td>\n",
              "      <td>0.4472</td>\n",
              "      <td>0.8944</td>\n",
              "    </tr>\n",
              "    <tr>\n",
              "      <th>2705</th>\n",
              "      <td>dañar_V</td>\n",
              "      <td>1.0</td>\n",
              "      <td>3.0</td>\n",
              "      <td>2.4</td>\n",
              "      <td>0.0</td>\n",
              "      <td>0.0000</td>\n",
              "      <td>0.8944</td>\n",
              "    </tr>\n",
              "    <tr>\n",
              "      <th>2344</th>\n",
              "      <td>maldito_N</td>\n",
              "      <td>1.0</td>\n",
              "      <td>2.6</td>\n",
              "      <td>2.6</td>\n",
              "      <td>0.0</td>\n",
              "      <td>0.8944</td>\n",
              "      <td>0.8944</td>\n",
              "    </tr>\n",
              "    <tr>\n",
              "      <th>2326</th>\n",
              "      <td>rival_N</td>\n",
              "      <td>1.0</td>\n",
              "      <td>2.8</td>\n",
              "      <td>2.4</td>\n",
              "      <td>0.0</td>\n",
              "      <td>0.4472</td>\n",
              "      <td>0.8944</td>\n",
              "    </tr>\n",
              "    <tr>\n",
              "      <th>...</th>\n",
              "      <td>...</td>\n",
              "      <td>...</td>\n",
              "      <td>...</td>\n",
              "      <td>...</td>\n",
              "      <td>...</td>\n",
              "      <td>...</td>\n",
              "      <td>...</td>\n",
              "    </tr>\n",
              "    <tr>\n",
              "      <th>72</th>\n",
              "      <td>querer_V</td>\n",
              "      <td>3.0</td>\n",
              "      <td>2.8</td>\n",
              "      <td>2.4</td>\n",
              "      <td>0.0</td>\n",
              "      <td>0.4472</td>\n",
              "      <td>0.8944</td>\n",
              "    </tr>\n",
              "    <tr>\n",
              "      <th>573</th>\n",
              "      <td>viajar_V</td>\n",
              "      <td>3.0</td>\n",
              "      <td>2.8</td>\n",
              "      <td>3.0</td>\n",
              "      <td>0.0</td>\n",
              "      <td>0.4472</td>\n",
              "      <td>0.0000</td>\n",
              "    </tr>\n",
              "    <tr>\n",
              "      <th>2268</th>\n",
              "      <td>paraíso_N</td>\n",
              "      <td>3.0</td>\n",
              "      <td>2.2</td>\n",
              "      <td>2.8</td>\n",
              "      <td>0.0</td>\n",
              "      <td>0.8367</td>\n",
              "      <td>0.4472</td>\n",
              "    </tr>\n",
              "    <tr>\n",
              "      <th>2417</th>\n",
              "      <td>humilde_A</td>\n",
              "      <td>3.0</td>\n",
              "      <td>2.0</td>\n",
              "      <td>2.4</td>\n",
              "      <td>0.0</td>\n",
              "      <td>0.7071</td>\n",
              "      <td>0.8944</td>\n",
              "    </tr>\n",
              "    <tr>\n",
              "      <th>711</th>\n",
              "      <td>novela_N</td>\n",
              "      <td>3.0</td>\n",
              "      <td>1.8</td>\n",
              "      <td>2.8</td>\n",
              "      <td>0.0</td>\n",
              "      <td>0.8367</td>\n",
              "      <td>0.4472</td>\n",
              "    </tr>\n",
              "  </tbody>\n",
              "</table>\n",
              "<p>2880 rows × 7 columns</p>\n",
              "</div>"
            ],
            "text/plain": [
              "           lemma  agradable_mean  activo_mean  imaginable_mean  agradable_sd  \\\n",
              "664     ataque_N             1.0          3.0              3.0           0.0   \n",
              "1495  molestar_V             1.0          2.8              2.6           0.0   \n",
              "2705     dañar_V             1.0          3.0              2.4           0.0   \n",
              "2344   maldito_N             1.0          2.6              2.6           0.0   \n",
              "2326     rival_N             1.0          2.8              2.4           0.0   \n",
              "...          ...             ...          ...              ...           ...   \n",
              "72      querer_V             3.0          2.8              2.4           0.0   \n",
              "573     viajar_V             3.0          2.8              3.0           0.0   \n",
              "2268   paraíso_N             3.0          2.2              2.8           0.0   \n",
              "2417   humilde_A             3.0          2.0              2.4           0.0   \n",
              "711     novela_N             3.0          1.8              2.8           0.0   \n",
              "\n",
              "      activo_sd  imaginable_sd  \n",
              "664      0.0000         0.0000  \n",
              "1495     0.4472         0.8944  \n",
              "2705     0.0000         0.8944  \n",
              "2344     0.8944         0.8944  \n",
              "2326     0.4472         0.8944  \n",
              "...         ...            ...  \n",
              "72       0.4472         0.8944  \n",
              "573      0.4472         0.0000  \n",
              "2268     0.8367         0.4472  \n",
              "2417     0.7071         0.8944  \n",
              "711      0.8367         0.4472  \n",
              "\n",
              "[2880 rows x 7 columns]"
            ]
          },
          "execution_count": 31,
          "metadata": {},
          "output_type": "execute_result"
        }
      ],
      "source": [
        "dal.sort_values('agradable_mean') #ordenarlo de las agradables a las no agradables"
      ]
    },
    {
      "cell_type": "markdown",
      "metadata": {
        "id": "lz1SE49JfJWl"
      },
      "source": [
        "Cada palabra fue scoreada por una muestra de 662 personas segun 3 criterios:  \n",
        "  \n",
        "* ¿Qué tan agradable es la palabra? (Agradable, ni agradable ni desagradable, desagradable)\n",
        "* ¿Que tan activa es la palabra? (Activa, ni activa ni pasiva, pasiva)\n",
        "* ¿Qué tan fácil de imaginar es la palabra? (Fácil, ni fácil ni difícil, difícil)\n",
        "  \n",
        "Para cada palabra se calculó el promedio y desvío de los puntajes que se le dieron"
      ]
    },
    {
      "cell_type": "code",
      "execution_count": 32,
      "metadata": {
        "id": "7S86rGkQfJWq"
      },
      "outputs": [],
      "source": [
        "# funcion de preprocesamiento\n",
        "## pero ahora, si no es ni adjetivo, ni sustantivo, ni verbo la eliminamos. Si no, la lemmatizamos\n",
        "def preprocesar_texto(texto,sp,retener= [\"NOUN\",\"ADJ\",\"VERB\"]): \n",
        "    ans = []\n",
        "    for token in sp(texto):\n",
        "        if token.pos_ in retener:\n",
        "            ans.append(token.lemma_ + \"_\" + token.pos_[0])\n",
        "    return ans"
      ]
    },
    {
      "cell_type": "code",
      "execution_count": 33,
      "metadata": {
        "id": "BfwnTcXffJWt",
        "outputId": "167efe25-0ce0-4df7-aa73-666f728b8d93"
      },
      "outputs": [
        {
          "data": {
            "text/plain": [
              "['perro_N', 'triste_A', 'feo_A', 'insatisfecho_A']"
            ]
          },
          "execution_count": 33,
          "metadata": {},
          "output_type": "execute_result"
        }
      ],
      "source": [
        "preprocesar_texto('el perro triste y feo esta insatisfecho',sp)"
      ]
    },
    {
      "cell_type": "markdown",
      "metadata": {
        "id": "b1nYCWCvfJWx"
      },
      "source": [
        "En el trabajo muestran un algoritmo básico para hacer scores para un texto:\n",
        "```\n",
        "score ← 0  \n",
        "count ← 0  \n",
        "for each word w in T (counting repetitions):  \n",
        "    if w is included in Lex:  \n",
        "         score ← score + Lexd(w)  \n",
        "         count ← count + 1  \n",
        "    return score/count  \n",
        "```"
      ]
    },
    {
      "cell_type": "code",
      "execution_count": 34,
      "metadata": {
        "id": "zYs3-7PZfJWx"
      },
      "outputs": [],
      "source": [
        "## escribimos una función para calcular el score\n",
        "def calcular_score(texto,sp,dal):\n",
        "    texto_preprocesado = preprocesar_texto(texto,sp)\n",
        "    print(texto_preprocesado)\n",
        "    score_agradable = 0\n",
        "    count = 0\n",
        "    for w in texto_preprocesado:\n",
        "        if w in dal.lemma.values:\n",
        "            score_agradable += dal.loc[dal.lemma==w,\"agradable_mean\"].values[0]\n",
        "            count += 1\n",
        "    if count > 0:\n",
        "        return score_agradable/count\n",
        "    else:\n",
        "        return None"
      ]
    },
    {
      "cell_type": "code",
      "execution_count": 35,
      "metadata": {
        "id": "TtpaX5WQSfZI",
        "outputId": "ebe6ca45-0a64-4519-fcb3-ba2f2d65745d"
      },
      "outputs": [
        {
          "name": "stdout",
          "output_type": "stream",
          "text": [
            "['perro_N', 'triste_A', 'feo_A', 'insatisfecho_A']\n"
          ]
        },
        {
          "data": {
            "text/plain": [
              "1.4666666666666668"
            ]
          },
          "execution_count": 35,
          "metadata": {},
          "output_type": "execute_result"
        }
      ],
      "source": [
        "calcular_score('el perro triste y feo esta insatisfecho',sp,dal)"
      ]
    },
    {
      "cell_type": "code",
      "execution_count": 36,
      "metadata": {
        "id": "NDH6fpkUSfZI",
        "outputId": "8163daa7-059e-42fd-8fb7-cd86879baec7"
      },
      "outputs": [
        {
          "name": "stdout",
          "output_type": "stream",
          "text": [
            "['feliz_A', 'lindar_V', 'contento_A']\n"
          ]
        },
        {
          "data": {
            "text/plain": [
              "3.0"
            ]
          },
          "execution_count": 36,
          "metadata": {},
          "output_type": "execute_result"
        }
      ],
      "source": [
        "calcular_score('el perro feliz y lindo esta contento',sp,dal)"
      ]
    },
    {
      "cell_type": "markdown",
      "metadata": {},
      "source": [
        "### Analisis de sentimientos en twitter\n",
        "http://www.hedonometer.org/timeseries/en_all/"
      ]
    }
  ],
  "metadata": {
    "colab": {
      "provenance": []
    },
    "kernelspec": {
      "display_name": "Python 3 (ipykernel)",
      "language": "python",
      "name": "python3"
    },
    "language_info": {
      "codemirror_mode": {
        "name": "ipython",
        "version": 3
      },
      "file_extension": ".py",
      "mimetype": "text/x-python",
      "name": "python",
      "nbconvert_exporter": "python",
      "pygments_lexer": "ipython3",
      "version": "3.11.5"
    }
  },
  "nbformat": 4,
  "nbformat_minor": 0
}
