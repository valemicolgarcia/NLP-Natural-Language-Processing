{
  "cells": [
    {
      "cell_type": "markdown",
      "metadata": {
        "id": "8UtDTjZ4M3hn"
      },
      "source": [
        "# Uso de spaCY"
      ]
    },
    {
      "cell_type": "code",
      "execution_count": null,
      "metadata": {
        "id": "qHIBPJTYOBwx",
        "colab": {
          "base_uri": "https://localhost:8080/"
        },
        "outputId": "e989400f-80bf-4878-a412-8ed870dc72cf"
      },
      "outputs": [
        {
          "output_type": "stream",
          "name": "stdout",
          "text": [
            "Collecting es-core-news-sm==3.7.0\n",
            "  Downloading https://github.com/explosion/spacy-models/releases/download/es_core_news_sm-3.7.0/es_core_news_sm-3.7.0-py3-none-any.whl (12.9 MB)\n",
            "\u001b[2K     \u001b[90m━━━━━━━━━━━━━━━━━━━━━━━━━━━━━━━━━━━━━━━━\u001b[0m \u001b[32m12.9/12.9 MB\u001b[0m \u001b[31m64.2 MB/s\u001b[0m eta \u001b[36m0:00:00\u001b[0m\n",
            "\u001b[?25hRequirement already satisfied: spacy<3.8.0,>=3.7.0 in /usr/local/lib/python3.10/dist-packages (from es-core-news-sm==3.7.0) (3.7.5)\n",
            "Requirement already satisfied: spacy-legacy<3.1.0,>=3.0.11 in /usr/local/lib/python3.10/dist-packages (from spacy<3.8.0,>=3.7.0->es-core-news-sm==3.7.0) (3.0.12)\n",
            "Requirement already satisfied: spacy-loggers<2.0.0,>=1.0.0 in /usr/local/lib/python3.10/dist-packages (from spacy<3.8.0,>=3.7.0->es-core-news-sm==3.7.0) (1.0.5)\n",
            "Requirement already satisfied: murmurhash<1.1.0,>=0.28.0 in /usr/local/lib/python3.10/dist-packages (from spacy<3.8.0,>=3.7.0->es-core-news-sm==3.7.0) (1.0.10)\n",
            "Requirement already satisfied: cymem<2.1.0,>=2.0.2 in /usr/local/lib/python3.10/dist-packages (from spacy<3.8.0,>=3.7.0->es-core-news-sm==3.7.0) (2.0.8)\n",
            "Requirement already satisfied: preshed<3.1.0,>=3.0.2 in /usr/local/lib/python3.10/dist-packages (from spacy<3.8.0,>=3.7.0->es-core-news-sm==3.7.0) (3.0.9)\n",
            "Requirement already satisfied: thinc<8.3.0,>=8.2.2 in /usr/local/lib/python3.10/dist-packages (from spacy<3.8.0,>=3.7.0->es-core-news-sm==3.7.0) (8.2.5)\n",
            "Requirement already satisfied: wasabi<1.2.0,>=0.9.1 in /usr/local/lib/python3.10/dist-packages (from spacy<3.8.0,>=3.7.0->es-core-news-sm==3.7.0) (1.1.3)\n",
            "Requirement already satisfied: srsly<3.0.0,>=2.4.3 in /usr/local/lib/python3.10/dist-packages (from spacy<3.8.0,>=3.7.0->es-core-news-sm==3.7.0) (2.4.8)\n",
            "Requirement already satisfied: catalogue<2.1.0,>=2.0.6 in /usr/local/lib/python3.10/dist-packages (from spacy<3.8.0,>=3.7.0->es-core-news-sm==3.7.0) (2.0.10)\n",
            "Requirement already satisfied: weasel<0.5.0,>=0.1.0 in /usr/local/lib/python3.10/dist-packages (from spacy<3.8.0,>=3.7.0->es-core-news-sm==3.7.0) (0.4.1)\n",
            "Requirement already satisfied: typer<1.0.0,>=0.3.0 in /usr/local/lib/python3.10/dist-packages (from spacy<3.8.0,>=3.7.0->es-core-news-sm==3.7.0) (0.12.3)\n",
            "Requirement already satisfied: tqdm<5.0.0,>=4.38.0 in /usr/local/lib/python3.10/dist-packages (from spacy<3.8.0,>=3.7.0->es-core-news-sm==3.7.0) (4.66.5)\n",
            "Requirement already satisfied: requests<3.0.0,>=2.13.0 in /usr/local/lib/python3.10/dist-packages (from spacy<3.8.0,>=3.7.0->es-core-news-sm==3.7.0) (2.32.3)\n",
            "Requirement already satisfied: pydantic!=1.8,!=1.8.1,<3.0.0,>=1.7.4 in /usr/local/lib/python3.10/dist-packages (from spacy<3.8.0,>=3.7.0->es-core-news-sm==3.7.0) (2.8.2)\n",
            "Requirement already satisfied: jinja2 in /usr/local/lib/python3.10/dist-packages (from spacy<3.8.0,>=3.7.0->es-core-news-sm==3.7.0) (3.1.4)\n",
            "Requirement already satisfied: setuptools in /usr/local/lib/python3.10/dist-packages (from spacy<3.8.0,>=3.7.0->es-core-news-sm==3.7.0) (71.0.4)\n",
            "Requirement already satisfied: packaging>=20.0 in /usr/local/lib/python3.10/dist-packages (from spacy<3.8.0,>=3.7.0->es-core-news-sm==3.7.0) (24.1)\n",
            "Requirement already satisfied: langcodes<4.0.0,>=3.2.0 in /usr/local/lib/python3.10/dist-packages (from spacy<3.8.0,>=3.7.0->es-core-news-sm==3.7.0) (3.4.0)\n",
            "Requirement already satisfied: numpy>=1.19.0 in /usr/local/lib/python3.10/dist-packages (from spacy<3.8.0,>=3.7.0->es-core-news-sm==3.7.0) (1.26.4)\n",
            "Requirement already satisfied: language-data>=1.2 in /usr/local/lib/python3.10/dist-packages (from langcodes<4.0.0,>=3.2.0->spacy<3.8.0,>=3.7.0->es-core-news-sm==3.7.0) (1.2.0)\n",
            "Requirement already satisfied: annotated-types>=0.4.0 in /usr/local/lib/python3.10/dist-packages (from pydantic!=1.8,!=1.8.1,<3.0.0,>=1.7.4->spacy<3.8.0,>=3.7.0->es-core-news-sm==3.7.0) (0.7.0)\n",
            "Requirement already satisfied: pydantic-core==2.20.1 in /usr/local/lib/python3.10/dist-packages (from pydantic!=1.8,!=1.8.1,<3.0.0,>=1.7.4->spacy<3.8.0,>=3.7.0->es-core-news-sm==3.7.0) (2.20.1)\n",
            "Requirement already satisfied: typing-extensions>=4.6.1 in /usr/local/lib/python3.10/dist-packages (from pydantic!=1.8,!=1.8.1,<3.0.0,>=1.7.4->spacy<3.8.0,>=3.7.0->es-core-news-sm==3.7.0) (4.12.2)\n",
            "Requirement already satisfied: charset-normalizer<4,>=2 in /usr/local/lib/python3.10/dist-packages (from requests<3.0.0,>=2.13.0->spacy<3.8.0,>=3.7.0->es-core-news-sm==3.7.0) (3.3.2)\n",
            "Requirement already satisfied: idna<4,>=2.5 in /usr/local/lib/python3.10/dist-packages (from requests<3.0.0,>=2.13.0->spacy<3.8.0,>=3.7.0->es-core-news-sm==3.7.0) (3.7)\n",
            "Requirement already satisfied: urllib3<3,>=1.21.1 in /usr/local/lib/python3.10/dist-packages (from requests<3.0.0,>=2.13.0->spacy<3.8.0,>=3.7.0->es-core-news-sm==3.7.0) (2.0.7)\n",
            "Requirement already satisfied: certifi>=2017.4.17 in /usr/local/lib/python3.10/dist-packages (from requests<3.0.0,>=2.13.0->spacy<3.8.0,>=3.7.0->es-core-news-sm==3.7.0) (2024.7.4)\n",
            "Requirement already satisfied: blis<0.8.0,>=0.7.8 in /usr/local/lib/python3.10/dist-packages (from thinc<8.3.0,>=8.2.2->spacy<3.8.0,>=3.7.0->es-core-news-sm==3.7.0) (0.7.11)\n",
            "Requirement already satisfied: confection<1.0.0,>=0.0.1 in /usr/local/lib/python3.10/dist-packages (from thinc<8.3.0,>=8.2.2->spacy<3.8.0,>=3.7.0->es-core-news-sm==3.7.0) (0.1.5)\n",
            "Requirement already satisfied: click>=8.0.0 in /usr/local/lib/python3.10/dist-packages (from typer<1.0.0,>=0.3.0->spacy<3.8.0,>=3.7.0->es-core-news-sm==3.7.0) (8.1.7)\n",
            "Requirement already satisfied: shellingham>=1.3.0 in /usr/local/lib/python3.10/dist-packages (from typer<1.0.0,>=0.3.0->spacy<3.8.0,>=3.7.0->es-core-news-sm==3.7.0) (1.5.4)\n",
            "Requirement already satisfied: rich>=10.11.0 in /usr/local/lib/python3.10/dist-packages (from typer<1.0.0,>=0.3.0->spacy<3.8.0,>=3.7.0->es-core-news-sm==3.7.0) (13.7.1)\n",
            "Requirement already satisfied: cloudpathlib<1.0.0,>=0.7.0 in /usr/local/lib/python3.10/dist-packages (from weasel<0.5.0,>=0.1.0->spacy<3.8.0,>=3.7.0->es-core-news-sm==3.7.0) (0.18.1)\n",
            "Requirement already satisfied: smart-open<8.0.0,>=5.2.1 in /usr/local/lib/python3.10/dist-packages (from weasel<0.5.0,>=0.1.0->spacy<3.8.0,>=3.7.0->es-core-news-sm==3.7.0) (7.0.4)\n",
            "Requirement already satisfied: MarkupSafe>=2.0 in /usr/local/lib/python3.10/dist-packages (from jinja2->spacy<3.8.0,>=3.7.0->es-core-news-sm==3.7.0) (2.1.5)\n",
            "Requirement already satisfied: marisa-trie>=0.7.7 in /usr/local/lib/python3.10/dist-packages (from language-data>=1.2->langcodes<4.0.0,>=3.2.0->spacy<3.8.0,>=3.7.0->es-core-news-sm==3.7.0) (1.2.0)\n",
            "Requirement already satisfied: markdown-it-py>=2.2.0 in /usr/local/lib/python3.10/dist-packages (from rich>=10.11.0->typer<1.0.0,>=0.3.0->spacy<3.8.0,>=3.7.0->es-core-news-sm==3.7.0) (3.0.0)\n",
            "Requirement already satisfied: pygments<3.0.0,>=2.13.0 in /usr/local/lib/python3.10/dist-packages (from rich>=10.11.0->typer<1.0.0,>=0.3.0->spacy<3.8.0,>=3.7.0->es-core-news-sm==3.7.0) (2.16.1)\n",
            "Requirement already satisfied: wrapt in /usr/local/lib/python3.10/dist-packages (from smart-open<8.0.0,>=5.2.1->weasel<0.5.0,>=0.1.0->spacy<3.8.0,>=3.7.0->es-core-news-sm==3.7.0) (1.16.0)\n",
            "Requirement already satisfied: mdurl~=0.1 in /usr/local/lib/python3.10/dist-packages (from markdown-it-py>=2.2.0->rich>=10.11.0->typer<1.0.0,>=0.3.0->spacy<3.8.0,>=3.7.0->es-core-news-sm==3.7.0) (0.1.2)\n",
            "\u001b[38;5;2m✔ Download and installation successful\u001b[0m\n",
            "You can now load the package via spacy.load('es_core_news_sm')\n",
            "\u001b[38;5;3m⚠ Restart to reload dependencies\u001b[0m\n",
            "If you are in a Jupyter or Colab notebook, you may need to restart Python in\n",
            "order to load all the package's dependencies. You can do this by selecting the\n",
            "'Restart kernel' or 'Restart runtime' option.\n",
            "Requirement already satisfied: symspellpy in /usr/local/lib/python3.10/dist-packages (6.7.7)\n",
            "Requirement already satisfied: editdistpy>=0.1.3 in /usr/local/lib/python3.10/dist-packages (from symspellpy) (0.1.4)\n"
          ]
        }
      ],
      "source": [
        "!python -m spacy download es_core_news_sm\n",
        "! pip install -U symspellpy\n",
        "\n",
        "import spacy\n",
        "import es_core_news_sm\n"
      ]
    },
    {
      "cell_type": "code",
      "execution_count": null,
      "metadata": {
        "id": "Pd-DOmGVOF0t",
        "colab": {
          "base_uri": "https://localhost:8080/"
        },
        "outputId": "079ea87c-8ddf-4ebc-9728-95de935167f9"
      },
      "outputs": [
        {
          "output_type": "stream",
          "name": "stdout",
          "text": [
            "Collecting es-core-news-md==3.7.0\n",
            "  Downloading https://github.com/explosion/spacy-models/releases/download/es_core_news_md-3.7.0/es_core_news_md-3.7.0-py3-none-any.whl (42.3 MB)\n",
            "\u001b[2K     \u001b[90m━━━━━━━━━━━━━━━━━━━━━━━━━━━━━━━━━━━━━━━━\u001b[0m \u001b[32m42.3/42.3 MB\u001b[0m \u001b[31m18.5 MB/s\u001b[0m eta \u001b[36m0:00:00\u001b[0m\n",
            "\u001b[?25hRequirement already satisfied: spacy<3.8.0,>=3.7.0 in /usr/local/lib/python3.10/dist-packages (from es-core-news-md==3.7.0) (3.7.5)\n",
            "Requirement already satisfied: spacy-legacy<3.1.0,>=3.0.11 in /usr/local/lib/python3.10/dist-packages (from spacy<3.8.0,>=3.7.0->es-core-news-md==3.7.0) (3.0.12)\n",
            "Requirement already satisfied: spacy-loggers<2.0.0,>=1.0.0 in /usr/local/lib/python3.10/dist-packages (from spacy<3.8.0,>=3.7.0->es-core-news-md==3.7.0) (1.0.5)\n",
            "Requirement already satisfied: murmurhash<1.1.0,>=0.28.0 in /usr/local/lib/python3.10/dist-packages (from spacy<3.8.0,>=3.7.0->es-core-news-md==3.7.0) (1.0.10)\n",
            "Requirement already satisfied: cymem<2.1.0,>=2.0.2 in /usr/local/lib/python3.10/dist-packages (from spacy<3.8.0,>=3.7.0->es-core-news-md==3.7.0) (2.0.8)\n",
            "Requirement already satisfied: preshed<3.1.0,>=3.0.2 in /usr/local/lib/python3.10/dist-packages (from spacy<3.8.0,>=3.7.0->es-core-news-md==3.7.0) (3.0.9)\n",
            "Requirement already satisfied: thinc<8.3.0,>=8.2.2 in /usr/local/lib/python3.10/dist-packages (from spacy<3.8.0,>=3.7.0->es-core-news-md==3.7.0) (8.2.5)\n",
            "Requirement already satisfied: wasabi<1.2.0,>=0.9.1 in /usr/local/lib/python3.10/dist-packages (from spacy<3.8.0,>=3.7.0->es-core-news-md==3.7.0) (1.1.3)\n",
            "Requirement already satisfied: srsly<3.0.0,>=2.4.3 in /usr/local/lib/python3.10/dist-packages (from spacy<3.8.0,>=3.7.0->es-core-news-md==3.7.0) (2.4.8)\n",
            "Requirement already satisfied: catalogue<2.1.0,>=2.0.6 in /usr/local/lib/python3.10/dist-packages (from spacy<3.8.0,>=3.7.0->es-core-news-md==3.7.0) (2.0.10)\n",
            "Requirement already satisfied: weasel<0.5.0,>=0.1.0 in /usr/local/lib/python3.10/dist-packages (from spacy<3.8.0,>=3.7.0->es-core-news-md==3.7.0) (0.4.1)\n",
            "Requirement already satisfied: typer<1.0.0,>=0.3.0 in /usr/local/lib/python3.10/dist-packages (from spacy<3.8.0,>=3.7.0->es-core-news-md==3.7.0) (0.12.3)\n",
            "Requirement already satisfied: tqdm<5.0.0,>=4.38.0 in /usr/local/lib/python3.10/dist-packages (from spacy<3.8.0,>=3.7.0->es-core-news-md==3.7.0) (4.66.5)\n",
            "Requirement already satisfied: requests<3.0.0,>=2.13.0 in /usr/local/lib/python3.10/dist-packages (from spacy<3.8.0,>=3.7.0->es-core-news-md==3.7.0) (2.32.3)\n",
            "Requirement already satisfied: pydantic!=1.8,!=1.8.1,<3.0.0,>=1.7.4 in /usr/local/lib/python3.10/dist-packages (from spacy<3.8.0,>=3.7.0->es-core-news-md==3.7.0) (2.8.2)\n",
            "Requirement already satisfied: jinja2 in /usr/local/lib/python3.10/dist-packages (from spacy<3.8.0,>=3.7.0->es-core-news-md==3.7.0) (3.1.4)\n",
            "Requirement already satisfied: setuptools in /usr/local/lib/python3.10/dist-packages (from spacy<3.8.0,>=3.7.0->es-core-news-md==3.7.0) (71.0.4)\n",
            "Requirement already satisfied: packaging>=20.0 in /usr/local/lib/python3.10/dist-packages (from spacy<3.8.0,>=3.7.0->es-core-news-md==3.7.0) (24.1)\n",
            "Requirement already satisfied: langcodes<4.0.0,>=3.2.0 in /usr/local/lib/python3.10/dist-packages (from spacy<3.8.0,>=3.7.0->es-core-news-md==3.7.0) (3.4.0)\n",
            "Requirement already satisfied: numpy>=1.19.0 in /usr/local/lib/python3.10/dist-packages (from spacy<3.8.0,>=3.7.0->es-core-news-md==3.7.0) (1.26.4)\n",
            "Requirement already satisfied: language-data>=1.2 in /usr/local/lib/python3.10/dist-packages (from langcodes<4.0.0,>=3.2.0->spacy<3.8.0,>=3.7.0->es-core-news-md==3.7.0) (1.2.0)\n",
            "Requirement already satisfied: annotated-types>=0.4.0 in /usr/local/lib/python3.10/dist-packages (from pydantic!=1.8,!=1.8.1,<3.0.0,>=1.7.4->spacy<3.8.0,>=3.7.0->es-core-news-md==3.7.0) (0.7.0)\n",
            "Requirement already satisfied: pydantic-core==2.20.1 in /usr/local/lib/python3.10/dist-packages (from pydantic!=1.8,!=1.8.1,<3.0.0,>=1.7.4->spacy<3.8.0,>=3.7.0->es-core-news-md==3.7.0) (2.20.1)\n",
            "Requirement already satisfied: typing-extensions>=4.6.1 in /usr/local/lib/python3.10/dist-packages (from pydantic!=1.8,!=1.8.1,<3.0.0,>=1.7.4->spacy<3.8.0,>=3.7.0->es-core-news-md==3.7.0) (4.12.2)\n",
            "Requirement already satisfied: charset-normalizer<4,>=2 in /usr/local/lib/python3.10/dist-packages (from requests<3.0.0,>=2.13.0->spacy<3.8.0,>=3.7.0->es-core-news-md==3.7.0) (3.3.2)\n",
            "Requirement already satisfied: idna<4,>=2.5 in /usr/local/lib/python3.10/dist-packages (from requests<3.0.0,>=2.13.0->spacy<3.8.0,>=3.7.0->es-core-news-md==3.7.0) (3.7)\n",
            "Requirement already satisfied: urllib3<3,>=1.21.1 in /usr/local/lib/python3.10/dist-packages (from requests<3.0.0,>=2.13.0->spacy<3.8.0,>=3.7.0->es-core-news-md==3.7.0) (2.0.7)\n",
            "Requirement already satisfied: certifi>=2017.4.17 in /usr/local/lib/python3.10/dist-packages (from requests<3.0.0,>=2.13.0->spacy<3.8.0,>=3.7.0->es-core-news-md==3.7.0) (2024.7.4)\n",
            "Requirement already satisfied: blis<0.8.0,>=0.7.8 in /usr/local/lib/python3.10/dist-packages (from thinc<8.3.0,>=8.2.2->spacy<3.8.0,>=3.7.0->es-core-news-md==3.7.0) (0.7.11)\n",
            "Requirement already satisfied: confection<1.0.0,>=0.0.1 in /usr/local/lib/python3.10/dist-packages (from thinc<8.3.0,>=8.2.2->spacy<3.8.0,>=3.7.0->es-core-news-md==3.7.0) (0.1.5)\n",
            "Requirement already satisfied: click>=8.0.0 in /usr/local/lib/python3.10/dist-packages (from typer<1.0.0,>=0.3.0->spacy<3.8.0,>=3.7.0->es-core-news-md==3.7.0) (8.1.7)\n",
            "Requirement already satisfied: shellingham>=1.3.0 in /usr/local/lib/python3.10/dist-packages (from typer<1.0.0,>=0.3.0->spacy<3.8.0,>=3.7.0->es-core-news-md==3.7.0) (1.5.4)\n",
            "Requirement already satisfied: rich>=10.11.0 in /usr/local/lib/python3.10/dist-packages (from typer<1.0.0,>=0.3.0->spacy<3.8.0,>=3.7.0->es-core-news-md==3.7.0) (13.7.1)\n",
            "Requirement already satisfied: cloudpathlib<1.0.0,>=0.7.0 in /usr/local/lib/python3.10/dist-packages (from weasel<0.5.0,>=0.1.0->spacy<3.8.0,>=3.7.0->es-core-news-md==3.7.0) (0.18.1)\n",
            "Requirement already satisfied: smart-open<8.0.0,>=5.2.1 in /usr/local/lib/python3.10/dist-packages (from weasel<0.5.0,>=0.1.0->spacy<3.8.0,>=3.7.0->es-core-news-md==3.7.0) (7.0.4)\n",
            "Requirement already satisfied: MarkupSafe>=2.0 in /usr/local/lib/python3.10/dist-packages (from jinja2->spacy<3.8.0,>=3.7.0->es-core-news-md==3.7.0) (2.1.5)\n",
            "Requirement already satisfied: marisa-trie>=0.7.7 in /usr/local/lib/python3.10/dist-packages (from language-data>=1.2->langcodes<4.0.0,>=3.2.0->spacy<3.8.0,>=3.7.0->es-core-news-md==3.7.0) (1.2.0)\n",
            "Requirement already satisfied: markdown-it-py>=2.2.0 in /usr/local/lib/python3.10/dist-packages (from rich>=10.11.0->typer<1.0.0,>=0.3.0->spacy<3.8.0,>=3.7.0->es-core-news-md==3.7.0) (3.0.0)\n",
            "Requirement already satisfied: pygments<3.0.0,>=2.13.0 in /usr/local/lib/python3.10/dist-packages (from rich>=10.11.0->typer<1.0.0,>=0.3.0->spacy<3.8.0,>=3.7.0->es-core-news-md==3.7.0) (2.16.1)\n",
            "Requirement already satisfied: wrapt in /usr/local/lib/python3.10/dist-packages (from smart-open<8.0.0,>=5.2.1->weasel<0.5.0,>=0.1.0->spacy<3.8.0,>=3.7.0->es-core-news-md==3.7.0) (1.16.0)\n",
            "Requirement already satisfied: mdurl~=0.1 in /usr/local/lib/python3.10/dist-packages (from markdown-it-py>=2.2.0->rich>=10.11.0->typer<1.0.0,>=0.3.0->spacy<3.8.0,>=3.7.0->es-core-news-md==3.7.0) (0.1.2)\n",
            "\u001b[38;5;2m✔ Download and installation successful\u001b[0m\n",
            "You can now load the package via spacy.load('es_core_news_md')\n",
            "\u001b[38;5;3m⚠ Restart to reload dependencies\u001b[0m\n",
            "If you are in a Jupyter or Colab notebook, you may need to restart Python in\n",
            "order to load all the package's dependencies. You can do this by selecting the\n",
            "'Restart kernel' or 'Restart runtime' option.\n"
          ]
        }
      ],
      "source": [
        "!python -m spacy download es_core_news_md"
      ]
    },
    {
      "cell_type": "code",
      "execution_count": null,
      "metadata": {
        "id": "vsxa_DTEMtNC"
      },
      "outputs": [],
      "source": [
        "import es_core_news_md\n",
        "nlp = es_core_news_md.load()"
      ]
    },
    {
      "cell_type": "markdown",
      "metadata": {
        "id": "2uB1-2VbOeRt"
      },
      "source": [
        "# Leer un string"
      ]
    },
    {
      "cell_type": "code",
      "execution_count": null,
      "metadata": {
        "id": "ht5U8hbEM6pA",
        "colab": {
          "base_uri": "https://localhost:8080/"
        },
        "outputId": "603da446-20ae-4ce1-d528-cb5ca2570170"
      },
      "outputs": [
        {
          "output_type": "stream",
          "name": "stdout",
          "text": [
            "['Este', 'es', 'un', 'tutorial', 'acerca', 'de', 'Procesamiento', 'de', 'lenguaje', 'usando', 'Python', 'con', 'spaCy']\n"
          ]
        }
      ],
      "source": [
        "texto= ('Este es un tutorial acerca de Procesamiento de lenguaje usando Python con spaCy')\n",
        "doc = nlp(texto)\n",
        "#tokenizar\n",
        "print([token.text for token in doc])"
      ]
    },
    {
      "cell_type": "markdown",
      "metadata": {
        "id": "eB-FMmvvOh90"
      },
      "source": [
        "# Deteccion de oraciones"
      ]
    },
    {
      "cell_type": "code",
      "execution_count": null,
      "metadata": {
        "id": "teHetL6wOmGc",
        "colab": {
          "base_uri": "https://localhost:8080/"
        },
        "outputId": "667f3727-8d6f-4b76-a226-3cef9bf5f389"
      },
      "outputs": [
        {
          "output_type": "stream",
          "name": "stdout",
          "text": [
            "2\n",
            "Gus es un desarrollador en Python actualmente trabajando para una compañia Fintech en Londres Inglaterra.\n",
            "Se encuentra interesado en aprender NLP.\n"
          ]
        }
      ],
      "source": [
        "text=('Gus es un desarrollador en Python actualmente trabajando para una compañia Fintech en Londres Inglaterra. Se encuentra interesado en aprender NLP.')\n",
        "t=nlp(text)\n",
        "oraciones= list(t.sents)\n",
        "print(len(oraciones))\n",
        "for x in oraciones:\n",
        "  print(x)"
      ]
    },
    {
      "cell_type": "markdown",
      "metadata": {
        "id": "RrNKtx8EPrr1"
      },
      "source": [
        "# Tokenizacion"
      ]
    },
    {
      "cell_type": "code",
      "execution_count": null,
      "metadata": {
        "id": "RROu30nCPs11",
        "colab": {
          "base_uri": "https://localhost:8080/"
        },
        "outputId": "c71db651-9aec-46d5-95e8-e9a8230e9ab7"
      },
      "outputs": [
        {
          "output_type": "stream",
          "name": "stdout",
          "text": [
            "Gus 0\n",
            "es 4\n",
            "un 7\n",
            "desarrollador 10\n",
            "en 24\n",
            "Python 27\n",
            "actualmente 34\n",
            "trabajando 46\n",
            "para 57\n",
            "una 62\n",
            "compañia 66\n",
            "Fintech 75\n",
            "en 83\n",
            "Londres 86\n",
            "Inglaterra 94\n",
            ". 104\n",
            "Se 106\n",
            "encuentra 109\n",
            "interesado 119\n",
            "en 130\n",
            "aprender 133\n",
            "NLP 142\n",
            ". 145\n"
          ]
        }
      ],
      "source": [
        "for token in t:\n",
        "  print(token, token.idx)"
      ]
    },
    {
      "cell_type": "code",
      "execution_count": null,
      "metadata": {
        "id": "Rhv5on_BP9Jt",
        "colab": {
          "base_uri": "https://localhost:8080/"
        },
        "outputId": "89e219cc-1542-4799-8069-b575604e5bb5"
      },
      "outputs": [
        {
          "output_type": "stream",
          "name": "stdout",
          "text": [
            "Gus 0 Gus  True False False Xxx False\n",
            "es 4 es  True False False xx True\n",
            "un 7 un  True False False xx True\n",
            "desarrollador 10 desarrollador  True False False xxxx False\n",
            "en 24 en  True False False xx True\n",
            "Python 27 Python  True False False Xxxxx False\n",
            "actualmente 34 actualmente  True False False xxxx False\n",
            "trabajando 46 trabajando  True False False xxxx False\n",
            "para 57 para  True False False xxxx True\n",
            "una 62 una  True False False xxx True\n",
            "compañia 66 compañia  True False False xxxx False\n",
            "Fintech 75 Fintech  True False False Xxxxx False\n",
            "en 83 en  True False False xx True\n",
            "Londres 86 Londres  True False False Xxxxx False\n",
            "Inglaterra 94 Inglaterra True False False Xxxxx False\n",
            ". 104 .  False True False . False\n",
            "Se 106 Se  True False False Xx True\n",
            "encuentra 109 encuentra  True False False xxxx True\n",
            "interesado 119 interesado  True False False xxxx False\n",
            "en 130 en  True False False xx True\n",
            "aprender 133 aprender  True False False xxxx False\n",
            "NLP 142 NLP True False False XXX False\n",
            ". 145 . False True False . False\n"
          ]
        }
      ],
      "source": [
        "for token in t:\n",
        "  print(token, token.idx, token.text_with_ws,\n",
        "        token.is_alpha, token.is_punct, token.is_space,\n",
        "        token.shape_, token.is_stop)"
      ]
    },
    {
      "cell_type": "markdown",
      "metadata": {
        "id": "v6FvUx-UQFoz"
      },
      "source": [
        "En este ejemplo tenemos:\n",
        "\n",
        "- text_with_ws imprime el texto del token\n",
        "- is_alpha detecta si el token consiste en caracteres alfa numericos o no\n",
        "- is_punct detecta si el token es un simbolo de puntuacion.\n",
        "- is_space detecta si el token es un espacio o no.\n",
        "- shape_ imprime el output shape de la palabra.\n",
        "- is_stop detecta si es una stopword o no"
      ]
    },
    {
      "cell_type": "markdown",
      "metadata": {
        "id": "Lq1Cev75Qjy5"
      },
      "source": [
        "# Stopwords"
      ]
    },
    {
      "cell_type": "code",
      "execution_count": null,
      "metadata": {
        "id": "_h2N2XmmQmaC",
        "colab": {
          "base_uri": "https://localhost:8080/"
        },
        "outputId": "7b6c86da-6138-4d90-d9f2-557cab72fe80"
      },
      "outputs": [
        {
          "output_type": "stream",
          "name": "stdout",
          "text": [
            "521\n",
            "repente\n",
            "ocho\n",
            "menos\n",
            "paìs\n",
            "desde\n",
            "que\n",
            "quienes\n",
            "realizado\n",
            "pasado\n",
            "nuevas\n"
          ]
        }
      ],
      "source": [
        "import spacy\n",
        "spacy_stopwords = spacy.lang.es.stop_words.STOP_WORDS\n",
        "print(len(spacy_stopwords))\n",
        "for stop_word in list(spacy_stopwords)[:10]:\n",
        "  print(stop_word)"
      ]
    },
    {
      "cell_type": "code",
      "execution_count": null,
      "metadata": {
        "id": "PF9yA7o7Qu-5",
        "colab": {
          "base_uri": "https://localhost:8080/"
        },
        "outputId": "b6acf1cc-2266-4a3e-81ed-94adf500256d"
      },
      "outputs": [
        {
          "output_type": "stream",
          "name": "stdout",
          "text": [
            "Gus\n",
            "desarrollador\n",
            "Python\n",
            "actualmente\n",
            "trabajando\n",
            "compañia\n",
            "Fintech\n",
            "Londres\n",
            "Inglaterra\n",
            ".\n",
            "interesado\n",
            "aprender\n",
            "NLP\n",
            ".\n"
          ]
        }
      ],
      "source": [
        "for token in t:\n",
        "  if not token.is_stop:\n",
        "    print(token)"
      ]
    },
    {
      "cell_type": "code",
      "execution_count": null,
      "metadata": {
        "id": "XZqDOi_qQ1td",
        "colab": {
          "base_uri": "https://localhost:8080/"
        },
        "outputId": "8697a8c5-c5bc-46b9-d6af-1ecc01dfba0f"
      },
      "outputs": [
        {
          "output_type": "stream",
          "name": "stdout",
          "text": [
            "[Gus, desarrollador, Python, actualmente, trabajando, compañia, Fintech, Londres, Inglaterra, ., interesado, aprender, NLP, .]\n"
          ]
        }
      ],
      "source": [
        "# Creacion adicional de stopwrods\n",
        "documento_sin_stopword = [token for token in t if not token.is_stop]\n",
        "print(documento_sin_stopword)"
      ]
    },
    {
      "cell_type": "markdown",
      "metadata": {
        "id": "27Owz6clRAe2"
      },
      "source": [
        "# Lemantizacion"
      ]
    },
    {
      "cell_type": "code",
      "execution_count": null,
      "metadata": {
        "id": "siLYeWXjRDl6",
        "colab": {
          "base_uri": "https://localhost:8080/"
        },
        "outputId": "d3fcaf9d-7e24-4c21-90d5-ad014ba0e686"
      },
      "outputs": [
        {
          "output_type": "stream",
          "name": "stdout",
          "text": [
            "Gus - Gus\n",
            "es - ser\n",
            "un - uno\n",
            "desarrollador - desarrollador\n",
            "en - en\n",
            "Python - Python\n",
            "actualmente - actualmente\n",
            "trabajando - trabajar\n",
            "para - para\n",
            "una - uno\n",
            "compañia - compañia\n",
            "Fintech - Fintech\n",
            "en - en\n",
            "Londres - Londres\n",
            "Inglaterra - Inglaterra\n",
            ". - .\n",
            "Se - él\n",
            "encuentra - encontrar\n",
            "interesado - interesado\n",
            "en - en\n",
            "aprender - aprender\n",
            "NLP - NLP\n",
            ". - .\n"
          ]
        }
      ],
      "source": [
        "for token in t:\n",
        "  print(token, '-', token.lemma_)"
      ]
    },
    {
      "cell_type": "markdown",
      "metadata": {
        "id": "WPyUzf66RL-V"
      },
      "source": [
        "# Word Frequency"
      ]
    },
    {
      "cell_type": "code",
      "execution_count": null,
      "metadata": {
        "id": "a_P6U9n1RNUo"
      },
      "outputs": [],
      "source": [
        "texto= '''\n",
        "La FIFA responde así a una denuncia interpuesta por la Federación de Chile ante esa Comisión Disciplinaria, en la que presentaba alegaciones sobre la posible falsificación de los documentos que conceden la nacionalidad ecuatoriana Byron Castillo.\n",
        "\n",
        "La selección de Ecuador se clasificó de forma directa para el Mundial, junto con las de Brasil, Argentina y Uruguay, al contrario que las de Chile y Perú. El combinado peruano, que terminó quinto por detrás del ecuatoriano, disputará una repesca.\n",
        "\n",
        "El defensa fue alineado por el seleccionador ecuatoriano Gustavo Alfaro para los dos partidos contra Paraguay y Chile y en una ocasión ante Uruguay, Bolivia, Venezuela y Argentina, partidos clave para que el equipo lograse uno de los cupos directos para el Mundial.\n",
        "\n",
        "\"Innumerables pruebas de que nació en Colombia\"\n",
        "La Federación de Chile denunció el pasado día 5 que hay \"innumerables pruebas de que el jugador nació en Colombia\".\n",
        "\n",
        "\"Las investigaciones realizadas en Ecuador, entre ellas, un informe jurídico de la Dirección Nacional de Registro Civil, declararon la existencia de inconsistencias en el certificado de nacimiento presentado por el jugador\", afirmó este organismo, que acusó a la Federación Ecuatoriana de tener \"total conocimiento\" de las irregularidades.\n",
        "\n",
        "Una posible sanción de la FIFA podría implicar la resta de puntos a Ecuador por los partidos que Castillo jugó, lo que alteraría la nómina de clasificados.\n",
        "\n",
        "Un informe técnico jurídico de la dirección nacional del registro civil de Ecuador afirma que la inscripción de nacimiento de Byron Castillo en la ciudad ecuatoriana de Guayas no consta en el tomo, la página y el acta solicitado, según un documento oficial.\n",
        "'''"
      ]
    },
    {
      "cell_type": "code",
      "execution_count": null,
      "metadata": {
        "id": "OVFSTmTCSbUI",
        "colab": {
          "base_uri": "https://localhost:8080/"
        },
        "outputId": "3def41c6-1fd5-4213-e409-77689af4d18d"
      },
      "outputs": [
        {
          "output_type": "execute_result",
          "data": {
            "text/plain": [
              "str"
            ]
          },
          "metadata": {},
          "execution_count": 13
        }
      ],
      "source": [
        "type(texto)"
      ]
    },
    {
      "cell_type": "code",
      "execution_count": null,
      "metadata": {
        "id": "YJEqi4TuSNHZ",
        "colab": {
          "base_uri": "https://localhost:8080/",
          "height": 196
        },
        "outputId": "fa70820d-b1d6-477b-ec03-a96103901b71"
      },
      "outputs": [
        {
          "output_type": "stream",
          "name": "stdout",
          "text": [
            "<class 'str'>\n"
          ]
        },
        {
          "output_type": "execute_result",
          "data": {
            "text/plain": [
              "'La FIFA responde así a una denuncia interpuesta por la Federación de Chile ante esa Comisión Disciplinaria, en la que presentaba alegaciones sobre la posible falsificación de los documentos que conceden la nacionalidad ecuatoriana Byron Castillo.La selección de Ecuador se clasificó de forma directa para el Mundial, junto con las de Brasil, Argentina y Uruguay, al contrario que las de Chile y Perú. El combinado peruano, que terminó quinto por detrás del ecuatoriano, disputará una repesca.El defensa fue alineado por el seleccionador ecuatoriano Gustavo Alfaro para los dos partidos contra Paraguay y Chile y en una ocasión ante Uruguay, Bolivia, Venezuela y Argentina, partidos clave para que el equipo lograse uno de los cupos directos para el Mundial.\"Innumerables pruebas de que nació en Colombia\"La Federación de Chile denunció el pasado día 5 que hay \"innumerables pruebas de que el jugador nació en Colombia\".\"Las investigaciones realizadas en Ecuador, entre ellas, un informe jurídico de la Dirección Nacional de Registro Civil, declararon la existencia de inconsistencias en el certificado de nacimiento presentado por el jugador\", afirmó este organismo, que acusó a la Federación Ecuatoriana de tener \"total conocimiento\" de las irregularidades.Una posible sanción de la FIFA podría implicar la resta de puntos a Ecuador por los partidos que Castillo jugó, lo que alteraría la nómina de clasificados.Un informe técnico jurídico de la dirección nacional del registro civil de Ecuador afirma que la inscripción de nacimiento de Byron Castillo en la ciudad ecuatoriana de Guayas no consta en el tomo, la página y el acta solicitado, según un documento oficial.'"
            ],
            "application/vnd.google.colaboratory.intrinsic+json": {
              "type": "string"
            }
          },
          "metadata": {},
          "execution_count": 14
        }
      ],
      "source": [
        "import re\n",
        "texto1 = re.sub('\\n', '', texto) #remover saltos de linea\n",
        "print(type(texto))\n",
        "str(texto1)"
      ]
    },
    {
      "cell_type": "code",
      "execution_count": null,
      "metadata": {
        "id": "BaFYahOoRd6h",
        "colab": {
          "base_uri": "https://localhost:8080/"
        },
        "outputId": "ab077b61-e008-431e-9420-84434084930a"
      },
      "outputs": [
        {
          "output_type": "stream",
          "name": "stdout",
          "text": [
            "[('Chile', 4), ('Ecuador', 4), ('Federación', 3), ('Castillo', 3), ('partidos', 3)]\n",
            "['responde', 'denuncia', 'interpuesta', 'Comisión', 'Disciplinaria', 'presentaba', 'alegaciones', 'falsificación', 'documentos', 'conceden', 'nacionalidad', 'selección', 'clasificó', 'forma', 'directa', 'Brasil', 'contrario', 'Perú', 'combinado', 'peruano', 'terminó', 'quinto', 'disputará', 'repesca', 'defensa', 'alineado', 'seleccionador', 'Gustavo', 'Alfaro', 'Paraguay', 'ocasión', 'Bolivia', 'Venezuela', 'clave', 'equipo', 'lograse', 'cupos', 'directos', '\"Innumerables', 'Colombia\"La', 'denunció', '5', 'innumerables', 'Colombia\"', '\"Las', 'investigaciones', 'realizadas', 'Dirección', 'Nacional', 'Registro', 'Civil', 'declararon', 'existencia', 'inconsistencias', 'certificado', 'presentado', 'organismo', 'acusó', 'Ecuatoriana', 'conocimiento', 'irregularidades', 'sanción', 'implicar', 'resta', 'puntos', 'jugó', 'alteraría', 'nómina', 'clasificados', 'técnico', 'dirección', 'nacional', 'registro', 'civil', 'afirma', 'inscripción', 'ciudad', 'Guayas', 'consta', 'tomo', 'página', 'acta', 'solicitado', 'documento', 'oficial']\n"
          ]
        }
      ],
      "source": [
        "doc= nlp(texto1)\n",
        "# Remover stopwrods\n",
        "words= [token.text for token in doc if not token.is_stop and not token.is_punct]\n",
        "from collections import Counter\n",
        "word_freq= Counter(words)\n",
        "# Sacar las 5 mas frecuentes y sus frecuencias\n",
        "common_words= word_freq.most_common(5)\n",
        "print(common_words)\n",
        "unique_words = [word for (word, freq) in word_freq.items() if freq == 1]\n",
        "print(unique_words)"
      ]
    },
    {
      "cell_type": "markdown",
      "metadata": {
        "id": "qzhKZ2n_TEv4"
      },
      "source": [
        "# POS Tagging"
      ]
    },
    {
      "cell_type": "code",
      "execution_count": null,
      "metadata": {
        "id": "KEF70sIAS-1d",
        "colab": {
          "base_uri": "https://localhost:8080/"
        },
        "outputId": "1fc1244a-25c7-4c63-956e-67982ffd1a96"
      },
      "outputs": [
        {
          "output_type": "stream",
          "name": "stdout",
          "text": [
            "La  - DET  - DET  - determiner\n",
            "FIFA  - PROPN  - PROPN  - proper noun\n",
            "responde  - VERB  - VERB  - verb\n",
            "así  - ADV  - ADV  - adverb\n",
            "a  - ADP  - ADP  - adposition\n",
            "una  - DET  - DET  - determiner\n",
            "denuncia  - NOUN  - NOUN  - noun\n",
            "interpuesta  - ADJ  - ADJ  - adjective\n",
            "por  - ADP  - ADP  - adposition\n",
            "la  - DET  - DET  - determiner\n",
            "Federación  - PROPN  - PROPN  - proper noun\n",
            "de  - ADP  - ADP  - adposition\n",
            "Chile  - PROPN  - PROPN  - proper noun\n",
            "ante  - ADP  - ADP  - adposition\n",
            "esa  - DET  - DET  - determiner\n",
            "Comisión  - PROPN  - PROPN  - proper noun\n",
            "Disciplinaria  - PROPN  - PROPN  - proper noun\n",
            ",  - PUNCT  - PUNCT  - punctuation\n",
            "en  - ADP  - ADP  - adposition\n",
            "la  - DET  - DET  - determiner\n",
            "que  - PRON  - PRON  - pronoun\n",
            "presentaba  - VERB  - VERB  - verb\n",
            "alegaciones  - NOUN  - NOUN  - noun\n",
            "sobre  - ADP  - ADP  - adposition\n",
            "la  - DET  - DET  - determiner\n",
            "posible  - ADJ  - ADJ  - adjective\n",
            "falsificación  - NOUN  - NOUN  - noun\n",
            "de  - ADP  - ADP  - adposition\n",
            "los  - DET  - DET  - determiner\n",
            "documentos  - NOUN  - NOUN  - noun\n",
            "que  - PRON  - PRON  - pronoun\n",
            "conceden  - VERB  - VERB  - verb\n",
            "la  - DET  - DET  - determiner\n",
            "nacionalidad  - NOUN  - NOUN  - noun\n",
            "ecuatoriana  - ADJ  - ADJ  - adjective\n",
            "Byron  - PROPN  - PROPN  - proper noun\n",
            "Castillo  - PROPN  - PROPN  - proper noun\n",
            ".  - PUNCT  - PUNCT  - punctuation\n",
            "La  - DET  - DET  - determiner\n",
            "selección  - NOUN  - NOUN  - noun\n",
            "de  - ADP  - ADP  - adposition\n",
            "Ecuador  - PROPN  - PROPN  - proper noun\n",
            "se  - PRON  - PRON  - pronoun\n",
            "clasificó  - VERB  - VERB  - verb\n",
            "de  - ADP  - ADP  - adposition\n",
            "forma  - NOUN  - NOUN  - noun\n",
            "directa  - ADJ  - ADJ  - adjective\n",
            "para  - ADP  - ADP  - adposition\n",
            "el  - DET  - DET  - determiner\n",
            "Mundial  - PROPN  - PROPN  - proper noun\n",
            ",  - PUNCT  - PUNCT  - punctuation\n",
            "junto  - ADJ  - ADJ  - adjective\n",
            "con  - ADP  - ADP  - adposition\n",
            "las  - DET  - DET  - determiner\n",
            "de  - ADP  - ADP  - adposition\n",
            "Brasil  - PROPN  - PROPN  - proper noun\n",
            ",  - PUNCT  - PUNCT  - punctuation\n",
            "Argentina  - PROPN  - PROPN  - proper noun\n",
            "y  - CCONJ  - CCONJ  - coordinating conjunction\n",
            "Uruguay  - PROPN  - PROPN  - proper noun\n",
            ",  - PUNCT  - PUNCT  - punctuation\n",
            "al  - ADP  - ADP  - adposition\n",
            "contrario  - NOUN  - NOUN  - noun\n",
            "que  - SCONJ  - SCONJ  - subordinating conjunction\n",
            "las  - DET  - DET  - determiner\n",
            "de  - ADP  - ADP  - adposition\n",
            "Chile  - PROPN  - PROPN  - proper noun\n",
            "y  - CCONJ  - CCONJ  - coordinating conjunction\n",
            "Perú  - PROPN  - PROPN  - proper noun\n",
            ".  - PUNCT  - PUNCT  - punctuation\n",
            "El  - DET  - DET  - determiner\n",
            "combinado  - NOUN  - NOUN  - noun\n",
            "peruano  - ADJ  - ADJ  - adjective\n",
            ",  - PUNCT  - PUNCT  - punctuation\n",
            "que  - PRON  - PRON  - pronoun\n",
            "terminó  - VERB  - VERB  - verb\n",
            "quinto  - ADJ  - ADJ  - adjective\n",
            "por  - ADP  - ADP  - adposition\n",
            "detrás  - ADV  - ADV  - adverb\n",
            "del  - DET  - DET  - determiner\n",
            "ecuatoriano  - NOUN  - NOUN  - noun\n",
            ",  - PUNCT  - PUNCT  - punctuation\n",
            "disputará  - VERB  - VERB  - verb\n",
            "una  - DET  - DET  - determiner\n",
            "repesca  - NOUN  - NOUN  - noun\n",
            ".  - PUNCT  - PUNCT  - punctuation\n",
            "El  - DET  - DET  - determiner\n",
            "defensa  - NOUN  - NOUN  - noun\n",
            "fue  - AUX  - AUX  - auxiliary\n",
            "alineado  - VERB  - VERB  - verb\n",
            "por  - ADP  - ADP  - adposition\n",
            "el  - DET  - DET  - determiner\n",
            "seleccionador  - NOUN  - NOUN  - noun\n",
            "ecuatoriano  - ADJ  - ADJ  - adjective\n",
            "Gustavo  - PROPN  - PROPN  - proper noun\n",
            "Alfaro  - PROPN  - PROPN  - proper noun\n",
            "para  - ADP  - ADP  - adposition\n",
            "los  - DET  - DET  - determiner\n",
            "dos  - NUM  - NUM  - numeral\n",
            "partidos  - NOUN  - NOUN  - noun\n",
            "contra  - ADP  - ADP  - adposition\n",
            "Paraguay  - PROPN  - PROPN  - proper noun\n",
            "y  - CCONJ  - CCONJ  - coordinating conjunction\n",
            "Chile  - PROPN  - PROPN  - proper noun\n",
            "y  - CCONJ  - CCONJ  - coordinating conjunction\n",
            "en  - ADP  - ADP  - adposition\n",
            "una  - DET  - DET  - determiner\n",
            "ocasión  - NOUN  - NOUN  - noun\n",
            "ante  - ADP  - ADP  - adposition\n",
            "Uruguay  - PROPN  - PROPN  - proper noun\n",
            ",  - PUNCT  - PUNCT  - punctuation\n",
            "Bolivia  - PROPN  - PROPN  - proper noun\n",
            ",  - PUNCT  - PUNCT  - punctuation\n",
            "Venezuela  - PROPN  - PROPN  - proper noun\n",
            "y  - CCONJ  - CCONJ  - coordinating conjunction\n",
            "Argentina  - PROPN  - PROPN  - proper noun\n",
            ",  - PUNCT  - PUNCT  - punctuation\n",
            "partidos  - NOUN  - NOUN  - noun\n",
            "clave  - NOUN  - NOUN  - noun\n",
            "para  - ADP  - ADP  - adposition\n",
            "que  - SCONJ  - SCONJ  - subordinating conjunction\n",
            "el  - DET  - DET  - determiner\n",
            "equipo  - NOUN  - NOUN  - noun\n",
            "lograse  - VERB  - VERB  - verb\n",
            "uno  - PRON  - PRON  - pronoun\n",
            "de  - ADP  - ADP  - adposition\n",
            "los  - DET  - DET  - determiner\n",
            "cupos  - NOUN  - NOUN  - noun\n",
            "directos  - ADJ  - ADJ  - adjective\n",
            "para  - ADP  - ADP  - adposition\n",
            "el  - DET  - DET  - determiner\n",
            "Mundial  - PROPN  - PROPN  - proper noun\n",
            ".  - PUNCT  - PUNCT  - punctuation\n",
            "\"Innumerables  - ADJ  - ADJ  - adjective\n",
            "pruebas  - NOUN  - NOUN  - noun\n",
            "de  - ADP  - ADP  - adposition\n",
            "que  - SCONJ  - SCONJ  - subordinating conjunction\n",
            "nació  - VERB  - VERB  - verb\n",
            "en  - ADP  - ADP  - adposition\n",
            "Colombia\"La  - NOUN  - NOUN  - noun\n",
            "Federación  - PROPN  - PROPN  - proper noun\n",
            "de  - ADP  - ADP  - adposition\n",
            "Chile  - PROPN  - PROPN  - proper noun\n",
            "denunció  - VERB  - VERB  - verb\n",
            "el  - DET  - DET  - determiner\n",
            "pasado  - ADJ  - ADJ  - adjective\n",
            "día  - NOUN  - NOUN  - noun\n",
            "5  - NUM  - NUM  - numeral\n",
            "que  - PRON  - PRON  - pronoun\n",
            "hay  - AUX  - AUX  - auxiliary\n",
            "\"  - PUNCT  - PUNCT  - punctuation\n",
            "innumerables  - ADJ  - ADJ  - adjective\n",
            "pruebas  - NOUN  - NOUN  - noun\n",
            "de  - ADP  - ADP  - adposition\n",
            "que  - SCONJ  - SCONJ  - subordinating conjunction\n",
            "el  - DET  - DET  - determiner\n",
            "jugador  - NOUN  - NOUN  - noun\n",
            "nació  - VERB  - VERB  - verb\n",
            "en  - ADP  - ADP  - adposition\n",
            "Colombia\"  - PROPN  - PROPN  - proper noun\n",
            ".  - PUNCT  - PUNCT  - punctuation\n",
            "\"Las  - DET  - DET  - determiner\n",
            "investigaciones  - NOUN  - NOUN  - noun\n",
            "realizadas  - ADJ  - ADJ  - adjective\n",
            "en  - ADP  - ADP  - adposition\n",
            "Ecuador  - PROPN  - PROPN  - proper noun\n",
            ",  - PUNCT  - PUNCT  - punctuation\n",
            "entre  - ADP  - ADP  - adposition\n",
            "ellas  - PRON  - PRON  - pronoun\n",
            ",  - PUNCT  - PUNCT  - punctuation\n",
            "un  - DET  - DET  - determiner\n",
            "informe  - NOUN  - NOUN  - noun\n",
            "jurídico  - ADJ  - ADJ  - adjective\n",
            "de  - ADP  - ADP  - adposition\n",
            "la  - DET  - DET  - determiner\n",
            "Dirección  - PROPN  - PROPN  - proper noun\n",
            "Nacional  - PROPN  - PROPN  - proper noun\n",
            "de  - ADP  - ADP  - adposition\n",
            "Registro  - PROPN  - PROPN  - proper noun\n",
            "Civil  - PROPN  - PROPN  - proper noun\n",
            ",  - PUNCT  - PUNCT  - punctuation\n",
            "declararon  - VERB  - VERB  - verb\n",
            "la  - DET  - DET  - determiner\n",
            "existencia  - NOUN  - NOUN  - noun\n",
            "de  - ADP  - ADP  - adposition\n",
            "inconsistencias  - NOUN  - NOUN  - noun\n",
            "en  - ADP  - ADP  - adposition\n",
            "el  - DET  - DET  - determiner\n",
            "certificado  - NOUN  - NOUN  - noun\n",
            "de  - ADP  - ADP  - adposition\n",
            "nacimiento  - NOUN  - NOUN  - noun\n",
            "presentado  - ADJ  - ADJ  - adjective\n",
            "por  - ADP  - ADP  - adposition\n",
            "el  - DET  - DET  - determiner\n",
            "jugador  - NOUN  - NOUN  - noun\n",
            "\"  - PUNCT  - PUNCT  - punctuation\n",
            ",  - PUNCT  - PUNCT  - punctuation\n",
            "afirmó  - VERB  - VERB  - verb\n",
            "este  - DET  - DET  - determiner\n",
            "organismo  - NOUN  - NOUN  - noun\n",
            ",  - PUNCT  - PUNCT  - punctuation\n",
            "que  - PRON  - PRON  - pronoun\n",
            "acusó  - VERB  - VERB  - verb\n",
            "a  - ADP  - ADP  - adposition\n",
            "la  - DET  - DET  - determiner\n",
            "Federación  - PROPN  - PROPN  - proper noun\n",
            "Ecuatoriana  - PROPN  - PROPN  - proper noun\n",
            "de  - ADP  - ADP  - adposition\n",
            "tener  - VERB  - VERB  - verb\n",
            "\"  - PUNCT  - PUNCT  - punctuation\n",
            "total  - ADJ  - ADJ  - adjective\n",
            "conocimiento  - NOUN  - NOUN  - noun\n",
            "\"  - PUNCT  - PUNCT  - punctuation\n",
            "de  - ADP  - ADP  - adposition\n",
            "las  - DET  - DET  - determiner\n",
            "irregularidades  - NOUN  - NOUN  - noun\n",
            ".  - PUNCT  - PUNCT  - punctuation\n",
            "Una  - DET  - DET  - determiner\n",
            "posible  - ADJ  - ADJ  - adjective\n",
            "sanción  - NOUN  - NOUN  - noun\n",
            "de  - ADP  - ADP  - adposition\n",
            "la  - DET  - DET  - determiner\n",
            "FIFA  - PROPN  - PROPN  - proper noun\n",
            "podría  - AUX  - AUX  - auxiliary\n",
            "implicar  - VERB  - VERB  - verb\n",
            "la  - DET  - DET  - determiner\n",
            "resta  - NOUN  - NOUN  - noun\n",
            "de  - ADP  - ADP  - adposition\n",
            "puntos  - NOUN  - NOUN  - noun\n",
            "a  - ADP  - ADP  - adposition\n",
            "Ecuador  - PROPN  - PROPN  - proper noun\n",
            "por  - ADP  - ADP  - adposition\n",
            "los  - DET  - DET  - determiner\n",
            "partidos  - NOUN  - NOUN  - noun\n",
            "que  - PRON  - PRON  - pronoun\n",
            "Castillo  - PROPN  - PROPN  - proper noun\n",
            "jugó  - VERB  - VERB  - verb\n",
            ",  - PUNCT  - PUNCT  - punctuation\n",
            "lo  - PRON  - PRON  - pronoun\n",
            "que  - PRON  - PRON  - pronoun\n",
            "alteraría  - VERB  - VERB  - verb\n",
            "la  - DET  - DET  - determiner\n",
            "nómina  - NOUN  - NOUN  - noun\n",
            "de  - ADP  - ADP  - adposition\n",
            "clasificados  - NOUN  - NOUN  - noun\n",
            ".  - PUNCT  - PUNCT  - punctuation\n",
            "Un  - DET  - DET  - determiner\n",
            "informe  - NOUN  - NOUN  - noun\n",
            "técnico  - ADJ  - ADJ  - adjective\n",
            "jurídico  - ADJ  - ADJ  - adjective\n",
            "de  - ADP  - ADP  - adposition\n",
            "la  - DET  - DET  - determiner\n",
            "dirección  - NOUN  - NOUN  - noun\n",
            "nacional  - ADJ  - ADJ  - adjective\n",
            "del  - ADP  - ADP  - adposition\n",
            "registro  - NOUN  - NOUN  - noun\n",
            "civil  - ADJ  - ADJ  - adjective\n",
            "de  - ADP  - ADP  - adposition\n",
            "Ecuador  - PROPN  - PROPN  - proper noun\n",
            "afirma  - VERB  - VERB  - verb\n",
            "que  - SCONJ  - SCONJ  - subordinating conjunction\n",
            "la  - DET  - DET  - determiner\n",
            "inscripción  - NOUN  - NOUN  - noun\n",
            "de  - ADP  - ADP  - adposition\n",
            "nacimiento  - NOUN  - NOUN  - noun\n",
            "de  - ADP  - ADP  - adposition\n",
            "Byron  - PROPN  - PROPN  - proper noun\n",
            "Castillo  - PROPN  - PROPN  - proper noun\n",
            "en  - ADP  - ADP  - adposition\n",
            "la  - DET  - DET  - determiner\n",
            "ciudad  - NOUN  - NOUN  - noun\n",
            "ecuatoriana  - ADJ  - ADJ  - adjective\n",
            "de  - ADP  - ADP  - adposition\n",
            "Guayas  - PROPN  - PROPN  - proper noun\n",
            "no  - ADV  - ADV  - adverb\n",
            "consta  - VERB  - VERB  - verb\n",
            "en  - ADP  - ADP  - adposition\n",
            "el  - DET  - DET  - determiner\n",
            "tomo  - NOUN  - NOUN  - noun\n",
            ",  - PUNCT  - PUNCT  - punctuation\n",
            "la  - DET  - DET  - determiner\n",
            "página  - NOUN  - NOUN  - noun\n",
            "y  - CCONJ  - CCONJ  - coordinating conjunction\n",
            "el  - DET  - DET  - determiner\n",
            "acta  - NOUN  - NOUN  - noun\n",
            "solicitado  - ADJ  - ADJ  - adjective\n",
            ",  - PUNCT  - PUNCT  - punctuation\n",
            "según  - ADP  - ADP  - adposition\n",
            "un  - DET  - DET  - determiner\n",
            "documento  - NOUN  - NOUN  - noun\n",
            "oficial  - ADJ  - ADJ  - adjective\n",
            ".  - PUNCT  - PUNCT  - punctuation\n"
          ]
        }
      ],
      "source": [
        "for token in doc:\n",
        "  print(token,' -', token.tag_, ' -', token.pos_,' -' ,spacy.explain(token.tag_))"
      ]
    },
    {
      "cell_type": "markdown",
      "metadata": {
        "id": "A9U1VToeTcGl"
      },
      "source": [
        "1. tag_ listas las estructuras finas del POS\n",
        "2. pos_ lista la estructuras gruesas del POS\n",
        "3. spacy.explain da los detalles descriptivos sobre un POS particular"
      ]
    },
    {
      "cell_type": "code",
      "execution_count": null,
      "metadata": {
        "id": "ePn4C2N_ToHG",
        "colab": {
          "base_uri": "https://localhost:8080/"
        },
        "outputId": "cd0c4e38-f781-4723-f6be-c59199dce801"
      },
      "outputs": [
        {
          "output_type": "stream",
          "name": "stdout",
          "text": [
            "[denuncia, alegaciones, falsificación, documentos, nacionalidad, selección, forma, contrario, combinado, ecuatoriano, repesca, defensa, seleccionador, partidos, ocasión, partidos, clave, equipo, cupos, pruebas, Colombia\"La, día, pruebas, jugador, investigaciones, informe, existencia, inconsistencias, certificado, nacimiento, jugador, organismo, conocimiento, irregularidades, sanción, resta, puntos, partidos, nómina, clasificados, informe, dirección, registro, inscripción, nacimiento, ciudad, tomo, página, acta, documento]\n",
            "[interpuesta, posible, ecuatoriana, directa, junto, peruano, quinto, ecuatoriano, directos, \"Innumerables, pasado, innumerables, realizadas, jurídico, presentado, total, posible, técnico, jurídico, nacional, civil, ecuatoriana, solicitado, oficial]\n"
          ]
        }
      ],
      "source": [
        "nouns=[]\n",
        "adjectives=[]\n",
        "for token in doc:\n",
        "  if token.pos_ =='NOUN':\n",
        "    nouns.append(token)\n",
        "  if token.pos_ =='ADJ':\n",
        "    adjectives.append(token)\n",
        "print(nouns)\n",
        "print(adjectives)"
      ]
    },
    {
      "cell_type": "markdown",
      "metadata": {
        "id": "asrthaXMT1j0"
      },
      "source": [
        "# Visualizacion usando spaCY"
      ]
    },
    {
      "cell_type": "code",
      "execution_count": null,
      "metadata": {
        "id": "67YSTloeT3Ou",
        "colab": {
          "base_uri": "https://localhost:8080/",
          "height": 353
        },
        "outputId": "7fb914f8-6926-4c08-d019-8a53bb303c9b"
      },
      "outputs": [
        {
          "output_type": "display_data",
          "data": {
            "text/plain": [
              "<IPython.core.display.HTML object>"
            ],
            "text/html": [
              "<span class=\"tex2jax_ignore\"><svg xmlns=\"http://www.w3.org/2000/svg\" xmlns:xlink=\"http://www.w3.org/1999/xlink\" xml:lang=\"es\" id=\"ecaafe8ad40d45e6810dfff75f75bbe9-0\" class=\"displacy\" width=\"1800\" height=\"312.0\" direction=\"ltr\" style=\"max-width: none; height: 312.0px; color: #000000; background: #ffffff; font-family: Arial; direction: ltr\">\n",
              "<text class=\"displacy-token\" fill=\"currentColor\" text-anchor=\"middle\" y=\"222.0\">\n",
              "    <tspan class=\"displacy-word\" fill=\"currentColor\" x=\"50\">el</tspan>\n",
              "    <tspan class=\"displacy-tag\" dy=\"2em\" fill=\"currentColor\" x=\"50\">DET</tspan>\n",
              "</text>\n",
              "\n",
              "<text class=\"displacy-token\" fill=\"currentColor\" text-anchor=\"middle\" y=\"222.0\">\n",
              "    <tspan class=\"displacy-word\" fill=\"currentColor\" x=\"225\">se</tspan>\n",
              "    <tspan class=\"displacy-tag\" dy=\"2em\" fill=\"currentColor\" x=\"225\">PRON</tspan>\n",
              "</text>\n",
              "\n",
              "<text class=\"displacy-token\" fill=\"currentColor\" text-anchor=\"middle\" y=\"222.0\">\n",
              "    <tspan class=\"displacy-word\" fill=\"currentColor\" x=\"400\">encuentra</tspan>\n",
              "    <tspan class=\"displacy-tag\" dy=\"2em\" fill=\"currentColor\" x=\"400\">VERB</tspan>\n",
              "</text>\n",
              "\n",
              "<text class=\"displacy-token\" fill=\"currentColor\" text-anchor=\"middle\" y=\"222.0\">\n",
              "    <tspan class=\"displacy-word\" fill=\"currentColor\" x=\"575\">interesado</tspan>\n",
              "    <tspan class=\"displacy-tag\" dy=\"2em\" fill=\"currentColor\" x=\"575\">ADJ</tspan>\n",
              "</text>\n",
              "\n",
              "<text class=\"displacy-token\" fill=\"currentColor\" text-anchor=\"middle\" y=\"222.0\">\n",
              "    <tspan class=\"displacy-word\" fill=\"currentColor\" x=\"750\">en</tspan>\n",
              "    <tspan class=\"displacy-tag\" dy=\"2em\" fill=\"currentColor\" x=\"750\">ADP</tspan>\n",
              "</text>\n",
              "\n",
              "<text class=\"displacy-token\" fill=\"currentColor\" text-anchor=\"middle\" y=\"222.0\">\n",
              "    <tspan class=\"displacy-word\" fill=\"currentColor\" x=\"925\">aprender</tspan>\n",
              "    <tspan class=\"displacy-tag\" dy=\"2em\" fill=\"currentColor\" x=\"925\">VERB</tspan>\n",
              "</text>\n",
              "\n",
              "<text class=\"displacy-token\" fill=\"currentColor\" text-anchor=\"middle\" y=\"222.0\">\n",
              "    <tspan class=\"displacy-word\" fill=\"currentColor\" x=\"1100\">Procesamiento</tspan>\n",
              "    <tspan class=\"displacy-tag\" dy=\"2em\" fill=\"currentColor\" x=\"1100\">PROPN</tspan>\n",
              "</text>\n",
              "\n",
              "<text class=\"displacy-token\" fill=\"currentColor\" text-anchor=\"middle\" y=\"222.0\">\n",
              "    <tspan class=\"displacy-word\" fill=\"currentColor\" x=\"1275\">de</tspan>\n",
              "    <tspan class=\"displacy-tag\" dy=\"2em\" fill=\"currentColor\" x=\"1275\">ADP</tspan>\n",
              "</text>\n",
              "\n",
              "<text class=\"displacy-token\" fill=\"currentColor\" text-anchor=\"middle\" y=\"222.0\">\n",
              "    <tspan class=\"displacy-word\" fill=\"currentColor\" x=\"1450\">Lenguaje</tspan>\n",
              "    <tspan class=\"displacy-tag\" dy=\"2em\" fill=\"currentColor\" x=\"1450\">PROPN</tspan>\n",
              "</text>\n",
              "\n",
              "<text class=\"displacy-token\" fill=\"currentColor\" text-anchor=\"middle\" y=\"222.0\">\n",
              "    <tspan class=\"displacy-word\" fill=\"currentColor\" x=\"1625\">Natural</tspan>\n",
              "    <tspan class=\"displacy-tag\" dy=\"2em\" fill=\"currentColor\" x=\"1625\">PROPN</tspan>\n",
              "</text>\n",
              "\n",
              "<g class=\"displacy-arrow\">\n",
              "    <path class=\"displacy-arc\" id=\"arrow-ecaafe8ad40d45e6810dfff75f75bbe9-0-0\" stroke-width=\"2px\" d=\"M70,177.0 C70,89.5 220.0,89.5 220.0,177.0\" fill=\"none\" stroke=\"currentColor\"/>\n",
              "    <text dy=\"1.25em\" style=\"font-size: 0.8em; letter-spacing: 1px\">\n",
              "        <textPath xlink:href=\"#arrow-ecaafe8ad40d45e6810dfff75f75bbe9-0-0\" class=\"displacy-label\" startOffset=\"50%\" side=\"left\" fill=\"currentColor\" text-anchor=\"middle\">det</textPath>\n",
              "    </text>\n",
              "    <path class=\"displacy-arrowhead\" d=\"M70,179.0 L62,167.0 78,167.0\" fill=\"currentColor\"/>\n",
              "</g>\n",
              "\n",
              "<g class=\"displacy-arrow\">\n",
              "    <path class=\"displacy-arc\" id=\"arrow-ecaafe8ad40d45e6810dfff75f75bbe9-0-1\" stroke-width=\"2px\" d=\"M245,177.0 C245,89.5 395.0,89.5 395.0,177.0\" fill=\"none\" stroke=\"currentColor\"/>\n",
              "    <text dy=\"1.25em\" style=\"font-size: 0.8em; letter-spacing: 1px\">\n",
              "        <textPath xlink:href=\"#arrow-ecaafe8ad40d45e6810dfff75f75bbe9-0-1\" class=\"displacy-label\" startOffset=\"50%\" side=\"left\" fill=\"currentColor\" text-anchor=\"middle\">expl:pv</textPath>\n",
              "    </text>\n",
              "    <path class=\"displacy-arrowhead\" d=\"M245,179.0 L237,167.0 253,167.0\" fill=\"currentColor\"/>\n",
              "</g>\n",
              "\n",
              "<g class=\"displacy-arrow\">\n",
              "    <path class=\"displacy-arc\" id=\"arrow-ecaafe8ad40d45e6810dfff75f75bbe9-0-2\" stroke-width=\"2px\" d=\"M420,177.0 C420,89.5 570.0,89.5 570.0,177.0\" fill=\"none\" stroke=\"currentColor\"/>\n",
              "    <text dy=\"1.25em\" style=\"font-size: 0.8em; letter-spacing: 1px\">\n",
              "        <textPath xlink:href=\"#arrow-ecaafe8ad40d45e6810dfff75f75bbe9-0-2\" class=\"displacy-label\" startOffset=\"50%\" side=\"left\" fill=\"currentColor\" text-anchor=\"middle\">xcomp</textPath>\n",
              "    </text>\n",
              "    <path class=\"displacy-arrowhead\" d=\"M570.0,179.0 L578.0,167.0 562.0,167.0\" fill=\"currentColor\"/>\n",
              "</g>\n",
              "\n",
              "<g class=\"displacy-arrow\">\n",
              "    <path class=\"displacy-arc\" id=\"arrow-ecaafe8ad40d45e6810dfff75f75bbe9-0-3\" stroke-width=\"2px\" d=\"M770,177.0 C770,89.5 920.0,89.5 920.0,177.0\" fill=\"none\" stroke=\"currentColor\"/>\n",
              "    <text dy=\"1.25em\" style=\"font-size: 0.8em; letter-spacing: 1px\">\n",
              "        <textPath xlink:href=\"#arrow-ecaafe8ad40d45e6810dfff75f75bbe9-0-3\" class=\"displacy-label\" startOffset=\"50%\" side=\"left\" fill=\"currentColor\" text-anchor=\"middle\">mark</textPath>\n",
              "    </text>\n",
              "    <path class=\"displacy-arrowhead\" d=\"M770,179.0 L762,167.0 778,167.0\" fill=\"currentColor\"/>\n",
              "</g>\n",
              "\n",
              "<g class=\"displacy-arrow\">\n",
              "    <path class=\"displacy-arc\" id=\"arrow-ecaafe8ad40d45e6810dfff75f75bbe9-0-4\" stroke-width=\"2px\" d=\"M595,177.0 C595,2.0 925.0,2.0 925.0,177.0\" fill=\"none\" stroke=\"currentColor\"/>\n",
              "    <text dy=\"1.25em\" style=\"font-size: 0.8em; letter-spacing: 1px\">\n",
              "        <textPath xlink:href=\"#arrow-ecaafe8ad40d45e6810dfff75f75bbe9-0-4\" class=\"displacy-label\" startOffset=\"50%\" side=\"left\" fill=\"currentColor\" text-anchor=\"middle\">xcomp</textPath>\n",
              "    </text>\n",
              "    <path class=\"displacy-arrowhead\" d=\"M925.0,179.0 L933.0,167.0 917.0,167.0\" fill=\"currentColor\"/>\n",
              "</g>\n",
              "\n",
              "<g class=\"displacy-arrow\">\n",
              "    <path class=\"displacy-arc\" id=\"arrow-ecaafe8ad40d45e6810dfff75f75bbe9-0-5\" stroke-width=\"2px\" d=\"M945,177.0 C945,89.5 1095.0,89.5 1095.0,177.0\" fill=\"none\" stroke=\"currentColor\"/>\n",
              "    <text dy=\"1.25em\" style=\"font-size: 0.8em; letter-spacing: 1px\">\n",
              "        <textPath xlink:href=\"#arrow-ecaafe8ad40d45e6810dfff75f75bbe9-0-5\" class=\"displacy-label\" startOffset=\"50%\" side=\"left\" fill=\"currentColor\" text-anchor=\"middle\">obj</textPath>\n",
              "    </text>\n",
              "    <path class=\"displacy-arrowhead\" d=\"M1095.0,179.0 L1103.0,167.0 1087.0,167.0\" fill=\"currentColor\"/>\n",
              "</g>\n",
              "\n",
              "<g class=\"displacy-arrow\">\n",
              "    <path class=\"displacy-arc\" id=\"arrow-ecaafe8ad40d45e6810dfff75f75bbe9-0-6\" stroke-width=\"2px\" d=\"M1295,177.0 C1295,89.5 1445.0,89.5 1445.0,177.0\" fill=\"none\" stroke=\"currentColor\"/>\n",
              "    <text dy=\"1.25em\" style=\"font-size: 0.8em; letter-spacing: 1px\">\n",
              "        <textPath xlink:href=\"#arrow-ecaafe8ad40d45e6810dfff75f75bbe9-0-6\" class=\"displacy-label\" startOffset=\"50%\" side=\"left\" fill=\"currentColor\" text-anchor=\"middle\">case</textPath>\n",
              "    </text>\n",
              "    <path class=\"displacy-arrowhead\" d=\"M1295,179.0 L1287,167.0 1303,167.0\" fill=\"currentColor\"/>\n",
              "</g>\n",
              "\n",
              "<g class=\"displacy-arrow\">\n",
              "    <path class=\"displacy-arc\" id=\"arrow-ecaafe8ad40d45e6810dfff75f75bbe9-0-7\" stroke-width=\"2px\" d=\"M1120,177.0 C1120,2.0 1450.0,2.0 1450.0,177.0\" fill=\"none\" stroke=\"currentColor\"/>\n",
              "    <text dy=\"1.25em\" style=\"font-size: 0.8em; letter-spacing: 1px\">\n",
              "        <textPath xlink:href=\"#arrow-ecaafe8ad40d45e6810dfff75f75bbe9-0-7\" class=\"displacy-label\" startOffset=\"50%\" side=\"left\" fill=\"currentColor\" text-anchor=\"middle\">flat</textPath>\n",
              "    </text>\n",
              "    <path class=\"displacy-arrowhead\" d=\"M1450.0,179.0 L1458.0,167.0 1442.0,167.0\" fill=\"currentColor\"/>\n",
              "</g>\n",
              "\n",
              "<g class=\"displacy-arrow\">\n",
              "    <path class=\"displacy-arc\" id=\"arrow-ecaafe8ad40d45e6810dfff75f75bbe9-0-8\" stroke-width=\"2px\" d=\"M1470,177.0 C1470,89.5 1620.0,89.5 1620.0,177.0\" fill=\"none\" stroke=\"currentColor\"/>\n",
              "    <text dy=\"1.25em\" style=\"font-size: 0.8em; letter-spacing: 1px\">\n",
              "        <textPath xlink:href=\"#arrow-ecaafe8ad40d45e6810dfff75f75bbe9-0-8\" class=\"displacy-label\" startOffset=\"50%\" side=\"left\" fill=\"currentColor\" text-anchor=\"middle\">flat</textPath>\n",
              "    </text>\n",
              "    <path class=\"displacy-arrowhead\" d=\"M1620.0,179.0 L1628.0,167.0 1612.0,167.0\" fill=\"currentColor\"/>\n",
              "</g>\n",
              "</svg></span>"
            ]
          },
          "metadata": {}
        }
      ],
      "source": [
        "from spacy import displacy\n",
        "texto = ('el se encuentra interesado en aprender Procesamiento de Lenguaje Natural')\n",
        "t = nlp(texto)\n",
        "displacy.render(t, style='dep',jupyter=True)"
      ]
    }
  ],
  "metadata": {
    "colab": {
      "provenance": []
    },
    "kernelspec": {
      "display_name": "Python 3",
      "name": "python3"
    },
    "language_info": {
      "name": "python"
    }
  },
  "nbformat": 4,
  "nbformat_minor": 0
}