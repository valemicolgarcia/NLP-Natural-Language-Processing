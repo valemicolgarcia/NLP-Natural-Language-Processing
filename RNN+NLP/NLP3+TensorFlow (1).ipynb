{
  "nbformat": 4,
  "nbformat_minor": 0,
  "metadata": {
    "colab": {
      "provenance": []
    },
    "kernelspec": {
      "name": "python3",
      "display_name": "Python 3"
    },
    "language_info": {
      "name": "python"
    }
  },
  "cells": [
    {
      "cell_type": "code",
      "source": [
        "https://medium.com/@shammypratap/tensorflow-for-natural-language-processing-nlp-a702ff95d330\n",
        "https://www.scaler.com/topics/tensorflow/tensorflow-word-embeddings/"
      ],
      "metadata": {
        "id": "N4MaXDDbs459"
      },
      "execution_count": null,
      "outputs": []
    },
    {
      "cell_type": "code",
      "source": [
        "import pandas as pd\n",
        "import numpy as np"
      ],
      "metadata": {
        "id": "PiwXjmqWFjy6"
      },
      "execution_count": null,
      "outputs": []
    },
    {
      "cell_type": "code",
      "source": [
        "import tensorflow as tf\n",
        "\n",
        "# Sample text data\n",
        "texts = [\"This is a simple example of text preprocessing using TensorFlow.\",\n",
        "         \"TextVectorization is a powerful tool for NLP tasks.\",\n",
        "         \"It can handle tokenization, lowercasing, and padding with ease!\"]\n"
      ],
      "metadata": {
        "id": "tdWmM5JA9Jw9"
      },
      "execution_count": null,
      "outputs": []
    },
    {
      "cell_type": "code",
      "execution_count": null,
      "metadata": {
        "colab": {
          "base_uri": "https://localhost:8080/"
        },
        "id": "dvx9UdJgqyra",
        "outputId": "23e60fae-98cb-4eb2-8419-5bb3a65c24da"
      },
      "outputs": [
        {
          "output_type": "stream",
          "name": "stdout",
          "text": [
            "Processed Data:\n",
            "tf.Tensor(\n",
            "[[ 8  2  3 13 23 17 10 14  5 11]\n",
            " [ 9  2  3 15  6 22 18 12  0  0]\n",
            " [20 25 21  7 19 26 16  4 24  0]], shape=(3, 10), dtype=int64)\n",
            "\n",
            "Vocabulary:\n",
            "['', '[UNK]', 'is', 'a', 'with', 'using', 'tool', 'tokenization', 'this', 'textvectorization', 'text', 'tensorflow', 'tasks', 'simple', 'preprocessing', 'powerful', 'padding', 'of', 'nlp', 'lowercasing', 'it', 'handle', 'for', 'example', 'ease', 'can', 'and']\n",
            "\n",
            "Tokenized Sequences:\n",
            "[[ 8  2  3 13 23 17 10 14  5 11]\n",
            " [ 9  2  3 15  6 22 18 12  0  0]\n",
            " [20 25 21  7 19 26 16  4 24  0]]\n"
          ]
        }
      ],
      "source": [
        "\n",
        "# Create a TextVectorization layer\n",
        "vectorizer = tf.keras.layers.TextVectorization(max_tokens=100, output_mode='int', output_sequence_length=10)\n",
        "\n",
        "# Adapt the layer to the text data\n",
        "vectorizer.adapt(texts)\n",
        "\n",
        "# Tokenize and preprocess the text data\n",
        "processed_data = vectorizer(texts)\n",
        "\n",
        "# Get the vocabulary and tokenized sequences\n",
        "vocabulary = vectorizer.get_vocabulary()\n",
        "tokenized_sequences = processed_data.numpy()\n",
        "\n",
        "# Print the processed data, vocabulary, and tokenized sequences\n",
        "print(\"Processed Data:\")\n",
        "print(processed_data)\n",
        "\n",
        "print(\"\\nVocabulary:\")\n",
        "print(vocabulary)\n",
        "\n",
        "print(\"\\nTokenized Sequences:\")\n",
        "print(tokenized_sequences)"
      ]
    },
    {
      "cell_type": "markdown",
      "source": [
        "# Embeddings\n",
        "\n",
        "\n",
        "![](https://github.com/carabedo/labs/blob/master/img/rnn_emb.png?raw=true)\n",
        "\n",
        "\n",
        "\n",
        "https://nlp.stanford.edu/projects/glove/"
      ],
      "metadata": {
        "id": "-5mdarnn9TRm"
      }
    },
    {
      "cell_type": "code",
      "source": [
        "!wget https://nlp.stanford.edu/data/glove.6B.zip"
      ],
      "metadata": {
        "colab": {
          "base_uri": "https://localhost:8080/"
        },
        "id": "WNOsbZ7h80KH",
        "outputId": "f25a86f8-2dfb-4d16-bd62-0643bfa1567b"
      },
      "execution_count": null,
      "outputs": [
        {
          "output_type": "stream",
          "name": "stdout",
          "text": [
            "--2024-09-05 00:43:17--  https://nlp.stanford.edu/data/glove.6B.zip\n",
            "Resolving nlp.stanford.edu (nlp.stanford.edu)... 171.64.67.140\n",
            "Connecting to nlp.stanford.edu (nlp.stanford.edu)|171.64.67.140|:443... connected.\n",
            "HTTP request sent, awaiting response... 301 Moved Permanently\n",
            "Location: https://downloads.cs.stanford.edu/nlp/data/glove.6B.zip [following]\n",
            "--2024-09-05 00:43:18--  https://downloads.cs.stanford.edu/nlp/data/glove.6B.zip\n",
            "Resolving downloads.cs.stanford.edu (downloads.cs.stanford.edu)... 171.64.64.22\n",
            "Connecting to downloads.cs.stanford.edu (downloads.cs.stanford.edu)|171.64.64.22|:443... connected.\n",
            "HTTP request sent, awaiting response... 200 OK\n",
            "Length: 862182613 (822M) [application/zip]\n",
            "Saving to: ‘glove.6B.zip’\n",
            "\n",
            "glove.6B.zip         62%[===========>        ] 514.58M  5.01MB/s    eta 59s    ^C\n"
          ]
        }
      ]
    },
    {
      "cell_type": "code",
      "source": [
        "!unzip glove.6B.zip"
      ],
      "metadata": {
        "colab": {
          "base_uri": "https://localhost:8080/"
        },
        "id": "7L-ACXFx95_q",
        "outputId": "f587720f-3245-4b21-b0d7-016128d23d87"
      },
      "execution_count": null,
      "outputs": [
        {
          "output_type": "stream",
          "name": "stdout",
          "text": [
            "Archive:  glove.6B.zip\n",
            "  End-of-central-directory signature not found.  Either this file is not\n",
            "  a zipfile, or it constitutes one disk of a multi-part archive.  In the\n",
            "  latter case the central directory and zipfile comment will be found on\n",
            "  the last disk(s) of this archive.\n",
            "unzip:  cannot find zipfile directory in one of glove.6B.zip or\n",
            "        glove.6B.zip.zip, and cannot find glove.6B.zip.ZIP, period.\n"
          ]
        }
      ]
    },
    {
      "cell_type": "code",
      "source": [
        "import tensorflow as tf\n",
        "import numpy as np\n",
        "\n",
        "# Path to the GloVe embeddings file\n",
        "glove_file = 'glove.6B.50d.txt'\n",
        "\n",
        "# Load the GloVe embeddings into a dictionary\n",
        "embeddings_index = {}\n",
        "with open(glove_file, 'r', encoding='utf-8') as file:\n",
        "    for line in file:\n",
        "        values = line.split()\n",
        "        word = values[0]\n",
        "        vector = np.array(values[1:], dtype='float32')\n",
        "        embeddings_index[word] = vector\n",
        "\n",
        "# Sample words to look up in the GloVe embeddings\n",
        "sample_words = ['king', 'queen', 'apple', 'banana']\n",
        "\n",
        "# Create an embedding matrix for the sample words\n",
        "embedding_dim = len(embeddings_index['king'])\n",
        "embedding_matrix = np.zeros((len(sample_words), embedding_dim))\n",
        "\n",
        "for i, word in enumerate(sample_words):\n",
        "    if word in embeddings_index:\n",
        "        embedding_matrix[i] = embeddings_index[word]\n",
        "\n",
        "# Define a Keras embedding layer using the GloVe embeddings\n",
        "embedding_layer = tf.keras.layers.Embedding(\n",
        "    len(sample_words),\n",
        "    embedding_dim,\n",
        "    weights=[embedding_matrix],\n",
        "    trainable=False  # Set to True to fine-tune the embeddings\n",
        ")\n"
      ],
      "metadata": {
        "id": "HrQ5snpA9ST2",
        "colab": {
          "base_uri": "https://localhost:8080/",
          "height": 211
        },
        "outputId": "2cabf6ef-b3fb-46fc-faeb-2446a2733543"
      },
      "execution_count": null,
      "outputs": [
        {
          "output_type": "error",
          "ename": "FileNotFoundError",
          "evalue": "[Errno 2] No such file or directory: 'glove.6B.50d.txt'",
          "traceback": [
            "\u001b[0;31m---------------------------------------------------------------------------\u001b[0m",
            "\u001b[0;31mFileNotFoundError\u001b[0m                         Traceback (most recent call last)",
            "\u001b[0;32m<ipython-input-6-6365d8636cd0>\u001b[0m in \u001b[0;36m<cell line: 9>\u001b[0;34m()\u001b[0m\n\u001b[1;32m      7\u001b[0m \u001b[0;31m# Load the GloVe embeddings into a dictionary\u001b[0m\u001b[0;34m\u001b[0m\u001b[0;34m\u001b[0m\u001b[0m\n\u001b[1;32m      8\u001b[0m \u001b[0membeddings_index\u001b[0m \u001b[0;34m=\u001b[0m \u001b[0;34m{\u001b[0m\u001b[0;34m}\u001b[0m\u001b[0;34m\u001b[0m\u001b[0;34m\u001b[0m\u001b[0m\n\u001b[0;32m----> 9\u001b[0;31m \u001b[0;32mwith\u001b[0m \u001b[0mopen\u001b[0m\u001b[0;34m(\u001b[0m\u001b[0mglove_file\u001b[0m\u001b[0;34m,\u001b[0m \u001b[0;34m'r'\u001b[0m\u001b[0;34m,\u001b[0m \u001b[0mencoding\u001b[0m\u001b[0;34m=\u001b[0m\u001b[0;34m'utf-8'\u001b[0m\u001b[0;34m)\u001b[0m \u001b[0;32mas\u001b[0m \u001b[0mfile\u001b[0m\u001b[0;34m:\u001b[0m\u001b[0;34m\u001b[0m\u001b[0;34m\u001b[0m\u001b[0m\n\u001b[0m\u001b[1;32m     10\u001b[0m     \u001b[0;32mfor\u001b[0m \u001b[0mline\u001b[0m \u001b[0;32min\u001b[0m \u001b[0mfile\u001b[0m\u001b[0;34m:\u001b[0m\u001b[0;34m\u001b[0m\u001b[0;34m\u001b[0m\u001b[0m\n\u001b[1;32m     11\u001b[0m         \u001b[0mvalues\u001b[0m \u001b[0;34m=\u001b[0m \u001b[0mline\u001b[0m\u001b[0;34m.\u001b[0m\u001b[0msplit\u001b[0m\u001b[0;34m(\u001b[0m\u001b[0;34m)\u001b[0m\u001b[0;34m\u001b[0m\u001b[0;34m\u001b[0m\u001b[0m\n",
            "\u001b[0;31mFileNotFoundError\u001b[0m: [Errno 2] No such file or directory: 'glove.6B.50d.txt'"
          ]
        }
      ]
    },
    {
      "cell_type": "code",
      "source": [
        "\n",
        "# Example usage of the embedding layer\n",
        "input_data = [sample_words.index(word) for word in sample_words]\n",
        "\n",
        "# Convert the list to a tensor\n",
        "input_tensor = tf.constant(input_data)\n",
        "\n",
        "# Pass the tensor to the embedding layer\n",
        "embedded_data = embedding_layer(input_tensor)\n",
        "\n",
        "print(\"Sample words:\", sample_words)\n",
        "print(\"Embedded data:\", embedded_data)\n"
      ],
      "metadata": {
        "colab": {
          "base_uri": "https://localhost:8080/"
        },
        "id": "YRh1YUg_-7cB",
        "outputId": "165e19f1-9d56-467c-e336-d9d3dff90095"
      },
      "execution_count": null,
      "outputs": [
        {
          "output_type": "stream",
          "name": "stdout",
          "text": [
            "Sample words: ['king', 'queen', 'apple', 'banana']\n",
            "Embedded data: tf.Tensor(\n",
            "[[ 0.50451    0.68607   -0.59517   -0.022801   0.60046   -0.13498\n",
            "  -0.08813    0.47377   -0.61798   -0.31012   -0.076666   1.493\n",
            "  -0.034189  -0.98173    0.68229    0.81722   -0.51874   -0.31503\n",
            "  -0.55809    0.66421    0.1961    -0.13495   -0.11476   -0.30344\n",
            "   0.41177   -2.223     -1.0756    -1.0783    -0.34354    0.33505\n",
            "   1.9927    -0.04234   -0.64319    0.71125    0.49159    0.16754\n",
            "   0.34344   -0.25663   -0.8523     0.1661     0.40102    1.1685\n",
            "  -1.0137    -0.21585   -0.15155    0.78321   -0.91241   -1.6106\n",
            "  -0.64426   -0.51042  ]\n",
            " [ 0.37854    1.8233    -1.2648    -0.1043     0.35829    0.60029\n",
            "  -0.17538    0.83767   -0.056798  -0.75795    0.22681    0.98587\n",
            "   0.60587   -0.31419    0.28877    0.56013   -0.77456    0.071421\n",
            "  -0.5741     0.21342    0.57674    0.3868    -0.12574    0.28012\n",
            "   0.28135   -1.8053    -1.0421    -0.19255   -0.55375   -0.054526\n",
            "   1.5574     0.39296   -0.2475     0.34251    0.45365    0.16237\n",
            "   0.52464   -0.070272  -0.83744   -1.0326     0.45946    0.25302\n",
            "  -0.17837   -0.73398   -0.20025    0.2347    -0.56095   -2.2839\n",
            "   0.0092753 -0.60284  ]\n",
            " [ 0.52042   -0.8314     0.49961    1.2893     0.1151     0.057521\n",
            "  -1.3753    -0.97313    0.18346    0.47672   -0.15112    0.35532\n",
            "   0.25912   -0.77857    0.52181    0.47695   -1.4251     0.858\n",
            "   0.59821   -1.0903     0.33574   -0.60891    0.41742    0.21569\n",
            "  -0.07417   -0.5822    -0.4502     0.17253    0.16448   -0.38413\n",
            "   2.3283    -0.66682   -0.58181    0.74389    0.095015  -0.47865\n",
            "  -0.84591    0.38704    0.23693   -1.5523     0.64802   -0.16521\n",
            "  -1.4719    -0.16224    0.79857    0.97391    0.40027   -0.21912\n",
            "  -0.30938    0.26581  ]\n",
            " [-0.25522   -0.75249   -0.86655    1.1197     0.12887    1.0121\n",
            "  -0.57249   -0.36224    0.44341   -0.12211    0.073524   0.21387\n",
            "   0.96744   -0.068611   0.51452   -0.053425  -0.21966    0.23012\n",
            "   1.043     -0.77016   -0.16753   -1.0952     0.24837    0.20019\n",
            "  -0.40866   -0.48037    0.10674    0.5316     1.111     -0.19322\n",
            "   1.4768    -0.51783   -0.79569    1.7971    -0.33392   -0.14545\n",
            "  -1.5454     0.0135     0.10684   -0.30722   -0.54572    0.38938\n",
            "   0.24659   -0.85166    0.54966    0.82679   -0.68081   -0.77864\n",
            "  -0.028242  -0.82872  ]], shape=(4, 50), dtype=float32)\n"
          ]
        }
      ]
    },
    {
      "cell_type": "code",
      "source": [],
      "metadata": {
        "id": "6wnqwCVvQyWi"
      },
      "execution_count": null,
      "outputs": []
    },
    {
      "cell_type": "markdown",
      "source": [
        "## Usando embedding con una LSTM"
      ],
      "metadata": {
        "id": "F__ncfiKK64s"
      }
    },
    {
      "cell_type": "code",
      "source": [
        "import tensorflow as tf\n",
        "from tensorflow import keras\n",
        "from tensorflow.keras.preprocessing.text import Tokenizer\n",
        "from tensorflow.keras.preprocessing.sequence import pad_sequences\n",
        "\n",
        "# Sample text data for sentiment analysis\n",
        "texts = [\"This is a positive review.\",\n",
        "         \"Negative experience with this product.\",\n",
        "         \"I love this book!\"]\n",
        "\n",
        "# Corresponding labels (0 for negative, 1 for positive)\n",
        "labels = [1, 0, 1]\n",
        "\n",
        "# Tokenize the text data\n",
        "tokenizer = Tokenizer(num_words=100, oov_token='<OOV>')\n",
        "tokenizer.fit_on_texts(texts)\n",
        "word_index = tokenizer.word_index\n",
        "sequences = tokenizer.texts_to_sequences(texts)\n",
        "\n",
        "\n",
        "\n",
        "# Pad sequences to have a consistent length\n",
        "sequences = pad_sequences(sequences, maxlen=10, padding='post', truncating='post')\n",
        "\n",
        "# Build an LSTM model using TensorFlow/Keras\n",
        "model = keras.Sequential([\n",
        "    keras.layers.Embedding(input_dim=len(word_index) + 1, output_dim=16),\n",
        "    keras.layers.LSTM(64),  # LSTM layer\n",
        "    keras.layers.Dense(16, activation='relu'),\n",
        "    keras.layers.Dense(1, activation='sigmoid')\n",
        "])\n",
        "\n",
        "# Compile the model\n",
        "model.compile(optimizer='adam', loss='binary_crossentropy', metrics=['accuracy'])\n",
        "\n"
      ],
      "metadata": {
        "id": "HcDILz0u-b92"
      },
      "execution_count": null,
      "outputs": []
    },
    {
      "cell_type": "code",
      "source": [],
      "metadata": {
        "id": "1lO8b_c6BbrT"
      },
      "execution_count": null,
      "outputs": []
    },
    {
      "cell_type": "code",
      "source": [
        "# Ensure sequences and labels are TensorFlow tensors\n",
        "sequences_tensor = tf.convert_to_tensor(sequences, dtype=tf.int32)  # Specify dtype if necessary\n",
        "labels_tensor = tf.convert_to_tensor(labels, dtype=tf.float32)      # Or another appropriate dtype\n",
        "\n",
        "# Check shapes (optional)\n",
        "print(\"Sequences tensor shape:\", sequences_tensor.shape)\n",
        "print(\"Labels tensor shape:\", labels_tensor.shape)\n",
        "\n",
        "# Train the model with the tensors\n",
        "model.fit(sequences_tensor, labels_tensor, epochs=50,verbose=0)\n"
      ],
      "metadata": {
        "colab": {
          "base_uri": "https://localhost:8080/"
        },
        "id": "UppsuiMB_f5_",
        "outputId": "b0308dc8-20e8-4cc8-c4f5-2f29a7625aba"
      },
      "execution_count": null,
      "outputs": [
        {
          "output_type": "stream",
          "name": "stdout",
          "text": [
            "Sequences tensor shape: (3, 10)\n",
            "Labels tensor shape: (3,)\n"
          ]
        },
        {
          "output_type": "execute_result",
          "data": {
            "text/plain": [
              "<keras.src.callbacks.history.History at 0x7e3d1c4f5810>"
            ]
          },
          "metadata": {},
          "execution_count": 35
        }
      ]
    },
    {
      "cell_type": "code",
      "source": [
        "model.summary()"
      ],
      "metadata": {
        "colab": {
          "base_uri": "https://localhost:8080/",
          "height": 279
        },
        "id": "j1jhZ6bdqN58",
        "outputId": "5b0ed8ad-fec7-4101-c7ce-696f9920edc2"
      },
      "execution_count": null,
      "outputs": [
        {
          "output_type": "display_data",
          "data": {
            "text/plain": [
              "\u001b[1mModel: \"sequential_5\"\u001b[0m\n"
            ],
            "text/html": [
              "<pre style=\"white-space:pre;overflow-x:auto;line-height:normal;font-family:Menlo,'DejaVu Sans Mono',consolas,'Courier New',monospace\"><span style=\"font-weight: bold\">Model: \"sequential_5\"</span>\n",
              "</pre>\n"
            ]
          },
          "metadata": {}
        },
        {
          "output_type": "display_data",
          "data": {
            "text/plain": [
              "┏━━━━━━━━━━━━━━━━━━━━━━━━━━━━━━━━━━━━━━┳━━━━━━━━━━━━━━━━━━━━━━━━━━━━━┳━━━━━━━━━━━━━━━━━┓\n",
              "┃\u001b[1m \u001b[0m\u001b[1mLayer (type)                        \u001b[0m\u001b[1m \u001b[0m┃\u001b[1m \u001b[0m\u001b[1mOutput Shape               \u001b[0m\u001b[1m \u001b[0m┃\u001b[1m \u001b[0m\u001b[1m        Param #\u001b[0m\u001b[1m \u001b[0m┃\n",
              "┡━━━━━━━━━━━━━━━━━━━━━━━━━━━━━━━━━━━━━━╇━━━━━━━━━━━━━━━━━━━━━━━━━━━━━╇━━━━━━━━━━━━━━━━━┩\n",
              "│ embedding_6 (\u001b[38;5;33mEmbedding\u001b[0m)              │ (\u001b[38;5;45mNone\u001b[0m, \u001b[38;5;34m10\u001b[0m, \u001b[38;5;34m16\u001b[0m)              │             \u001b[38;5;34m224\u001b[0m │\n",
              "├──────────────────────────────────────┼─────────────────────────────┼─────────────────┤\n",
              "│ lstm_5 (\u001b[38;5;33mLSTM\u001b[0m)                        │ (\u001b[38;5;45mNone\u001b[0m, \u001b[38;5;34m64\u001b[0m)                  │          \u001b[38;5;34m20,736\u001b[0m │\n",
              "├──────────────────────────────────────┼─────────────────────────────┼─────────────────┤\n",
              "│ dense_9 (\u001b[38;5;33mDense\u001b[0m)                      │ (\u001b[38;5;45mNone\u001b[0m, \u001b[38;5;34m16\u001b[0m)                  │           \u001b[38;5;34m1,040\u001b[0m │\n",
              "├──────────────────────────────────────┼─────────────────────────────┼─────────────────┤\n",
              "│ dense_10 (\u001b[38;5;33mDense\u001b[0m)                     │ (\u001b[38;5;45mNone\u001b[0m, \u001b[38;5;34m1\u001b[0m)                   │              \u001b[38;5;34m17\u001b[0m │\n",
              "└──────────────────────────────────────┴─────────────────────────────┴─────────────────┘\n"
            ],
            "text/html": [
              "<pre style=\"white-space:pre;overflow-x:auto;line-height:normal;font-family:Menlo,'DejaVu Sans Mono',consolas,'Courier New',monospace\">┏━━━━━━━━━━━━━━━━━━━━━━━━━━━━━━━━━━━━━━┳━━━━━━━━━━━━━━━━━━━━━━━━━━━━━┳━━━━━━━━━━━━━━━━━┓\n",
              "┃<span style=\"font-weight: bold\"> Layer (type)                         </span>┃<span style=\"font-weight: bold\"> Output Shape                </span>┃<span style=\"font-weight: bold\">         Param # </span>┃\n",
              "┡━━━━━━━━━━━━━━━━━━━━━━━━━━━━━━━━━━━━━━╇━━━━━━━━━━━━━━━━━━━━━━━━━━━━━╇━━━━━━━━━━━━━━━━━┩\n",
              "│ embedding_6 (<span style=\"color: #0087ff; text-decoration-color: #0087ff\">Embedding</span>)              │ (<span style=\"color: #00d7ff; text-decoration-color: #00d7ff\">None</span>, <span style=\"color: #00af00; text-decoration-color: #00af00\">10</span>, <span style=\"color: #00af00; text-decoration-color: #00af00\">16</span>)              │             <span style=\"color: #00af00; text-decoration-color: #00af00\">224</span> │\n",
              "├──────────────────────────────────────┼─────────────────────────────┼─────────────────┤\n",
              "│ lstm_5 (<span style=\"color: #0087ff; text-decoration-color: #0087ff\">LSTM</span>)                        │ (<span style=\"color: #00d7ff; text-decoration-color: #00d7ff\">None</span>, <span style=\"color: #00af00; text-decoration-color: #00af00\">64</span>)                  │          <span style=\"color: #00af00; text-decoration-color: #00af00\">20,736</span> │\n",
              "├──────────────────────────────────────┼─────────────────────────────┼─────────────────┤\n",
              "│ dense_9 (<span style=\"color: #0087ff; text-decoration-color: #0087ff\">Dense</span>)                      │ (<span style=\"color: #00d7ff; text-decoration-color: #00d7ff\">None</span>, <span style=\"color: #00af00; text-decoration-color: #00af00\">16</span>)                  │           <span style=\"color: #00af00; text-decoration-color: #00af00\">1,040</span> │\n",
              "├──────────────────────────────────────┼─────────────────────────────┼─────────────────┤\n",
              "│ dense_10 (<span style=\"color: #0087ff; text-decoration-color: #0087ff\">Dense</span>)                     │ (<span style=\"color: #00d7ff; text-decoration-color: #00d7ff\">None</span>, <span style=\"color: #00af00; text-decoration-color: #00af00\">1</span>)                   │              <span style=\"color: #00af00; text-decoration-color: #00af00\">17</span> │\n",
              "└──────────────────────────────────────┴─────────────────────────────┴─────────────────┘\n",
              "</pre>\n"
            ]
          },
          "metadata": {}
        },
        {
          "output_type": "display_data",
          "data": {
            "text/plain": [
              "\u001b[1m Total params: \u001b[0m\u001b[38;5;34m66,053\u001b[0m (258.02 KB)\n"
            ],
            "text/html": [
              "<pre style=\"white-space:pre;overflow-x:auto;line-height:normal;font-family:Menlo,'DejaVu Sans Mono',consolas,'Courier New',monospace\"><span style=\"font-weight: bold\"> Total params: </span><span style=\"color: #00af00; text-decoration-color: #00af00\">66,053</span> (258.02 KB)\n",
              "</pre>\n"
            ]
          },
          "metadata": {}
        },
        {
          "output_type": "display_data",
          "data": {
            "text/plain": [
              "\u001b[1m Trainable params: \u001b[0m\u001b[38;5;34m22,017\u001b[0m (86.00 KB)\n"
            ],
            "text/html": [
              "<pre style=\"white-space:pre;overflow-x:auto;line-height:normal;font-family:Menlo,'DejaVu Sans Mono',consolas,'Courier New',monospace\"><span style=\"font-weight: bold\"> Trainable params: </span><span style=\"color: #00af00; text-decoration-color: #00af00\">22,017</span> (86.00 KB)\n",
              "</pre>\n"
            ]
          },
          "metadata": {}
        },
        {
          "output_type": "display_data",
          "data": {
            "text/plain": [
              "\u001b[1m Non-trainable params: \u001b[0m\u001b[38;5;34m0\u001b[0m (0.00 B)\n"
            ],
            "text/html": [
              "<pre style=\"white-space:pre;overflow-x:auto;line-height:normal;font-family:Menlo,'DejaVu Sans Mono',consolas,'Courier New',monospace\"><span style=\"font-weight: bold\"> Non-trainable params: </span><span style=\"color: #00af00; text-decoration-color: #00af00\">0</span> (0.00 B)\n",
              "</pre>\n"
            ]
          },
          "metadata": {}
        },
        {
          "output_type": "display_data",
          "data": {
            "text/plain": [
              "\u001b[1m Optimizer params: \u001b[0m\u001b[38;5;34m44,036\u001b[0m (172.02 KB)\n"
            ],
            "text/html": [
              "<pre style=\"white-space:pre;overflow-x:auto;line-height:normal;font-family:Menlo,'DejaVu Sans Mono',consolas,'Courier New',monospace\"><span style=\"font-weight: bold\"> Optimizer params: </span><span style=\"color: #00af00; text-decoration-color: #00af00\">44,036</span> (172.02 KB)\n",
              "</pre>\n"
            ]
          },
          "metadata": {}
        }
      ]
    },
    {
      "cell_type": "code",
      "source": [
        "\n",
        "# Evaluate the model\n",
        "test_texts = [\"Excellent book!\", \"Worst experience ever.\"]\n",
        "test_sequences = tokenizer.texts_to_sequences(test_texts)\n",
        "test_sequences = pad_sequences(test_sequences, maxlen=10, padding='post', truncating='post')\n",
        "test_predictions = model.predict(test_sequences)\n",
        "print(\"Test Predictions:\", test_predictions)"
      ],
      "metadata": {
        "id": "37tEXnP0da-9",
        "colab": {
          "base_uri": "https://localhost:8080/"
        },
        "outputId": "0539ef63-8711-41ac-c62a-7deee55354a4"
      },
      "execution_count": null,
      "outputs": [
        {
          "output_type": "stream",
          "name": "stdout",
          "text": [
            "\u001b[1m1/1\u001b[0m \u001b[32m━━━━━━━━━━━━━━━━━━━━\u001b[0m\u001b[37m\u001b[0m \u001b[1m0s\u001b[0m 333ms/step\n",
            "Test Predictions: [[0.99953175]\n",
            " [0.46732506]]\n"
          ]
        }
      ]
    },
    {
      "cell_type": "code",
      "source": [],
      "metadata": {
        "id": "lvKlkRXgqR_f"
      },
      "execution_count": null,
      "outputs": []
    },
    {
      "cell_type": "markdown",
      "source": [
        "# Generando texto"
      ],
      "metadata": {
        "id": "kXl8GYmXG561"
      }
    },
    {
      "cell_type": "code",
      "source": [
        "!wget https://github.com/carabedo/labs/raw/master/data/p12_2010.txt"
      ],
      "metadata": {
        "colab": {
          "base_uri": "https://localhost:8080/"
        },
        "id": "UdXFAYazFl3u",
        "outputId": "1dc2ff17-9c8e-4c9e-c37c-548f449eeecd"
      },
      "execution_count": null,
      "outputs": [
        {
          "output_type": "stream",
          "name": "stdout",
          "text": [
            "--2024-09-05 00:45:04--  https://github.com/carabedo/labs/raw/master/data/p12_2010.txt\n",
            "Resolving github.com (github.com)... 140.82.113.4\n",
            "Connecting to github.com (github.com)|140.82.113.4|:443... connected.\n",
            "HTTP request sent, awaiting response... 302 Found\n",
            "Location: https://raw.githubusercontent.com/carabedo/labs/master/data/p12_2010.txt [following]\n",
            "--2024-09-05 00:45:05--  https://raw.githubusercontent.com/carabedo/labs/master/data/p12_2010.txt\n",
            "Resolving raw.githubusercontent.com (raw.githubusercontent.com)... 185.199.108.133, 185.199.109.133, 185.199.110.133, ...\n",
            "Connecting to raw.githubusercontent.com (raw.githubusercontent.com)|185.199.108.133|:443... connected.\n",
            "HTTP request sent, awaiting response... 200 OK\n",
            "Length: 3803210 (3.6M) [text/plain]\n",
            "Saving to: ‘p12_2010.txt’\n",
            "\n",
            "p12_2010.txt        100%[===================>]   3.63M  --.-KB/s    in 0.08s   \n",
            "\n",
            "2024-09-05 00:45:05 (44.8 MB/s) - ‘p12_2010.txt’ saved [3803210/3803210]\n",
            "\n"
          ]
        }
      ]
    },
    {
      "cell_type": "code",
      "source": [
        "\n",
        "# Load the text file into a string\n",
        "with open('/content/p12_2010.txt', 'r') as file:\n",
        "    data = file.read()\n",
        "\n",
        "# Split the string into rows based on '---'\n",
        "rows = data.strip().split('---')\n",
        "\n",
        "# Split each row into columns and store in a list\n",
        "data_list = []\n",
        "for row in rows:\n",
        "    columns = row.strip().split('\\n')\n",
        "    if len(columns) == 3:\n",
        "        data_list.append(columns)\n",
        "\n",
        "# Convert the list into a DataFrame\n",
        "df = pd.DataFrame(data_list, columns=['volanta', 'titulo', 'bajada'])\n",
        "\n"
      ],
      "metadata": {
        "id": "A3C9r9VCFoKm"
      },
      "execution_count": null,
      "outputs": []
    },
    {
      "cell_type": "code",
      "source": [
        "df=df[df.volanta !='nan'].reset_index(drop=True)"
      ],
      "metadata": {
        "id": "iue2GFrMGTzb"
      },
      "execution_count": null,
      "outputs": []
    },
    {
      "cell_type": "code",
      "source": [
        "df"
      ],
      "metadata": {
        "colab": {
          "base_uri": "https://localhost:8080/",
          "height": 423
        },
        "id": "rlWrDnaOGXs3",
        "outputId": "2caf36a2-df05-4b29-bd8d-f6e74125ce9b"
      },
      "execution_count": null,
      "outputs": [
        {
          "output_type": "execute_result",
          "data": {
            "text/plain": [
              "                                                volanta  \\\n",
              "0                   LA VENTANA > MEDIOS Y COMUNICACIóN   \n",
              "1                   LA VENTANA > MEDIOS Y COMUNICACIóN   \n",
              "2                     PSICOLOGíA > ESCUELA Y AUTORIDAD   \n",
              "3     EL PAíS > ROBARON DOCUMENTOS Y UNA COMPUTADOR...   \n",
              "4     EL PAíS > AVALANCHA DE REPUDIOS A DIEGO GUELA...   \n",
              "...                                                 ...   \n",
              "8860  EL MUNDO > EL EX MANDATARIO ISRAELI MOSHE KATS...   \n",
              "8861  EL MUNDO > ES EL SALDO DE TRES AÑOS DE GUERRA...   \n",
              "8862  DEPORTES > UN CENTENAR DE DESTACADOS EN LA ACT...   \n",
              "8863  DEPORTES > MAÑANA SE PONE EN MARCHA LA EDICIO...   \n",
              "8864  PSICOLOGíA > LA PARRHESíA COMO FORMA DEL DEC...   \n",
              "\n",
              "                                                 titulo  \\\n",
              "0                   Réplica y participación ciudadana   \n",
              "1                       Medios y responsabilidad social   \n",
              "2     Las éticas de la educación vulneradas por la...   \n",
              "3                Visita de los pesados para fin de año   \n",
              "4                El macrismo tiró sus propios petardos   \n",
              "...                                                 ...   \n",
              "8860               Un presidente culpable de violación   \n",
              "8861                              Mil niños asesinados   \n",
              "8862                       Los 100 deportistas del 2010   \n",
              "8863                            Año Nuevo, Dakar veloz   \n",
              "8864                                Coraje de la verdad   \n",
              "\n",
              "                                                 bajada  \n",
              "0     Dos referencias a la responsabilidad social de...  \n",
              "1     Desde Madrid, y a partir de un estudio sobre l...  \n",
              "2     La autora observa que “en cada docente se conc...  \n",
              "3     La titular de la Secretaría y otras siete per...  \n",
              "4     Guelar tiró la piedra el miércoles en un doc...  \n",
              "...                                                 ...  \n",
              "8860  En un fallo que fue destacado como ejemplar po...  \n",
              "8861  Según un informe de la ONG mexicana Red por l...  \n",
              "8862  Están los obvios, los que no podían faltar, ...  \n",
              "8863  Con record de participantes argentinos y más ...  \n",
              "8864  La parrhesía, tal como la estudió Michel Fou...  \n",
              "\n",
              "[8865 rows x 3 columns]"
            ],
            "text/html": [
              "\n",
              "  <div id=\"df-6d7a537c-f362-4182-a151-3962b23957b5\" class=\"colab-df-container\">\n",
              "    <div>\n",
              "<style scoped>\n",
              "    .dataframe tbody tr th:only-of-type {\n",
              "        vertical-align: middle;\n",
              "    }\n",
              "\n",
              "    .dataframe tbody tr th {\n",
              "        vertical-align: top;\n",
              "    }\n",
              "\n",
              "    .dataframe thead th {\n",
              "        text-align: right;\n",
              "    }\n",
              "</style>\n",
              "<table border=\"1\" class=\"dataframe\">\n",
              "  <thead>\n",
              "    <tr style=\"text-align: right;\">\n",
              "      <th></th>\n",
              "      <th>volanta</th>\n",
              "      <th>titulo</th>\n",
              "      <th>bajada</th>\n",
              "    </tr>\n",
              "  </thead>\n",
              "  <tbody>\n",
              "    <tr>\n",
              "      <th>0</th>\n",
              "      <td>LA VENTANA &gt; MEDIOS Y COMUNICACIóN</td>\n",
              "      <td>Réplica y participación ciudadana</td>\n",
              "      <td>Dos referencias a la responsabilidad social de...</td>\n",
              "    </tr>\n",
              "    <tr>\n",
              "      <th>1</th>\n",
              "      <td>LA VENTANA &gt; MEDIOS Y COMUNICACIóN</td>\n",
              "      <td>Medios y responsabilidad social</td>\n",
              "      <td>Desde Madrid, y a partir de un estudio sobre l...</td>\n",
              "    </tr>\n",
              "    <tr>\n",
              "      <th>2</th>\n",
              "      <td>PSICOLOGíA &gt; ESCUELA Y AUTORIDAD</td>\n",
              "      <td>Las éticas de la educación vulneradas por la...</td>\n",
              "      <td>La autora observa que “en cada docente se conc...</td>\n",
              "    </tr>\n",
              "    <tr>\n",
              "      <th>3</th>\n",
              "      <td>EL PAíS &gt; ROBARON DOCUMENTOS Y UNA COMPUTADOR...</td>\n",
              "      <td>Visita de los pesados para fin de año</td>\n",
              "      <td>La titular de la Secretaría y otras siete per...</td>\n",
              "    </tr>\n",
              "    <tr>\n",
              "      <th>4</th>\n",
              "      <td>EL PAíS &gt; AVALANCHA DE REPUDIOS A DIEGO GUELA...</td>\n",
              "      <td>El macrismo tiró sus propios petardos</td>\n",
              "      <td>Guelar tiró la piedra el miércoles en un doc...</td>\n",
              "    </tr>\n",
              "    <tr>\n",
              "      <th>...</th>\n",
              "      <td>...</td>\n",
              "      <td>...</td>\n",
              "      <td>...</td>\n",
              "    </tr>\n",
              "    <tr>\n",
              "      <th>8860</th>\n",
              "      <td>EL MUNDO &gt; EL EX MANDATARIO ISRAELI MOSHE KATS...</td>\n",
              "      <td>Un presidente culpable de violación</td>\n",
              "      <td>En un fallo que fue destacado como ejemplar po...</td>\n",
              "    </tr>\n",
              "    <tr>\n",
              "      <th>8861</th>\n",
              "      <td>EL MUNDO &gt; ES EL SALDO DE TRES AÑOS DE GUERRA...</td>\n",
              "      <td>Mil niños asesinados</td>\n",
              "      <td>Según un informe de la ONG mexicana Red por l...</td>\n",
              "    </tr>\n",
              "    <tr>\n",
              "      <th>8862</th>\n",
              "      <td>DEPORTES &gt; UN CENTENAR DE DESTACADOS EN LA ACT...</td>\n",
              "      <td>Los 100 deportistas del 2010</td>\n",
              "      <td>Están los obvios, los que no podían faltar, ...</td>\n",
              "    </tr>\n",
              "    <tr>\n",
              "      <th>8863</th>\n",
              "      <td>DEPORTES &gt; MAÑANA SE PONE EN MARCHA LA EDICIO...</td>\n",
              "      <td>Año Nuevo, Dakar veloz</td>\n",
              "      <td>Con record de participantes argentinos y más ...</td>\n",
              "    </tr>\n",
              "    <tr>\n",
              "      <th>8864</th>\n",
              "      <td>PSICOLOGíA &gt; LA PARRHESíA COMO FORMA DEL DEC...</td>\n",
              "      <td>Coraje de la verdad</td>\n",
              "      <td>La parrhesía, tal como la estudió Michel Fou...</td>\n",
              "    </tr>\n",
              "  </tbody>\n",
              "</table>\n",
              "<p>8865 rows × 3 columns</p>\n",
              "</div>\n",
              "    <div class=\"colab-df-buttons\">\n",
              "\n",
              "  <div class=\"colab-df-container\">\n",
              "    <button class=\"colab-df-convert\" onclick=\"convertToInteractive('df-6d7a537c-f362-4182-a151-3962b23957b5')\"\n",
              "            title=\"Convert this dataframe to an interactive table.\"\n",
              "            style=\"display:none;\">\n",
              "\n",
              "  <svg xmlns=\"http://www.w3.org/2000/svg\" height=\"24px\" viewBox=\"0 -960 960 960\">\n",
              "    <path d=\"M120-120v-720h720v720H120Zm60-500h600v-160H180v160Zm220 220h160v-160H400v160Zm0 220h160v-160H400v160ZM180-400h160v-160H180v160Zm440 0h160v-160H620v160ZM180-180h160v-160H180v160Zm440 0h160v-160H620v160Z\"/>\n",
              "  </svg>\n",
              "    </button>\n",
              "\n",
              "  <style>\n",
              "    .colab-df-container {\n",
              "      display:flex;\n",
              "      gap: 12px;\n",
              "    }\n",
              "\n",
              "    .colab-df-convert {\n",
              "      background-color: #E8F0FE;\n",
              "      border: none;\n",
              "      border-radius: 50%;\n",
              "      cursor: pointer;\n",
              "      display: none;\n",
              "      fill: #1967D2;\n",
              "      height: 32px;\n",
              "      padding: 0 0 0 0;\n",
              "      width: 32px;\n",
              "    }\n",
              "\n",
              "    .colab-df-convert:hover {\n",
              "      background-color: #E2EBFA;\n",
              "      box-shadow: 0px 1px 2px rgba(60, 64, 67, 0.3), 0px 1px 3px 1px rgba(60, 64, 67, 0.15);\n",
              "      fill: #174EA6;\n",
              "    }\n",
              "\n",
              "    .colab-df-buttons div {\n",
              "      margin-bottom: 4px;\n",
              "    }\n",
              "\n",
              "    [theme=dark] .colab-df-convert {\n",
              "      background-color: #3B4455;\n",
              "      fill: #D2E3FC;\n",
              "    }\n",
              "\n",
              "    [theme=dark] .colab-df-convert:hover {\n",
              "      background-color: #434B5C;\n",
              "      box-shadow: 0px 1px 3px 1px rgba(0, 0, 0, 0.15);\n",
              "      filter: drop-shadow(0px 1px 2px rgba(0, 0, 0, 0.3));\n",
              "      fill: #FFFFFF;\n",
              "    }\n",
              "  </style>\n",
              "\n",
              "    <script>\n",
              "      const buttonEl =\n",
              "        document.querySelector('#df-6d7a537c-f362-4182-a151-3962b23957b5 button.colab-df-convert');\n",
              "      buttonEl.style.display =\n",
              "        google.colab.kernel.accessAllowed ? 'block' : 'none';\n",
              "\n",
              "      async function convertToInteractive(key) {\n",
              "        const element = document.querySelector('#df-6d7a537c-f362-4182-a151-3962b23957b5');\n",
              "        const dataTable =\n",
              "          await google.colab.kernel.invokeFunction('convertToInteractive',\n",
              "                                                    [key], {});\n",
              "        if (!dataTable) return;\n",
              "\n",
              "        const docLinkHtml = 'Like what you see? Visit the ' +\n",
              "          '<a target=\"_blank\" href=https://colab.research.google.com/notebooks/data_table.ipynb>data table notebook</a>'\n",
              "          + ' to learn more about interactive tables.';\n",
              "        element.innerHTML = '';\n",
              "        dataTable['output_type'] = 'display_data';\n",
              "        await google.colab.output.renderOutput(dataTable, element);\n",
              "        const docLink = document.createElement('div');\n",
              "        docLink.innerHTML = docLinkHtml;\n",
              "        element.appendChild(docLink);\n",
              "      }\n",
              "    </script>\n",
              "  </div>\n",
              "\n",
              "\n",
              "<div id=\"df-7b14bcae-5373-4064-aacd-1b1032200e23\">\n",
              "  <button class=\"colab-df-quickchart\" onclick=\"quickchart('df-7b14bcae-5373-4064-aacd-1b1032200e23')\"\n",
              "            title=\"Suggest charts\"\n",
              "            style=\"display:none;\">\n",
              "\n",
              "<svg xmlns=\"http://www.w3.org/2000/svg\" height=\"24px\"viewBox=\"0 0 24 24\"\n",
              "     width=\"24px\">\n",
              "    <g>\n",
              "        <path d=\"M19 3H5c-1.1 0-2 .9-2 2v14c0 1.1.9 2 2 2h14c1.1 0 2-.9 2-2V5c0-1.1-.9-2-2-2zM9 17H7v-7h2v7zm4 0h-2V7h2v10zm4 0h-2v-4h2v4z\"/>\n",
              "    </g>\n",
              "</svg>\n",
              "  </button>\n",
              "\n",
              "<style>\n",
              "  .colab-df-quickchart {\n",
              "      --bg-color: #E8F0FE;\n",
              "      --fill-color: #1967D2;\n",
              "      --hover-bg-color: #E2EBFA;\n",
              "      --hover-fill-color: #174EA6;\n",
              "      --disabled-fill-color: #AAA;\n",
              "      --disabled-bg-color: #DDD;\n",
              "  }\n",
              "\n",
              "  [theme=dark] .colab-df-quickchart {\n",
              "      --bg-color: #3B4455;\n",
              "      --fill-color: #D2E3FC;\n",
              "      --hover-bg-color: #434B5C;\n",
              "      --hover-fill-color: #FFFFFF;\n",
              "      --disabled-bg-color: #3B4455;\n",
              "      --disabled-fill-color: #666;\n",
              "  }\n",
              "\n",
              "  .colab-df-quickchart {\n",
              "    background-color: var(--bg-color);\n",
              "    border: none;\n",
              "    border-radius: 50%;\n",
              "    cursor: pointer;\n",
              "    display: none;\n",
              "    fill: var(--fill-color);\n",
              "    height: 32px;\n",
              "    padding: 0;\n",
              "    width: 32px;\n",
              "  }\n",
              "\n",
              "  .colab-df-quickchart:hover {\n",
              "    background-color: var(--hover-bg-color);\n",
              "    box-shadow: 0 1px 2px rgba(60, 64, 67, 0.3), 0 1px 3px 1px rgba(60, 64, 67, 0.15);\n",
              "    fill: var(--button-hover-fill-color);\n",
              "  }\n",
              "\n",
              "  .colab-df-quickchart-complete:disabled,\n",
              "  .colab-df-quickchart-complete:disabled:hover {\n",
              "    background-color: var(--disabled-bg-color);\n",
              "    fill: var(--disabled-fill-color);\n",
              "    box-shadow: none;\n",
              "  }\n",
              "\n",
              "  .colab-df-spinner {\n",
              "    border: 2px solid var(--fill-color);\n",
              "    border-color: transparent;\n",
              "    border-bottom-color: var(--fill-color);\n",
              "    animation:\n",
              "      spin 1s steps(1) infinite;\n",
              "  }\n",
              "\n",
              "  @keyframes spin {\n",
              "    0% {\n",
              "      border-color: transparent;\n",
              "      border-bottom-color: var(--fill-color);\n",
              "      border-left-color: var(--fill-color);\n",
              "    }\n",
              "    20% {\n",
              "      border-color: transparent;\n",
              "      border-left-color: var(--fill-color);\n",
              "      border-top-color: var(--fill-color);\n",
              "    }\n",
              "    30% {\n",
              "      border-color: transparent;\n",
              "      border-left-color: var(--fill-color);\n",
              "      border-top-color: var(--fill-color);\n",
              "      border-right-color: var(--fill-color);\n",
              "    }\n",
              "    40% {\n",
              "      border-color: transparent;\n",
              "      border-right-color: var(--fill-color);\n",
              "      border-top-color: var(--fill-color);\n",
              "    }\n",
              "    60% {\n",
              "      border-color: transparent;\n",
              "      border-right-color: var(--fill-color);\n",
              "    }\n",
              "    80% {\n",
              "      border-color: transparent;\n",
              "      border-right-color: var(--fill-color);\n",
              "      border-bottom-color: var(--fill-color);\n",
              "    }\n",
              "    90% {\n",
              "      border-color: transparent;\n",
              "      border-bottom-color: var(--fill-color);\n",
              "    }\n",
              "  }\n",
              "</style>\n",
              "\n",
              "  <script>\n",
              "    async function quickchart(key) {\n",
              "      const quickchartButtonEl =\n",
              "        document.querySelector('#' + key + ' button');\n",
              "      quickchartButtonEl.disabled = true;  // To prevent multiple clicks.\n",
              "      quickchartButtonEl.classList.add('colab-df-spinner');\n",
              "      try {\n",
              "        const charts = await google.colab.kernel.invokeFunction(\n",
              "            'suggestCharts', [key], {});\n",
              "      } catch (error) {\n",
              "        console.error('Error during call to suggestCharts:', error);\n",
              "      }\n",
              "      quickchartButtonEl.classList.remove('colab-df-spinner');\n",
              "      quickchartButtonEl.classList.add('colab-df-quickchart-complete');\n",
              "    }\n",
              "    (() => {\n",
              "      let quickchartButtonEl =\n",
              "        document.querySelector('#df-7b14bcae-5373-4064-aacd-1b1032200e23 button');\n",
              "      quickchartButtonEl.style.display =\n",
              "        google.colab.kernel.accessAllowed ? 'block' : 'none';\n",
              "    })();\n",
              "  </script>\n",
              "</div>\n",
              "\n",
              "  <div id=\"id_53d543f6-79fa-4a36-b554-36d21f8562cf\">\n",
              "    <style>\n",
              "      .colab-df-generate {\n",
              "        background-color: #E8F0FE;\n",
              "        border: none;\n",
              "        border-radius: 50%;\n",
              "        cursor: pointer;\n",
              "        display: none;\n",
              "        fill: #1967D2;\n",
              "        height: 32px;\n",
              "        padding: 0 0 0 0;\n",
              "        width: 32px;\n",
              "      }\n",
              "\n",
              "      .colab-df-generate:hover {\n",
              "        background-color: #E2EBFA;\n",
              "        box-shadow: 0px 1px 2px rgba(60, 64, 67, 0.3), 0px 1px 3px 1px rgba(60, 64, 67, 0.15);\n",
              "        fill: #174EA6;\n",
              "      }\n",
              "\n",
              "      [theme=dark] .colab-df-generate {\n",
              "        background-color: #3B4455;\n",
              "        fill: #D2E3FC;\n",
              "      }\n",
              "\n",
              "      [theme=dark] .colab-df-generate:hover {\n",
              "        background-color: #434B5C;\n",
              "        box-shadow: 0px 1px 3px 1px rgba(0, 0, 0, 0.15);\n",
              "        filter: drop-shadow(0px 1px 2px rgba(0, 0, 0, 0.3));\n",
              "        fill: #FFFFFF;\n",
              "      }\n",
              "    </style>\n",
              "    <button class=\"colab-df-generate\" onclick=\"generateWithVariable('df')\"\n",
              "            title=\"Generate code using this dataframe.\"\n",
              "            style=\"display:none;\">\n",
              "\n",
              "  <svg xmlns=\"http://www.w3.org/2000/svg\" height=\"24px\"viewBox=\"0 0 24 24\"\n",
              "       width=\"24px\">\n",
              "    <path d=\"M7,19H8.4L18.45,9,17,7.55,7,17.6ZM5,21V16.75L18.45,3.32a2,2,0,0,1,2.83,0l1.4,1.43a1.91,1.91,0,0,1,.58,1.4,1.91,1.91,0,0,1-.58,1.4L9.25,21ZM18.45,9,17,7.55Zm-12,3A5.31,5.31,0,0,0,4.9,8.1,5.31,5.31,0,0,0,1,6.5,5.31,5.31,0,0,0,4.9,4.9,5.31,5.31,0,0,0,6.5,1,5.31,5.31,0,0,0,8.1,4.9,5.31,5.31,0,0,0,12,6.5,5.46,5.46,0,0,0,6.5,12Z\"/>\n",
              "  </svg>\n",
              "    </button>\n",
              "    <script>\n",
              "      (() => {\n",
              "      const buttonEl =\n",
              "        document.querySelector('#id_53d543f6-79fa-4a36-b554-36d21f8562cf button.colab-df-generate');\n",
              "      buttonEl.style.display =\n",
              "        google.colab.kernel.accessAllowed ? 'block' : 'none';\n",
              "\n",
              "      buttonEl.onclick = () => {\n",
              "        google.colab.notebook.generateWithVariable('df');\n",
              "      }\n",
              "      })();\n",
              "    </script>\n",
              "  </div>\n",
              "\n",
              "    </div>\n",
              "  </div>\n"
            ],
            "application/vnd.google.colaboratory.intrinsic+json": {
              "type": "dataframe",
              "variable_name": "df",
              "summary": "{\n  \"name\": \"df\",\n  \"rows\": 8865,\n  \"fields\": [\n    {\n      \"column\": \"volanta\",\n      \"properties\": {\n        \"dtype\": \"string\",\n        \"num_unique_values\": 7194,\n        \"samples\": [\n          \"EL PAi\\u0301S > Ne\\u0301STOR KIRCHNER RECIBIo\\u0301 AYER AL PRESIDENTE ELECTO DE COLOMBIA, JUAN MANUEL SANTOS\",\n          \"EL PAi\\u0301S > EN LA PLAZA DEL CONGRESO UNA MULTITUD FESTIVA APOYO LAS CONSIGNAS POR LA NUEVA LEY\",\n          \"ECONOMi\\u0301A > STANDARD & POOR\\u2019S ELEVo\\u0301 LA CALIFICACIo\\u0301N A LOS Ti\\u0301TULOS DE DEUDA ARGENTINOS\"\n        ],\n        \"semantic_type\": \"\",\n        \"description\": \"\"\n      }\n    },\n    {\n      \"column\": \"titulo\",\n      \"properties\": {\n        \"dtype\": \"string\",\n        \"num_unique_values\": 7354,\n        \"samples\": [\n          \"Para Zapatero, un Lobo inofensivo\",\n          \"Para gobernar, nada mejor que el marketing\",\n          \"Nuevo plan en la guerra contra los narcos\"\n        ],\n        \"semantic_type\": \"\",\n        \"description\": \"\"\n      }\n    },\n    {\n      \"column\": \"bajada\",\n      \"properties\": {\n        \"dtype\": \"string\",\n        \"num_unique_values\": 7361,\n        \"samples\": [\n          \"La iniciativa que la oposicio\\u0301n aprobo\\u0301 en Diputados seri\\u0301a tratada en el recinto del Senado recie\\u0301n en agosto. El oficialismo insistira\\u0301 con el proyecto que fija que so\\u0301lo se puede reasignar un 5 por ciento del Presupuesto. Discusio\\u0301n con final incierto.\",\n          \"Organizaciones empresarias, sindicales y acade\\u0301micas no se pusieron de acuerdo. \\u201cNo hubo intencio\\u0301n de confrontar con el Gobierno\\u201d, dijo Casaretto.\",\n          \"Los cuatro triunfos seguidos, entre ellos el 2-1 en Victoria del viernes, le dieron aire al conjunto de Russo, que con un empate en los pro\\u0301ximos dos partidos se asegurara\\u0301 la permanencia. \\u201cEl equipo tuvo una gran fuerza ani\\u0301mica\\u201d, aseguro\\u0301 el entrenador.\"\n        ],\n        \"semantic_type\": \"\",\n        \"description\": \"\"\n      }\n    }\n  ]\n}"
            }
          },
          "metadata": {},
          "execution_count": 10
        }
      ]
    },
    {
      "cell_type": "code",
      "source": [
        "import tensorflow as tf\n",
        "from tensorflow.keras.preprocessing.text import Tokenizer\n",
        "from tensorflow.keras.preprocessing.sequence import pad_sequences\n",
        "\n",
        "# Sample text data for training the text generation model\n",
        "texts = df.volanta.to_list()\n",
        "\n",
        "# Tokenize the text data\n",
        "tokenizer = Tokenizer()\n",
        "tokenizer.fit_on_texts(texts)\n",
        "word_index = tokenizer.word_index\n",
        "\n",
        "# Convert text data to sequences\n",
        "sequences = tokenizer.texts_to_sequences(texts)\n",
        "\n",
        "# Create input and target sequences for text generation\n",
        "input_sequences = []\n",
        "target_sequences = []\n",
        "\n",
        "for sequence in sequences:\n",
        "    for i in range(1, len(sequence)):\n",
        "        input_sequences.append(sequence[:i])\n",
        "        target_sequences.append(sequence[i])\n",
        "\n",
        "# Pad the sequences to have a consistent length\n",
        "input_sequences = pad_sequences(input_sequences)\n",
        "\n",
        "# Build an LSTM-based text generation model\n",
        "model = tf.keras.Sequential([\n",
        "    tf.keras.layers.Embedding(input_dim=len(word_index) + 1, output_dim=16),\n",
        "    tf.keras.layers.LSTM(64),\n",
        "    tf.keras.layers.Dense(len(word_index) + 1, activation='softmax')\n",
        "])\n",
        "\n",
        "# Compile the model\n",
        "model.compile(optimizer='adam', loss='sparse_categorical_crossentropy')\n",
        "\n",
        "input_sequences_tensor = tf.convert_to_tensor(input_sequences, dtype=tf.int32)\n",
        "target_sequences_tensor = tf.convert_to_tensor(target_sequences, dtype=tf.int32)\n",
        "\n",
        "\n",
        "# Train the model\n",
        "model.fit(input_sequences_tensor, target_sequences_tensor, epochs=10)\n"
      ],
      "metadata": {
        "colab": {
          "base_uri": "https://localhost:8080/"
        },
        "id": "XSZdOl4wANpt",
        "outputId": "84e7f997-f6c7-4066-f9e7-13f485349208"
      },
      "execution_count": null,
      "outputs": [
        {
          "output_type": "stream",
          "name": "stdout",
          "text": [
            "Epoch 1/10\n",
            "\u001b[1m3274/3274\u001b[0m \u001b[32m━━━━━━━━━━━━━━━━━━━━\u001b[0m\u001b[37m\u001b[0m \u001b[1m172s\u001b[0m 52ms/step - loss: 7.0067\n",
            "Epoch 2/10\n",
            "\u001b[1m3274/3274\u001b[0m \u001b[32m━━━━━━━━━━━━━━━━━━━━\u001b[0m\u001b[37m\u001b[0m \u001b[1m193s\u001b[0m 49ms/step - loss: 5.9283\n",
            "Epoch 3/10\n",
            "\u001b[1m3274/3274\u001b[0m \u001b[32m━━━━━━━━━━━━━━━━━━━━\u001b[0m\u001b[37m\u001b[0m \u001b[1m188s\u001b[0m 45ms/step - loss: 5.5052\n",
            "Epoch 4/10\n",
            "\u001b[1m3274/3274\u001b[0m \u001b[32m━━━━━━━━━━━━━━━━━━━━\u001b[0m\u001b[37m\u001b[0m \u001b[1m148s\u001b[0m 45ms/step - loss: 5.1745\n",
            "Epoch 5/10\n",
            "\u001b[1m3274/3274\u001b[0m \u001b[32m━━━━━━━━━━━━━━━━━━━━\u001b[0m\u001b[37m\u001b[0m \u001b[1m157s\u001b[0m 48ms/step - loss: 4.8382\n",
            "Epoch 6/10\n",
            "\u001b[1m3274/3274\u001b[0m \u001b[32m━━━━━━━━━━━━━━━━━━━━\u001b[0m\u001b[37m\u001b[0m \u001b[1m158s\u001b[0m 48ms/step - loss: 4.5431\n",
            "Epoch 7/10\n",
            "\u001b[1m3274/3274\u001b[0m \u001b[32m━━━━━━━━━━━━━━━━━━━━\u001b[0m\u001b[37m\u001b[0m \u001b[1m157s\u001b[0m 48ms/step - loss: 4.2985\n",
            "Epoch 8/10\n",
            "\u001b[1m3274/3274\u001b[0m \u001b[32m━━━━━━━━━━━━━━━━━━━━\u001b[0m\u001b[37m\u001b[0m \u001b[1m203s\u001b[0m 48ms/step - loss: 4.0743\n",
            "Epoch 9/10\n",
            "\u001b[1m3274/3274\u001b[0m \u001b[32m━━━━━━━━━━━━━━━━━━━━\u001b[0m\u001b[37m\u001b[0m \u001b[1m200s\u001b[0m 48ms/step - loss: 3.8573\n",
            "Epoch 10/10\n",
            "\u001b[1m3274/3274\u001b[0m \u001b[32m━━━━━━━━━━━━━━━━━━━━\u001b[0m\u001b[37m\u001b[0m \u001b[1m157s\u001b[0m 48ms/step - loss: 3.6735\n"
          ]
        },
        {
          "output_type": "execute_result",
          "data": {
            "text/plain": [
              "<keras.src.callbacks.history.History at 0x7b9ed31c9750>"
            ]
          },
          "metadata": {},
          "execution_count": 11
        }
      ]
    },
    {
      "cell_type": "code",
      "source": [
        "model.summary()"
      ],
      "metadata": {
        "colab": {
          "base_uri": "https://localhost:8080/",
          "height": 246
        },
        "id": "_zDd6Dx7kmLc",
        "outputId": "67670d22-f82a-4ff5-e837-98a35da79ee6"
      },
      "execution_count": null,
      "outputs": [
        {
          "output_type": "display_data",
          "data": {
            "text/plain": [
              "\u001b[1mModel: \"sequential\"\u001b[0m\n"
            ],
            "text/html": [
              "<pre style=\"white-space:pre;overflow-x:auto;line-height:normal;font-family:Menlo,'DejaVu Sans Mono',consolas,'Courier New',monospace\"><span style=\"font-weight: bold\">Model: \"sequential\"</span>\n",
              "</pre>\n"
            ]
          },
          "metadata": {}
        },
        {
          "output_type": "display_data",
          "data": {
            "text/plain": [
              "┏━━━━━━━━━━━━━━━━━━━━━━━━━━━━━━━━━━━━━━┳━━━━━━━━━━━━━━━━━━━━━━━━━━━━━┳━━━━━━━━━━━━━━━━━┓\n",
              "┃\u001b[1m \u001b[0m\u001b[1mLayer (type)                        \u001b[0m\u001b[1m \u001b[0m┃\u001b[1m \u001b[0m\u001b[1mOutput Shape               \u001b[0m\u001b[1m \u001b[0m┃\u001b[1m \u001b[0m\u001b[1m        Param #\u001b[0m\u001b[1m \u001b[0m┃\n",
              "┡━━━━━━━━━━━━━━━━━━━━━━━━━━━━━━━━━━━━━━╇━━━━━━━━━━━━━━━━━━━━━━━━━━━━━╇━━━━━━━━━━━━━━━━━┩\n",
              "│ embedding (\u001b[38;5;33mEmbedding\u001b[0m)                │ (\u001b[38;5;45mNone\u001b[0m, \u001b[38;5;34m29\u001b[0m, \u001b[38;5;34m16\u001b[0m)              │         \u001b[38;5;34m201,168\u001b[0m │\n",
              "├──────────────────────────────────────┼─────────────────────────────┼─────────────────┤\n",
              "│ lstm (\u001b[38;5;33mLSTM\u001b[0m)                          │ (\u001b[38;5;45mNone\u001b[0m, \u001b[38;5;34m64\u001b[0m)                  │          \u001b[38;5;34m20,736\u001b[0m │\n",
              "├──────────────────────────────────────┼─────────────────────────────┼─────────────────┤\n",
              "│ dense (\u001b[38;5;33mDense\u001b[0m)                        │ (\u001b[38;5;45mNone\u001b[0m, \u001b[38;5;34m12573\u001b[0m)               │         \u001b[38;5;34m817,245\u001b[0m │\n",
              "└──────────────────────────────────────┴─────────────────────────────┴─────────────────┘\n"
            ],
            "text/html": [
              "<pre style=\"white-space:pre;overflow-x:auto;line-height:normal;font-family:Menlo,'DejaVu Sans Mono',consolas,'Courier New',monospace\">┏━━━━━━━━━━━━━━━━━━━━━━━━━━━━━━━━━━━━━━┳━━━━━━━━━━━━━━━━━━━━━━━━━━━━━┳━━━━━━━━━━━━━━━━━┓\n",
              "┃<span style=\"font-weight: bold\"> Layer (type)                         </span>┃<span style=\"font-weight: bold\"> Output Shape                </span>┃<span style=\"font-weight: bold\">         Param # </span>┃\n",
              "┡━━━━━━━━━━━━━━━━━━━━━━━━━━━━━━━━━━━━━━╇━━━━━━━━━━━━━━━━━━━━━━━━━━━━━╇━━━━━━━━━━━━━━━━━┩\n",
              "│ embedding (<span style=\"color: #0087ff; text-decoration-color: #0087ff\">Embedding</span>)                │ (<span style=\"color: #00d7ff; text-decoration-color: #00d7ff\">None</span>, <span style=\"color: #00af00; text-decoration-color: #00af00\">29</span>, <span style=\"color: #00af00; text-decoration-color: #00af00\">16</span>)              │         <span style=\"color: #00af00; text-decoration-color: #00af00\">201,168</span> │\n",
              "├──────────────────────────────────────┼─────────────────────────────┼─────────────────┤\n",
              "│ lstm (<span style=\"color: #0087ff; text-decoration-color: #0087ff\">LSTM</span>)                          │ (<span style=\"color: #00d7ff; text-decoration-color: #00d7ff\">None</span>, <span style=\"color: #00af00; text-decoration-color: #00af00\">64</span>)                  │          <span style=\"color: #00af00; text-decoration-color: #00af00\">20,736</span> │\n",
              "├──────────────────────────────────────┼─────────────────────────────┼─────────────────┤\n",
              "│ dense (<span style=\"color: #0087ff; text-decoration-color: #0087ff\">Dense</span>)                        │ (<span style=\"color: #00d7ff; text-decoration-color: #00d7ff\">None</span>, <span style=\"color: #00af00; text-decoration-color: #00af00\">12573</span>)               │         <span style=\"color: #00af00; text-decoration-color: #00af00\">817,245</span> │\n",
              "└──────────────────────────────────────┴─────────────────────────────┴─────────────────┘\n",
              "</pre>\n"
            ]
          },
          "metadata": {}
        },
        {
          "output_type": "display_data",
          "data": {
            "text/plain": [
              "\u001b[1m Total params: \u001b[0m\u001b[38;5;34m3,117,449\u001b[0m (11.89 MB)\n"
            ],
            "text/html": [
              "<pre style=\"white-space:pre;overflow-x:auto;line-height:normal;font-family:Menlo,'DejaVu Sans Mono',consolas,'Courier New',monospace\"><span style=\"font-weight: bold\"> Total params: </span><span style=\"color: #00af00; text-decoration-color: #00af00\">3,117,449</span> (11.89 MB)\n",
              "</pre>\n"
            ]
          },
          "metadata": {}
        },
        {
          "output_type": "display_data",
          "data": {
            "text/plain": [
              "\u001b[1m Trainable params: \u001b[0m\u001b[38;5;34m1,039,149\u001b[0m (3.96 MB)\n"
            ],
            "text/html": [
              "<pre style=\"white-space:pre;overflow-x:auto;line-height:normal;font-family:Menlo,'DejaVu Sans Mono',consolas,'Courier New',monospace\"><span style=\"font-weight: bold\"> Trainable params: </span><span style=\"color: #00af00; text-decoration-color: #00af00\">1,039,149</span> (3.96 MB)\n",
              "</pre>\n"
            ]
          },
          "metadata": {}
        },
        {
          "output_type": "display_data",
          "data": {
            "text/plain": [
              "\u001b[1m Non-trainable params: \u001b[0m\u001b[38;5;34m0\u001b[0m (0.00 B)\n"
            ],
            "text/html": [
              "<pre style=\"white-space:pre;overflow-x:auto;line-height:normal;font-family:Menlo,'DejaVu Sans Mono',consolas,'Courier New',monospace\"><span style=\"font-weight: bold\"> Non-trainable params: </span><span style=\"color: #00af00; text-decoration-color: #00af00\">0</span> (0.00 B)\n",
              "</pre>\n"
            ]
          },
          "metadata": {}
        },
        {
          "output_type": "display_data",
          "data": {
            "text/plain": [
              "\u001b[1m Optimizer params: \u001b[0m\u001b[38;5;34m2,078,300\u001b[0m (7.93 MB)\n"
            ],
            "text/html": [
              "<pre style=\"white-space:pre;overflow-x:auto;line-height:normal;font-family:Menlo,'DejaVu Sans Mono',consolas,'Courier New',monospace\"><span style=\"font-weight: bold\"> Optimizer params: </span><span style=\"color: #00af00; text-decoration-color: #00af00\">2,078,300</span> (7.93 MB)\n",
              "</pre>\n"
            ]
          },
          "metadata": {}
        }
      ]
    },
    {
      "cell_type": "code",
      "source": [
        "def sample(predictions, temperature=1.0):\n",
        "    predictions = np.asarray(predictions).astype('float64')\n",
        "    predictions = np.log(predictions + 1e-7) / temperature\n",
        "    predictions = np.exp(predictions) / np.sum(np.exp(predictions))\n",
        "    return np.random.choice(len(predictions), 1, p=predictions)[0]\n"
      ],
      "metadata": {
        "id": "HUjls-9rkkXH"
      },
      "execution_count": null,
      "outputs": []
    },
    {
      "cell_type": "code",
      "source": [
        "\n",
        "# Generate text using the trained model\n",
        "seed_text = \"DEPORTES\"\n",
        "generated_text = seed_text\n",
        "max_sequence_length=10\n",
        "for _ in range(20):\n",
        "    sequence = tokenizer.texts_to_sequences([generated_text])[0]\n",
        "\n",
        "    # Pad or truncate the sequence to the expected length\n",
        "    sequence = sequence[-max_sequence_length:]\n",
        "    sequence = tf.keras.preprocessing.sequence.pad_sequences([sequence], maxlen=max_sequence_length)\n",
        "\n",
        "    # Convert to tensor\n",
        "    sequence_tensor = tf.convert_to_tensor(sequence, dtype=tf.int32)\n",
        "\n",
        "    # Predict the next word's probabilities\n",
        "    next_word_probs = model.predict(sequence_tensor, verbose=0)[0]\n",
        "\n",
        "    # Sample the next word's index\n",
        "    next_word_index = sample(next_word_probs, temperature=1.0)\n",
        "\n",
        "    # Find the word corresponding to the predicted index\n",
        "    next_word = [word for word, index in word_index.items() if index == next_word_index][0]\n",
        "\n",
        "    generated_text += \" \" + next_word\n",
        "\n",
        "print(generated_text)\n"
      ],
      "metadata": {
        "colab": {
          "base_uri": "https://localhost:8080/"
        },
        "id": "9cy_sBuSRNkL",
        "outputId": "792bc717-20f1-427c-d07a-2fda4f5703fa"
      },
      "execution_count": null,
      "outputs": [
        {
          "output_type": "stream",
          "name": "stdout",
          "text": [
            "DEPORTES el autor del fútbol de marcó del pensamiento más violada haroldo médicos provincia de represor a su informe que negociar\n"
          ]
        }
      ]
    }
  ]
}