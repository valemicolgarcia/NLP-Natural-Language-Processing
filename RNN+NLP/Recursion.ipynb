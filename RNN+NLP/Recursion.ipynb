{
  "nbformat": 4,
  "nbformat_minor": 0,
  "metadata": {
    "colab": {
      "provenance": []
    },
    "kernelspec": {
      "name": "python3",
      "display_name": "Python 3"
    },
    "language_info": {
      "name": "python"
    }
  },
  "cells": [
    {
      "cell_type": "code",
      "source": [],
      "metadata": {
        "id": "3K5IdrYaNH0M"
      },
      "execution_count": null,
      "outputs": []
    },
    {
      "cell_type": "markdown",
      "source": [
        "# Single recurrent unit\n",
        "\n",
        "![](https://miro.medium.com/v2/resize:fit:1200/format:webp/1*doIUh-KpF2CgEEgpytLkMA.png)\n",
        "\n",
        "\n",
        "La salida de la unidad RNN en el instante de tiempo \\( t \\) se define como:\n",
        "\n",
        "$$\n",
        "h_t = \\tanh\\left(W_x \\cdot x_t + W_h \\cdot h_{t-1} + b\\right)\n",
        "$$\n",
        "\n",
        "Donde:\n",
        "- \\( h_t \\) es la salida en el tiempo \\( t \\).\n",
        "- \\( x_t \\) es la entrada en el tiempo \\( t \\).\n",
        "- \\( h_{t-1} \\) es el estado oculto previo en el tiempo \\( t-1 \\).\n",
        "- \\( W_x \\) es la matriz de pesos para la entrada \\( x_t \\).\n",
        "- \\( W_h \\) es la matriz de pesos para el estado oculto previo \\( h_{t-1} \\).\n",
        "- \\( b \\) es el término de sesgo.\n",
        "- \\( \\tanh(\\cdot) \\) es la función de activación tangente hiperbólica.\n",
        "\n",
        "Así, la salida \\( h_t \\) se calcula realizando primero una suma ponderada de la entrada \\( x_t \\), el estado oculto previo \\( h_{t-1} \\) y el sesgo \\( b \\), seguida de la aplicación de la función de activación \\( \\tanh \\) a esta suma:\n",
        "\n",
        "$$\n",
        "h_t = \\tanh\\left(\\underbrace{W_x \\cdot x_t}_{\\text{Contribución de la entrada}} + \\underbrace{W_h \\cdot h_{t-1}}_{\\text{Contribución del estado oculto}} + \\underbrace{b}_{\\text{Sesgo}}\\right)\n",
        "$$\n"
      ],
      "metadata": {
        "id": "xeNqeEmtLbJH"
      }
    },
    {
      "cell_type": "code",
      "source": [
        "import numpy as np\n",
        "\n",
        "\n",
        "# Custom RNN step function with zero-initialized hidden state\n",
        "def rnn_step(x_t, h_t_prev, W_x, W_h, b):\n",
        "    return np.tanh(np.dot(W_x, x_t) + np.dot(W_h, h_t_prev) + b)\n",
        "\n",
        "\n",
        "# combina parametros de la celda W_x con el input como las neuronas normales\n",
        "# pero suma un nuevo termino, un peso W_h que depende del input previo!"
      ],
      "metadata": {
        "id": "q2v1MllCMCCN"
      },
      "execution_count": null,
      "outputs": []
    },
    {
      "cell_type": "code",
      "source": [
        "\n",
        "\n",
        "# Example parameters\n",
        "x_t = np.array([0.5])  # Example input at time t\n",
        "h_t_prev = np.array([0.0])  # Initial hidden state set to 0\n",
        "\n",
        "W_x = np.array([[0.8]])  # Weight for the input\n",
        "W_h = np.array([[0.2]])  # Weight for the hidden state\n",
        "\n",
        "b = np.array([0.1])  # Bias\n",
        "\n",
        "# Custom feedforward step\n",
        "h_t_custom = rnn_step(x_t, h_t_prev, W_x, W_h, b)\n",
        "print(\"Custom RNN feedforward output:\", h_t_custom)"
      ],
      "metadata": {
        "colab": {
          "base_uri": "https://localhost:8080/"
        },
        "id": "4Gdp57RRLs7j",
        "outputId": "d67f480a-f3c3-4dd5-da7a-bce6f9842f50"
      },
      "execution_count": null,
      "outputs": [
        {
          "output_type": "stream",
          "name": "stdout",
          "text": [
            "Custom RNN feedforward output: [0.46211716]\n"
          ]
        }
      ]
    },
    {
      "cell_type": "code",
      "source": [
        "import tensorflow as tf\n",
        "from tensorflow.keras.models import Sequential\n",
        "from tensorflow.keras.layers import SimpleRNN,Input\n",
        "\n",
        "# Define the Keras model\n",
        "model = Sequential([\n",
        "        Input(shape=(1, 1)),\n",
        "        SimpleRNN(units=1, activation='tanh', use_bias=True)])\n",
        "\n",
        "# Compile the model\n",
        "model.compile(optimizer='adam', loss='mse')\n",
        "\n",
        "# Set the weights manually\n",
        "model.set_weights([W_x, W_h, b])\n"
      ],
      "metadata": {
        "id": "qu_Ia0MLMdRj"
      },
      "execution_count": null,
      "outputs": []
    },
    {
      "cell_type": "code",
      "source": [
        "model.summary()"
      ],
      "metadata": {
        "colab": {
          "base_uri": "https://localhost:8080/",
          "height": 161
        },
        "id": "P7_fou8UMeF6",
        "outputId": "faa493a2-61d3-484f-e2e6-a30f8eb03be0"
      },
      "execution_count": null,
      "outputs": [
        {
          "output_type": "display_data",
          "data": {
            "text/plain": [
              "\u001b[1mModel: \"sequential\"\u001b[0m\n"
            ],
            "text/html": [
              "<pre style=\"white-space:pre;overflow-x:auto;line-height:normal;font-family:Menlo,'DejaVu Sans Mono',consolas,'Courier New',monospace\"><span style=\"font-weight: bold\">Model: \"sequential\"</span>\n",
              "</pre>\n"
            ]
          },
          "metadata": {}
        },
        {
          "output_type": "display_data",
          "data": {
            "text/plain": [
              "┏━━━━━━━━━━━━━━━━━━━━━━━━━━━━━━━━━━━━━━┳━━━━━━━━━━━━━━━━━━━━━━━━━━━━━┳━━━━━━━━━━━━━━━━━┓\n",
              "┃\u001b[1m \u001b[0m\u001b[1mLayer (type)                        \u001b[0m\u001b[1m \u001b[0m┃\u001b[1m \u001b[0m\u001b[1mOutput Shape               \u001b[0m\u001b[1m \u001b[0m┃\u001b[1m \u001b[0m\u001b[1m        Param #\u001b[0m\u001b[1m \u001b[0m┃\n",
              "┡━━━━━━━━━━━━━━━━━━━━━━━━━━━━━━━━━━━━━━╇━━━━━━━━━━━━━━━━━━━━━━━━━━━━━╇━━━━━━━━━━━━━━━━━┩\n",
              "│ simple_rnn (\u001b[38;5;33mSimpleRNN\u001b[0m)               │ (\u001b[38;5;45mNone\u001b[0m, \u001b[38;5;34m1\u001b[0m)                   │               \u001b[38;5;34m3\u001b[0m │\n",
              "└──────────────────────────────────────┴─────────────────────────────┴─────────────────┘\n"
            ],
            "text/html": [
              "<pre style=\"white-space:pre;overflow-x:auto;line-height:normal;font-family:Menlo,'DejaVu Sans Mono',consolas,'Courier New',monospace\">┏━━━━━━━━━━━━━━━━━━━━━━━━━━━━━━━━━━━━━━┳━━━━━━━━━━━━━━━━━━━━━━━━━━━━━┳━━━━━━━━━━━━━━━━━┓\n",
              "┃<span style=\"font-weight: bold\"> Layer (type)                         </span>┃<span style=\"font-weight: bold\"> Output Shape                </span>┃<span style=\"font-weight: bold\">         Param # </span>┃\n",
              "┡━━━━━━━━━━━━━━━━━━━━━━━━━━━━━━━━━━━━━━╇━━━━━━━━━━━━━━━━━━━━━━━━━━━━━╇━━━━━━━━━━━━━━━━━┩\n",
              "│ simple_rnn (<span style=\"color: #0087ff; text-decoration-color: #0087ff\">SimpleRNN</span>)               │ (<span style=\"color: #00d7ff; text-decoration-color: #00d7ff\">None</span>, <span style=\"color: #00af00; text-decoration-color: #00af00\">1</span>)                   │               <span style=\"color: #00af00; text-decoration-color: #00af00\">3</span> │\n",
              "└──────────────────────────────────────┴─────────────────────────────┴─────────────────┘\n",
              "</pre>\n"
            ]
          },
          "metadata": {}
        },
        {
          "output_type": "display_data",
          "data": {
            "text/plain": [
              "\u001b[1m Total params: \u001b[0m\u001b[38;5;34m3\u001b[0m (12.00 B)\n"
            ],
            "text/html": [
              "<pre style=\"white-space:pre;overflow-x:auto;line-height:normal;font-family:Menlo,'DejaVu Sans Mono',consolas,'Courier New',monospace\"><span style=\"font-weight: bold\"> Total params: </span><span style=\"color: #00af00; text-decoration-color: #00af00\">3</span> (12.00 B)\n",
              "</pre>\n"
            ]
          },
          "metadata": {}
        },
        {
          "output_type": "display_data",
          "data": {
            "text/plain": [
              "\u001b[1m Trainable params: \u001b[0m\u001b[38;5;34m3\u001b[0m (12.00 B)\n"
            ],
            "text/html": [
              "<pre style=\"white-space:pre;overflow-x:auto;line-height:normal;font-family:Menlo,'DejaVu Sans Mono',consolas,'Courier New',monospace\"><span style=\"font-weight: bold\"> Trainable params: </span><span style=\"color: #00af00; text-decoration-color: #00af00\">3</span> (12.00 B)\n",
              "</pre>\n"
            ]
          },
          "metadata": {}
        },
        {
          "output_type": "display_data",
          "data": {
            "text/plain": [
              "\u001b[1m Non-trainable params: \u001b[0m\u001b[38;5;34m0\u001b[0m (0.00 B)\n"
            ],
            "text/html": [
              "<pre style=\"white-space:pre;overflow-x:auto;line-height:normal;font-family:Menlo,'DejaVu Sans Mono',consolas,'Courier New',monospace\"><span style=\"font-weight: bold\"> Non-trainable params: </span><span style=\"color: #00af00; text-decoration-color: #00af00\">0</span> (0.00 B)\n",
              "</pre>\n"
            ]
          },
          "metadata": {}
        }
      ]
    },
    {
      "cell_type": "code",
      "source": [
        "model.get_weights()"
      ],
      "metadata": {
        "colab": {
          "base_uri": "https://localhost:8080/"
        },
        "id": "KyKfuS4OMjpE",
        "outputId": "6b76a65f-d703-40e0-e4cf-e44ffc9dc875"
      },
      "execution_count": null,
      "outputs": [
        {
          "output_type": "execute_result",
          "data": {
            "text/plain": [
              "[array([[0.8]], dtype=float32),\n",
              " array([[0.2]], dtype=float32),\n",
              " array([0.1], dtype=float32)]"
            ]
          },
          "metadata": {},
          "execution_count": 7
        }
      ]
    },
    {
      "cell_type": "code",
      "source": [],
      "metadata": {
        "id": "3IlEbKGtMrd_"
      },
      "execution_count": null,
      "outputs": []
    },
    {
      "cell_type": "code",
      "source": [
        "\n",
        "# Probamos que de lo mismo con x_t\n",
        "x_train = np.array([[[0.5]]])\n",
        "\n",
        "\n",
        "# Predict using the Keras model\n",
        "prediction = model(x_train)\n",
        "print(\"Keras RNN output:\", prediction[0][0])\n"
      ],
      "metadata": {
        "colab": {
          "base_uri": "https://localhost:8080/"
        },
        "id": "CIUsMAxXJ7Yt",
        "outputId": "d500e8f7-86f8-4766-eeb6-51fdfa675fd6"
      },
      "execution_count": null,
      "outputs": [
        {
          "output_type": "stream",
          "name": "stdout",
          "text": [
            "Keras RNN output: tf.Tensor(0.46211717, shape=(), dtype=float32)\n"
          ]
        }
      ]
    },
    {
      "cell_type": "code",
      "source": [],
      "metadata": {
        "id": "uox5MAUPNt2M"
      },
      "execution_count": null,
      "outputs": []
    },
    {
      "cell_type": "markdown",
      "source": [
        "# RNN\n",
        "\n",
        "![](https://cdn-images-1.medium.com/max/800/1*xLcQd_xeBWHeC6CeYSJ9bA.png)\n",
        "\n",
        "\n",
        "\n",
        "![](https://www.researchgate.net/profile/Mahindra-Rautela/publication/338422063/figure/fig5/AS:844611954151428@1578382590444/a-Folded-Recurrent-Neural-Network-b-Unfolded-Recurrent-Neural-Network-U-weight.ppm)"
      ],
      "metadata": {
        "id": "mKdGJI0YNJzA"
      }
    },
    {
      "cell_type": "code",
      "source": [
        "import numpy as np\n",
        "import matplotlib.pyplot as plt\n",
        "\n",
        "# Generate sinusoidal data with noise\n",
        "np.random.seed(0)\n",
        "n_points = 100\n",
        "x = np.linspace(0, 4 * np.pi, n_points)\n",
        "signal = np.sin(x) + np.random.normal(scale=0.1, size=n_points)\n",
        "\n",
        "plt.plot(x, signal)\n",
        "plt.title('Generated Sinusoidal Data with Noise')\n",
        "plt.xlabel('x')\n",
        "plt.ylabel('y')\n",
        "plt.show()\n"
      ],
      "metadata": {
        "colab": {
          "base_uri": "https://localhost:8080/",
          "height": 472
        },
        "id": "jMc_y9nU6s8y",
        "outputId": "babce26b-f1aa-4161-97c5-2e78aa110de0"
      },
      "execution_count": null,
      "outputs": [
        {
          "output_type": "display_data",
          "data": {
            "text/plain": [
              "<Figure size 640x480 with 1 Axes>"
            ],
            "image/png": "[encoded data removed]"
          },
          "metadata": {}
        }
      ]
    },
    {
      "cell_type": "code",
      "source": [],
      "metadata": {
        "id": "KSWinrpo7NPt"
      },
      "execution_count": null,
      "outputs": []
    },
    {
      "cell_type": "markdown",
      "source": [
        "# Como procesamos el tiempo?"
      ],
      "metadata": {
        "id": "iVE-QrNBOJEc"
      }
    },
    {
      "cell_type": "code",
      "source": [
        "def create_sequences(data, seq_length):\n",
        "    X, y = [], []\n",
        "    for i in range(len(data) - seq_length):\n",
        "        X.append(data[i:i+seq_length])\n",
        "        y.append(data[i+seq_length])\n",
        "    return np.array(X), np.array(y)\n"
      ],
      "metadata": {
        "id": "HMnSV0By6x7T"
      },
      "execution_count": null,
      "outputs": []
    },
    {
      "cell_type": "code",
      "source": [
        "signal.shape"
      ],
      "metadata": {
        "colab": {
          "base_uri": "https://localhost:8080/"
        },
        "id": "lxp8oVLfOWtD",
        "outputId": "92d85834-ce9a-4abe-b096-da840c050e98"
      },
      "execution_count": null,
      "outputs": [
        {
          "output_type": "execute_result",
          "data": {
            "text/plain": [
              "(100,)"
            ]
          },
          "metadata": {},
          "execution_count": 11
        }
      ]
    },
    {
      "cell_type": "code",
      "source": [
        "# creamos 90 secuencias de 10 puntos y 90 predicciones\n",
        "\n",
        "\n",
        "\n",
        "seq_length = 10\n",
        "X, y = create_sequences(signal, seq_length)\n",
        "\n",
        "\n",
        "X.shape, y.shape"
      ],
      "metadata": {
        "colab": {
          "base_uri": "https://localhost:8080/"
        },
        "id": "MyTDmFmJ65dE",
        "outputId": "f87c6d81-d1ac-4ec7-a3d2-0d40b015db22"
      },
      "execution_count": null,
      "outputs": [
        {
          "output_type": "execute_result",
          "data": {
            "text/plain": [
              "((90, 10), (90,))"
            ]
          },
          "metadata": {},
          "execution_count": 12
        }
      ]
    },
    {
      "cell_type": "code",
      "source": [
        "import pandas as pd\n",
        "df=pd.DataFrame(X)\n",
        "df['y']=y\n",
        "df"
      ],
      "metadata": {
        "colab": {
          "base_uri": "https://localhost:8080/",
          "height": 423
        },
        "id": "NwhH9sxugBdZ",
        "outputId": "c9955f83-4f10-405f-8114-eec7f05165d7"
      },
      "execution_count": null,
      "outputs": [
        {
          "output_type": "execute_result",
          "data": {
            "text/plain": [
              "           0         1         2         3         4         5         6  \\\n",
              "0   0.176405  0.166608  0.349022  0.595752  0.672953  0.495180  0.785088   \n",
              "1   0.166608  0.349022  0.595752  0.672953  0.495180  0.785088  0.761011   \n",
              "2   0.349022  0.595752  0.672953  0.495180  0.785088  0.761011  0.839404   \n",
              "3   0.595752  0.672953  0.495180  0.785088  0.761011  0.839404  0.950692   \n",
              "4   0.672953  0.495180  0.785088  0.761011  0.839404  0.950692  0.969307   \n",
              "..       ...       ...       ...       ...       ...       ...       ...   \n",
              "85 -0.789214 -0.878977 -1.016860 -1.091883 -0.849457 -0.949950 -0.727481   \n",
              "86 -0.878977 -1.016860 -1.091883 -0.849457 -0.949950 -0.727481 -0.755319   \n",
              "87 -1.016860 -1.091883 -0.849457 -0.949950 -0.727481 -0.755319 -0.592415   \n",
              "88 -1.091883 -0.849457 -0.949950 -0.727481 -0.755319 -0.592415 -0.557271   \n",
              "89 -0.849457 -0.949950 -0.727481 -0.755319 -0.592415 -0.557271 -0.415539   \n",
              "\n",
              "           7         8         9         y  \n",
              "0   0.761011  0.839404  0.950692  0.969307  \n",
              "1   0.839404  0.950692  0.969307  1.130235  \n",
              "2   0.950692  0.969307  1.130235  1.074971  \n",
              "3   0.969307  1.130235  1.074971  1.009022  \n",
              "4   1.130235  1.074971  1.009022  1.023189  \n",
              "..       ...       ...       ...       ...  \n",
              "85 -0.755319 -0.592415 -0.557271 -0.415539  \n",
              "86 -0.592415 -0.557271 -0.415539 -0.370612  \n",
              "87 -0.557271 -0.415539 -0.370612 -0.072561  \n",
              "88 -0.415539 -0.370612 -0.072561 -0.113901  \n",
              "89 -0.370612 -0.072561 -0.113901  0.040199  \n",
              "\n",
              "[90 rows x 11 columns]"
            ],
            "text/html": [
              "\n",
              "  <div id=\"df-120807bd-dfab-44ac-b2a9-b0789becdbf4\" class=\"colab-df-container\">\n",
              "    <div>\n",
              "<style scoped>\n",
              "    .dataframe tbody tr th:only-of-type {\n",
              "        vertical-align: middle;\n",
              "    }\n",
              "\n",
              "    .dataframe tbody tr th {\n",
              "        vertical-align: top;\n",
              "    }\n",
              "\n",
              "    .dataframe thead th {\n",
              "        text-align: right;\n",
              "    }\n",
              "</style>\n",
              "<table border=\"1\" class=\"dataframe\">\n",
              "  <thead>\n",
              "    <tr style=\"text-align: right;\">\n",
              "      <th></th>\n",
              "      <th>0</th>\n",
              "      <th>1</th>\n",
              "      <th>2</th>\n",
              "      <th>3</th>\n",
              "      <th>4</th>\n",
              "      <th>5</th>\n",
              "      <th>6</th>\n",
              "      <th>7</th>\n",
              "      <th>8</th>\n",
              "      <th>9</th>\n",
              "      <th>y</th>\n",
              "    </tr>\n",
              "  </thead>\n",
              "  <tbody>\n",
              "    <tr>\n",
              "      <th>0</th>\n",
              "      <td>0.176405</td>\n",
              "      <td>0.166608</td>\n",
              "      <td>0.349022</td>\n",
              "      <td>0.595752</td>\n",
              "      <td>0.672953</td>\n",
              "      <td>0.495180</td>\n",
              "      <td>0.785088</td>\n",
              "      <td>0.761011</td>\n",
              "      <td>0.839404</td>\n",
              "      <td>0.950692</td>\n",
              "      <td>0.969307</td>\n",
              "    </tr>\n",
              "    <tr>\n",
              "      <th>1</th>\n",
              "      <td>0.166608</td>\n",
              "      <td>0.349022</td>\n",
              "      <td>0.595752</td>\n",
              "      <td>0.672953</td>\n",
              "      <td>0.495180</td>\n",
              "      <td>0.785088</td>\n",
              "      <td>0.761011</td>\n",
              "      <td>0.839404</td>\n",
              "      <td>0.950692</td>\n",
              "      <td>0.969307</td>\n",
              "      <td>1.130235</td>\n",
              "    </tr>\n",
              "    <tr>\n",
              "      <th>2</th>\n",
              "      <td>0.349022</td>\n",
              "      <td>0.595752</td>\n",
              "      <td>0.672953</td>\n",
              "      <td>0.495180</td>\n",
              "      <td>0.785088</td>\n",
              "      <td>0.761011</td>\n",
              "      <td>0.839404</td>\n",
              "      <td>0.950692</td>\n",
              "      <td>0.969307</td>\n",
              "      <td>1.130235</td>\n",
              "      <td>1.074971</td>\n",
              "    </tr>\n",
              "    <tr>\n",
              "      <th>3</th>\n",
              "      <td>0.595752</td>\n",
              "      <td>0.672953</td>\n",
              "      <td>0.495180</td>\n",
              "      <td>0.785088</td>\n",
              "      <td>0.761011</td>\n",
              "      <td>0.839404</td>\n",
              "      <td>0.950692</td>\n",
              "      <td>0.969307</td>\n",
              "      <td>1.130235</td>\n",
              "      <td>1.074971</td>\n",
              "      <td>1.009022</td>\n",
              "    </tr>\n",
              "    <tr>\n",
              "      <th>4</th>\n",
              "      <td>0.672953</td>\n",
              "      <td>0.495180</td>\n",
              "      <td>0.785088</td>\n",
              "      <td>0.761011</td>\n",
              "      <td>0.839404</td>\n",
              "      <td>0.950692</td>\n",
              "      <td>0.969307</td>\n",
              "      <td>1.130235</td>\n",
              "      <td>1.074971</td>\n",
              "      <td>1.009022</td>\n",
              "      <td>1.023189</td>\n",
              "    </tr>\n",
              "    <tr>\n",
              "      <th>...</th>\n",
              "      <td>...</td>\n",
              "      <td>...</td>\n",
              "      <td>...</td>\n",
              "      <td>...</td>\n",
              "      <td>...</td>\n",
              "      <td>...</td>\n",
              "      <td>...</td>\n",
              "      <td>...</td>\n",
              "      <td>...</td>\n",
              "      <td>...</td>\n",
              "      <td>...</td>\n",
              "    </tr>\n",
              "    <tr>\n",
              "      <th>85</th>\n",
              "      <td>-0.789214</td>\n",
              "      <td>-0.878977</td>\n",
              "      <td>-1.016860</td>\n",
              "      <td>-1.091883</td>\n",
              "      <td>-0.849457</td>\n",
              "      <td>-0.949950</td>\n",
              "      <td>-0.727481</td>\n",
              "      <td>-0.755319</td>\n",
              "      <td>-0.592415</td>\n",
              "      <td>-0.557271</td>\n",
              "      <td>-0.415539</td>\n",
              "    </tr>\n",
              "    <tr>\n",
              "      <th>86</th>\n",
              "      <td>-0.878977</td>\n",
              "      <td>-1.016860</td>\n",
              "      <td>-1.091883</td>\n",
              "      <td>-0.849457</td>\n",
              "      <td>-0.949950</td>\n",
              "      <td>-0.727481</td>\n",
              "      <td>-0.755319</td>\n",
              "      <td>-0.592415</td>\n",
              "      <td>-0.557271</td>\n",
              "      <td>-0.415539</td>\n",
              "      <td>-0.370612</td>\n",
              "    </tr>\n",
              "    <tr>\n",
              "      <th>87</th>\n",
              "      <td>-1.016860</td>\n",
              "      <td>-1.091883</td>\n",
              "      <td>-0.849457</td>\n",
              "      <td>-0.949950</td>\n",
              "      <td>-0.727481</td>\n",
              "      <td>-0.755319</td>\n",
              "      <td>-0.592415</td>\n",
              "      <td>-0.557271</td>\n",
              "      <td>-0.415539</td>\n",
              "      <td>-0.370612</td>\n",
              "      <td>-0.072561</td>\n",
              "    </tr>\n",
              "    <tr>\n",
              "      <th>88</th>\n",
              "      <td>-1.091883</td>\n",
              "      <td>-0.849457</td>\n",
              "      <td>-0.949950</td>\n",
              "      <td>-0.727481</td>\n",
              "      <td>-0.755319</td>\n",
              "      <td>-0.592415</td>\n",
              "      <td>-0.557271</td>\n",
              "      <td>-0.415539</td>\n",
              "      <td>-0.370612</td>\n",
              "      <td>-0.072561</td>\n",
              "      <td>-0.113901</td>\n",
              "    </tr>\n",
              "    <tr>\n",
              "      <th>89</th>\n",
              "      <td>-0.849457</td>\n",
              "      <td>-0.949950</td>\n",
              "      <td>-0.727481</td>\n",
              "      <td>-0.755319</td>\n",
              "      <td>-0.592415</td>\n",
              "      <td>-0.557271</td>\n",
              "      <td>-0.415539</td>\n",
              "      <td>-0.370612</td>\n",
              "      <td>-0.072561</td>\n",
              "      <td>-0.113901</td>\n",
              "      <td>0.040199</td>\n",
              "    </tr>\n",
              "  </tbody>\n",
              "</table>\n",
              "<p>90 rows × 11 columns</p>\n",
              "</div>\n",
              "    <div class=\"colab-df-buttons\">\n",
              "\n",
              "  <div class=\"colab-df-container\">\n",
              "    <button class=\"colab-df-convert\" onclick=\"convertToInteractive('df-120807bd-dfab-44ac-b2a9-b0789becdbf4')\"\n",
              "            title=\"Convert this dataframe to an interactive table.\"\n",
              "            style=\"display:none;\">\n",
              "\n",
              "  <svg xmlns=\"http://www.w3.org/2000/svg\" height=\"24px\" viewBox=\"0 -960 960 960\">\n",
              "    <path d=\"M120-120v-720h720v720H120Zm60-500h600v-160H180v160Zm220 220h160v-160H400v160Zm0 220h160v-160H400v160ZM180-400h160v-160H180v160Zm440 0h160v-160H620v160ZM180-180h160v-160H180v160Zm440 0h160v-160H620v160Z\"/>\n",
              "  </svg>\n",
              "    </button>\n",
              "\n",
              "  <style>\n",
              "    .colab-df-container {\n",
              "      display:flex;\n",
              "      gap: 12px;\n",
              "    }\n",
              "\n",
              "    .colab-df-convert {\n",
              "      background-color: #E8F0FE;\n",
              "      border: none;\n",
              "      border-radius: 50%;\n",
              "      cursor: pointer;\n",
              "      display: none;\n",
              "      fill: #1967D2;\n",
              "      height: 32px;\n",
              "      padding: 0 0 0 0;\n",
              "      width: 32px;\n",
              "    }\n",
              "\n",
              "    .colab-df-convert:hover {\n",
              "      background-color: #E2EBFA;\n",
              "      box-shadow: 0px 1px 2px rgba(60, 64, 67, 0.3), 0px 1px 3px 1px rgba(60, 64, 67, 0.15);\n",
              "      fill: #174EA6;\n",
              "    }\n",
              "\n",
              "    .colab-df-buttons div {\n",
              "      margin-bottom: 4px;\n",
              "    }\n",
              "\n",
              "    [theme=dark] .colab-df-convert {\n",
              "      background-color: #3B4455;\n",
              "      fill: #D2E3FC;\n",
              "    }\n",
              "\n",
              "    [theme=dark] .colab-df-convert:hover {\n",
              "      background-color: #434B5C;\n",
              "      box-shadow: 0px 1px 3px 1px rgba(0, 0, 0, 0.15);\n",
              "      filter: drop-shadow(0px 1px 2px rgba(0, 0, 0, 0.3));\n",
              "      fill: #FFFFFF;\n",
              "    }\n",
              "  </style>\n",
              "\n",
              "    <script>\n",
              "      const buttonEl =\n",
              "        document.querySelector('#df-120807bd-dfab-44ac-b2a9-b0789becdbf4 button.colab-df-convert');\n",
              "      buttonEl.style.display =\n",
              "        google.colab.kernel.accessAllowed ? 'block' : 'none';\n",
              "\n",
              "      async function convertToInteractive(key) {\n",
              "        const element = document.querySelector('#df-120807bd-dfab-44ac-b2a9-b0789becdbf4');\n",
              "        const dataTable =\n",
              "          await google.colab.kernel.invokeFunction('convertToInteractive',\n",
              "                                                    [key], {});\n",
              "        if (!dataTable) return;\n",
              "\n",
              "        const docLinkHtml = 'Like what you see? Visit the ' +\n",
              "          '<a target=\"_blank\" href=https://colab.research.google.com/notebooks/data_table.ipynb>data table notebook</a>'\n",
              "          + ' to learn more about interactive tables.';\n",
              "        element.innerHTML = '';\n",
              "        dataTable['output_type'] = 'display_data';\n",
              "        await google.colab.output.renderOutput(dataTable, element);\n",
              "        const docLink = document.createElement('div');\n",
              "        docLink.innerHTML = docLinkHtml;\n",
              "        element.appendChild(docLink);\n",
              "      }\n",
              "    </script>\n",
              "  </div>\n",
              "\n",
              "\n",
              "<div id=\"df-0cd8699a-c708-4ad7-8122-9b7a2726d14f\">\n",
              "  <button class=\"colab-df-quickchart\" onclick=\"quickchart('df-0cd8699a-c708-4ad7-8122-9b7a2726d14f')\"\n",
              "            title=\"Suggest charts\"\n",
              "            style=\"display:none;\">\n",
              "\n",
              "<svg xmlns=\"http://www.w3.org/2000/svg\" height=\"24px\"viewBox=\"0 0 24 24\"\n",
              "     width=\"24px\">\n",
              "    <g>\n",
              "        <path d=\"M19 3H5c-1.1 0-2 .9-2 2v14c0 1.1.9 2 2 2h14c1.1 0 2-.9 2-2V5c0-1.1-.9-2-2-2zM9 17H7v-7h2v7zm4 0h-2V7h2v10zm4 0h-2v-4h2v4z\"/>\n",
              "    </g>\n",
              "</svg>\n",
              "  </button>\n",
              "\n",
              "<style>\n",
              "  .colab-df-quickchart {\n",
              "      --bg-color: #E8F0FE;\n",
              "      --fill-color: #1967D2;\n",
              "      --hover-bg-color: #E2EBFA;\n",
              "      --hover-fill-color: #174EA6;\n",
              "      --disabled-fill-color: #AAA;\n",
              "      --disabled-bg-color: #DDD;\n",
              "  }\n",
              "\n",
              "  [theme=dark] .colab-df-quickchart {\n",
              "      --bg-color: #3B4455;\n",
              "      --fill-color: #D2E3FC;\n",
              "      --hover-bg-color: #434B5C;\n",
              "      --hover-fill-color: #FFFFFF;\n",
              "      --disabled-bg-color: #3B4455;\n",
              "      --disabled-fill-color: #666;\n",
              "  }\n",
              "\n",
              "  .colab-df-quickchart {\n",
              "    background-color: var(--bg-color);\n",
              "    border: none;\n",
              "    border-radius: 50%;\n",
              "    cursor: pointer;\n",
              "    display: none;\n",
              "    fill: var(--fill-color);\n",
              "    height: 32px;\n",
              "    padding: 0;\n",
              "    width: 32px;\n",
              "  }\n",
              "\n",
              "  .colab-df-quickchart:hover {\n",
              "    background-color: var(--hover-bg-color);\n",
              "    box-shadow: 0 1px 2px rgba(60, 64, 67, 0.3), 0 1px 3px 1px rgba(60, 64, 67, 0.15);\n",
              "    fill: var(--button-hover-fill-color);\n",
              "  }\n",
              "\n",
              "  .colab-df-quickchart-complete:disabled,\n",
              "  .colab-df-quickchart-complete:disabled:hover {\n",
              "    background-color: var(--disabled-bg-color);\n",
              "    fill: var(--disabled-fill-color);\n",
              "    box-shadow: none;\n",
              "  }\n",
              "\n",
              "  .colab-df-spinner {\n",
              "    border: 2px solid var(--fill-color);\n",
              "    border-color: transparent;\n",
              "    border-bottom-color: var(--fill-color);\n",
              "    animation:\n",
              "      spin 1s steps(1) infinite;\n",
              "  }\n",
              "\n",
              "  @keyframes spin {\n",
              "    0% {\n",
              "      border-color: transparent;\n",
              "      border-bottom-color: var(--fill-color);\n",
              "      border-left-color: var(--fill-color);\n",
              "    }\n",
              "    20% {\n",
              "      border-color: transparent;\n",
              "      border-left-color: var(--fill-color);\n",
              "      border-top-color: var(--fill-color);\n",
              "    }\n",
              "    30% {\n",
              "      border-color: transparent;\n",
              "      border-left-color: var(--fill-color);\n",
              "      border-top-color: var(--fill-color);\n",
              "      border-right-color: var(--fill-color);\n",
              "    }\n",
              "    40% {\n",
              "      border-color: transparent;\n",
              "      border-right-color: var(--fill-color);\n",
              "      border-top-color: var(--fill-color);\n",
              "    }\n",
              "    60% {\n",
              "      border-color: transparent;\n",
              "      border-right-color: var(--fill-color);\n",
              "    }\n",
              "    80% {\n",
              "      border-color: transparent;\n",
              "      border-right-color: var(--fill-color);\n",
              "      border-bottom-color: var(--fill-color);\n",
              "    }\n",
              "    90% {\n",
              "      border-color: transparent;\n",
              "      border-bottom-color: var(--fill-color);\n",
              "    }\n",
              "  }\n",
              "</style>\n",
              "\n",
              "  <script>\n",
              "    async function quickchart(key) {\n",
              "      const quickchartButtonEl =\n",
              "        document.querySelector('#' + key + ' button');\n",
              "      quickchartButtonEl.disabled = true;  // To prevent multiple clicks.\n",
              "      quickchartButtonEl.classList.add('colab-df-spinner');\n",
              "      try {\n",
              "        const charts = await google.colab.kernel.invokeFunction(\n",
              "            'suggestCharts', [key], {});\n",
              "      } catch (error) {\n",
              "        console.error('Error during call to suggestCharts:', error);\n",
              "      }\n",
              "      quickchartButtonEl.classList.remove('colab-df-spinner');\n",
              "      quickchartButtonEl.classList.add('colab-df-quickchart-complete');\n",
              "    }\n",
              "    (() => {\n",
              "      let quickchartButtonEl =\n",
              "        document.querySelector('#df-0cd8699a-c708-4ad7-8122-9b7a2726d14f button');\n",
              "      quickchartButtonEl.style.display =\n",
              "        google.colab.kernel.accessAllowed ? 'block' : 'none';\n",
              "    })();\n",
              "  </script>\n",
              "</div>\n",
              "\n",
              "  <div id=\"id_47e37c50-3ac1-40a9-908b-eaf7d9a7c038\">\n",
              "    <style>\n",
              "      .colab-df-generate {\n",
              "        background-color: #E8F0FE;\n",
              "        border: none;\n",
              "        border-radius: 50%;\n",
              "        cursor: pointer;\n",
              "        display: none;\n",
              "        fill: #1967D2;\n",
              "        height: 32px;\n",
              "        padding: 0 0 0 0;\n",
              "        width: 32px;\n",
              "      }\n",
              "\n",
              "      .colab-df-generate:hover {\n",
              "        background-color: #E2EBFA;\n",
              "        box-shadow: 0px 1px 2px rgba(60, 64, 67, 0.3), 0px 1px 3px 1px rgba(60, 64, 67, 0.15);\n",
              "        fill: #174EA6;\n",
              "      }\n",
              "\n",
              "      [theme=dark] .colab-df-generate {\n",
              "        background-color: #3B4455;\n",
              "        fill: #D2E3FC;\n",
              "      }\n",
              "\n",
              "      [theme=dark] .colab-df-generate:hover {\n",
              "        background-color: #434B5C;\n",
              "        box-shadow: 0px 1px 3px 1px rgba(0, 0, 0, 0.15);\n",
              "        filter: drop-shadow(0px 1px 2px rgba(0, 0, 0, 0.3));\n",
              "        fill: #FFFFFF;\n",
              "      }\n",
              "    </style>\n",
              "    <button class=\"colab-df-generate\" onclick=\"generateWithVariable('df')\"\n",
              "            title=\"Generate code using this dataframe.\"\n",
              "            style=\"display:none;\">\n",
              "\n",
              "  <svg xmlns=\"http://www.w3.org/2000/svg\" height=\"24px\"viewBox=\"0 0 24 24\"\n",
              "       width=\"24px\">\n",
              "    <path d=\"M7,19H8.4L18.45,9,17,7.55,7,17.6ZM5,21V16.75L18.45,3.32a2,2,0,0,1,2.83,0l1.4,1.43a1.91,1.91,0,0,1,.58,1.4,1.91,1.91,0,0,1-.58,1.4L9.25,21ZM18.45,9,17,7.55Zm-12,3A5.31,5.31,0,0,0,4.9,8.1,5.31,5.31,0,0,0,1,6.5,5.31,5.31,0,0,0,4.9,4.9,5.31,5.31,0,0,0,6.5,1,5.31,5.31,0,0,0,8.1,4.9,5.31,5.31,0,0,0,12,6.5,5.46,5.46,0,0,0,6.5,12Z\"/>\n",
              "  </svg>\n",
              "    </button>\n",
              "    <script>\n",
              "      (() => {\n",
              "      const buttonEl =\n",
              "        document.querySelector('#id_47e37c50-3ac1-40a9-908b-eaf7d9a7c038 button.colab-df-generate');\n",
              "      buttonEl.style.display =\n",
              "        google.colab.kernel.accessAllowed ? 'block' : 'none';\n",
              "\n",
              "      buttonEl.onclick = () => {\n",
              "        google.colab.notebook.generateWithVariable('df');\n",
              "      }\n",
              "      })();\n",
              "    </script>\n",
              "  </div>\n",
              "\n",
              "    </div>\n",
              "  </div>\n"
            ],
            "application/vnd.google.colaboratory.intrinsic+json": {
              "type": "dataframe",
              "variable_name": "df",
              "summary": "{\n  \"name\": \"df\",\n  \"rows\": 90,\n  \"fields\": [\n    {\n      \"column\": 0,\n      \"properties\": {\n        \"dtype\": \"number\",\n        \"std\": 0.7241596541245446,\n        \"min\": -1.0918830151632624,\n        \"max\": 1.1302351037085054,\n        \"num_unique_values\": 90,\n        \"samples\": [\n          -1.039003156771816,\n          0.42846376321161944,\n          0.6856207967395809\n        ],\n        \"semantic_type\": \"\",\n        \"description\": \"\"\n      }\n    },\n    {\n      \"column\": 1,\n      \"properties\": {\n        \"dtype\": \"number\",\n        \"std\": 0.7317625916427358,\n        \"min\": -1.0918830151632624,\n        \"max\": 1.1302351037085054,\n        \"num_unique_values\": 90,\n        \"samples\": [\n          -1.0234551571654795,\n          0.1460940307458966,\n          0.7412434308958502\n        ],\n        \"semantic_type\": \"\",\n        \"description\": \"\"\n      }\n    },\n    {\n      \"column\": 2,\n      \"properties\": {\n        \"dtype\": \"number\",\n        \"std\": 0.7361393643428352,\n        \"min\": -1.0918830151632624,\n        \"max\": 1.1302351037085054,\n        \"num_unique_values\": 90,\n        \"samples\": [\n          -0.9852029711128372,\n          0.3220315057029432,\n          0.8448231418243137\n        ],\n        \"semantic_type\": \"\",\n        \"description\": \"\"\n      }\n    },\n    {\n      \"column\": 3,\n      \"properties\": {\n        \"dtype\": \"number\",\n        \"std\": 0.7400291201589838,\n        \"min\": -1.0918830151632624,\n        \"max\": 1.1302351037085054,\n        \"num_unique_values\": 90,\n        \"samples\": [\n          -0.5395141691343542,\n          -0.17716450095794434,\n          0.8180211540794857\n        ],\n        \"semantic_type\": \"\",\n        \"description\": \"\"\n      }\n    },\n    {\n      \"column\": 4,\n      \"properties\": {\n        \"dtype\": \"number\",\n        \"std\": 0.740278414818605,\n        \"min\": -1.0918830151632624,\n        \"max\": 1.1302351037085054,\n        \"num_unique_values\": 90,\n        \"samples\": [\n          -0.6937528278617049,\n          -0.15342554424320548,\n          0.8978737436663928\n        ],\n        \"semantic_type\": \"\",\n        \"description\": \"\"\n      }\n    },\n    {\n      \"column\": 5,\n      \"properties\": {\n        \"dtype\": \"number\",\n        \"std\": 0.739236015006653,\n        \"min\": -1.0918830151632624,\n        \"max\": 1.1302351037085054,\n        \"num_unique_values\": 90,\n        \"samples\": [\n          -0.5844482476167161,\n          -0.3004509418440132,\n          0.9045655235459467\n        ],\n        \"semantic_type\": \"\",\n        \"description\": \"\"\n      }\n    },\n    {\n      \"column\": 6,\n      \"properties\": {\n        \"dtype\": \"number\",\n        \"std\": 0.7385482756642883,\n        \"min\": -1.0918830151632624,\n        \"max\": 1.1302351037085054,\n        \"num_unique_values\": 90,\n        \"samples\": [\n          -0.5550744480941645,\n          -0.24765261397076802,\n          0.9578831483072\n        ],\n        \"semantic_type\": \"\",\n        \"description\": \"\"\n      }\n    },\n    {\n      \"column\": 7,\n      \"properties\": {\n        \"dtype\": \"number\",\n        \"std\": 0.734518704089871,\n        \"min\": -1.0918830151632624,\n        \"max\": 1.1302351037085054,\n        \"num_unique_values\": 90,\n        \"samples\": [\n          -0.23428441011529605,\n          -0.3667415145833779,\n          0.9185594994694297\n        ],\n        \"semantic_type\": \"\",\n        \"description\": \"\"\n      }\n    },\n    {\n      \"column\": 8,\n      \"properties\": {\n        \"dtype\": \"number\",\n        \"std\": 0.7297008560730984,\n        \"min\": -1.0918830151632624,\n        \"max\": 1.1302351037085054,\n        \"num_unique_values\": 90,\n        \"samples\": [\n          -0.35064102911620487,\n          -0.6026642436509136,\n          0.8171931816477651\n        ],\n        \"semantic_type\": \"\",\n        \"description\": \"\"\n      }\n    },\n    {\n      \"column\": 9,\n      \"properties\": {\n        \"dtype\": \"number\",\n        \"std\": 0.7237306995644498,\n        \"min\": -1.0918830151632624,\n        \"max\": 1.1302351037085054,\n        \"num_unique_values\": 90,\n        \"samples\": [\n          -0.08469794767796139,\n          -0.6748779194186456,\n          0.9815847727853173\n        ],\n        \"semantic_type\": \"\",\n        \"description\": \"\"\n      }\n    },\n    {\n      \"column\": \"y\",\n      \"properties\": {\n        \"dtype\": \"number\",\n        \"std\": 0.7159411612518898,\n        \"min\": -1.0918830151632624,\n        \"max\": 1.1302351037085054,\n        \"num_unique_values\": 90,\n        \"samples\": [\n          -0.02612273646280265,\n          -0.8845404152938434,\n          0.8821762004837554\n        ],\n        \"semantic_type\": \"\",\n        \"description\": \"\"\n      }\n    }\n  ]\n}"
            }
          },
          "metadata": {},
          "execution_count": 15
        }
      ]
    },
    {
      "cell_type": "code",
      "source": [
        "for i,seq in enumerate(X[:5]):\n",
        "  plt.plot(np.arange(10)+i,10*seq+i,'-ok')\n",
        "  plt.plot(11+i,10*y[i]+i,'xr')"
      ],
      "metadata": {
        "colab": {
          "base_uri": "https://localhost:8080/",
          "height": 430
        },
        "id": "xw5tRdmF7b6g",
        "outputId": "961636cd-0ae2-43aa-d927-7cfa451aebf4"
      },
      "execution_count": null,
      "outputs": [
        {
          "output_type": "display_data",
          "data": {
            "text/plain": [
              "<Figure size 640x480 with 1 Axes>"
            ],
            "image/png": "[encoded data removed]"
          },
          "metadata": {}
        }
      ]
    },
    {
      "cell_type": "code",
      "source": [
        "import pandas as pd"
      ],
      "metadata": {
        "id": "K6F7c7sL7D5A"
      },
      "execution_count": null,
      "outputs": []
    },
    {
      "cell_type": "code",
      "source": [
        "\n",
        "# Reshape for RNN (samples, time steps, features)\n",
        "X = X.reshape((X.shape[0], X.shape[1], 1))\n"
      ],
      "metadata": {
        "id": "h2iKbQeA64ZV"
      },
      "execution_count": null,
      "outputs": []
    },
    {
      "cell_type": "code",
      "source": [
        "import tensorflow as tf\n",
        "from tensorflow.keras.models import Sequential\n",
        "from tensorflow.keras.layers import SimpleRNN, Dense, Input\n",
        "\n",
        "# Define the model\n",
        "model = Sequential([\n",
        "    Input(shape=(seq_length, 1)),\n",
        "    SimpleRNN(1),\n",
        "    Dense(1)\n",
        "])\n",
        "\n",
        "# Compile the model\n",
        "model.compile(optimizer='adam', loss='mse')\n",
        "\n",
        "# Train the model\n",
        "model.fit(X, y, epochs=50, verbose=0)\n",
        "\n",
        "model.summary()"
      ],
      "metadata": {
        "colab": {
          "base_uri": "https://localhost:8080/",
          "height": 209
        },
        "id": "MVfbp7bc9pM9",
        "outputId": "c04a8025-c5b5-4361-9868-8d4e00af80a9"
      },
      "execution_count": null,
      "outputs": [
        {
          "output_type": "display_data",
          "data": {
            "text/plain": [
              "\u001b[1mModel: \"sequential_1\"\u001b[0m\n"
            ],
            "text/html": [
              "<pre style=\"white-space:pre;overflow-x:auto;line-height:normal;font-family:Menlo,'DejaVu Sans Mono',consolas,'Courier New',monospace\"><span style=\"font-weight: bold\">Model: \"sequential_1\"</span>\n",
              "</pre>\n"
            ]
          },
          "metadata": {}
        },
        {
          "output_type": "display_data",
          "data": {
            "text/plain": [
              "┏━━━━━━━━━━━━━━━━━━━━━━━━━━━━━━━━━━━━━━┳━━━━━━━━━━━━━━━━━━━━━━━━━━━━━┳━━━━━━━━━━━━━━━━━┓\n",
              "┃\u001b[1m \u001b[0m\u001b[1mLayer (type)                        \u001b[0m\u001b[1m \u001b[0m┃\u001b[1m \u001b[0m\u001b[1mOutput Shape               \u001b[0m\u001b[1m \u001b[0m┃\u001b[1m \u001b[0m\u001b[1m        Param #\u001b[0m\u001b[1m \u001b[0m┃\n",
              "┡━━━━━━━━━━━━━━━━━━━━━━━━━━━━━━━━━━━━━━╇━━━━━━━━━━━━━━━━━━━━━━━━━━━━━╇━━━━━━━━━━━━━━━━━┩\n",
              "│ simple_rnn_1 (\u001b[38;5;33mSimpleRNN\u001b[0m)             │ (\u001b[38;5;45mNone\u001b[0m, \u001b[38;5;34m1\u001b[0m)                   │               \u001b[38;5;34m3\u001b[0m │\n",
              "├──────────────────────────────────────┼─────────────────────────────┼─────────────────┤\n",
              "│ dense (\u001b[38;5;33mDense\u001b[0m)                        │ (\u001b[38;5;45mNone\u001b[0m, \u001b[38;5;34m1\u001b[0m)                   │               \u001b[38;5;34m2\u001b[0m │\n",
              "└──────────────────────────────────────┴─────────────────────────────┴─────────────────┘\n"
            ],
            "text/html": [
              "<pre style=\"white-space:pre;overflow-x:auto;line-height:normal;font-family:Menlo,'DejaVu Sans Mono',consolas,'Courier New',monospace\">┏━━━━━━━━━━━━━━━━━━━━━━━━━━━━━━━━━━━━━━┳━━━━━━━━━━━━━━━━━━━━━━━━━━━━━┳━━━━━━━━━━━━━━━━━┓\n",
              "┃<span style=\"font-weight: bold\"> Layer (type)                         </span>┃<span style=\"font-weight: bold\"> Output Shape                </span>┃<span style=\"font-weight: bold\">         Param # </span>┃\n",
              "┡━━━━━━━━━━━━━━━━━━━━━━━━━━━━━━━━━━━━━━╇━━━━━━━━━━━━━━━━━━━━━━━━━━━━━╇━━━━━━━━━━━━━━━━━┩\n",
              "│ simple_rnn_1 (<span style=\"color: #0087ff; text-decoration-color: #0087ff\">SimpleRNN</span>)             │ (<span style=\"color: #00d7ff; text-decoration-color: #00d7ff\">None</span>, <span style=\"color: #00af00; text-decoration-color: #00af00\">1</span>)                   │               <span style=\"color: #00af00; text-decoration-color: #00af00\">3</span> │\n",
              "├──────────────────────────────────────┼─────────────────────────────┼─────────────────┤\n",
              "│ dense (<span style=\"color: #0087ff; text-decoration-color: #0087ff\">Dense</span>)                        │ (<span style=\"color: #00d7ff; text-decoration-color: #00d7ff\">None</span>, <span style=\"color: #00af00; text-decoration-color: #00af00\">1</span>)                   │               <span style=\"color: #00af00; text-decoration-color: #00af00\">2</span> │\n",
              "└──────────────────────────────────────┴─────────────────────────────┴─────────────────┘\n",
              "</pre>\n"
            ]
          },
          "metadata": {}
        },
        {
          "output_type": "display_data",
          "data": {
            "text/plain": [
              "\u001b[1m Total params: \u001b[0m\u001b[38;5;34m17\u001b[0m (72.00 B)\n"
            ],
            "text/html": [
              "<pre style=\"white-space:pre;overflow-x:auto;line-height:normal;font-family:Menlo,'DejaVu Sans Mono',consolas,'Courier New',monospace\"><span style=\"font-weight: bold\"> Total params: </span><span style=\"color: #00af00; text-decoration-color: #00af00\">17</span> (72.00 B)\n",
              "</pre>\n"
            ]
          },
          "metadata": {}
        },
        {
          "output_type": "display_data",
          "data": {
            "text/plain": [
              "\u001b[1m Trainable params: \u001b[0m\u001b[38;5;34m5\u001b[0m (20.00 B)\n"
            ],
            "text/html": [
              "<pre style=\"white-space:pre;overflow-x:auto;line-height:normal;font-family:Menlo,'DejaVu Sans Mono',consolas,'Courier New',monospace\"><span style=\"font-weight: bold\"> Trainable params: </span><span style=\"color: #00af00; text-decoration-color: #00af00\">5</span> (20.00 B)\n",
              "</pre>\n"
            ]
          },
          "metadata": {}
        },
        {
          "output_type": "display_data",
          "data": {
            "text/plain": [
              "\u001b[1m Non-trainable params: \u001b[0m\u001b[38;5;34m0\u001b[0m (0.00 B)\n"
            ],
            "text/html": [
              "<pre style=\"white-space:pre;overflow-x:auto;line-height:normal;font-family:Menlo,'DejaVu Sans Mono',consolas,'Courier New',monospace\"><span style=\"font-weight: bold\"> Non-trainable params: </span><span style=\"color: #00af00; text-decoration-color: #00af00\">0</span> (0.00 B)\n",
              "</pre>\n"
            ]
          },
          "metadata": {}
        },
        {
          "output_type": "display_data",
          "data": {
            "text/plain": [
              "\u001b[1m Optimizer params: \u001b[0m\u001b[38;5;34m12\u001b[0m (52.00 B)\n"
            ],
            "text/html": [
              "<pre style=\"white-space:pre;overflow-x:auto;line-height:normal;font-family:Menlo,'DejaVu Sans Mono',consolas,'Courier New',monospace\"><span style=\"font-weight: bold\"> Optimizer params: </span><span style=\"color: #00af00; text-decoration-color: #00af00\">12</span> (52.00 B)\n",
              "</pre>\n"
            ]
          },
          "metadata": {}
        }
      ]
    },
    {
      "cell_type": "code",
      "source": [
        "# Extract weights\n",
        "rnn_weights = model.layers[0].get_weights()  # RNN layer weights\n",
        "dense_weights = model.layers[1].get_weights()  # Dense layer weights\n"
      ],
      "metadata": {
        "id": "k-J3UtONOsWT"
      },
      "execution_count": null,
      "outputs": []
    },
    {
      "cell_type": "code",
      "source": [
        "rnn_weights"
      ],
      "metadata": {
        "colab": {
          "base_uri": "https://localhost:8080/"
        },
        "id": "fErzVVkLOuAY",
        "outputId": "58208657-b835-45dd-9db6-549170819909"
      },
      "execution_count": null,
      "outputs": [
        {
          "output_type": "execute_result",
          "data": {
            "text/plain": [
              "[array([[0.96408546]], dtype=float32),\n",
              " array([[-1.1382829]], dtype=float32),\n",
              " array([0.0071776], dtype=float32)]"
            ]
          },
          "metadata": {},
          "execution_count": 22
        }
      ]
    },
    {
      "cell_type": "code",
      "source": [
        "\n",
        "# Unpack RNN weights\n",
        "# presente,pasado y bias\n",
        "W_xh, W_hh, b_h = rnn_weights[0], rnn_weights[1], rnn_weights[2]\n",
        "# Dense weights (activacion + sesgo)\n",
        "W_hy, b_y = dense_weights[0], dense_weights[1]\n"
      ],
      "metadata": {
        "id": "03FBvMW4-Cnw"
      },
      "execution_count": null,
      "outputs": []
    },
    {
      "cell_type": "code",
      "source": [
        "dense_weights"
      ],
      "metadata": {
        "colab": {
          "base_uri": "https://localhost:8080/"
        },
        "id": "FYrme-D4CnyE",
        "outputId": "cbdd4c2a-59ab-4847-9a6f-a84525278462"
      },
      "execution_count": null,
      "outputs": [
        {
          "output_type": "execute_result",
          "data": {
            "text/plain": [
              "[array([[-0.06015556]], dtype=float32), array([-0.04794153], dtype=float32)]"
            ]
          },
          "metadata": {},
          "execution_count": 24
        }
      ]
    },
    {
      "cell_type": "code",
      "source": [
        "X[0]"
      ],
      "metadata": {
        "colab": {
          "base_uri": "https://localhost:8080/"
        },
        "id": "MjmDGqbrDemG",
        "outputId": "09ecbdbe-40c7-4454-94c3-db012639b5bd"
      },
      "execution_count": null,
      "outputs": [
        {
          "output_type": "execute_result",
          "data": {
            "text/plain": [
              "array([[0.17640523],\n",
              "       [0.16660817],\n",
              "       [0.34902179],\n",
              "       [0.59575178],\n",
              "       [0.67295254],\n",
              "       [0.49518014],\n",
              "       [0.78508785],\n",
              "       [0.76101074],\n",
              "       [0.83940354],\n",
              "       [0.95069185]])"
            ]
          },
          "metadata": {},
          "execution_count": 25
        }
      ]
    },
    {
      "cell_type": "code",
      "source": [
        "model.predict(X[0],verbose=0)"
      ],
      "metadata": {
        "colab": {
          "base_uri": "https://localhost:8080/"
        },
        "id": "jsDk9sMaDxSO",
        "outputId": "d9334cde-1a6d-4755-8f90-3e29d6b60f2d"
      },
      "execution_count": null,
      "outputs": [
        {
          "output_type": "execute_result",
          "data": {
            "text/plain": [
              "array([[-0.05849367],\n",
              "       [-0.05794207],\n",
              "       [-0.06783768],\n",
              "       [-0.07944974],\n",
              "       [-0.08257125],\n",
              "       [-0.07500545],\n",
              "       [-0.08664969],\n",
              "       [-0.08581924],\n",
              "       [-0.08843371],\n",
              "       [-0.09171404]], dtype=float32)"
            ]
          },
          "metadata": {},
          "execution_count": 26
        }
      ]
    },
    {
      "cell_type": "code",
      "source": [],
      "metadata": {
        "id": "4WDDu1lRO-tb"
      },
      "execution_count": null,
      "outputs": []
    },
    {
      "cell_type": "code",
      "source": [
        "class SimpleRNN:\n",
        "    def __init__(self, W_xh, W_hh, b_h, W_hy, b_y):\n",
        "        self.W_xh = W_xh  # Input to hidden weights\n",
        "        self.W_hh = W_hh  # Hidden to hidden weights\n",
        "        self.b_h = b_h    # Hidden bias\n",
        "        self.W_hy = W_hy  # Hidden to output weights\n",
        "        self.b_y = b_y    # Output bias\n",
        "\n",
        "    def forward(self, x_seq):\n",
        "        \"\"\"\n",
        "        Perform the forward pass for a sequence.\n",
        "\n",
        "        Args:\n",
        "            x_seq: Input sequence of shape (sequence_length, input_dim)\n",
        "\n",
        "        Returns:\n",
        "            y: Prediction of shape (output_dim,)\n",
        "        \"\"\"\n",
        "        h_prev = np.zeros(self.W_hh.shape[0])\n",
        "        for x in x_seq:\n",
        "            h = np.tanh(np.dot(x, self.W_xh) + np.dot(h_prev, self.W_hh) + self.b_h)\n",
        "            h_prev = h\n",
        "\n",
        "        y = np.dot(h, self.W_hy) + self.b_y\n",
        "        return y\n",
        "\n",
        "# Initialize the RNN with TensorFlow weights\n",
        "rnn = SimpleRNN(W_xh, W_hh, b_h, W_hy, b_y)\n",
        "\n",
        "# Use the RNN to make predictions on the data\n",
        "predictions = np.array([rnn.forward(seq) for seq in X])\n"
      ],
      "metadata": {
        "id": "GYVzpGZa-AKs"
      },
      "execution_count": null,
      "outputs": []
    },
    {
      "cell_type": "code",
      "source": [
        "\n",
        "# Compare predictions with actual values\n",
        "plt.figure(figsize=(13,3))\n",
        "plt.plot(np.arange(len(signal)),signal, 'k',label='signal')\n",
        "plt.plot(np.arange(len(y))+10,y, label='y_train')\n",
        "plt.plot(np.arange(len(y))+10,predictions, label='y_pred', linestyle='--')\n",
        "plt.legend()\n",
        "plt.title('RNN Predictions vs Actual Values')\n",
        "plt.xlabel('Sample Index')\n",
        "plt.ylabel('Value')\n",
        "plt.show()\n"
      ],
      "metadata": {
        "colab": {
          "base_uri": "https://localhost:8080/",
          "height": 315
        },
        "id": "EyvL4YzY_wah",
        "outputId": "54375fcb-ee1d-4495-97f8-3e9bb1b20ce7"
      },
      "execution_count": null,
      "outputs": [
        {
          "output_type": "display_data",
          "data": {
            "text/plain": [
              "<Figure size 1300x300 with 1 Axes>"
            ],
            "image/png": "[encoded data removed]"
          },
          "metadata": {}
        }
      ]
    },
    {
      "cell_type": "code",
      "source": [],
      "metadata": {
        "id": "iaO6AzosEmAL"
      },
      "execution_count": null,
      "outputs": []
    },
    {
      "cell_type": "code",
      "source": [
        "import numpy as np\n",
        "import tensorflow as tf\n",
        "from tensorflow.keras.models import Sequential\n",
        "from tensorflow.keras.layers import Input, SimpleRNN, Dense\n",
        "import matplotlib.pyplot as plt\n",
        "\n",
        "# Generate and prepare data\n",
        "np.random.seed(0)\n",
        "n_points = 100\n",
        "x = np.linspace(0, 4 * np.pi, n_points)\n",
        "y = np.sin(x) + np.random.normal(scale=0.1, size=n_points)\n",
        "\n",
        "def create_sequences(data, seq_length):\n",
        "    X, y = [], []\n",
        "    for i in range(len(data) - seq_length):\n",
        "        X.append(data[i:i+seq_length])\n",
        "        y.append(data[i+seq_length])\n",
        "    return np.array(X), np.array(y)\n",
        "\n",
        "seq_length = 10\n",
        "X, y = create_sequences(y, seq_length)\n",
        "X = X.reshape((X.shape[0], X.shape[1], 1))\n",
        "\n",
        "# Define and compile the model\n",
        "model = Sequential([\n",
        "    Input(shape=(seq_length, 1)),\n",
        "    SimpleRNN(20),\n",
        "    Dense(1)\n",
        "])\n",
        "\n",
        "model.compile(optimizer='adam', loss='mse')\n",
        "\n",
        "# Train the model\n",
        "model.fit(X, y, epochs=20, verbose=0)\n",
        "\n",
        "# Predict on the entire dataset\n",
        "predictions = model.predict(X,verbose=0)\n",
        "\n",
        "# Predict on the first sequence\n",
        "prediction = model.predict(X[0:1])\n",
        "print(\"Prediction shape:\", prediction.shape)\n",
        "print(\"Prediction value:\", prediction[0, 0])\n",
        "\n",
        "# Plot the results\n",
        "plt.plot(y, label='Actual', color='blue')\n",
        "plt.plot(predictions, label='TensorFlow Predictions', linestyle='--', color='green')\n",
        "plt.legend()\n",
        "plt.title('Model Predictions vs Actual Values')\n",
        "plt.xlabel('Sample Index')\n",
        "plt.ylabel('Value')\n",
        "plt.show()\n"
      ],
      "metadata": {
        "colab": {
          "base_uri": "https://localhost:8080/",
          "height": 524
        },
        "id": "O2ouz4LtEfyv",
        "outputId": "261a58f0-c191-4bc6-c113-a5aa09eb4e8a"
      },
      "execution_count": null,
      "outputs": [
        {
          "output_type": "stream",
          "name": "stdout",
          "text": [
            "\u001b[1m1/1\u001b[0m \u001b[32m━━━━━━━━━━━━━━━━━━━━\u001b[0m\u001b[37m\u001b[0m \u001b[1m0s\u001b[0m 18ms/step\n",
            "Prediction shape: (1, 1)\n",
            "Prediction value: 0.8199857\n"
          ]
        },
        {
          "output_type": "display_data",
          "data": {
            "text/plain": [
              "<Figure size 640x480 with 1 Axes>"
            ],
            "image/png": "[encoded data removed]"
          },
          "metadata": {}
        }
      ]
    },
    {
      "cell_type": "code",
      "source": [
        "model.summary()"
      ],
      "metadata": {
        "colab": {
          "base_uri": "https://localhost:8080/",
          "height": 209
        },
        "id": "Muv4qWfmFwhT",
        "outputId": "fe28c5d2-aaf8-4b54-c30f-41dac703f215"
      },
      "execution_count": null,
      "outputs": [
        {
          "output_type": "display_data",
          "data": {
            "text/plain": [
              "\u001b[1mModel: \"sequential_6\"\u001b[0m\n"
            ],
            "text/html": [
              "<pre style=\"white-space:pre;overflow-x:auto;line-height:normal;font-family:Menlo,'DejaVu Sans Mono',consolas,'Courier New',monospace\"><span style=\"font-weight: bold\">Model: \"sequential_6\"</span>\n",
              "</pre>\n"
            ]
          },
          "metadata": {}
        },
        {
          "output_type": "display_data",
          "data": {
            "text/plain": [
              "┏━━━━━━━━━━━━━━━━━━━━━━━━━━━━━━━━━━━━━━┳━━━━━━━━━━━━━━━━━━━━━━━━━━━━━┳━━━━━━━━━━━━━━━━━┓\n",
              "┃\u001b[1m \u001b[0m\u001b[1mLayer (type)                        \u001b[0m\u001b[1m \u001b[0m┃\u001b[1m \u001b[0m\u001b[1mOutput Shape               \u001b[0m\u001b[1m \u001b[0m┃\u001b[1m \u001b[0m\u001b[1m        Param #\u001b[0m\u001b[1m \u001b[0m┃\n",
              "┡━━━━━━━━━━━━━━━━━━━━━━━━━━━━━━━━━━━━━━╇━━━━━━━━━━━━━━━━━━━━━━━━━━━━━╇━━━━━━━━━━━━━━━━━┩\n",
              "│ simple_rnn_6 (\u001b[38;5;33mSimpleRNN\u001b[0m)             │ (\u001b[38;5;45mNone\u001b[0m, \u001b[38;5;34m20\u001b[0m)                  │             \u001b[38;5;34m440\u001b[0m │\n",
              "├──────────────────────────────────────┼─────────────────────────────┼─────────────────┤\n",
              "│ dense_5 (\u001b[38;5;33mDense\u001b[0m)                      │ (\u001b[38;5;45mNone\u001b[0m, \u001b[38;5;34m1\u001b[0m)                   │              \u001b[38;5;34m21\u001b[0m │\n",
              "└──────────────────────────────────────┴─────────────────────────────┴─────────────────┘\n"
            ],
            "text/html": [
              "<pre style=\"white-space:pre;overflow-x:auto;line-height:normal;font-family:Menlo,'DejaVu Sans Mono',consolas,'Courier New',monospace\">┏━━━━━━━━━━━━━━━━━━━━━━━━━━━━━━━━━━━━━━┳━━━━━━━━━━━━━━━━━━━━━━━━━━━━━┳━━━━━━━━━━━━━━━━━┓\n",
              "┃<span style=\"font-weight: bold\"> Layer (type)                         </span>┃<span style=\"font-weight: bold\"> Output Shape                </span>┃<span style=\"font-weight: bold\">         Param # </span>┃\n",
              "┡━━━━━━━━━━━━━━━━━━━━━━━━━━━━━━━━━━━━━━╇━━━━━━━━━━━━━━━━━━━━━━━━━━━━━╇━━━━━━━━━━━━━━━━━┩\n",
              "│ simple_rnn_6 (<span style=\"color: #0087ff; text-decoration-color: #0087ff\">SimpleRNN</span>)             │ (<span style=\"color: #00d7ff; text-decoration-color: #00d7ff\">None</span>, <span style=\"color: #00af00; text-decoration-color: #00af00\">20</span>)                  │             <span style=\"color: #00af00; text-decoration-color: #00af00\">440</span> │\n",
              "├──────────────────────────────────────┼─────────────────────────────┼─────────────────┤\n",
              "│ dense_5 (<span style=\"color: #0087ff; text-decoration-color: #0087ff\">Dense</span>)                      │ (<span style=\"color: #00d7ff; text-decoration-color: #00d7ff\">None</span>, <span style=\"color: #00af00; text-decoration-color: #00af00\">1</span>)                   │              <span style=\"color: #00af00; text-decoration-color: #00af00\">21</span> │\n",
              "└──────────────────────────────────────┴─────────────────────────────┴─────────────────┘\n",
              "</pre>\n"
            ]
          },
          "metadata": {}
        },
        {
          "output_type": "display_data",
          "data": {
            "text/plain": [
              "\u001b[1m Total params: \u001b[0m\u001b[38;5;34m1,385\u001b[0m (5.41 KB)\n"
            ],
            "text/html": [
              "<pre style=\"white-space:pre;overflow-x:auto;line-height:normal;font-family:Menlo,'DejaVu Sans Mono',consolas,'Courier New',monospace\"><span style=\"font-weight: bold\"> Total params: </span><span style=\"color: #00af00; text-decoration-color: #00af00\">1,385</span> (5.41 KB)\n",
              "</pre>\n"
            ]
          },
          "metadata": {}
        },
        {
          "output_type": "display_data",
          "data": {
            "text/plain": [
              "\u001b[1m Trainable params: \u001b[0m\u001b[38;5;34m461\u001b[0m (1.80 KB)\n"
            ],
            "text/html": [
              "<pre style=\"white-space:pre;overflow-x:auto;line-height:normal;font-family:Menlo,'DejaVu Sans Mono',consolas,'Courier New',monospace\"><span style=\"font-weight: bold\"> Trainable params: </span><span style=\"color: #00af00; text-decoration-color: #00af00\">461</span> (1.80 KB)\n",
              "</pre>\n"
            ]
          },
          "metadata": {}
        },
        {
          "output_type": "display_data",
          "data": {
            "text/plain": [
              "\u001b[1m Non-trainable params: \u001b[0m\u001b[38;5;34m0\u001b[0m (0.00 B)\n"
            ],
            "text/html": [
              "<pre style=\"white-space:pre;overflow-x:auto;line-height:normal;font-family:Menlo,'DejaVu Sans Mono',consolas,'Courier New',monospace\"><span style=\"font-weight: bold\"> Non-trainable params: </span><span style=\"color: #00af00; text-decoration-color: #00af00\">0</span> (0.00 B)\n",
              "</pre>\n"
            ]
          },
          "metadata": {}
        },
        {
          "output_type": "display_data",
          "data": {
            "text/plain": [
              "\u001b[1m Optimizer params: \u001b[0m\u001b[38;5;34m924\u001b[0m (3.61 KB)\n"
            ],
            "text/html": [
              "<pre style=\"white-space:pre;overflow-x:auto;line-height:normal;font-family:Menlo,'DejaVu Sans Mono',consolas,'Courier New',monospace\"><span style=\"font-weight: bold\"> Optimizer params: </span><span style=\"color: #00af00; text-decoration-color: #00af00\">924</span> (3.61 KB)\n",
              "</pre>\n"
            ]
          },
          "metadata": {}
        }
      ]
    },
    {
      "cell_type": "code",
      "source": [
        "# Extract weights\n",
        "rnn_weights = model.layers[0].get_weights()  # SimpleRNN weights\n",
        "dense_weights = model.layers[1].get_weights()  # Dense layer weights\n",
        "\n",
        "# Unpack RNN weights\n",
        "W_xh, W_hh, b_h = rnn_weights[0], rnn_weights[1], rnn_weights[2]\n",
        "# Dense weights\n",
        "W_hy, b_y = dense_weights[0], dense_weights[1]"
      ],
      "metadata": {
        "id": "GHdz27chFIO5"
      },
      "execution_count": null,
      "outputs": []
    },
    {
      "cell_type": "code",
      "source": [
        "import numpy as np\n",
        "\n",
        "class SimpleRNN:\n",
        "    def __init__(self, W_xh, W_hh, b_h, W_hy, b_y):\n",
        "        self.W_xh = W_xh  # Input to hidden weights\n",
        "        self.W_hh = W_hh  # Hidden to hidden weights\n",
        "        self.b_h = b_h    # Hidden bias\n",
        "        self.W_hy = W_hy  # Hidden to output weights\n",
        "        self.b_y = b_y    # Output bias\n",
        "\n",
        "    def forward(self, x_seq):\n",
        "        \"\"\"\n",
        "        Perform the forward pass for a sequence.\n",
        "\n",
        "        Args:\n",
        "            x_seq: Input sequence of shape (sequence_length, input_dim)\n",
        "\n",
        "        Returns:\n",
        "            y: Prediction of shape (output_dim,)\n",
        "        \"\"\"\n",
        "        h_prev = np.zeros(self.W_hh.shape[0])\n",
        "        for x in x_seq:\n",
        "            h = np.tanh(np.dot(x, self.W_xh) + np.dot(h_prev, self.W_hh) + self.b_h)\n",
        "            h_prev = h\n",
        "        y = np.dot(h, self.W_hy) + self.b_y\n",
        "        return y\n",
        "\n",
        "# Initialize the RNN with TensorFlow weights\n",
        "rnn = SimpleRNN(W_xh, W_hh, b_h, W_hy, b_y)\n",
        "\n",
        "# Prepare the data\n",
        "X, y = create_sequences(y, seq_length)\n",
        "X = X.reshape((X.shape[0], X.shape[1], 1))\n",
        "\n",
        "# Predict on the first sequence using the NumPy implementation\n",
        "prediction_np = rnn.forward(X[0])\n",
        "\n",
        "print(\"NumPy Prediction:\", prediction_np)\n",
        "\n",
        "# Predict on the first sequence using TensorFlow\n",
        "prediction_tf = model.predict(X[0:1])\n",
        "\n",
        "print(\"TensorFlow Prediction:\", prediction_tf[0, 0])\n"
      ],
      "metadata": {
        "colab": {
          "base_uri": "https://localhost:8080/"
        },
        "id": "oTogcy7NFKG_",
        "outputId": "6905cdb9-27cf-4457-9b9d-ddfa3c2d5384"
      },
      "execution_count": null,
      "outputs": [
        {
          "output_type": "stream",
          "name": "stdout",
          "text": [
            "NumPy Prediction: [-0.46093966]\n",
            "\u001b[1m1/1\u001b[0m \u001b[32m━━━━━━━━━━━━━━━━━━━━\u001b[0m\u001b[37m\u001b[0m \u001b[1m0s\u001b[0m 19ms/step\n",
            "TensorFlow Prediction: -0.46093956\n"
          ]
        }
      ]
    },
    {
      "cell_type": "code",
      "source": [],
      "metadata": {
        "id": "2Rhs3ujJJc_H"
      },
      "execution_count": null,
      "outputs": []
    },
    {
      "cell_type": "markdown",
      "source": [
        "# Arquitecturas\n",
        "\n",
        "\n",
        "![](https://cdn-images-1.medium.com/max/800/1*XosBFfduA1cZB340SSL1hg.png)"
      ],
      "metadata": {
        "id": "vL-0upMnP_uL"
      }
    },
    {
      "cell_type": "markdown",
      "source": [
        "\n",
        "## One to one"
      ],
      "metadata": {
        "id": "MktAZkhLZSOU"
      }
    },
    {
      "cell_type": "code",
      "source": [],
      "metadata": {
        "id": "-bq-j96oVS_v"
      },
      "execution_count": null,
      "outputs": []
    },
    {
      "cell_type": "code",
      "source": [
        "import numpy as np\n",
        "from tensorflow.keras.models import Sequential\n",
        "from tensorflow.keras.layers import SimpleRNN, Dense\n",
        "\n",
        "# Create a simple dataset\n",
        "data = np.array([0, 1, 2, 3, 4, 5, 6, 7, 8, 9])\n",
        "X = data[:-1]  # Inputs: [0, 1, 2, 3, 4, 5, 6, 7, 8]\n",
        "y = data[1:]   # Outputs: [1, 2, 3, 4, 5, 6, 7, 8, 9]\n",
        "\n",
        "# Reshape X to be [samples, time steps, features]\n",
        "X = X.reshape((X.shape[0], 1, 1))\n",
        "\n",
        "print(\"Input shape:\", X.shape)\n",
        "print(\"Output shape:\", y.shape)\n"
      ],
      "metadata": {
        "colab": {
          "base_uri": "https://localhost:8080/"
        },
        "id": "b99x1qAyQDA2",
        "outputId": "9435f6b1-d6fa-4a7f-ebc4-1885afe90d20"
      },
      "execution_count": null,
      "outputs": [
        {
          "output_type": "stream",
          "name": "stdout",
          "text": [
            "Input shape: (9, 1, 1)\n",
            "Output shape: (9,)\n"
          ]
        }
      ]
    },
    {
      "cell_type": "code",
      "source": [
        "# Define the RNN model\n",
        "model = Sequential()\n",
        "model.add(Input(shape=(1, 1)))\n",
        "model.add(SimpleRNN(10, activation='tanh'))\n",
        "model.add(Dense(1))  # Output layer\n",
        "\n",
        "# Compile the model\n",
        "model.compile(optimizer='adam', loss='mse')\n",
        "\n",
        "# Train the model\n",
        "model.fit(X, y, epochs=20, verbose=0)\n"
      ],
      "metadata": {
        "colab": {
          "base_uri": "https://localhost:8080/"
        },
        "id": "uV85Sy-NVBNk",
        "outputId": "c050f5e2-5edf-4043-c8f0-2fd9651e375b"
      },
      "execution_count": null,
      "outputs": [
        {
          "output_type": "execute_result",
          "data": {
            "text/plain": [
              "<keras.src.callbacks.history.History at 0x7f90f90f3220>"
            ]
          },
          "metadata": {},
          "execution_count": 41
        }
      ]
    },
    {
      "cell_type": "code",
      "source": [
        "# Make predictions\n",
        "predictions = model.predict(X, verbose=0)\n",
        "\n",
        "# Display the predictions alongside the true values\n",
        "for i in range(len(X)):\n",
        "    print(f\"Input: {X[i][0][0]}, Prediction: {predictions[i][0]}, True Value: {y[i]}\")\n"
      ],
      "metadata": {
        "colab": {
          "base_uri": "https://localhost:8080/"
        },
        "id": "vH1gqitZVPQt",
        "outputId": "fb596f4d-f05f-49a9-d7e6-37da4fff1a18"
      },
      "execution_count": null,
      "outputs": [
        {
          "output_type": "stream",
          "name": "stdout",
          "text": [
            "Input: 0, Prediction: 0.10048844665288925, True Value: 1\n",
            "Input: 1, Prediction: -0.21609020233154297, True Value: 2\n",
            "Input: 2, Prediction: -0.4798681437969208, True Value: 3\n",
            "Input: 3, Prediction: -0.6447133421897888, True Value: 4\n",
            "Input: 4, Prediction: -0.7387430667877197, True Value: 5\n",
            "Input: 5, Prediction: -0.7936384677886963, True Value: 6\n",
            "Input: 6, Prediction: -0.8265664577484131, True Value: 7\n",
            "Input: 7, Prediction: -0.8462433815002441, True Value: 8\n",
            "Input: 8, Prediction: -0.8576133847236633, True Value: 9\n"
          ]
        }
      ]
    },
    {
      "cell_type": "code",
      "source": [],
      "metadata": {
        "id": "mXlb81IWVWEK"
      },
      "execution_count": null,
      "outputs": []
    },
    {
      "cell_type": "markdown",
      "source": [
        "# one to many"
      ],
      "metadata": {
        "id": "R7rFlY63ZPeV"
      }
    },
    {
      "cell_type": "code",
      "source": [
        "import numpy as np\n",
        "from tensorflow.keras.models import Sequential\n",
        "from tensorflow.keras.layers import SimpleRNN, Dense, TimeDistributed\n",
        "\n",
        "# Create a simple dataset\n",
        "data = np.array([0, 1, 2, 3, 4, 5, 6, 7, 8, 9])\n",
        "X = data[:-3]  # Inputs: [0, 1, 2, 3, 4, 5, 6]\n",
        "y = np.array([[i+1, i+2, i+3] for i in X])  # Outputs: [[1, 2, 3], [2, 3, 4], ...]\n",
        "\n",
        "# Reshape X to be [samples, time steps, features]\n",
        "X = X.reshape((X.shape[0], 1, 1))\n",
        "y = y.reshape((y.shape[0], y.shape[1], 1))  # Reshape y to match the output format\n",
        "\n",
        "print(\"Input shape:\", X.shape)\n",
        "print(\"Output shape:\", y.shape)\n"
      ],
      "metadata": {
        "colab": {
          "base_uri": "https://localhost:8080/"
        },
        "id": "qKv_vlE7ZQ9f",
        "outputId": "ea5ba5ba-9a72-4be9-889c-17327f0c65ca"
      },
      "execution_count": null,
      "outputs": [
        {
          "output_type": "stream",
          "name": "stdout",
          "text": [
            "Input shape: (7, 1, 1)\n",
            "Output shape: (7, 3, 1)\n"
          ]
        }
      ]
    },
    {
      "cell_type": "code",
      "source": [
        "# Define the RNN model\n",
        "model = Sequential()\n",
        "model.add(SimpleRNN(10, input_shape=(1, 1), activation='tanh', return_sequences=True))\n",
        "model.add(TimeDistributed(Dense(1)))  # TimeDistributed wrapper to produce a sequence of outputs\n",
        "\n",
        "# Compile the model\n",
        "model.compile(optimizer='adam', loss='mse')\n",
        "\n",
        "# Train the model\n",
        "model.fit(X, y, epochs=100, verbose=0)\n"
      ],
      "metadata": {
        "colab": {
          "base_uri": "https://localhost:8080/"
        },
        "id": "AJhovsWyaSu1",
        "outputId": "2bac7e04-f1e2-4d74-ca38-163b605f5d42"
      },
      "execution_count": null,
      "outputs": [
        {
          "output_type": "execute_result",
          "data": {
            "text/plain": [
              "<keras.src.callbacks.history.History at 0x7f90f355aa10>"
            ]
          },
          "metadata": {},
          "execution_count": 45
        }
      ]
    },
    {
      "cell_type": "code",
      "source": [
        "# Make predictions\n",
        "predictions = model.predict(X, verbose=0)\n",
        "\n",
        "# Display the predictions alongside the true values\n",
        "for i in range(len(X)):\n",
        "    print(f\"Input: {X[i][0][0]}, Prediction: {predictions[i].flatten()}, True Value: {y[i].flatten()}\")\n"
      ],
      "metadata": {
        "colab": {
          "base_uri": "https://localhost:8080/"
        },
        "id": "BDIXy9cQaVBO",
        "outputId": "7a998e72-893f-4432-bed2-dfde5260f2f8"
      },
      "execution_count": null,
      "outputs": [
        {
          "output_type": "stream",
          "name": "stdout",
          "text": [
            "Input: 0, Prediction: [0.43282482], True Value: [1 2 3]\n",
            "Input: 1, Prediction: [0.48216602], True Value: [2 3 4]\n",
            "Input: 2, Prediction: [0.30015427], True Value: [3 4 5]\n",
            "Input: 3, Prediction: [0.08385614], True Value: [4 5 6]\n",
            "Input: 4, Prediction: [-0.07444188], True Value: [5 6 7]\n",
            "Input: 5, Prediction: [-0.16980365], True Value: [6 7 8]\n",
            "Input: 6, Prediction: [-0.219825], True Value: [7 8 9]\n"
          ]
        }
      ]
    },
    {
      "cell_type": "markdown",
      "source": [
        "## many to one (classification)"
      ],
      "metadata": {
        "id": "ZeNPFKe0bUfR"
      }
    },
    {
      "cell_type": "code",
      "source": [
        "import numpy as np\n",
        "\n",
        "# Create synthetic data\n",
        "def generate_classification_data(num_samples, sequence_length, num_classes):\n",
        "    X = np.random.rand(num_samples, sequence_length)\n",
        "    # Create a simple rule for classification: sum > threshold -> class 1, else class 0\n",
        "    y = (np.sum(X, axis=1) > (sequence_length / 2)).astype(int)\n",
        "    return X, y\n",
        "\n",
        "# Parameters\n",
        "num_samples = 1000\n",
        "sequence_length = 10\n",
        "num_classes = 2  # Binary classification\n",
        "\n",
        "# Generate data\n",
        "X, y = generate_classification_data(num_samples, sequence_length, num_classes)\n"
      ],
      "metadata": {
        "id": "fFxdWpCebXKx"
      },
      "execution_count": null,
      "outputs": []
    },
    {
      "cell_type": "code",
      "source": [
        "X.shape"
      ],
      "metadata": {
        "colab": {
          "base_uri": "https://localhost:8080/"
        },
        "id": "UGyUn0OPiqcL",
        "outputId": "2ba71ee6-3869-4d42-b603-ac34537f7a70"
      },
      "execution_count": null,
      "outputs": [
        {
          "output_type": "execute_result",
          "data": {
            "text/plain": [
              "(1000, 10)"
            ]
          },
          "metadata": {},
          "execution_count": 49
        }
      ]
    },
    {
      "cell_type": "code",
      "source": [
        "y[:5]"
      ],
      "metadata": {
        "colab": {
          "base_uri": "https://localhost:8080/"
        },
        "id": "toDJm_sBisxD",
        "outputId": "bf34fa46-fd11-4d49-e882-d1fb1ff2515f"
      },
      "execution_count": null,
      "outputs": [
        {
          "output_type": "execute_result",
          "data": {
            "text/plain": [
              "array([0, 1, 1, 1, 0])"
            ]
          },
          "metadata": {},
          "execution_count": 51
        }
      ]
    },
    {
      "cell_type": "code",
      "source": [
        "import tensorflow as tf\n",
        "from tensorflow.keras.models import Sequential\n",
        "from tensorflow.keras.layers import SimpleRNN, Dense, Input\n",
        "\n",
        "# Define the RNN model\n",
        "model = Sequential()\n",
        "model.add(Input(shape=(sequence_length, 1)))\n",
        "model.add(SimpleRNN(50, activation='relu'))\n",
        "model.add(Dense(num_classes, activation='softmax'))  # Output layer for classification\n",
        "\n",
        "# Compile the model\n",
        "model.compile(optimizer='adam', loss='sparse_categorical_crossentropy', metrics=['accuracy'])\n",
        "\n",
        "# Reshape data for RNN\n",
        "X_reshaped = X[..., np.newaxis]\n",
        "\n",
        "# Train the model\n",
        "model.fit(X_reshaped, y, epochs=10, verbose=0)\n",
        "\n",
        "# Evaluate the model\n",
        "loss, accuracy = model.evaluate(X_reshaped, y, verbose=0)\n",
        "print(f'Loss: {loss}')\n",
        "print(f'Accuracy: {accuracy}')\n"
      ],
      "metadata": {
        "colab": {
          "base_uri": "https://localhost:8080/"
        },
        "id": "AomMBQmhb5_y",
        "outputId": "327612d6-5ba1-4101-b196-af703c4c336b"
      },
      "execution_count": null,
      "outputs": [
        {
          "output_type": "stream",
          "name": "stdout",
          "text": [
            "Loss: 0.24018606543540955\n",
            "Accuracy: 0.9039999842643738\n"
          ]
        }
      ]
    }
  ]
}