{
  "nbformat": 4,
  "nbformat_minor": 0,
  "metadata": {
    "colab": {
      "provenance": []
    },
    "kernelspec": {
      "name": "python3",
      "display_name": "Python 3"
    },
    "language_info": {
      "name": "python"
    }
  },
  "cells": [
    {
      "cell_type": "code",
      "source": [
        "!pip install tiktoken"
      ],
      "metadata": {
        "colab": {
          "base_uri": "https://localhost:8080/"
        },
        "id": "oJRI_TdriZ4H",
        "outputId": "3c709686-27a5-4653-8189-4c03a52d13ee"
      },
      "execution_count": null,
      "outputs": [
        {
          "output_type": "stream",
          "name": "stdout",
          "text": [
            "Collecting tiktoken\n",
            "  Downloading tiktoken-0.7.0-cp310-cp310-manylinux_2_17_x86_64.manylinux2014_x86_64.whl.metadata (6.6 kB)\n",
            "Requirement already satisfied: regex>=2022.1.18 in /usr/local/lib/python3.10/dist-packages (from tiktoken) (2024.5.15)\n",
            "Requirement already satisfied: requests>=2.26.0 in /usr/local/lib/python3.10/dist-packages (from tiktoken) (2.32.3)\n",
            "Requirement already satisfied: charset-normalizer<4,>=2 in /usr/local/lib/python3.10/dist-packages (from requests>=2.26.0->tiktoken) (3.3.2)\n",
            "Requirement already satisfied: idna<4,>=2.5 in /usr/local/lib/python3.10/dist-packages (from requests>=2.26.0->tiktoken) (3.8)\n",
            "Requirement already satisfied: urllib3<3,>=1.21.1 in /usr/local/lib/python3.10/dist-packages (from requests>=2.26.0->tiktoken) (2.0.7)\n",
            "Requirement already satisfied: certifi>=2017.4.17 in /usr/local/lib/python3.10/dist-packages (from requests>=2.26.0->tiktoken) (2024.8.30)\n",
            "Downloading tiktoken-0.7.0-cp310-cp310-manylinux_2_17_x86_64.manylinux2014_x86_64.whl (1.1 MB)\n",
            "\u001b[2K   \u001b[90m━━━━━━━━━━━━━━━━━━━━━━━━━━━━━━━━━━━━━━━━\u001b[0m \u001b[32m1.1/1.1 MB\u001b[0m \u001b[31m4.6 MB/s\u001b[0m eta \u001b[36m0:00:00\u001b[0m\n",
            "\u001b[?25hInstalling collected packages: tiktoken\n",
            "Successfully installed tiktoken-0.7.0\n"
          ]
        }
      ]
    },
    {
      "cell_type": "code",
      "source": [
        "!git clone https://github.com/karpathy/nanoGPT.git"
      ],
      "metadata": {
        "colab": {
          "base_uri": "https://localhost:8080/"
        },
        "id": "59nx0AwQhMkO",
        "outputId": "4f09d3a6-fd1c-4cfd-dd78-cf7bf80c19db"
      },
      "execution_count": null,
      "outputs": [
        {
          "output_type": "stream",
          "name": "stdout",
          "text": [
            "Cloning into 'nanoGPT'...\n",
            "remote: Enumerating objects: 682, done.\u001b[K\n",
            "remote: Total 682 (delta 0), reused 0 (delta 0), pack-reused 682 (from 1)\u001b[K\n",
            "Receiving objects: 100% (682/682), 952.47 KiB | 6.39 MiB/s, done.\n",
            "Resolving deltas: 100% (385/385), done.\n"
          ]
        }
      ]
    },
    {
      "cell_type": "code",
      "source": [
        "!gdown 1DnvQ75-pyI8AiX0udiP1lM4pAPnJv-8W"
      ],
      "metadata": {
        "colab": {
          "base_uri": "https://localhost:8080/"
        },
        "id": "f0yytaUHhR9L",
        "outputId": "b7618f76-4beb-405e-99ad-6bbc68198bcb"
      },
      "execution_count": null,
      "outputs": [
        {
          "output_type": "stream",
          "name": "stdout",
          "text": [
            "Downloading...\n",
            "From (original): https://drive.google.com/uc?id=1DnvQ75-pyI8AiX0udiP1lM4pAPnJv-8W\n",
            "From (redirected): https://drive.google.com/uc?id=1DnvQ75-pyI8AiX0udiP1lM4pAPnJv-8W&confirm=t&uuid=76c46fe1-93f4-4060-963d-d62f74f589c5\n",
            "To: /content/ckpt_diccionario.pt\n",
            "100% 129M/129M [00:03<00:00, 40.6MB/s]\n"
          ]
        }
      ]
    },
    {
      "cell_type": "code",
      "source": [
        "!mkdir -p /content/nanoGPT/out-diccionario-char/ && mv /content/ckpt_diccionario.pt /content/nanoGPT/out-diccionario-char/ckpt.pt\n"
      ],
      "metadata": {
        "id": "wj1gxai9hjUi"
      },
      "execution_count": null,
      "outputs": []
    },
    {
      "cell_type": "code",
      "source": [
        "!wget https://github.com/carabedo/labs/raw/master/data/meta_diccionario-char.pkl"
      ],
      "metadata": {
        "colab": {
          "base_uri": "https://localhost:8080/"
        },
        "id": "jyiFmioLo_9j",
        "outputId": "8d689687-cea2-4e2c-bebc-05bb818b59a8"
      },
      "execution_count": null,
      "outputs": [
        {
          "output_type": "stream",
          "name": "stdout",
          "text": [
            "--2024-09-05 00:55:05--  https://github.com/carabedo/labs/raw/master/data/meta_diccionario-char.pkl\n",
            "Resolving github.com (github.com)... 140.82.114.4\n",
            "Connecting to github.com (github.com)|140.82.114.4|:443... connected.\n",
            "HTTP request sent, awaiting response... 302 Found\n",
            "Location: https://raw.githubusercontent.com/carabedo/labs/master/data/meta_diccionario-char.pkl [following]\n",
            "--2024-09-05 00:55:05--  https://raw.githubusercontent.com/carabedo/labs/master/data/meta_diccionario-char.pkl\n",
            "Resolving raw.githubusercontent.com (raw.githubusercontent.com)... 185.199.109.133, 185.199.111.133, 185.199.108.133, ...\n",
            "Connecting to raw.githubusercontent.com (raw.githubusercontent.com)|185.199.109.133|:443... connected.\n",
            "HTTP request sent, awaiting response... 200 OK\n",
            "Length: 841 [application/octet-stream]\n",
            "Saving to: ‘meta_diccionario-char.pkl’\n",
            "\n",
            "meta_diccionario-ch 100%[===================>]     841  --.-KB/s    in 0s      \n",
            "\n",
            "2024-09-05 00:55:05 (30.4 MB/s) - ‘meta_diccionario-char.pkl’ saved [841/841]\n",
            "\n"
          ]
        }
      ]
    },
    {
      "cell_type": "code",
      "source": [
        "!mkdir -p /content/nanoGPT/data/diccionario_char/ && mv /content/meta_diccionario-char.pkl /content/nanoGPT/data/diccionario_char/meta.pkl\n"
      ],
      "metadata": {
        "id": "zvxi1hh8pE4P"
      },
      "execution_count": null,
      "outputs": []
    },
    {
      "cell_type": "code",
      "source": [
        "%cd /content/nanoGPT"
      ],
      "metadata": {
        "colab": {
          "base_uri": "https://localhost:8080/"
        },
        "id": "JFhHD5DKis8s",
        "outputId": "63c360a6-34bb-4f69-8823-f718cad13a2e"
      },
      "execution_count": null,
      "outputs": [
        {
          "output_type": "stream",
          "name": "stdout",
          "text": [
            "/content/nanoGPT\n"
          ]
        }
      ]
    },
    {
      "cell_type": "code",
      "execution_count": null,
      "metadata": {
        "colab": {
          "base_uri": "https://localhost:8080/"
        },
        "id": "tG5RrnlLgofN",
        "outputId": "b16e2f54-fb36-44e0-a857-ca93f7e7833d"
      },
      "outputs": [
        {
          "output_type": "stream",
          "name": "stdout",
          "text": [
            "Overriding: out_dir = out-diccionario-char/\n",
            "Overriding: device = cpu\n",
            "Overriding: start = d\n",
            "Overriding: num_samples = 3\n",
            "Overriding: max_new_tokens = 500\n",
            "/content/nanoGPT/sample.py:38: FutureWarning: You are using `torch.load` with `weights_only=False` (the current default value), which uses the default pickle module implicitly. It is possible to construct malicious pickle data which will execute arbitrary code during unpickling (See https://github.com/pytorch/pytorch/blob/main/SECURITY.md#untrusted-models for more details). In a future release, the default value for `weights_only` will be flipped to `True`. This limits the functions that could be executed during unpickling. Arbitrary objects will no longer be allowed to be loaded via this mode unless they are explicitly allowlisted by the user via `torch.serialization.add_safe_globals`. We recommend you start setting `weights_only=True` for any use case where you don't have full control of the loaded file. Please open an issue on GitHub for any issues related to this experimental feature.\n",
            "  checkpoint = torch.load(ckpt_path, map_location=device)\n",
            "number of parameters: 10.65M\n",
            "Loading meta from data/diccionario_char/meta.pkl...\n",
            "dora                       >> herramienta de carpintería para remover el transporte de la mucosa.\n",
            "matalata                       >> una forma de tejer con hilos destinados hasta lana.\n",
            "matalear                       >> hablar con voz fuerte.\n",
            "matalecillo                    >> un matalecillo es una herramienta de metal con una cabeza de madera con una punta que se usa para marcar la punta o la ropa.\n",
            "matalear                       >> actuar con voz fuerte.\n",
            "mataleo                        >> el acto de\n",
            "---------------\n",
            "dora de dibujos.\n",
            "delicar                        >> poner una abertura o producción.\n",
            "delición                       >> acción de establecer un líquido a algo de una persona o grupo.\n",
            "delicor                        >> algo que está en unidad de medida de una persona.\n",
            "delictorar                     >> deshacer un líquido o profundo.\n",
            "delieve                        >> una pequeña pequeña embarcación de pesca tradicionalmente usada para pescar y capturar.\n",
            "delievenieve                   >> se refiere a a\n",
            "---------------\n",
            "de aves de rapiña de color verde.\n",
            "chazón                         >> rapiño\n",
            "chazta                         >> una pequeña cantidad de dinero que se paga por un toque de atracción.\n",
            "chazuela                       >> pequeña cantidad de chazón.\n",
            "chaña                          >> ave de la familia de los trogloditas.\n",
            "chañal                         >> persona que vive de la familia de los cañales.\n",
            "chañale                        >> relativo a la ciudad de chañales.\n",
            "chañalina                      >> una c\n",
            "---------------\n"
          ]
        }
      ],
      "source": [
        "!python sample.py --out_dir=out-diccionario-char/ --device=cpu --start=d --num_samples=3 --max_new_tokens=500\n"
      ]
    }
  ]
}