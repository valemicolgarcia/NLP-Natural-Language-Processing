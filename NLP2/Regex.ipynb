{
  "cells": [
    {
      "cell_type": "markdown",
      "id": "372e7d41",
      "metadata": {
        "id": "372e7d41"
      },
      "source": [
        "# Regex!"
      ]
    },
    {
      "cell_type": "code",
      "execution_count": null,
      "id": "3YxptdeWbWCz",
      "metadata": {
        "colab": {
          "base_uri": "https://localhost:8080/",
          "height": 1000
        },
        "id": "3YxptdeWbWCz",
        "outputId": "34a63ab4-24b8-4008-af21-12d99dc555fa"
      },
      "outputs": [
        {
          "data": {
            "application/vnd.google.colaboratory.intrinsic+json": {
              "summary": "{\n  \"name\": \"prope\",\n  \"rows\": 50,\n  \"fields\": [\n    {\n      \"column\": \"place_with_parent_names\",\n      \"properties\": {\n        \"dtype\": \"string\",\n        \"num_unique_values\": 32,\n        \"samples\": [\n          \"|Argentina|Capital Federal|Puerto Madero|\",\n          \"|Argentina|Capital Federal|Palermo|\",\n          \"|Argentina|Capital Federal|Boedo|\"\n        ],\n        \"semantic_type\": \"\",\n        \"description\": \"\"\n      }\n    },\n    {\n      \"column\": \"lat-lon\",\n      \"properties\": {\n        \"dtype\": \"string\",\n        \"num_unique_values\": 41,\n        \"samples\": [\n          \"-34.453857,-58.840181\",\n          \"-34.6523561177,-58.5016239381\",\n          \"-32.942031,-60.7259192\"\n        ],\n        \"semantic_type\": \"\",\n        \"description\": \"\"\n      }\n    },\n    {\n      \"column\": \"price\",\n      \"properties\": {\n        \"dtype\": \"number\",\n        \"std\": 211512.52260292732,\n        \"min\": 47000.0,\n        \"max\": 1250000.0,\n        \"num_unique_values\": 44,\n        \"samples\": [\n          74000.0,\n          650000.0,\n          362150.0\n        ],\n        \"semantic_type\": \"\",\n        \"description\": \"\"\n      }\n    },\n    {\n      \"column\": \"currency\",\n      \"properties\": {\n        \"dtype\": \"category\",\n        \"num_unique_values\": 2,\n        \"samples\": [\n          \"ARS\",\n          \"USD\"\n        ],\n        \"semantic_type\": \"\",\n        \"description\": \"\"\n      }\n    },\n    {\n      \"column\": \"price_aprox_usd\",\n      \"properties\": {\n        \"dtype\": \"number\",\n        \"std\": 142620.9285282703,\n        \"min\": 25798.49,\n        \"max\": 650000.0,\n        \"num_unique_values\": 44,\n        \"samples\": [\n          74000.0,\n          650000.0\n        ],\n        \"semantic_type\": \"\",\n        \"description\": \"\"\n      }\n    },\n    {\n      \"column\": \"surface_total_in_m2\",\n      \"properties\": {\n        \"dtype\": \"number\",\n        \"std\": 222.44891830718947,\n        \"min\": 30.0,\n        \"max\": 1514.0,\n        \"num_unique_values\": 40,\n        \"samples\": [\n          160.0,\n          118.0\n        ],\n        \"semantic_type\": \"\",\n        \"description\": \"\"\n      }\n    },\n    {\n      \"column\": \"surface_covered_in_m2\",\n      \"properties\": {\n        \"dtype\": \"number\",\n        \"std\": 90.7852967152048,\n        \"min\": 30.0,\n        \"max\": 425.0,\n        \"num_unique_values\": 36,\n        \"samples\": [\n          250.0,\n          200.0\n        ],\n        \"semantic_type\": \"\",\n        \"description\": \"\"\n      }\n    },\n    {\n      \"column\": \"price_usd_per_m2\",\n      \"properties\": {\n        \"dtype\": \"number\",\n        \"std\": 762.279888773641,\n        \"min\": 46.23513870541612,\n        \"max\": 3521.428571428572,\n        \"num_unique_values\": 43,\n        \"samples\": [\n          1531.1004784688996,\n          1186.6666666666667\n        ],\n        \"semantic_type\": \"\",\n        \"description\": \"\"\n      }\n    },\n    {\n      \"column\": \"floor\",\n      \"properties\": {\n        \"dtype\": \"number\",\n        \"std\": null,\n        \"min\": null,\n        \"max\": null,\n        \"num_unique_values\": 0,\n        \"samples\": [],\n        \"semantic_type\": \"\",\n        \"description\": \"\"\n      }\n    },\n    {\n      \"column\": \"rooms\",\n      \"properties\": {\n        \"dtype\": \"number\",\n        \"std\": 1.3556040489989463,\n        \"min\": 1.0,\n        \"max\": 6.0,\n        \"num_unique_values\": 6,\n        \"samples\": [],\n        \"semantic_type\": \"\",\n        \"description\": \"\"\n      }\n    },\n    {\n      \"column\": \"expenses\",\n      \"properties\": {\n        \"dtype\": \"number\",\n        \"std\": null,\n        \"min\": null,\n        \"max\": null,\n        \"num_unique_values\": 0,\n        \"samples\": [],\n        \"semantic_type\": \"\",\n        \"description\": \"\"\n      }\n    },\n    {\n      \"column\": \"description\",\n      \"properties\": {\n        \"dtype\": \"string\",\n        \"num_unique_values\": 50,\n        \"samples\": [],\n        \"semantic_type\": \"\",\n        \"description\": \"\"\n      }\n    },\n    {\n      \"column\": \"title\",\n      \"properties\": {\n        \"dtype\": \"string\",\n        \"num_unique_values\": 46,\n        \"samples\": [],\n        \"semantic_type\": \"\",\n        \"description\": \"\"\n      }\n    }\n  ]\n}",
              "type": "dataframe",
              "variable_name": "prope"
            },
            "text/html": [
              "\n",
              "  <div id=\"df-d61cfbb4-1946-4c39-869b-03daa906c54e\" class=\"colab-df-container\">\n",
              "    <div>\n",
              "<style scoped>\n",
              "    .dataframe tbody tr th:only-of-type {\n",
              "        vertical-align: middle;\n",
              "    }\n",
              "\n",
              "    .dataframe tbody tr th {\n",
              "        vertical-align: top;\n",
              "    }\n",
              "\n",
              "    .dataframe thead th {\n",
              "        text-align: right;\n",
              "    }\n",
              "</style>\n",
              "<table border=\"1\" class=\"dataframe\">\n",
              "  <thead>\n",
              "    <tr style=\"text-align: right;\">\n",
              "      <th></th>\n",
              "      <th>place_with_parent_names</th>\n",
              "      <th>lat-lon</th>\n",
              "      <th>price</th>\n",
              "      <th>currency</th>\n",
              "      <th>price_aprox_usd</th>\n",
              "      <th>surface_total_in_m2</th>\n",
              "      <th>surface_covered_in_m2</th>\n",
              "      <th>price_usd_per_m2</th>\n",
              "      <th>floor</th>\n",
              "      <th>rooms</th>\n",
              "      <th>expenses</th>\n",
              "      <th>description</th>\n",
              "      <th>title</th>\n",
              "    </tr>\n",
              "  </thead>\n",
              "  <tbody>\n",
              "    <tr>\n",
              "      <th>0</th>\n",
              "      <td>|Argentina|Capital Federal|Mataderos|</td>\n",
              "      <td>-34.6618237,-58.5088387</td>\n",
              "      <td>62000.0</td>\n",
              "      <td>USD</td>\n",
              "      <td>62000.00</td>\n",
              "      <td>55.0</td>\n",
              "      <td>40.0</td>\n",
              "      <td>1127.272727</td>\n",
              "      <td>NaN</td>\n",
              "      <td>NaN</td>\n",
              "      <td>NaN</td>\n",
              "      <td>2 AMBIENTES TIPO CASA PLANTA BAJA POR PASILLO,...</td>\n",
              "      <td>2 AMB TIPO CASA SIN EXPENSAS EN PB</td>\n",
              "    </tr>\n",
              "    <tr>\n",
              "      <th>1</th>\n",
              "      <td>|Argentina|Bs.As. G.B.A. Zona Sur|La Plata|</td>\n",
              "      <td>-34.9038831,-57.9643295</td>\n",
              "      <td>150000.0</td>\n",
              "      <td>USD</td>\n",
              "      <td>150000.00</td>\n",
              "      <td>NaN</td>\n",
              "      <td>NaN</td>\n",
              "      <td>NaN</td>\n",
              "      <td>NaN</td>\n",
              "      <td>NaN</td>\n",
              "      <td>NaN</td>\n",
              "      <td>Venta de departamento en décimo piso al frente...</td>\n",
              "      <td>VENTA Depto 2 dorm. a estrenar 7 e/ 36 y 37   ...</td>\n",
              "    </tr>\n",
              "    <tr>\n",
              "      <th>2</th>\n",
              "      <td>|Argentina|Capital Federal|Mataderos|</td>\n",
              "      <td>-34.6522615,-58.5229825</td>\n",
              "      <td>72000.0</td>\n",
              "      <td>USD</td>\n",
              "      <td>72000.00</td>\n",
              "      <td>55.0</td>\n",
              "      <td>55.0</td>\n",
              "      <td>1309.090909</td>\n",
              "      <td>NaN</td>\n",
              "      <td>NaN</td>\n",
              "      <td>NaN</td>\n",
              "      <td>2 AMBIENTES 3ER PISO LATERAL LIVING COMEDOR AM...</td>\n",
              "      <td>2 AMB 3ER PISO CON ASCENSOR APTO CREDITO</td>\n",
              "    </tr>\n",
              "    <tr>\n",
              "      <th>3</th>\n",
              "      <td>|Argentina|Capital Federal|Liniers|</td>\n",
              "      <td>-34.6477969,-58.5164244</td>\n",
              "      <td>95000.0</td>\n",
              "      <td>USD</td>\n",
              "      <td>95000.00</td>\n",
              "      <td>NaN</td>\n",
              "      <td>NaN</td>\n",
              "      <td>NaN</td>\n",
              "      <td>NaN</td>\n",
              "      <td>NaN</td>\n",
              "      <td>NaN</td>\n",
              "      <td>PH 3 ambientes con patio. Hay 3 deptos en lote...</td>\n",
              "      <td>PH 3 amb. cfte. reciclado</td>\n",
              "    </tr>\n",
              "    <tr>\n",
              "      <th>4</th>\n",
              "      <td>|Argentina|Buenos Aires Costa Atlántica|Mar de...</td>\n",
              "      <td>-38.0026256,-57.5494468</td>\n",
              "      <td>64000.0</td>\n",
              "      <td>USD</td>\n",
              "      <td>64000.00</td>\n",
              "      <td>35.0</td>\n",
              "      <td>35.0</td>\n",
              "      <td>1828.571429</td>\n",
              "      <td>NaN</td>\n",
              "      <td>NaN</td>\n",
              "      <td>NaN</td>\n",
              "      <td>DEPARTAMENTO CON FANTÁSTICA ILUMINACIÓN NATURA...</td>\n",
              "      <td>DEPTO 2 AMB AL CONTRAFRENTE ZONA CENTRO/PLAZA ...</td>\n",
              "    </tr>\n",
              "    <tr>\n",
              "      <th>5</th>\n",
              "      <td>|Argentina|Entre Ríos|Gualeguaychú|</td>\n",
              "      <td>-33.0140714,-58.519828</td>\n",
              "      <td>NaN</td>\n",
              "      <td>NaN</td>\n",
              "      <td>NaN</td>\n",
              "      <td>53.0</td>\n",
              "      <td>NaN</td>\n",
              "      <td>NaN</td>\n",
              "      <td>NaN</td>\n",
              "      <td>NaN</td>\n",
              "      <td>NaN</td>\n",
              "      <td>Casa en el perímetro del barrio 338, ubicada e...</td>\n",
              "      <td>Casa Barrio 338. Sobre calle 3 de caballería, ...</td>\n",
              "    </tr>\n",
              "    <tr>\n",
              "      <th>6</th>\n",
              "      <td>|Argentina|Bs.As. G.B.A. Zona Norte|Vicente Ló...</td>\n",
              "      <td>-34.5329567,-58.5217825</td>\n",
              "      <td>130000.0</td>\n",
              "      <td>USD</td>\n",
              "      <td>130000.00</td>\n",
              "      <td>106.0</td>\n",
              "      <td>78.0</td>\n",
              "      <td>1226.415094</td>\n",
              "      <td>NaN</td>\n",
              "      <td>NaN</td>\n",
              "      <td>NaN</td>\n",
              "      <td>MUY BUEN PH AL FRENTE CON ENTRADA INDEPENDIENT...</td>\n",
              "      <td>MUY BUEN PH AL FRENTE DOS DORMITORIOS , PATIO,...</td>\n",
              "    </tr>\n",
              "    <tr>\n",
              "      <th>7</th>\n",
              "      <td>|Argentina|Capital Federal|Belgrano|</td>\n",
              "      <td>-34.5598729,-58.443362</td>\n",
              "      <td>138000.0</td>\n",
              "      <td>USD</td>\n",
              "      <td>138000.00</td>\n",
              "      <td>45.0</td>\n",
              "      <td>40.0</td>\n",
              "      <td>3066.666667</td>\n",
              "      <td>NaN</td>\n",
              "      <td>NaN</td>\n",
              "      <td>NaN</td>\n",
              "      <td>EXCELENTE MONOAMBIENTE A ESTRENAR AMPLIO SUPER...</td>\n",
              "      <td>JOSE HERNANDEZ 1400 MONOAMBIENTE  ESTRENAR CAT...</td>\n",
              "    </tr>\n",
              "    <tr>\n",
              "      <th>8</th>\n",
              "      <td>|Argentina|Capital Federal|Belgrano|</td>\n",
              "      <td>-34.5598729,-58.443362</td>\n",
              "      <td>195000.0</td>\n",
              "      <td>USD</td>\n",
              "      <td>195000.00</td>\n",
              "      <td>65.0</td>\n",
              "      <td>60.0</td>\n",
              "      <td>3000.000000</td>\n",
              "      <td>NaN</td>\n",
              "      <td>NaN</td>\n",
              "      <td>NaN</td>\n",
              "      <td>EXCELENTE DOS AMBIENTES  ESTRENAR AMPLIO SUPER...</td>\n",
              "      <td>JOSE HERNANDEZ   1400 DOS AMBIENTES ESTRENAR ,...</td>\n",
              "    </tr>\n",
              "    <tr>\n",
              "      <th>9</th>\n",
              "      <td>|Argentina|Santa Fe|Rosario|</td>\n",
              "      <td>-32.942031,-60.7259192</td>\n",
              "      <td>460000.0</td>\n",
              "      <td>ARS</td>\n",
              "      <td>25798.49</td>\n",
              "      <td>NaN</td>\n",
              "      <td>NaN</td>\n",
              "      <td>NaN</td>\n",
              "      <td>NaN</td>\n",
              "      <td>NaN</td>\n",
              "      <td>NaN</td>\n",
              "      <td>MEDNOZA AL 7600A UNA CUADRA DE CALLE MENDOZAWH...</td>\n",
              "      <td>WHITE 7637 - 2 DORMITORIOS CON PATIO</td>\n",
              "    </tr>\n",
              "    <tr>\n",
              "      <th>10</th>\n",
              "      <td>|Argentina|Córdoba|Córdoba|</td>\n",
              "      <td>-31.4200833,-64.1887761</td>\n",
              "      <td>70000.0</td>\n",
              "      <td>USD</td>\n",
              "      <td>70000.00</td>\n",
              "      <td>1514.0</td>\n",
              "      <td>NaN</td>\n",
              "      <td>46.235139</td>\n",
              "      <td>NaN</td>\n",
              "      <td>NaN</td>\n",
              "      <td>NaN</td>\n",
              "      <td>Hermosa casa sin terminar de 3 dormitorios, ba...</td>\n",
              "      <td>Casa sin terminar en Falda de Cañete.         ...</td>\n",
              "    </tr>\n",
              "    <tr>\n",
              "      <th>11</th>\n",
              "      <td>|Argentina|Bs.As. G.B.A. Zona Norte|San Miguel|</td>\n",
              "      <td>-34.5390571,-58.7196093</td>\n",
              "      <td>150000.0</td>\n",
              "      <td>USD</td>\n",
              "      <td>150000.00</td>\n",
              "      <td>NaN</td>\n",
              "      <td>NaN</td>\n",
              "      <td>NaN</td>\n",
              "      <td>NaN</td>\n",
              "      <td>NaN</td>\n",
              "      <td>NaN</td>\n",
              "      <td>Entrada de Coche, Jardin, Living en desnivel, ...</td>\n",
              "      <td>CHALET</td>\n",
              "    </tr>\n",
              "    <tr>\n",
              "      <th>12</th>\n",
              "      <td>|Argentina|Bs.As. G.B.A. Zona Norte|San Isidro...</td>\n",
              "      <td>-34.4860195,-58.5038139</td>\n",
              "      <td>115000.0</td>\n",
              "      <td>USD</td>\n",
              "      <td>115000.00</td>\n",
              "      <td>39.0</td>\n",
              "      <td>36.0</td>\n",
              "      <td>2948.717949</td>\n",
              "      <td>NaN</td>\n",
              "      <td>NaN</td>\n",
              "      <td>NaN</td>\n",
              "      <td>EXCELENTE DEPARTAMENTO 2 AMBIENTES CONTRAFRENT...</td>\n",
              "      <td>EXCELENTE DEPARTAMENTO 2 AMBIENTES CONTRAFRENT...</td>\n",
              "    </tr>\n",
              "    <tr>\n",
              "      <th>13</th>\n",
              "      <td>|Argentina|Capital Federal|Palermo|Palermo Soho|</td>\n",
              "      <td>NaN</td>\n",
              "      <td>111700.0</td>\n",
              "      <td>USD</td>\n",
              "      <td>111700.00</td>\n",
              "      <td>50.0</td>\n",
              "      <td>30.0</td>\n",
              "      <td>2234.000000</td>\n",
              "      <td>NaN</td>\n",
              "      <td>1.0</td>\n",
              "      <td>NaN</td>\n",
              "      <td>Torre I Mondrian. 3 ambientes con terraza y d...</td>\n",
              "      <td>Vitraux Palermo</td>\n",
              "    </tr>\n",
              "    <tr>\n",
              "      <th>14</th>\n",
              "      <td>|Argentina|Capital Federal|Palermo|Palermo Soho|</td>\n",
              "      <td>NaN</td>\n",
              "      <td>147900.0</td>\n",
              "      <td>USD</td>\n",
              "      <td>147900.00</td>\n",
              "      <td>42.0</td>\n",
              "      <td>31.0</td>\n",
              "      <td>3521.428571</td>\n",
              "      <td>NaN</td>\n",
              "      <td>1.0</td>\n",
              "      <td>NaN</td>\n",
              "      <td>Torre II Dalí. Ambiente unico divisible.Vitrau...</td>\n",
              "      <td>Vitraux Palermo</td>\n",
              "    </tr>\n",
              "    <tr>\n",
              "      <th>15</th>\n",
              "      <td>|Argentina|Bs.As. G.B.A. Zona Norte|San Miguel...</td>\n",
              "      <td>-34.5879112015,-58.6987828445</td>\n",
              "      <td>250000.0</td>\n",
              "      <td>USD</td>\n",
              "      <td>250000.00</td>\n",
              "      <td>164.0</td>\n",
              "      <td>NaN</td>\n",
              "      <td>1524.390244</td>\n",
              "      <td>NaN</td>\n",
              "      <td>NaN</td>\n",
              "      <td>NaN</td>\n",
              "      <td>ULTIMA UNIDAD DISPONIBLEHAUS BOULEVARD: Metros...</td>\n",
              "      <td>HAUS VILLAGE / BELLA VISTA / 115m² MAS PATIO /...</td>\n",
              "    </tr>\n",
              "    <tr>\n",
              "      <th>16</th>\n",
              "      <td>|Argentina|Capital Federal|Mataderos|</td>\n",
              "      <td>-34.6523561177,-58.5016239381</td>\n",
              "      <td>239000.0</td>\n",
              "      <td>USD</td>\n",
              "      <td>239000.00</td>\n",
              "      <td>140.0</td>\n",
              "      <td>98.0</td>\n",
              "      <td>1707.142857</td>\n",
              "      <td>NaN</td>\n",
              "      <td>4.0</td>\n",
              "      <td>NaN</td>\n",
              "      <td>Ventas Mataderos al frente Duplex 4 amb.- Plan...</td>\n",
              "      <td>VENTA-MATADEROS-DUPLEX 4 AMB.</td>\n",
              "    </tr>\n",
              "    <tr>\n",
              "      <th>17</th>\n",
              "      <td>|Argentina|Bs.As. G.B.A. Zona Norte|Tigre|Nord...</td>\n",
              "      <td>-34.4087174767,-58.6343892841</td>\n",
              "      <td>315000.0</td>\n",
              "      <td>USD</td>\n",
              "      <td>315000.00</td>\n",
              "      <td>176.0</td>\n",
              "      <td>78.0</td>\n",
              "      <td>1789.772727</td>\n",
              "      <td>NaN</td>\n",
              "      <td>3.0</td>\n",
              "      <td>NaN</td>\n",
              "      <td>Excelente 3 ambientes en un 6 piso y con terra...</td>\n",
              "      <td>3 ambientes en venta en Acqua Golf 1 en Nordel...</td>\n",
              "    </tr>\n",
              "    <tr>\n",
              "      <th>18</th>\n",
              "      <td>|Argentina|Bs.As. G.B.A. Zona Norte|Tigre|</td>\n",
              "      <td>-34.425087,-58.5796585</td>\n",
              "      <td>570000.0</td>\n",
              "      <td>USD</td>\n",
              "      <td>570000.00</td>\n",
              "      <td>270.0</td>\n",
              "      <td>270.0</td>\n",
              "      <td>2111.111111</td>\n",
              "      <td>NaN</td>\n",
              "      <td>NaN</td>\n",
              "      <td>NaN</td>\n",
              "      <td>Casa sobre lote al golf en barrio San Isidro L...</td>\n",
              "      <td>Casa en venta en barrio San Isidro Labrador, T...</td>\n",
              "    </tr>\n",
              "    <tr>\n",
              "      <th>19</th>\n",
              "      <td>|Argentina|Capital Federal|Palermo|</td>\n",
              "      <td>-34.580503566,-58.4058744847</td>\n",
              "      <td>350000.0</td>\n",
              "      <td>USD</td>\n",
              "      <td>350000.00</td>\n",
              "      <td>104.0</td>\n",
              "      <td>96.0</td>\n",
              "      <td>3365.384615</td>\n",
              "      <td>NaN</td>\n",
              "      <td>3.0</td>\n",
              "      <td>NaN</td>\n",
              "      <td>Excelente semipiso al contra frente en Bulnes ...</td>\n",
              "      <td>Bulnes y Libertador: espectacular pulmón, con ...</td>\n",
              "    </tr>\n",
              "    <tr>\n",
              "      <th>20</th>\n",
              "      <td>|Argentina|Córdoba|Villa Giardino|</td>\n",
              "      <td>-31.0529852,-64.4991278</td>\n",
              "      <td>NaN</td>\n",
              "      <td>NaN</td>\n",
              "      <td>NaN</td>\n",
              "      <td>148.0</td>\n",
              "      <td>148.0</td>\n",
              "      <td>NaN</td>\n",
              "      <td>NaN</td>\n",
              "      <td>NaN</td>\n",
              "      <td>NaN</td>\n",
              "      <td>Consta de: Comedor-cocina, cuatro dormitorios ...</td>\n",
              "      <td>Casa con excelente ubicaciòn, calle asfaltada,...</td>\n",
              "    </tr>\n",
              "    <tr>\n",
              "      <th>21</th>\n",
              "      <td>|Argentina|Capital Federal|Palermo|</td>\n",
              "      <td>-34.590926,-58.4116653</td>\n",
              "      <td>270500.0</td>\n",
              "      <td>USD</td>\n",
              "      <td>270500.00</td>\n",
              "      <td>118.0</td>\n",
              "      <td>73.0</td>\n",
              "      <td>2292.372881</td>\n",
              "      <td>NaN</td>\n",
              "      <td>4.0</td>\n",
              "      <td>NaN</td>\n",
              "      <td>EXCELENTE ZONA, MULTIPLES MEDIOS DE TRANSPORTE...</td>\n",
              "      <td>Departamento de 4 ambientes en Venta en Palermo</td>\n",
              "    </tr>\n",
              "    <tr>\n",
              "      <th>22</th>\n",
              "      <td>|Argentina|Bs.As. G.B.A. Zona Oeste|General Ro...</td>\n",
              "      <td>-34.6501160392,-58.9660339715</td>\n",
              "      <td>290000.0</td>\n",
              "      <td>USD</td>\n",
              "      <td>290000.00</td>\n",
              "      <td>200.0</td>\n",
              "      <td>200.0</td>\n",
              "      <td>1450.000000</td>\n",
              "      <td>NaN</td>\n",
              "      <td>NaN</td>\n",
              "      <td>NaN</td>\n",
              "      <td>Edificada en 2 plantas. PB. amplio living con ...</td>\n",
              "      <td>CASA EN VENTA A ESTRENAR EN EL NACIONAL</td>\n",
              "    </tr>\n",
              "    <tr>\n",
              "      <th>23</th>\n",
              "      <td>|Argentina|Bs.As. G.B.A. Zona Norte|Pilar|Pilar|</td>\n",
              "      <td>NaN</td>\n",
              "      <td>82000.0</td>\n",
              "      <td>USD</td>\n",
              "      <td>82000.00</td>\n",
              "      <td>48.0</td>\n",
              "      <td>42.0</td>\n",
              "      <td>1708.333333</td>\n",
              "      <td>NaN</td>\n",
              "      <td>2.0</td>\n",
              "      <td>NaN</td>\n",
              "      <td>Hermoso departamento, ubicado en la calle Almi...</td>\n",
              "      <td>Excelente departamento, Impecable!!! APTO CRED...</td>\n",
              "    </tr>\n",
              "    <tr>\n",
              "      <th>24</th>\n",
              "      <td>|Argentina|Bs.As. G.B.A. Zona Oeste|Morón|Cast...</td>\n",
              "      <td>-34.6511052674,-58.6438613116</td>\n",
              "      <td>355000.0</td>\n",
              "      <td>USD</td>\n",
              "      <td>355000.00</td>\n",
              "      <td>160.0</td>\n",
              "      <td>160.0</td>\n",
              "      <td>2218.750000</td>\n",
              "      <td>NaN</td>\n",
              "      <td>4.0</td>\n",
              "      <td>NaN</td>\n",
              "      <td>EXCLUSIVO  DEPARTAMENTO DE EXCELENTE CATEGORIA...</td>\n",
              "      <td>VENTA DE POZO- DEPTO 4 AMBIENTES- CASTELAR.</td>\n",
              "    </tr>\n",
              "    <tr>\n",
              "      <th>25</th>\n",
              "      <td>|Argentina|Bs.As. G.B.A. Zona Oeste|Morón|Cast...</td>\n",
              "      <td>-34.6511052674,-58.6438613116</td>\n",
              "      <td>358550.0</td>\n",
              "      <td>USD</td>\n",
              "      <td>358550.00</td>\n",
              "      <td>160.0</td>\n",
              "      <td>160.0</td>\n",
              "      <td>2240.937500</td>\n",
              "      <td>NaN</td>\n",
              "      <td>4.0</td>\n",
              "      <td>NaN</td>\n",
              "      <td>EXCLUSIVO  DEPARTAMENTO DE EXCELENTE CATEGORÍA...</td>\n",
              "      <td>VENTA DE POZO- DEPTO 4 AMBIENTES- CASTELAR.</td>\n",
              "    </tr>\n",
              "    <tr>\n",
              "      <th>26</th>\n",
              "      <td>|Argentina|Bs.As. G.B.A. Zona Norte|Tigre|Barr...</td>\n",
              "      <td>-34.3640924,-58.6897345</td>\n",
              "      <td>265000.0</td>\n",
              "      <td>USD</td>\n",
              "      <td>265000.00</td>\n",
              "      <td>230.0</td>\n",
              "      <td>190.0</td>\n",
              "      <td>1152.173913</td>\n",
              "      <td>NaN</td>\n",
              "      <td>NaN</td>\n",
              "      <td>NaN</td>\n",
              "      <td>Casa en venta en complejo Villanueva barrio Sa...</td>\n",
              "      <td>Casa muy linda en San Gabriel Villanueva</td>\n",
              "    </tr>\n",
              "    <tr>\n",
              "      <th>27</th>\n",
              "      <td>|Argentina|Bs.As. G.B.A. Zona Norte|Pilar|Esta...</td>\n",
              "      <td>-34.4794863,-58.9845412</td>\n",
              "      <td>650000.0</td>\n",
              "      <td>USD</td>\n",
              "      <td>650000.00</td>\n",
              "      <td>425.0</td>\n",
              "      <td>425.0</td>\n",
              "      <td>1529.411765</td>\n",
              "      <td>NaN</td>\n",
              "      <td>NaN</td>\n",
              "      <td>NaN</td>\n",
              "      <td>Estancias propone vivir rodeados de naturaleza...</td>\n",
              "      <td>Excelente Propiedad!!!! en Estancias del Pilar</td>\n",
              "    </tr>\n",
              "    <tr>\n",
              "      <th>28</th>\n",
              "      <td>|Argentina|Bs.As. G.B.A. Zona Oeste|Morón|Cast...</td>\n",
              "      <td>-34.6511052674,-58.6438613116</td>\n",
              "      <td>362150.0</td>\n",
              "      <td>USD</td>\n",
              "      <td>362150.00</td>\n",
              "      <td>160.0</td>\n",
              "      <td>160.0</td>\n",
              "      <td>2263.437500</td>\n",
              "      <td>NaN</td>\n",
              "      <td>4.0</td>\n",
              "      <td>NaN</td>\n",
              "      <td>EXCLUSIVO  DEPARTAMENTO DE EXCELENTE CATEGORÍA...</td>\n",
              "      <td>VENTA DE POZO- DEPTO 4 AMBIENTES- CASTELAR.</td>\n",
              "    </tr>\n",
              "    <tr>\n",
              "      <th>29</th>\n",
              "      <td>|Argentina|Capital Federal|Flores|</td>\n",
              "      <td>-34.6351179478,-58.4739639408</td>\n",
              "      <td>75000.0</td>\n",
              "      <td>USD</td>\n",
              "      <td>75000.00</td>\n",
              "      <td>43.0</td>\n",
              "      <td>43.0</td>\n",
              "      <td>1744.186047</td>\n",
              "      <td>NaN</td>\n",
              "      <td>2.0</td>\n",
              "      <td>NaN</td>\n",
              "      <td>Departamento muy luminoso con todos sus ambien...</td>\n",
              "      <td>Departamento en venta floresta</td>\n",
              "    </tr>\n",
              "    <tr>\n",
              "      <th>30</th>\n",
              "      <td>|Argentina|Bs.As. G.B.A. Zona Norte|Pilar|</td>\n",
              "      <td>-34.453857,-58.840181</td>\n",
              "      <td>178000.0</td>\n",
              "      <td>USD</td>\n",
              "      <td>178000.00</td>\n",
              "      <td>150.0</td>\n",
              "      <td>150.0</td>\n",
              "      <td>1186.666667</td>\n",
              "      <td>NaN</td>\n",
              "      <td>NaN</td>\n",
              "      <td>NaN</td>\n",
              "      <td>Muy linda casa , toda en planta baja, doble pa...</td>\n",
              "      <td>Excelente propiedad !!!Muy buen estado, constr...</td>\n",
              "    </tr>\n",
              "    <tr>\n",
              "      <th>31</th>\n",
              "      <td>|Argentina|Bs.As. G.B.A. Zona Norte|Vicente Ló...</td>\n",
              "      <td>-34.5417881941,-58.5403487953</td>\n",
              "      <td>130000.0</td>\n",
              "      <td>USD</td>\n",
              "      <td>130000.00</td>\n",
              "      <td>207.0</td>\n",
              "      <td>103.0</td>\n",
              "      <td>628.019324</td>\n",
              "      <td>NaN</td>\n",
              "      <td>NaN</td>\n",
              "      <td>NaN</td>\n",
              "      <td>Muy buena casa tipo americana de 3 ambientes c...</td>\n",
              "      <td>Casa tipo americana de 3 ambientes sobre lote ...</td>\n",
              "    </tr>\n",
              "    <tr>\n",
              "      <th>32</th>\n",
              "      <td>|Argentina|Córdoba|Córdoba|</td>\n",
              "      <td>-31.4053736,-64.1562667</td>\n",
              "      <td>550000.0</td>\n",
              "      <td>ARS</td>\n",
              "      <td>30846.02</td>\n",
              "      <td>50.0</td>\n",
              "      <td>50.0</td>\n",
              "      <td>616.920400</td>\n",
              "      <td>NaN</td>\n",
              "      <td>3.0</td>\n",
              "      <td>NaN</td>\n",
              "      <td>EN VENTA, departamento ubicado en barrio Pueyr...</td>\n",
              "      <td>Departamento apto crédito! Barrio Pueyrredon</td>\n",
              "    </tr>\n",
              "    <tr>\n",
              "      <th>33</th>\n",
              "      <td>|Argentina|Bs.As. G.B.A. Zona Norte|Tigre|Nord...</td>\n",
              "      <td>-34.4087174767,-58.6343892841</td>\n",
              "      <td>325000.0</td>\n",
              "      <td>USD</td>\n",
              "      <td>325000.00</td>\n",
              "      <td>186.0</td>\n",
              "      <td>83.0</td>\n",
              "      <td>1747.311828</td>\n",
              "      <td>NaN</td>\n",
              "      <td>3.0</td>\n",
              "      <td>NaN</td>\n",
              "      <td>Excelente 3 ambientes en un 6 piso en esquina ...</td>\n",
              "      <td>3 ambientes en venta en Acqua Golf 1 en Nordel...</td>\n",
              "    </tr>\n",
              "    <tr>\n",
              "      <th>34</th>\n",
              "      <td>|Argentina|Bs.As. G.B.A. Zona Norte|Vicente Ló...</td>\n",
              "      <td>-34.5272528,-58.5128766</td>\n",
              "      <td>169000.0</td>\n",
              "      <td>USD</td>\n",
              "      <td>169000.00</td>\n",
              "      <td>172.0</td>\n",
              "      <td>160.0</td>\n",
              "      <td>982.558140</td>\n",
              "      <td>NaN</td>\n",
              "      <td>6.0</td>\n",
              "      <td>NaN</td>\n",
              "      <td>Amplio PH de 5 dormitorios, ubicado a 3 cuadra...</td>\n",
              "      <td>Muy amplio PH ubicado a 4 cuadras de panameric...</td>\n",
              "    </tr>\n",
              "    <tr>\n",
              "      <th>35</th>\n",
              "      <td>|Argentina|Capital Federal|Boedo|</td>\n",
              "      <td>-34.6217693287,-58.4221081951</td>\n",
              "      <td>145000.0</td>\n",
              "      <td>USD</td>\n",
              "      <td>145000.00</td>\n",
              "      <td>80.0</td>\n",
              "      <td>77.0</td>\n",
              "      <td>1812.500000</td>\n",
              "      <td>NaN</td>\n",
              "      <td>4.0</td>\n",
              "      <td>NaN</td>\n",
              "      <td>Hermoso departamento de cuatro ambientes, refa...</td>\n",
              "      <td>Hermoso departamento de 4 ambientes refacciona...</td>\n",
              "    </tr>\n",
              "    <tr>\n",
              "      <th>36</th>\n",
              "      <td>|Argentina|Bs.As. G.B.A. Zona Norte|Pilar|Pilar|</td>\n",
              "      <td>-34.4630984,-58.9021989</td>\n",
              "      <td>400000.0</td>\n",
              "      <td>USD</td>\n",
              "      <td>400000.00</td>\n",
              "      <td>400.0</td>\n",
              "      <td>400.0</td>\n",
              "      <td>1000.000000</td>\n",
              "      <td>NaN</td>\n",
              "      <td>NaN</td>\n",
              "      <td>NaN</td>\n",
              "      <td>Casa en Pilar centro ,a pocas cuadras de la pl...</td>\n",
              "      <td>Casa en Pilar Centro-Excelente Estado</td>\n",
              "    </tr>\n",
              "    <tr>\n",
              "      <th>37</th>\n",
              "      <td>|Argentina|Córdoba|Malagueño|</td>\n",
              "      <td>-31.4373176491,-64.4580057347</td>\n",
              "      <td>1250000.0</td>\n",
              "      <td>ARS</td>\n",
              "      <td>70104.59</td>\n",
              "      <td>75.0</td>\n",
              "      <td>75.0</td>\n",
              "      <td>934.727867</td>\n",
              "      <td>NaN</td>\n",
              "      <td>NaN</td>\n",
              "      <td>NaN</td>\n",
              "      <td>Nuevos ingreso:-VENTA-Villa San Nicolas.Presen...</td>\n",
              "      <td>Casa Venta Villa San Nicolas</td>\n",
              "    </tr>\n",
              "    <tr>\n",
              "      <th>38</th>\n",
              "      <td>|Argentina|Capital Federal|Las Cañitas|</td>\n",
              "      <td>-34.5711496,-58.4232966</td>\n",
              "      <td>480000.0</td>\n",
              "      <td>USD</td>\n",
              "      <td>480000.00</td>\n",
              "      <td>220.0</td>\n",
              "      <td>130.0</td>\n",
              "      <td>2181.818182</td>\n",
              "      <td>NaN</td>\n",
              "      <td>3.0</td>\n",
              "      <td>NaN</td>\n",
              "      <td>Espectacular loft de exclusivo diseño, 210 ms,...</td>\n",
              "      <td>Venta depto,loft, Cañitas,210 ms,pileta propia...</td>\n",
              "    </tr>\n",
              "    <tr>\n",
              "      <th>39</th>\n",
              "      <td>|Argentina|Bs.As. G.B.A. Zona Norte|Pilar|</td>\n",
              "      <td>-34.4778621,-58.9091671</td>\n",
              "      <td>128000.0</td>\n",
              "      <td>USD</td>\n",
              "      <td>128000.00</td>\n",
              "      <td>120.0</td>\n",
              "      <td>120.0</td>\n",
              "      <td>1066.666667</td>\n",
              "      <td>NaN</td>\n",
              "      <td>NaN</td>\n",
              "      <td>NaN</td>\n",
              "      <td>Casa a estrenar en Barrio San Eduardo , Pilar ...</td>\n",
              "      <td>Casa a Estrenar , en Planta Baja , Excelente!!!</td>\n",
              "    </tr>\n",
              "    <tr>\n",
              "      <th>40</th>\n",
              "      <td>|Argentina|Bs.As. G.B.A. Zona Norte|Pilar|Del ...</td>\n",
              "      <td>-34.4447426129,-58.7952483187</td>\n",
              "      <td>120000.0</td>\n",
              "      <td>USD</td>\n",
              "      <td>120000.00</td>\n",
              "      <td>138.0</td>\n",
              "      <td>74.0</td>\n",
              "      <td>869.565217</td>\n",
              "      <td>NaN</td>\n",
              "      <td>3.0</td>\n",
              "      <td>NaN</td>\n",
              "      <td>LINDÍSIMO DEPARTAMENTO EN VENTA, 3 AMBIENTES C...</td>\n",
              "      <td>VENTA DEPTO 3 AMB C/TERRAZA - TORTUGAS 3</td>\n",
              "    </tr>\n",
              "    <tr>\n",
              "      <th>41</th>\n",
              "      <td>|Argentina|Córdoba|Villa Carlos Paz|</td>\n",
              "      <td>-31.4009989,-64.4780258</td>\n",
              "      <td>NaN</td>\n",
              "      <td>NaN</td>\n",
              "      <td>NaN</td>\n",
              "      <td>115.0</td>\n",
              "      <td>115.0</td>\n",
              "      <td>NaN</td>\n",
              "      <td>NaN</td>\n",
              "      <td>4.0</td>\n",
              "      <td>NaN</td>\n",
              "      <td>“Arecas” es un complejo de dúplex y departamen...</td>\n",
              "      <td>Venta en pozo deptos-dúplex- Barrio Santa Rita...</td>\n",
              "    </tr>\n",
              "    <tr>\n",
              "      <th>42</th>\n",
              "      <td>|Argentina|Bs.As. G.B.A. Zona Norte|Pilar|</td>\n",
              "      <td>NaN</td>\n",
              "      <td>74000.0</td>\n",
              "      <td>USD</td>\n",
              "      <td>74000.00</td>\n",
              "      <td>47.0</td>\n",
              "      <td>47.0</td>\n",
              "      <td>1574.468085</td>\n",
              "      <td>NaN</td>\n",
              "      <td>NaN</td>\n",
              "      <td>NaN</td>\n",
              "      <td>Ubicado en planta baja, posee patio y un area ...</td>\n",
              "      <td>Duplex en Villa Morra  , muy buena ubicacion ,...</td>\n",
              "    </tr>\n",
              "    <tr>\n",
              "      <th>43</th>\n",
              "      <td>|Argentina|Bs.As. G.B.A. Zona Norte|Pilar|</td>\n",
              "      <td>-34.4394337814,-58.7987030039</td>\n",
              "      <td>79000.0</td>\n",
              "      <td>USD</td>\n",
              "      <td>79000.00</td>\n",
              "      <td>32.0</td>\n",
              "      <td>32.0</td>\n",
              "      <td>2468.750000</td>\n",
              "      <td>NaN</td>\n",
              "      <td>1.0</td>\n",
              "      <td>NaN</td>\n",
              "      <td>Impecable depto, en venta con renta, Pilar Gar...</td>\n",
              "      <td>Depto venta con renta,coch subt,PILAR GARDEN, ...</td>\n",
              "    </tr>\n",
              "    <tr>\n",
              "      <th>44</th>\n",
              "      <td>|Argentina|Bs.As. G.B.A. Zona Norte|Pilar|Pilar|</td>\n",
              "      <td>-34.4516241,-58.9165454</td>\n",
              "      <td>320000.0</td>\n",
              "      <td>USD</td>\n",
              "      <td>320000.00</td>\n",
              "      <td>209.0</td>\n",
              "      <td>209.0</td>\n",
              "      <td>1531.100478</td>\n",
              "      <td>NaN</td>\n",
              "      <td>NaN</td>\n",
              "      <td>NaN</td>\n",
              "      <td>Ideal Desarrollistas:Zona UCA .Densidad 800 ( ...</td>\n",
              "      <td>Inversor a 50 mts de la Plaza de Pilar!! UCA-</td>\n",
              "    </tr>\n",
              "    <tr>\n",
              "      <th>45</th>\n",
              "      <td>|Argentina|Bs.As. G.B.A. Zona Norte|Pilar|Pilar|</td>\n",
              "      <td>-34.4649130957,-58.8595998774</td>\n",
              "      <td>47000.0</td>\n",
              "      <td>USD</td>\n",
              "      <td>47000.00</td>\n",
              "      <td>30.0</td>\n",
              "      <td>30.0</td>\n",
              "      <td>1566.666667</td>\n",
              "      <td>NaN</td>\n",
              "      <td>1.0</td>\n",
              "      <td>NaN</td>\n",
              "      <td>Hermoso monoambiente, ideal Profesional!!!Apar...</td>\n",
              "      <td>Dpto del Campus-Ideal Profesional o Estudiantes</td>\n",
              "    </tr>\n",
              "    <tr>\n",
              "      <th>46</th>\n",
              "      <td>|Argentina|Bs.As. G.B.A. Zona Norte|Pilar|Pilar|</td>\n",
              "      <td>-34.4518545,-58.9035669</td>\n",
              "      <td>165000.0</td>\n",
              "      <td>USD</td>\n",
              "      <td>165000.00</td>\n",
              "      <td>140.0</td>\n",
              "      <td>140.0</td>\n",
              "      <td>1178.571429</td>\n",
              "      <td>NaN</td>\n",
              "      <td>4.0</td>\n",
              "      <td>NaN</td>\n",
              "      <td>Excelente Duplex, en Condominio con Seguridad....</td>\n",
              "      <td>Excelente Duplex en Condominio!!!</td>\n",
              "    </tr>\n",
              "    <tr>\n",
              "      <th>47</th>\n",
              "      <td>|Argentina|Capital Federal|Puerto Madero|</td>\n",
              "      <td>-34.6177194,-58.3620561</td>\n",
              "      <td>70000.0</td>\n",
              "      <td>USD</td>\n",
              "      <td>70000.00</td>\n",
              "      <td>80.0</td>\n",
              "      <td>50.0</td>\n",
              "      <td>875.000000</td>\n",
              "      <td>NaN</td>\n",
              "      <td>NaN</td>\n",
              "      <td>NaN</td>\n",
              "      <td>ESTRUCTURA ECOLOGICA FLOTANTEIDEAL PARA UBICAR...</td>\n",
              "      <td>FLOAT LIFE - CASA FLOTANTE - UBICABLE EN CLUBS...</td>\n",
              "    </tr>\n",
              "    <tr>\n",
              "      <th>48</th>\n",
              "      <td>|Argentina|Capital Federal|Balvanera|</td>\n",
              "      <td>-34.6096748,-58.3986588</td>\n",
              "      <td>240000.0</td>\n",
              "      <td>USD</td>\n",
              "      <td>240000.00</td>\n",
              "      <td>141.0</td>\n",
              "      <td>124.0</td>\n",
              "      <td>1702.127660</td>\n",
              "      <td>NaN</td>\n",
              "      <td>5.0</td>\n",
              "      <td>NaN</td>\n",
              "      <td>PISO 13, Orientación norte, disposición al fre...</td>\n",
              "      <td>DEPARTAMENTO EN VENTA</td>\n",
              "    </tr>\n",
              "    <tr>\n",
              "      <th>49</th>\n",
              "      <td>|Argentina|Bs.As. G.B.A. Zona Norte|Escobar|</td>\n",
              "      <td>NaN</td>\n",
              "      <td>245000.0</td>\n",
              "      <td>USD</td>\n",
              "      <td>245000.00</td>\n",
              "      <td>250.0</td>\n",
              "      <td>250.0</td>\n",
              "      <td>980.000000</td>\n",
              "      <td>NaN</td>\n",
              "      <td>NaN</td>\n",
              "      <td>NaN</td>\n",
              "      <td>JPL. Casa en el barrio San Sebastian con bajad...</td>\n",
              "      <td>JPL. Casa en San Sebastian</td>\n",
              "    </tr>\n",
              "  </tbody>\n",
              "</table>\n",
              "</div>\n",
              "    <div class=\"colab-df-buttons\">\n",
              "\n",
              "  <div class=\"colab-df-container\">\n",
              "    <button class=\"colab-df-convert\" onclick=\"convertToInteractive('df-d61cfbb4-1946-4c39-869b-03daa906c54e')\"\n",
              "            title=\"Convert this dataframe to an interactive table.\"\n",
              "            style=\"display:none;\">\n",
              "\n",
              "  <svg xmlns=\"http://www.w3.org/2000/svg\" height=\"24px\" viewBox=\"0 -960 960 960\">\n",
              "    <path d=\"M120-120v-720h720v720H120Zm60-500h600v-160H180v160Zm220 220h160v-160H400v160Zm0 220h160v-160H400v160ZM180-400h160v-160H180v160Zm440 0h160v-160H620v160ZM180-180h160v-160H180v160Zm440 0h160v-160H620v160Z\"/>\n",
              "  </svg>\n",
              "    </button>\n",
              "\n",
              "  <style>\n",
              "    .colab-df-container {\n",
              "      display:flex;\n",
              "      gap: 12px;\n",
              "    }\n",
              "\n",
              "    .colab-df-convert {\n",
              "      background-color: #E8F0FE;\n",
              "      border: none;\n",
              "      border-radius: 50%;\n",
              "      cursor: pointer;\n",
              "      display: none;\n",
              "      fill: #1967D2;\n",
              "      height: 32px;\n",
              "      padding: 0 0 0 0;\n",
              "      width: 32px;\n",
              "    }\n",
              "\n",
              "    .colab-df-convert:hover {\n",
              "      background-color: #E2EBFA;\n",
              "      box-shadow: 0px 1px 2px rgba(60, 64, 67, 0.3), 0px 1px 3px 1px rgba(60, 64, 67, 0.15);\n",
              "      fill: #174EA6;\n",
              "    }\n",
              "\n",
              "    .colab-df-buttons div {\n",
              "      margin-bottom: 4px;\n",
              "    }\n",
              "\n",
              "    [theme=dark] .colab-df-convert {\n",
              "      background-color: #3B4455;\n",
              "      fill: #D2E3FC;\n",
              "    }\n",
              "\n",
              "    [theme=dark] .colab-df-convert:hover {\n",
              "      background-color: #434B5C;\n",
              "      box-shadow: 0px 1px 3px 1px rgba(0, 0, 0, 0.15);\n",
              "      filter: drop-shadow(0px 1px 2px rgba(0, 0, 0, 0.3));\n",
              "      fill: #FFFFFF;\n",
              "    }\n",
              "  </style>\n",
              "\n",
              "    <script>\n",
              "      const buttonEl =\n",
              "        document.querySelector('#df-d61cfbb4-1946-4c39-869b-03daa906c54e button.colab-df-convert');\n",
              "      buttonEl.style.display =\n",
              "        google.colab.kernel.accessAllowed ? 'block' : 'none';\n",
              "\n",
              "      async function convertToInteractive(key) {\n",
              "        const element = document.querySelector('#df-d61cfbb4-1946-4c39-869b-03daa906c54e');\n",
              "        const dataTable =\n",
              "          await google.colab.kernel.invokeFunction('convertToInteractive',\n",
              "                                                    [key], {});\n",
              "        if (!dataTable) return;\n",
              "\n",
              "        const docLinkHtml = 'Like what you see? Visit the ' +\n",
              "          '<a target=\"_blank\" href=https://colab.research.google.com/notebooks/data_table.ipynb>data table notebook</a>'\n",
              "          + ' to learn more about interactive tables.';\n",
              "        element.innerHTML = '';\n",
              "        dataTable['output_type'] = 'display_data';\n",
              "        await google.colab.output.renderOutput(dataTable, element);\n",
              "        const docLink = document.createElement('div');\n",
              "        docLink.innerHTML = docLinkHtml;\n",
              "        element.appendChild(docLink);\n",
              "      }\n",
              "    </script>\n",
              "  </div>\n",
              "\n",
              "\n",
              "<div id=\"df-5102f61b-1e02-45df-ac43-1905cac2ffb1\">\n",
              "  <button class=\"colab-df-quickchart\" onclick=\"quickchart('df-5102f61b-1e02-45df-ac43-1905cac2ffb1')\"\n",
              "            title=\"Suggest charts\"\n",
              "            style=\"display:none;\">\n",
              "\n",
              "<svg xmlns=\"http://www.w3.org/2000/svg\" height=\"24px\"viewBox=\"0 0 24 24\"\n",
              "     width=\"24px\">\n",
              "    <g>\n",
              "        <path d=\"M19 3H5c-1.1 0-2 .9-2 2v14c0 1.1.9 2 2 2h14c1.1 0 2-.9 2-2V5c0-1.1-.9-2-2-2zM9 17H7v-7h2v7zm4 0h-2V7h2v10zm4 0h-2v-4h2v4z\"/>\n",
              "    </g>\n",
              "</svg>\n",
              "  </button>\n",
              "\n",
              "<style>\n",
              "  .colab-df-quickchart {\n",
              "      --bg-color: #E8F0FE;\n",
              "      --fill-color: #1967D2;\n",
              "      --hover-bg-color: #E2EBFA;\n",
              "      --hover-fill-color: #174EA6;\n",
              "      --disabled-fill-color: #AAA;\n",
              "      --disabled-bg-color: #DDD;\n",
              "  }\n",
              "\n",
              "  [theme=dark] .colab-df-quickchart {\n",
              "      --bg-color: #3B4455;\n",
              "      --fill-color: #D2E3FC;\n",
              "      --hover-bg-color: #434B5C;\n",
              "      --hover-fill-color: #FFFFFF;\n",
              "      --disabled-bg-color: #3B4455;\n",
              "      --disabled-fill-color: #666;\n",
              "  }\n",
              "\n",
              "  .colab-df-quickchart {\n",
              "    background-color: var(--bg-color);\n",
              "    border: none;\n",
              "    border-radius: 50%;\n",
              "    cursor: pointer;\n",
              "    display: none;\n",
              "    fill: var(--fill-color);\n",
              "    height: 32px;\n",
              "    padding: 0;\n",
              "    width: 32px;\n",
              "  }\n",
              "\n",
              "  .colab-df-quickchart:hover {\n",
              "    background-color: var(--hover-bg-color);\n",
              "    box-shadow: 0 1px 2px rgba(60, 64, 67, 0.3), 0 1px 3px 1px rgba(60, 64, 67, 0.15);\n",
              "    fill: var(--button-hover-fill-color);\n",
              "  }\n",
              "\n",
              "  .colab-df-quickchart-complete:disabled,\n",
              "  .colab-df-quickchart-complete:disabled:hover {\n",
              "    background-color: var(--disabled-bg-color);\n",
              "    fill: var(--disabled-fill-color);\n",
              "    box-shadow: none;\n",
              "  }\n",
              "\n",
              "  .colab-df-spinner {\n",
              "    border: 2px solid var(--fill-color);\n",
              "    border-color: transparent;\n",
              "    border-bottom-color: var(--fill-color);\n",
              "    animation:\n",
              "      spin 1s steps(1) infinite;\n",
              "  }\n",
              "\n",
              "  @keyframes spin {\n",
              "    0% {\n",
              "      border-color: transparent;\n",
              "      border-bottom-color: var(--fill-color);\n",
              "      border-left-color: var(--fill-color);\n",
              "    }\n",
              "    20% {\n",
              "      border-color: transparent;\n",
              "      border-left-color: var(--fill-color);\n",
              "      border-top-color: var(--fill-color);\n",
              "    }\n",
              "    30% {\n",
              "      border-color: transparent;\n",
              "      border-left-color: var(--fill-color);\n",
              "      border-top-color: var(--fill-color);\n",
              "      border-right-color: var(--fill-color);\n",
              "    }\n",
              "    40% {\n",
              "      border-color: transparent;\n",
              "      border-right-color: var(--fill-color);\n",
              "      border-top-color: var(--fill-color);\n",
              "    }\n",
              "    60% {\n",
              "      border-color: transparent;\n",
              "      border-right-color: var(--fill-color);\n",
              "    }\n",
              "    80% {\n",
              "      border-color: transparent;\n",
              "      border-right-color: var(--fill-color);\n",
              "      border-bottom-color: var(--fill-color);\n",
              "    }\n",
              "    90% {\n",
              "      border-color: transparent;\n",
              "      border-bottom-color: var(--fill-color);\n",
              "    }\n",
              "  }\n",
              "</style>\n",
              "\n",
              "  <script>\n",
              "    async function quickchart(key) {\n",
              "      const quickchartButtonEl =\n",
              "        document.querySelector('#' + key + ' button');\n",
              "      quickchartButtonEl.disabled = true;  // To prevent multiple clicks.\n",
              "      quickchartButtonEl.classList.add('colab-df-spinner');\n",
              "      try {\n",
              "        const charts = await google.colab.kernel.invokeFunction(\n",
              "            'suggestCharts', [key], {});\n",
              "      } catch (error) {\n",
              "        console.error('Error during call to suggestCharts:', error);\n",
              "      }\n",
              "      quickchartButtonEl.classList.remove('colab-df-spinner');\n",
              "      quickchartButtonEl.classList.add('colab-df-quickchart-complete');\n",
              "    }\n",
              "    (() => {\n",
              "      let quickchartButtonEl =\n",
              "        document.querySelector('#df-5102f61b-1e02-45df-ac43-1905cac2ffb1 button');\n",
              "      quickchartButtonEl.style.display =\n",
              "        google.colab.kernel.accessAllowed ? 'block' : 'none';\n",
              "    })();\n",
              "  </script>\n",
              "</div>\n",
              "\n",
              "  <div id=\"id_42c7627b-0412-4d08-9739-00241a71096e\">\n",
              "    <style>\n",
              "      .colab-df-generate {\n",
              "        background-color: #E8F0FE;\n",
              "        border: none;\n",
              "        border-radius: 50%;\n",
              "        cursor: pointer;\n",
              "        display: none;\n",
              "        fill: #1967D2;\n",
              "        height: 32px;\n",
              "        padding: 0 0 0 0;\n",
              "        width: 32px;\n",
              "      }\n",
              "\n",
              "      .colab-df-generate:hover {\n",
              "        background-color: #E2EBFA;\n",
              "        box-shadow: 0px 1px 2px rgba(60, 64, 67, 0.3), 0px 1px 3px 1px rgba(60, 64, 67, 0.15);\n",
              "        fill: #174EA6;\n",
              "      }\n",
              "\n",
              "      [theme=dark] .colab-df-generate {\n",
              "        background-color: #3B4455;\n",
              "        fill: #D2E3FC;\n",
              "      }\n",
              "\n",
              "      [theme=dark] .colab-df-generate:hover {\n",
              "        background-color: #434B5C;\n",
              "        box-shadow: 0px 1px 3px 1px rgba(0, 0, 0, 0.15);\n",
              "        filter: drop-shadow(0px 1px 2px rgba(0, 0, 0, 0.3));\n",
              "        fill: #FFFFFF;\n",
              "      }\n",
              "    </style>\n",
              "    <button class=\"colab-df-generate\" onclick=\"generateWithVariable('prope')\"\n",
              "            title=\"Generate code using this dataframe.\"\n",
              "            style=\"display:none;\">\n",
              "\n",
              "  <svg xmlns=\"http://www.w3.org/2000/svg\" height=\"24px\"viewBox=\"0 0 24 24\"\n",
              "       width=\"24px\">\n",
              "    <path d=\"M7,19H8.4L18.45,9,17,7.55,7,17.6ZM5,21V16.75L18.45,3.32a2,2,0,0,1,2.83,0l1.4,1.43a1.91,1.91,0,0,1,.58,1.4,1.91,1.91,0,0,1-.58,1.4L9.25,21ZM18.45,9,17,7.55Zm-12,3A5.31,5.31,0,0,0,4.9,8.1,5.31,5.31,0,0,0,1,6.5,5.31,5.31,0,0,0,4.9,4.9,5.31,5.31,0,0,0,6.5,1,5.31,5.31,0,0,0,8.1,4.9,5.31,5.31,0,0,0,12,6.5,5.46,5.46,0,0,0,6.5,12Z\"/>\n",
              "  </svg>\n",
              "    </button>\n",
              "    <script>\n",
              "      (() => {\n",
              "      const buttonEl =\n",
              "        document.querySelector('#id_42c7627b-0412-4d08-9739-00241a71096e button.colab-df-generate');\n",
              "      buttonEl.style.display =\n",
              "        google.colab.kernel.accessAllowed ? 'block' : 'none';\n",
              "\n",
              "      buttonEl.onclick = () => {\n",
              "        google.colab.notebook.generateWithVariable('prope');\n",
              "      }\n",
              "      })();\n",
              "    </script>\n",
              "  </div>\n",
              "\n",
              "    </div>\n",
              "  </div>\n"
            ],
            "text/plain": [
              "                              place_with_parent_names  \\\n",
              "0               |Argentina|Capital Federal|Mataderos|   \n",
              "1         |Argentina|Bs.As. G.B.A. Zona Sur|La Plata|   \n",
              "2               |Argentina|Capital Federal|Mataderos|   \n",
              "3                 |Argentina|Capital Federal|Liniers|   \n",
              "4   |Argentina|Buenos Aires Costa Atlántica|Mar de...   \n",
              "5                 |Argentina|Entre Ríos|Gualeguaychú|   \n",
              "6   |Argentina|Bs.As. G.B.A. Zona Norte|Vicente Ló...   \n",
              "7                |Argentina|Capital Federal|Belgrano|   \n",
              "8                |Argentina|Capital Federal|Belgrano|   \n",
              "9                        |Argentina|Santa Fe|Rosario|   \n",
              "10                        |Argentina|Córdoba|Córdoba|   \n",
              "11    |Argentina|Bs.As. G.B.A. Zona Norte|San Miguel|   \n",
              "12  |Argentina|Bs.As. G.B.A. Zona Norte|San Isidro...   \n",
              "13   |Argentina|Capital Federal|Palermo|Palermo Soho|   \n",
              "14   |Argentina|Capital Federal|Palermo|Palermo Soho|   \n",
              "15  |Argentina|Bs.As. G.B.A. Zona Norte|San Miguel...   \n",
              "16              |Argentina|Capital Federal|Mataderos|   \n",
              "17  |Argentina|Bs.As. G.B.A. Zona Norte|Tigre|Nord...   \n",
              "18         |Argentina|Bs.As. G.B.A. Zona Norte|Tigre|   \n",
              "19                |Argentina|Capital Federal|Palermo|   \n",
              "20                 |Argentina|Córdoba|Villa Giardino|   \n",
              "21                |Argentina|Capital Federal|Palermo|   \n",
              "22  |Argentina|Bs.As. G.B.A. Zona Oeste|General Ro...   \n",
              "23   |Argentina|Bs.As. G.B.A. Zona Norte|Pilar|Pilar|   \n",
              "24  |Argentina|Bs.As. G.B.A. Zona Oeste|Morón|Cast...   \n",
              "25  |Argentina|Bs.As. G.B.A. Zona Oeste|Morón|Cast...   \n",
              "26  |Argentina|Bs.As. G.B.A. Zona Norte|Tigre|Barr...   \n",
              "27  |Argentina|Bs.As. G.B.A. Zona Norte|Pilar|Esta...   \n",
              "28  |Argentina|Bs.As. G.B.A. Zona Oeste|Morón|Cast...   \n",
              "29                 |Argentina|Capital Federal|Flores|   \n",
              "30         |Argentina|Bs.As. G.B.A. Zona Norte|Pilar|   \n",
              "31  |Argentina|Bs.As. G.B.A. Zona Norte|Vicente Ló...   \n",
              "32                        |Argentina|Córdoba|Córdoba|   \n",
              "33  |Argentina|Bs.As. G.B.A. Zona Norte|Tigre|Nord...   \n",
              "34  |Argentina|Bs.As. G.B.A. Zona Norte|Vicente Ló...   \n",
              "35                  |Argentina|Capital Federal|Boedo|   \n",
              "36   |Argentina|Bs.As. G.B.A. Zona Norte|Pilar|Pilar|   \n",
              "37                      |Argentina|Córdoba|Malagueño|   \n",
              "38            |Argentina|Capital Federal|Las Cañitas|   \n",
              "39         |Argentina|Bs.As. G.B.A. Zona Norte|Pilar|   \n",
              "40  |Argentina|Bs.As. G.B.A. Zona Norte|Pilar|Del ...   \n",
              "41               |Argentina|Córdoba|Villa Carlos Paz|   \n",
              "42         |Argentina|Bs.As. G.B.A. Zona Norte|Pilar|   \n",
              "43         |Argentina|Bs.As. G.B.A. Zona Norte|Pilar|   \n",
              "44   |Argentina|Bs.As. G.B.A. Zona Norte|Pilar|Pilar|   \n",
              "45   |Argentina|Bs.As. G.B.A. Zona Norte|Pilar|Pilar|   \n",
              "46   |Argentina|Bs.As. G.B.A. Zona Norte|Pilar|Pilar|   \n",
              "47          |Argentina|Capital Federal|Puerto Madero|   \n",
              "48              |Argentina|Capital Federal|Balvanera|   \n",
              "49       |Argentina|Bs.As. G.B.A. Zona Norte|Escobar|   \n",
              "\n",
              "                          lat-lon      price currency  price_aprox_usd  \\\n",
              "0         -34.6618237,-58.5088387    62000.0      USD         62000.00   \n",
              "1         -34.9038831,-57.9643295   150000.0      USD        150000.00   \n",
              "2         -34.6522615,-58.5229825    72000.0      USD         72000.00   \n",
              "3         -34.6477969,-58.5164244    95000.0      USD         95000.00   \n",
              "4         -38.0026256,-57.5494468    64000.0      USD         64000.00   \n",
              "5          -33.0140714,-58.519828        NaN      NaN              NaN   \n",
              "6         -34.5329567,-58.5217825   130000.0      USD        130000.00   \n",
              "7          -34.5598729,-58.443362   138000.0      USD        138000.00   \n",
              "8          -34.5598729,-58.443362   195000.0      USD        195000.00   \n",
              "9          -32.942031,-60.7259192   460000.0      ARS         25798.49   \n",
              "10        -31.4200833,-64.1887761    70000.0      USD         70000.00   \n",
              "11        -34.5390571,-58.7196093   150000.0      USD        150000.00   \n",
              "12        -34.4860195,-58.5038139   115000.0      USD        115000.00   \n",
              "13                            NaN   111700.0      USD        111700.00   \n",
              "14                            NaN   147900.0      USD        147900.00   \n",
              "15  -34.5879112015,-58.6987828445   250000.0      USD        250000.00   \n",
              "16  -34.6523561177,-58.5016239381   239000.0      USD        239000.00   \n",
              "17  -34.4087174767,-58.6343892841   315000.0      USD        315000.00   \n",
              "18         -34.425087,-58.5796585   570000.0      USD        570000.00   \n",
              "19   -34.580503566,-58.4058744847   350000.0      USD        350000.00   \n",
              "20        -31.0529852,-64.4991278        NaN      NaN              NaN   \n",
              "21         -34.590926,-58.4116653   270500.0      USD        270500.00   \n",
              "22  -34.6501160392,-58.9660339715   290000.0      USD        290000.00   \n",
              "23                            NaN    82000.0      USD         82000.00   \n",
              "24  -34.6511052674,-58.6438613116   355000.0      USD        355000.00   \n",
              "25  -34.6511052674,-58.6438613116   358550.0      USD        358550.00   \n",
              "26        -34.3640924,-58.6897345   265000.0      USD        265000.00   \n",
              "27        -34.4794863,-58.9845412   650000.0      USD        650000.00   \n",
              "28  -34.6511052674,-58.6438613116   362150.0      USD        362150.00   \n",
              "29  -34.6351179478,-58.4739639408    75000.0      USD         75000.00   \n",
              "30          -34.453857,-58.840181   178000.0      USD        178000.00   \n",
              "31  -34.5417881941,-58.5403487953   130000.0      USD        130000.00   \n",
              "32        -31.4053736,-64.1562667   550000.0      ARS         30846.02   \n",
              "33  -34.4087174767,-58.6343892841   325000.0      USD        325000.00   \n",
              "34        -34.5272528,-58.5128766   169000.0      USD        169000.00   \n",
              "35  -34.6217693287,-58.4221081951   145000.0      USD        145000.00   \n",
              "36        -34.4630984,-58.9021989   400000.0      USD        400000.00   \n",
              "37  -31.4373176491,-64.4580057347  1250000.0      ARS         70104.59   \n",
              "38        -34.5711496,-58.4232966   480000.0      USD        480000.00   \n",
              "39        -34.4778621,-58.9091671   128000.0      USD        128000.00   \n",
              "40  -34.4447426129,-58.7952483187   120000.0      USD        120000.00   \n",
              "41        -31.4009989,-64.4780258        NaN      NaN              NaN   \n",
              "42                            NaN    74000.0      USD         74000.00   \n",
              "43  -34.4394337814,-58.7987030039    79000.0      USD         79000.00   \n",
              "44        -34.4516241,-58.9165454   320000.0      USD        320000.00   \n",
              "45  -34.4649130957,-58.8595998774    47000.0      USD         47000.00   \n",
              "46        -34.4518545,-58.9035669   165000.0      USD        165000.00   \n",
              "47        -34.6177194,-58.3620561    70000.0      USD         70000.00   \n",
              "48        -34.6096748,-58.3986588   240000.0      USD        240000.00   \n",
              "49                            NaN   245000.0      USD        245000.00   \n",
              "\n",
              "    surface_total_in_m2  surface_covered_in_m2  price_usd_per_m2  floor  \\\n",
              "0                  55.0                   40.0       1127.272727    NaN   \n",
              "1                   NaN                    NaN               NaN    NaN   \n",
              "2                  55.0                   55.0       1309.090909    NaN   \n",
              "3                   NaN                    NaN               NaN    NaN   \n",
              "4                  35.0                   35.0       1828.571429    NaN   \n",
              "5                  53.0                    NaN               NaN    NaN   \n",
              "6                 106.0                   78.0       1226.415094    NaN   \n",
              "7                  45.0                   40.0       3066.666667    NaN   \n",
              "8                  65.0                   60.0       3000.000000    NaN   \n",
              "9                   NaN                    NaN               NaN    NaN   \n",
              "10               1514.0                    NaN         46.235139    NaN   \n",
              "11                  NaN                    NaN               NaN    NaN   \n",
              "12                 39.0                   36.0       2948.717949    NaN   \n",
              "13                 50.0                   30.0       2234.000000    NaN   \n",
              "14                 42.0                   31.0       3521.428571    NaN   \n",
              "15                164.0                    NaN       1524.390244    NaN   \n",
              "16                140.0                   98.0       1707.142857    NaN   \n",
              "17                176.0                   78.0       1789.772727    NaN   \n",
              "18                270.0                  270.0       2111.111111    NaN   \n",
              "19                104.0                   96.0       3365.384615    NaN   \n",
              "20                148.0                  148.0               NaN    NaN   \n",
              "21                118.0                   73.0       2292.372881    NaN   \n",
              "22                200.0                  200.0       1450.000000    NaN   \n",
              "23                 48.0                   42.0       1708.333333    NaN   \n",
              "24                160.0                  160.0       2218.750000    NaN   \n",
              "25                160.0                  160.0       2240.937500    NaN   \n",
              "26                230.0                  190.0       1152.173913    NaN   \n",
              "27                425.0                  425.0       1529.411765    NaN   \n",
              "28                160.0                  160.0       2263.437500    NaN   \n",
              "29                 43.0                   43.0       1744.186047    NaN   \n",
              "30                150.0                  150.0       1186.666667    NaN   \n",
              "31                207.0                  103.0        628.019324    NaN   \n",
              "32                 50.0                   50.0        616.920400    NaN   \n",
              "33                186.0                   83.0       1747.311828    NaN   \n",
              "34                172.0                  160.0        982.558140    NaN   \n",
              "35                 80.0                   77.0       1812.500000    NaN   \n",
              "36                400.0                  400.0       1000.000000    NaN   \n",
              "37                 75.0                   75.0        934.727867    NaN   \n",
              "38                220.0                  130.0       2181.818182    NaN   \n",
              "39                120.0                  120.0       1066.666667    NaN   \n",
              "40                138.0                   74.0        869.565217    NaN   \n",
              "41                115.0                  115.0               NaN    NaN   \n",
              "42                 47.0                   47.0       1574.468085    NaN   \n",
              "43                 32.0                   32.0       2468.750000    NaN   \n",
              "44                209.0                  209.0       1531.100478    NaN   \n",
              "45                 30.0                   30.0       1566.666667    NaN   \n",
              "46                140.0                  140.0       1178.571429    NaN   \n",
              "47                 80.0                   50.0        875.000000    NaN   \n",
              "48                141.0                  124.0       1702.127660    NaN   \n",
              "49                250.0                  250.0        980.000000    NaN   \n",
              "\n",
              "    rooms  expenses                                        description  \\\n",
              "0     NaN       NaN  2 AMBIENTES TIPO CASA PLANTA BAJA POR PASILLO,...   \n",
              "1     NaN       NaN  Venta de departamento en décimo piso al frente...   \n",
              "2     NaN       NaN  2 AMBIENTES 3ER PISO LATERAL LIVING COMEDOR AM...   \n",
              "3     NaN       NaN  PH 3 ambientes con patio. Hay 3 deptos en lote...   \n",
              "4     NaN       NaN  DEPARTAMENTO CON FANTÁSTICA ILUMINACIÓN NATURA...   \n",
              "5     NaN       NaN  Casa en el perímetro del barrio 338, ubicada e...   \n",
              "6     NaN       NaN  MUY BUEN PH AL FRENTE CON ENTRADA INDEPENDIENT...   \n",
              "7     NaN       NaN  EXCELENTE MONOAMBIENTE A ESTRENAR AMPLIO SUPER...   \n",
              "8     NaN       NaN  EXCELENTE DOS AMBIENTES  ESTRENAR AMPLIO SUPER...   \n",
              "9     NaN       NaN  MEDNOZA AL 7600A UNA CUADRA DE CALLE MENDOZAWH...   \n",
              "10    NaN       NaN  Hermosa casa sin terminar de 3 dormitorios, ba...   \n",
              "11    NaN       NaN  Entrada de Coche, Jardin, Living en desnivel, ...   \n",
              "12    NaN       NaN  EXCELENTE DEPARTAMENTO 2 AMBIENTES CONTRAFRENT...   \n",
              "13    1.0       NaN   Torre I Mondrian. 3 ambientes con terraza y d...   \n",
              "14    1.0       NaN  Torre II Dalí. Ambiente unico divisible.Vitrau...   \n",
              "15    NaN       NaN  ULTIMA UNIDAD DISPONIBLEHAUS BOULEVARD: Metros...   \n",
              "16    4.0       NaN  Ventas Mataderos al frente Duplex 4 amb.- Plan...   \n",
              "17    3.0       NaN  Excelente 3 ambientes en un 6 piso y con terra...   \n",
              "18    NaN       NaN  Casa sobre lote al golf en barrio San Isidro L...   \n",
              "19    3.0       NaN  Excelente semipiso al contra frente en Bulnes ...   \n",
              "20    NaN       NaN  Consta de: Comedor-cocina, cuatro dormitorios ...   \n",
              "21    4.0       NaN  EXCELENTE ZONA, MULTIPLES MEDIOS DE TRANSPORTE...   \n",
              "22    NaN       NaN  Edificada en 2 plantas. PB. amplio living con ...   \n",
              "23    2.0       NaN  Hermoso departamento, ubicado en la calle Almi...   \n",
              "24    4.0       NaN  EXCLUSIVO  DEPARTAMENTO DE EXCELENTE CATEGORIA...   \n",
              "25    4.0       NaN  EXCLUSIVO  DEPARTAMENTO DE EXCELENTE CATEGORÍA...   \n",
              "26    NaN       NaN  Casa en venta en complejo Villanueva barrio Sa...   \n",
              "27    NaN       NaN  Estancias propone vivir rodeados de naturaleza...   \n",
              "28    4.0       NaN  EXCLUSIVO  DEPARTAMENTO DE EXCELENTE CATEGORÍA...   \n",
              "29    2.0       NaN  Departamento muy luminoso con todos sus ambien...   \n",
              "30    NaN       NaN  Muy linda casa , toda en planta baja, doble pa...   \n",
              "31    NaN       NaN  Muy buena casa tipo americana de 3 ambientes c...   \n",
              "32    3.0       NaN  EN VENTA, departamento ubicado en barrio Pueyr...   \n",
              "33    3.0       NaN  Excelente 3 ambientes en un 6 piso en esquina ...   \n",
              "34    6.0       NaN  Amplio PH de 5 dormitorios, ubicado a 3 cuadra...   \n",
              "35    4.0       NaN  Hermoso departamento de cuatro ambientes, refa...   \n",
              "36    NaN       NaN  Casa en Pilar centro ,a pocas cuadras de la pl...   \n",
              "37    NaN       NaN  Nuevos ingreso:-VENTA-Villa San Nicolas.Presen...   \n",
              "38    3.0       NaN  Espectacular loft de exclusivo diseño, 210 ms,...   \n",
              "39    NaN       NaN  Casa a estrenar en Barrio San Eduardo , Pilar ...   \n",
              "40    3.0       NaN  LINDÍSIMO DEPARTAMENTO EN VENTA, 3 AMBIENTES C...   \n",
              "41    4.0       NaN  “Arecas” es un complejo de dúplex y departamen...   \n",
              "42    NaN       NaN  Ubicado en planta baja, posee patio y un area ...   \n",
              "43    1.0       NaN  Impecable depto, en venta con renta, Pilar Gar...   \n",
              "44    NaN       NaN  Ideal Desarrollistas:Zona UCA .Densidad 800 ( ...   \n",
              "45    1.0       NaN  Hermoso monoambiente, ideal Profesional!!!Apar...   \n",
              "46    4.0       NaN  Excelente Duplex, en Condominio con Seguridad....   \n",
              "47    NaN       NaN  ESTRUCTURA ECOLOGICA FLOTANTEIDEAL PARA UBICAR...   \n",
              "48    5.0       NaN  PISO 13, Orientación norte, disposición al fre...   \n",
              "49    NaN       NaN  JPL. Casa en el barrio San Sebastian con bajad...   \n",
              "\n",
              "                                                title  \n",
              "0                  2 AMB TIPO CASA SIN EXPENSAS EN PB  \n",
              "1   VENTA Depto 2 dorm. a estrenar 7 e/ 36 y 37   ...  \n",
              "2            2 AMB 3ER PISO CON ASCENSOR APTO CREDITO  \n",
              "3                        PH 3 amb. cfte. reciclado     \n",
              "4   DEPTO 2 AMB AL CONTRAFRENTE ZONA CENTRO/PLAZA ...  \n",
              "5   Casa Barrio 338. Sobre calle 3 de caballería, ...  \n",
              "6   MUY BUEN PH AL FRENTE DOS DORMITORIOS , PATIO,...  \n",
              "7   JOSE HERNANDEZ 1400 MONOAMBIENTE  ESTRENAR CAT...  \n",
              "8   JOSE HERNANDEZ   1400 DOS AMBIENTES ESTRENAR ,...  \n",
              "9          WHITE 7637 - 2 DORMITORIOS CON PATIO        \n",
              "10  Casa sin terminar en Falda de Cañete.         ...  \n",
              "11                                            CHALET   \n",
              "12  EXCELENTE DEPARTAMENTO 2 AMBIENTES CONTRAFRENT...  \n",
              "13                                    Vitraux Palermo  \n",
              "14                                    Vitraux Palermo  \n",
              "15  HAUS VILLAGE / BELLA VISTA / 115m² MAS PATIO /...  \n",
              "16                      VENTA-MATADEROS-DUPLEX 4 AMB.  \n",
              "17  3 ambientes en venta en Acqua Golf 1 en Nordel...  \n",
              "18  Casa en venta en barrio San Isidro Labrador, T...  \n",
              "19  Bulnes y Libertador: espectacular pulmón, con ...  \n",
              "20  Casa con excelente ubicaciòn, calle asfaltada,...  \n",
              "21    Departamento de 4 ambientes en Venta en Palermo  \n",
              "22            CASA EN VENTA A ESTRENAR EN EL NACIONAL  \n",
              "23  Excelente departamento, Impecable!!! APTO CRED...  \n",
              "24        VENTA DE POZO- DEPTO 4 AMBIENTES- CASTELAR.  \n",
              "25        VENTA DE POZO- DEPTO 4 AMBIENTES- CASTELAR.  \n",
              "26           Casa muy linda en San Gabriel Villanueva  \n",
              "27     Excelente Propiedad!!!! en Estancias del Pilar  \n",
              "28        VENTA DE POZO- DEPTO 4 AMBIENTES- CASTELAR.  \n",
              "29                     Departamento en venta floresta  \n",
              "30  Excelente propiedad !!!Muy buen estado, constr...  \n",
              "31  Casa tipo americana de 3 ambientes sobre lote ...  \n",
              "32       Departamento apto crédito! Barrio Pueyrredon  \n",
              "33  3 ambientes en venta en Acqua Golf 1 en Nordel...  \n",
              "34  Muy amplio PH ubicado a 4 cuadras de panameric...  \n",
              "35  Hermoso departamento de 4 ambientes refacciona...  \n",
              "36              Casa en Pilar Centro-Excelente Estado  \n",
              "37                       Casa Venta Villa San Nicolas  \n",
              "38  Venta depto,loft, Cañitas,210 ms,pileta propia...  \n",
              "39    Casa a Estrenar , en Planta Baja , Excelente!!!  \n",
              "40          VENTA DEPTO 3 AMB C/TERRAZA - TORTUGAS 3   \n",
              "41  Venta en pozo deptos-dúplex- Barrio Santa Rita...  \n",
              "42  Duplex en Villa Morra  , muy buena ubicacion ,...  \n",
              "43  Depto venta con renta,coch subt,PILAR GARDEN, ...  \n",
              "44     Inversor a 50 mts de la Plaza de Pilar!! UCA-   \n",
              "45    Dpto del Campus-Ideal Profesional o Estudiantes  \n",
              "46                  Excelente Duplex en Condominio!!!  \n",
              "47  FLOAT LIFE - CASA FLOTANTE - UBICABLE EN CLUBS...  \n",
              "48                              DEPARTAMENTO EN VENTA  \n",
              "49                         JPL. Casa en San Sebastian  "
            ]
          },
          "execution_count": 1,
          "metadata": {},
          "output_type": "execute_result"
        }
      ],
      "source": [
        "import pandas as pd\n",
        "prope=pd.read_csv('https://raw.githubusercontent.com/carabedo/labs/master/data/prope.csv',index_col=0)\n",
        "prope"
      ]
    },
    {
      "cell_type": "code",
      "execution_count": null,
      "id": "UAmD4L_Ibhcp",
      "metadata": {
        "colab": {
          "base_uri": "https://localhost:8080/",
          "height": 70
        },
        "id": "UAmD4L_Ibhcp",
        "outputId": "d55ee404-aa24-4cd5-b8dc-50cad19b10c9"
      },
      "outputs": [
        {
          "data": {
            "application/vnd.google.colaboratory.intrinsic+json": {
              "type": "string"
            },
            "text/plain": [
              "'2 AMBIENTES TIPO CASA PLANTA BAJA POR PASILLO, REFACCIONADO A NUEVO, PATIO GRANDE, CON LAVADERO, LIVING COMEDOR CON COCINA INTEGRADA, ARTEFACTO DE COCINA, ALACENA, BAÑO COMPLETO, Y DORMITORIO. TODO EN EXCELENTE ESTADO, PARA HABITAR.NO ES APTO CREDITO Aviso publicado por Pixel Inmobiliario (Servicio de Páginas Web para Inmobiliarias).'"
            ]
          },
          "execution_count": 2,
          "metadata": {},
          "output_type": "execute_result"
        }
      ],
      "source": [
        "prope.description[0]"
      ]
    },
    {
      "cell_type": "markdown",
      "id": "83UgFMavcERM",
      "metadata": {
        "id": "83UgFMavcERM"
      },
      "source": [
        "# Regex"
      ]
    },
    {
      "cell_type": "code",
      "execution_count": null,
      "id": "436520e2",
      "metadata": {
        "id": "436520e2"
      },
      "outputs": [],
      "source": [
        "import re #me permite buscar patrones en el texto"
      ]
    },
    {
      "cell_type": "code",
      "execution_count": null,
      "id": "v-sqtSe6a2gt",
      "metadata": {
        "colab": {
          "base_uri": "https://localhost:8080/"
        },
        "id": "v-sqtSe6a2gt",
        "outputId": "d3afacff-e591-4766-a033-8c3c4874fedd"
      },
      "outputs": [
        {
          "data": {
            "text/plain": [
              "<re.Match object; span=(14, 22), match='estrenar'>"
            ]
          },
          "execution_count": 4,
          "metadata": {},
          "output_type": "execute_result"
        }
      ],
      "source": [
        "texto='2 ambientes a estrenar con pileta'\n",
        "\n",
        "re.search(\"estrenar\", texto)"
      ]
    },
    {
      "cell_type": "code",
      "execution_count": null,
      "id": "JUuRC76IbO9E",
      "metadata": {
        "colab": {
          "base_uri": "https://localhost:8080/"
        },
        "id": "JUuRC76IbO9E",
        "outputId": "6e1918f8-bfa4-4257-c3b5-ff0d9fba939d"
      },
      "outputs": [
        {
          "data": {
            "text/plain": [
              "<re.Match object; span=(14, 19), match='estre'>"
            ]
          },
          "execution_count": 5,
          "metadata": {},
          "output_type": "execute_result"
        }
      ],
      "source": [
        "re.search(\"estre\", texto)"
      ]
    },
    {
      "cell_type": "code",
      "execution_count": null,
      "id": "_AKlV8Knbo_x",
      "metadata": {
        "colab": {
          "base_uri": "https://localhost:8080/"
        },
        "id": "_AKlV8Knbo_x",
        "outputId": "22c70979-5de0-4a54-9940-8b7a65027c26"
      },
      "outputs": [
        {
          "data": {
            "text/plain": [
              "<re.Match object; span=(2, 5), match='amb'>"
            ]
          },
          "execution_count": 6,
          "metadata": {},
          "output_type": "execute_result"
        }
      ],
      "source": [
        "re.search(\"amb\", texto)"
      ]
    },
    {
      "cell_type": "code",
      "execution_count": null,
      "id": "F8cegpF7Z4pZ",
      "metadata": {
        "id": "F8cegpF7Z4pZ"
      },
      "outputs": [],
      "source": []
    },
    {
      "cell_type": "markdown",
      "id": "srm6vYaAcMlp",
      "metadata": {
        "id": "srm6vYaAcMlp"
      },
      "source": [
        "## `findall()`"
      ]
    },
    {
      "cell_type": "code",
      "execution_count": null,
      "id": "KXQmp-Hzb0qO",
      "metadata": {
        "colab": {
          "base_uri": "https://localhost:8080/"
        },
        "id": "KXQmp-Hzb0qO",
        "outputId": "3ebb667a-aee0-4607-e69c-66a700c570fb"
      },
      "outputs": [
        {
          "data": {
            "text/plain": [
              "['amb']"
            ]
          },
          "execution_count": 12,
          "metadata": {},
          "output_type": "execute_result"
        }
      ],
      "source": [
        "re.findall(\"amb\", texto)"
      ]
    },
    {
      "cell_type": "code",
      "execution_count": null,
      "id": "c-iDrnUGc7Ax",
      "metadata": {
        "colab": {
          "base_uri": "https://localhost:8080/"
        },
        "id": "c-iDrnUGc7Ax",
        "outputId": "4d09597b-3a29-4214-ba5c-55e806a25d3c"
      },
      "outputs": [
        {
          "data": {
            "text/plain": [
              "['amb', 'amb']"
            ]
          },
          "execution_count": 13,
          "metadata": {},
          "output_type": "execute_result"
        }
      ],
      "source": [
        "re.findall(\"amb\", texto2)"
      ]
    },
    {
      "cell_type": "code",
      "execution_count": null,
      "id": "LcihMW31x8fk",
      "metadata": {
        "id": "LcihMW31x8fk"
      },
      "outputs": [],
      "source": []
    },
    {
      "cell_type": "code",
      "execution_count": null,
      "id": "uIk5bGISx2Ht",
      "metadata": {
        "colab": {
          "base_uri": "https://localhost:8080/"
        },
        "id": "uIk5bGISx2Ht",
        "outputId": "5c363d34-3826-4167-e5c2-3d66a441dc1d"
      },
      "outputs": [
        {
          "data": {
            "text/plain": [
              "True"
            ]
          },
          "execution_count": 28,
          "metadata": {},
          "output_type": "execute_result"
        }
      ],
      "source": [
        "'amb' in texto"
      ]
    },
    {
      "cell_type": "code",
      "execution_count": null,
      "id": "5bw7z4fNx9pC",
      "metadata": {
        "id": "5bw7z4fNx9pC"
      },
      "outputs": [],
      "source": [
        "def funcion(x):\n",
        "    return re.search(\"estrenar\", x)"
      ]
    },
    {
      "cell_type": "markdown",
      "id": "zG9yjcF2dLaa",
      "metadata": {
        "id": "zG9yjcF2dLaa"
      },
      "source": [
        "### ejemplo:"
      ]
    },
    {
      "cell_type": "code",
      "execution_count": null,
      "id": "8WdWjfQ1yfuY",
      "metadata": {
        "colab": {
          "base_uri": "https://localhost:8080/"
        },
        "id": "8WdWjfQ1yfuY",
        "outputId": "ddf74630-007b-458f-829a-896d6111fb57"
      },
      "outputs": [
        {
          "data": {
            "text/plain": [
              "0                                                  None\n",
              "1     <re.Match object; span=(50, 58), match='estren...\n",
              "2                                                  None\n",
              "3                                                  None\n",
              "4                                                  None\n",
              "5                                                  None\n",
              "6                                                  None\n",
              "7                                                  None\n",
              "8                                                  None\n",
              "9                                                  None\n",
              "10                                                 None\n",
              "11                                                 None\n",
              "12                                                 None\n",
              "13                                                 None\n",
              "14                                                 None\n",
              "15                                                 None\n",
              "16                                                 None\n",
              "17                                                 None\n",
              "18                                                 None\n",
              "19                                                 None\n",
              "20                                                 None\n",
              "21                                                 None\n",
              "22                                                 None\n",
              "23                                                 None\n",
              "24                                                 None\n",
              "25                                                 None\n",
              "26                                                 None\n",
              "27                                                 None\n",
              "28                                                 None\n",
              "29                                                 None\n",
              "30                                                 None\n",
              "31                                                 None\n",
              "32                                                 None\n",
              "33                                                 None\n",
              "34                                                 None\n",
              "35                                                 None\n",
              "36                                                 None\n",
              "37                                                 None\n",
              "38                                                 None\n",
              "39    <re.Match object; span=(7, 15), match='estrenar'>\n",
              "40                                                 None\n",
              "41                                                 None\n",
              "42                                                 None\n",
              "43                                                 None\n",
              "44                                                 None\n",
              "45                                                 None\n",
              "46                                                 None\n",
              "47                                                 None\n",
              "48                                                 None\n",
              "49                                                 None\n",
              "Name: description, dtype: object"
            ]
          },
          "execution_count": 16,
          "metadata": {},
          "output_type": "execute_result"
        }
      ],
      "source": [
        "prope.description.apply(funcion)"
      ]
    },
    {
      "cell_type": "code",
      "execution_count": null,
      "id": "t-jFd1Qnc-ED",
      "metadata": {
        "colab": {
          "base_uri": "https://localhost:8080/"
        },
        "id": "t-jFd1Qnc-ED",
        "outputId": "b106f40c-d3ff-407d-f73b-bcbcb008661b"
      },
      "outputs": [
        {
          "data": {
            "text/plain": [
              "0                                                  None\n",
              "1     <re.Match object; span=(50, 58), match='estren...\n",
              "2                                                  None\n",
              "3                                                  None\n",
              "4                                                  None\n",
              "5                                                  None\n",
              "6                                                  None\n",
              "7                                                  None\n",
              "8                                                  None\n",
              "9                                                  None\n",
              "10                                                 None\n",
              "11                                                 None\n",
              "12                                                 None\n",
              "13                                                 None\n",
              "14                                                 None\n",
              "15                                                 None\n",
              "16                                                 None\n",
              "17                                                 None\n",
              "18                                                 None\n",
              "19                                                 None\n",
              "20                                                 None\n",
              "21                                                 None\n",
              "22                                                 None\n",
              "23                                                 None\n",
              "24                                                 None\n",
              "25                                                 None\n",
              "26                                                 None\n",
              "27                                                 None\n",
              "28                                                 None\n",
              "29                                                 None\n",
              "30                                                 None\n",
              "31                                                 None\n",
              "32                                                 None\n",
              "33                                                 None\n",
              "34                                                 None\n",
              "35                                                 None\n",
              "36                                                 None\n",
              "37                                                 None\n",
              "38                                                 None\n",
              "39    <re.Match object; span=(7, 15), match='estrenar'>\n",
              "40                                                 None\n",
              "41                                                 None\n",
              "42                                                 None\n",
              "43                                                 None\n",
              "44                                                 None\n",
              "45                                                 None\n",
              "46                                                 None\n",
              "47                                                 None\n",
              "48                                                 None\n",
              "49                                                 None\n",
              "Name: description, dtype: object"
            ]
          },
          "execution_count": 17,
          "metadata": {},
          "output_type": "execute_result"
        }
      ],
      "source": [
        "prope.description.apply(lambda x : re.search(\"estrenar\",x ))"
      ]
    },
    {
      "cell_type": "markdown",
      "id": "WYAktduXdvqo",
      "metadata": {
        "id": "WYAktduXdvqo"
      },
      "source": [
        "## Objecto `match`:\n",
        "\n",
        "```\n",
        ".span() returns a tuple containing the start-, and end positions of the match.\n",
        ".string returns the string passed into the function\n",
        ".group() returns the part of the string where there was a match\n",
        "```\n",
        "\n"
      ]
    },
    {
      "cell_type": "code",
      "execution_count": null,
      "id": "rBOSyaHczBcM",
      "metadata": {
        "colab": {
          "base_uri": "https://localhost:8080/"
        },
        "id": "rBOSyaHczBcM",
        "outputId": "8048f065-62d5-4124-a00b-3624f4290160"
      },
      "outputs": [
        {
          "data": {
            "text/plain": [
              "<re.Match object; span=(0, 3), match='amb'>"
            ]
          },
          "execution_count": 27,
          "metadata": {},
          "output_type": "execute_result"
        }
      ],
      "source": [
        "re.search(\"amb\", texto)"
      ]
    },
    {
      "cell_type": "code",
      "execution_count": null,
      "id": "nxt5NQDqzIML",
      "metadata": {
        "id": "nxt5NQDqzIML"
      },
      "outputs": [],
      "source": [
        "p=re.search(\"amb\", texto)"
      ]
    },
    {
      "cell_type": "code",
      "execution_count": null,
      "id": "zRsuzhjXzJ_L",
      "metadata": {
        "colab": {
          "base_uri": "https://localhost:8080/"
        },
        "id": "zRsuzhjXzJ_L",
        "outputId": "d7039479-56d6-42b6-8d9b-647fd743fb59"
      },
      "outputs": [
        {
          "data": {
            "text/plain": [
              "(0, 3)"
            ]
          },
          "execution_count": 20,
          "metadata": {},
          "output_type": "execute_result"
        }
      ],
      "source": [
        "p.span()"
      ]
    },
    {
      "cell_type": "code",
      "execution_count": null,
      "id": "oGauWrHKzR8x",
      "metadata": {
        "id": "oGauWrHKzR8x"
      },
      "outputs": [],
      "source": []
    },
    {
      "cell_type": "code",
      "execution_count": null,
      "id": "43frg-W_d5by",
      "metadata": {
        "colab": {
          "base_uri": "https://localhost:8080/"
        },
        "id": "43frg-W_d5by",
        "outputId": "ce81a8a7-c285-436e-ef1a-0f30fad15e17"
      },
      "outputs": [
        {
          "data": {
            "text/plain": [
              "<re.Match object; span=(50, 55), match='estre'>"
            ]
          },
          "execution_count": 21,
          "metadata": {},
          "output_type": "execute_result"
        }
      ],
      "source": [
        "prope.description.apply(lambda x : re.search(\"estre\", x))[1]"
      ]
    },
    {
      "cell_type": "code",
      "execution_count": null,
      "id": "c9AVuDtzeDfh",
      "metadata": {
        "colab": {
          "base_uri": "https://localhost:8080/",
          "height": 88
        },
        "id": "c9AVuDtzeDfh",
        "outputId": "6dd032ca-5147-4c6c-90fa-21b4148c9fd0"
      },
      "outputs": [
        {
          "data": {
            "application/vnd.google.colaboratory.intrinsic+json": {
              "type": "string"
            },
            "text/plain": [
              "'Venta de departamento en décimo piso al frente, a estrenar. Living comedor con ventanales hacia el balcón con pisos de madera. Cocina completa con doble mesada, muebles bajo mesada. Lavadero separado. Toilette.Dormitorio con placard. Segundo dormitorio a dividir. Calefacción por radiadorBaño completo.Balcón corrido. Posibilidad de cochera semicubierta. U$D 20.000                     Aviso publicado por Pixel Inmobiliario (Servicio de Páginas Web para Inmobiliarias).'"
            ]
          },
          "execution_count": 22,
          "metadata": {},
          "output_type": "execute_result"
        }
      ],
      "source": [
        "prope.description[1]"
      ]
    },
    {
      "cell_type": "code",
      "execution_count": null,
      "id": "xdZCl6bqbRyR",
      "metadata": {
        "id": "xdZCl6bqbRyR"
      },
      "outputs": [],
      "source": []
    },
    {
      "cell_type": "code",
      "execution_count": null,
      "id": "-06frO8HeGo2",
      "metadata": {
        "id": "-06frO8HeGo2"
      },
      "outputs": [],
      "source": [
        "match1=prope.description.apply(lambda x : re.search(\"estre\", x))[1]"
      ]
    },
    {
      "cell_type": "code",
      "execution_count": null,
      "id": "PSqYSqpVeMnP",
      "metadata": {
        "colab": {
          "base_uri": "https://localhost:8080/"
        },
        "id": "PSqYSqpVeMnP",
        "outputId": "6c28ad83-a5d5-4e49-9dd9-10a831cd8559"
      },
      "outputs": [
        {
          "data": {
            "text/plain": [
              "(50, 55)"
            ]
          },
          "execution_count": 24,
          "metadata": {},
          "output_type": "execute_result"
        }
      ],
      "source": [
        "match1.span()"
      ]
    },
    {
      "cell_type": "code",
      "execution_count": null,
      "id": "8XrtUTJqePlX",
      "metadata": {
        "colab": {
          "base_uri": "https://localhost:8080/",
          "height": 88
        },
        "id": "8XrtUTJqePlX",
        "outputId": "7ff848c5-e48b-4bcc-cd89-0b062a885faa"
      },
      "outputs": [
        {
          "data": {
            "application/vnd.google.colaboratory.intrinsic+json": {
              "type": "string"
            },
            "text/plain": [
              "'Venta de departamento en décimo piso al frente, a estrenar. Living comedor con ventanales hacia el balcón con pisos de madera. Cocina completa con doble mesada, muebles bajo mesada. Lavadero separado. Toilette.Dormitorio con placard. Segundo dormitorio a dividir. Calefacción por radiadorBaño completo.Balcón corrido. Posibilidad de cochera semicubierta. U$D 20.000                     Aviso publicado por Pixel Inmobiliario (Servicio de Páginas Web para Inmobiliarias).'"
            ]
          },
          "execution_count": 25,
          "metadata": {},
          "output_type": "execute_result"
        }
      ],
      "source": [
        "match1.string"
      ]
    },
    {
      "cell_type": "code",
      "execution_count": null,
      "id": "gPQS1MqCeSh7",
      "metadata": {
        "colab": {
          "base_uri": "https://localhost:8080/",
          "height": 36
        },
        "id": "gPQS1MqCeSh7",
        "outputId": "f9506a52-dab4-4e49-f50c-e865ebebc863"
      },
      "outputs": [
        {
          "data": {
            "application/vnd.google.colaboratory.intrinsic+json": {
              "type": "string"
            },
            "text/plain": [
              "'estre'"
            ]
          },
          "execution_count": 26,
          "metadata": {},
          "output_type": "execute_result"
        }
      ],
      "source": [
        "match1.group()"
      ]
    },
    {
      "cell_type": "code",
      "execution_count": null,
      "id": "r4-_exgRbO4x",
      "metadata": {
        "id": "r4-_exgRbO4x"
      },
      "outputs": [],
      "source": []
    },
    {
      "cell_type": "markdown",
      "id": "28bd5fb9",
      "metadata": {
        "id": "28bd5fb9"
      },
      "source": [
        "# Expresiones Regulares\n",
        "\n",
        "### ¿Qué patrón pueden identificar para los siguientes strings?\n",
        "\n",
        "---\n",
        "\n",
        "ana_laura@hotmail.com\n",
        "\n",
        "juan.perez@gmail.com\n",
        "\n",
        "florgimenez@yahoo.com.ar\n",
        "\n",
        "\n",
        "\n",
        "# Empecemos\n",
        "\n",
        "queremos una expresión regular que sirva de patron para idntificar los mails anteriores.\n"
      ]
    },
    {
      "cell_type": "code",
      "execution_count": null,
      "id": "5d1a39cd",
      "metadata": {
        "id": "5d1a39cd"
      },
      "outputs": [],
      "source": [
        "texto = 'hola mi mail es ana_laura@hotmail.com escribo para consultar por los horarios.'"
      ]
    },
    {
      "cell_type": "code",
      "execution_count": null,
      "id": "r7iK0_yKagyS",
      "metadata": {
        "colab": {
          "base_uri": "https://localhost:8080/"
        },
        "id": "r7iK0_yKagyS",
        "outputId": "fb1106d4-eeb3-48df-f73e-98fa4d130784"
      },
      "outputs": [
        {
          "data": {
            "text/plain": [
              "<re.Match object; span=(25, 26), match='@'>"
            ]
          },
          "execution_count": 32,
          "metadata": {},
          "output_type": "execute_result"
        }
      ],
      "source": [
        "re.search(\"@\", texto)"
      ]
    },
    {
      "cell_type": "markdown",
      "id": "ePVccogDejny",
      "metadata": {
        "id": "ePVccogDejny"
      },
      "source": [
        "Necesitamos definir un patron de busqueda, por ejemplo:\n",
        "\n",
        "```\n",
        "ESPACIOxxxx@xxxxESPACIO\n",
        "```\n"
      ]
    },
    {
      "cell_type": "markdown",
      "id": "bBdpW22efvF2",
      "metadata": {
        "id": "bBdpW22efvF2"
      },
      "source": [
        "## Algunos metacaracteres frecuentes:\n",
        "\n",
        "**\\d** Cualquier dígito del 0 al 9\n",
        "\n",
        "**\\w** Cualquier caracter alfanumérico (A-Z, a-z, 0-9 y _)\n",
        "\n",
        "**\\s** Cualquier espacio en blanco (espacio, tabulado, nueva línea, etc.)\n",
        "\n",
        "**\\S** Cualquier caracter salvo el espacio en blanco.\n",
        "\n",
        "**.** Cualquier caracter con excepción de nueva línea (\\n)\n",
        "\n"
      ]
    },
    {
      "cell_type": "code",
      "execution_count": null,
      "id": "G0jS8TvRarGg",
      "metadata": {
        "colab": {
          "base_uri": "https://localhost:8080/"
        },
        "id": "G0jS8TvRarGg",
        "outputId": "e16d441d-67ce-49b9-806d-8f2171beae33"
      },
      "outputs": [
        {
          "data": {
            "text/plain": [
              "<re.Match object; span=(24, 27), match='a@h'>"
            ]
          },
          "execution_count": 33,
          "metadata": {},
          "output_type": "execute_result"
        }
      ],
      "source": [
        "re.search(\"\\w@\\w\", texto)"
      ]
    },
    {
      "cell_type": "code",
      "execution_count": null,
      "id": "_aCCbUBSfHa3",
      "metadata": {
        "id": "_aCCbUBSfHa3"
      },
      "outputs": [],
      "source": [
        "texto = 'hola mi mail es aña_laura@hotmail.com, escribo para consultar por los horarios.'"
      ]
    },
    {
      "cell_type": "markdown",
      "id": "55U9eGOegGqG",
      "metadata": {
        "id": "55U9eGOegGqG"
      },
      "source": [
        "### Cuantificadores:\n",
        "\n",
        "**\\*** Cero o más del elemento anterior\n",
        "\n",
        "**+** Uno o más del elemento anterior\n",
        "\n",
        "**{min,max}** Definen mínimos y máximos de repetición\n",
        "\n",
        "**?** Opcional, ó cero o uno del elemento anterior\n"
      ]
    },
    {
      "cell_type": "code",
      "execution_count": null,
      "id": "3BOIKHhefHX6",
      "metadata": {
        "colab": {
          "base_uri": "https://localhost:8080/"
        },
        "id": "3BOIKHhefHX6",
        "outputId": "4a24f259-5edc-47dd-882a-de4956a786b4"
      },
      "outputs": [
        {
          "data": {
            "text/plain": [
              "<re.Match object; span=(16, 33), match='aña_laura@hotmail'>"
            ]
          },
          "execution_count": 35,
          "metadata": {},
          "output_type": "execute_result"
        }
      ],
      "source": [
        "re.search(\"\\w+@\\w+\", texto)\n"
      ]
    },
    {
      "cell_type": "code",
      "execution_count": null,
      "id": "e1ae2e6d",
      "metadata": {
        "id": "e1ae2e6d"
      },
      "outputs": [],
      "source": [
        "texto2 = 'hola mi mail es ana_laura@hotmail.com.ar, escribo para consultar por los horarios. y el de una amiga flor@gmail.com'"
      ]
    },
    {
      "cell_type": "code",
      "execution_count": null,
      "id": "c1502060",
      "metadata": {
        "colab": {
          "base_uri": "https://localhost:8080/"
        },
        "id": "c1502060",
        "outputId": "8b98ce90-a8d6-4f67-c794-9604b4e63e80"
      },
      "outputs": [
        {
          "data": {
            "text/plain": [
              "<re.Match object; span=(16, 41), match='ana_laura@hotmail.com.ar,'>"
            ]
          },
          "execution_count": 37,
          "metadata": {},
          "output_type": "execute_result"
        }
      ],
      "source": [
        "re.search(\"\\S+@\\S+\", texto2)"
      ]
    },
    {
      "cell_type": "code",
      "execution_count": null,
      "id": "f04f3d5d",
      "metadata": {
        "colab": {
          "base_uri": "https://localhost:8080/"
        },
        "id": "f04f3d5d",
        "outputId": "87ed1845-a84b-4c70-c19a-38f3d70dc3d4"
      },
      "outputs": [
        {
          "data": {
            "text/plain": [
              "['ana_laura@hotmail.com.ar,', 'flor@gmail.com']"
            ]
          },
          "execution_count": 38,
          "metadata": {},
          "output_type": "execute_result"
        }
      ],
      "source": [
        "re.findall(\"\\S+@\\S+\", texto2)\n",
        "\n"
      ]
    },
    {
      "cell_type": "code",
      "execution_count": null,
      "id": "f6fbf243",
      "metadata": {
        "colab": {
          "base_uri": "https://localhost:8080/"
        },
        "id": "f6fbf243",
        "outputId": "86d1e35c-aa99-489a-aaa6-be0350a48ecd"
      },
      "outputs": [
        {
          "data": {
            "text/plain": [
              "101"
            ]
          },
          "execution_count": 39,
          "metadata": {},
          "output_type": "execute_result"
        }
      ],
      "source": [
        "texto2.index('flor@gmail.com')"
      ]
    },
    {
      "cell_type": "code",
      "execution_count": null,
      "id": "4W6SKZ-bfHU-",
      "metadata": {
        "colab": {
          "base_uri": "https://localhost:8080/"
        },
        "id": "4W6SKZ-bfHU-",
        "outputId": "277f4346-a5e2-403c-ae6b-49b94df9bc29"
      },
      "outputs": [
        {
          "data": {
            "text/plain": [
              "['ana_laura@hotmail.com', 'flor@gmail.com']"
            ]
          },
          "execution_count": 40,
          "metadata": {},
          "output_type": "execute_result"
        }
      ],
      "source": [
        "re.findall(\"\\w+@\\w+.\\w+\", texto2)"
      ]
    },
    {
      "cell_type": "markdown",
      "id": "Mc_dcibAjMUQ",
      "metadata": {
        "id": "Mc_dcibAjMUQ"
      },
      "source": [
        "### Compilando patrones:"
      ]
    },
    {
      "cell_type": "markdown",
      "id": "0166f55c",
      "metadata": {
        "id": "0166f55c"
      },
      "source": [
        "Podemos definir el patron y compilarlo para poder hacer la busqueda de una manera mas practica, para eso usamos el método `compile`"
      ]
    },
    {
      "cell_type": "code",
      "execution_count": null,
      "id": "1c35cb67",
      "metadata": {
        "id": "1c35cb67"
      },
      "outputs": [],
      "source": [
        "obj_regex = re.compile('\\w+@\\w+.\\w+')"
      ]
    },
    {
      "cell_type": "markdown",
      "id": "28a62893",
      "metadata": {
        "id": "28a62893"
      },
      "source": [
        "Ahora aplicamos nuestro regex al string haciendo una busqueda del patron para eso aplicamos el método `search`"
      ]
    },
    {
      "cell_type": "code",
      "execution_count": null,
      "id": "bcc41f55",
      "metadata": {
        "colab": {
          "base_uri": "https://localhost:8080/"
        },
        "id": "bcc41f55",
        "outputId": "acd62f4f-bfe8-474b-8242-ef16b04d6a89"
      },
      "outputs": [
        {
          "data": {
            "text/plain": [
              "<re.Match object; span=(16, 37), match='aña_laura@hotmail.com'>"
            ]
          },
          "execution_count": 42,
          "metadata": {},
          "output_type": "execute_result"
        }
      ],
      "source": [
        "obj_regex.search(texto)"
      ]
    },
    {
      "cell_type": "markdown",
      "id": "25004160",
      "metadata": {
        "id": "25004160"
      },
      "source": [
        "para extraer el match de lo que encontro se usa el método `group`"
      ]
    },
    {
      "cell_type": "code",
      "execution_count": null,
      "id": "007f5878",
      "metadata": {
        "colab": {
          "base_uri": "https://localhost:8080/",
          "height": 36
        },
        "id": "007f5878",
        "outputId": "41bf63f1-04cc-4d16-bcd7-0cff3d7f282d"
      },
      "outputs": [
        {
          "data": {
            "application/vnd.google.colaboratory.intrinsic+json": {
              "type": "string"
            },
            "text/plain": [
              "'aña_laura@hotmail.com'"
            ]
          },
          "execution_count": 43,
          "metadata": {},
          "output_type": "execute_result"
        }
      ],
      "source": [
        "obj_regex.search(texto).group(0)"
      ]
    },
    {
      "cell_type": "markdown",
      "id": "4881a9ad",
      "metadata": {
        "id": "4881a9ad"
      },
      "source": [
        "¿Qué pasa si quiero tener por separado el usuario y el dominio?\n",
        "\n",
        "para resolver eso se definen grupos dentro del patron de búsqueda de la siguiente manera `()`"
      ]
    },
    {
      "cell_type": "code",
      "execution_count": null,
      "id": "29e30130",
      "metadata": {
        "colab": {
          "base_uri": "https://localhost:8080/"
        },
        "id": "29e30130",
        "outputId": "dc4f6158-d0ba-4aef-fd5d-d621cfc73064"
      },
      "outputs": [
        {
          "data": {
            "text/plain": [
              "<re.Match object; span=(16, 37), match='aña_laura@hotmail.com'>"
            ]
          },
          "execution_count": 44,
          "metadata": {},
          "output_type": "execute_result"
        }
      ],
      "source": [
        "patron = '(\\w+)@(\\w+.\\w+)'\n",
        "\n",
        "regex = re.compile(patron)\n",
        "\n",
        "regex.search(texto)"
      ]
    },
    {
      "cell_type": "markdown",
      "id": "a506c63f",
      "metadata": {
        "id": "a506c63f"
      },
      "source": [
        "Para obtener los grupos que encontró usamos el método `groups`"
      ]
    },
    {
      "cell_type": "code",
      "execution_count": null,
      "id": "d39239a1",
      "metadata": {
        "colab": {
          "base_uri": "https://localhost:8080/"
        },
        "id": "d39239a1",
        "outputId": "281e2844-f779-4a46-ba70-bfa8d023d4d0"
      },
      "outputs": [
        {
          "data": {
            "text/plain": [
              "('aña_laura', 'hotmail.com')"
            ]
          },
          "execution_count": 45,
          "metadata": {},
          "output_type": "execute_result"
        }
      ],
      "source": [
        "regex.search(texto).groups()"
      ]
    },
    {
      "cell_type": "markdown",
      "id": "c75de188",
      "metadata": {
        "id": "c75de188"
      },
      "source": [
        "Tambien se le puede poner nombre a cada uno de los grupos para poder acceder de una forma más directa y descriptiva `(?P<group_name> )`"
      ]
    },
    {
      "cell_type": "code",
      "execution_count": null,
      "id": "83716846",
      "metadata": {
        "id": "83716846"
      },
      "outputs": [],
      "source": [
        "patron = '(?P<nombres>\\w+)@(?P<servidores>\\w+.\\w+)'\n",
        "\n",
        "regex = re.compile(patron)"
      ]
    },
    {
      "cell_type": "code",
      "execution_count": null,
      "id": "78fa152e",
      "metadata": {
        "colab": {
          "base_uri": "https://localhost:8080/"
        },
        "id": "78fa152e",
        "outputId": "7d13496b-589e-4863-daf6-ca2dd9d7e7dd"
      },
      "outputs": [
        {
          "data": {
            "text/plain": [
              "('aña_laura', 'hotmail.com')"
            ]
          },
          "execution_count": 47,
          "metadata": {},
          "output_type": "execute_result"
        }
      ],
      "source": [
        "regex.search(texto).groups()"
      ]
    },
    {
      "cell_type": "code",
      "execution_count": null,
      "id": "ILRQ5H30mNj9",
      "metadata": {
        "colab": {
          "base_uri": "https://localhost:8080/"
        },
        "id": "ILRQ5H30mNj9",
        "outputId": "512b1a82-e80d-44b9-8844-6a28075c1338"
      },
      "outputs": [
        {
          "data": {
            "text/plain": [
              "{'nombres': 'aña_laura', 'servidores': 'hotmail.com'}"
            ]
          },
          "execution_count": 48,
          "metadata": {},
          "output_type": "execute_result"
        }
      ],
      "source": [
        "regex.search(texto).groupdict()"
      ]
    },
    {
      "cell_type": "code",
      "execution_count": null,
      "id": "b00764f9",
      "metadata": {
        "colab": {
          "base_uri": "https://localhost:8080/",
          "height": 36
        },
        "id": "b00764f9",
        "outputId": "1674c3a5-93e7-4d33-ecac-9eb6eccbd4af"
      },
      "outputs": [
        {
          "data": {
            "application/vnd.google.colaboratory.intrinsic+json": {
              "type": "string"
            },
            "text/plain": [
              "'aña_laura'"
            ]
          },
          "execution_count": 49,
          "metadata": {},
          "output_type": "execute_result"
        }
      ],
      "source": [
        "regex.search(texto).group('nombres')"
      ]
    },
    {
      "cell_type": "markdown",
      "id": "a42da87a",
      "metadata": {
        "id": "a42da87a"
      },
      "source": [
        "Nos apareció el nombre del dominio con el \".com\" podríamos generar otro grupo para captarlo por separado"
      ]
    },
    {
      "cell_type": "code",
      "execution_count": null,
      "id": "5b49e16d",
      "metadata": {
        "id": "5b49e16d"
      },
      "outputs": [],
      "source": [
        "patron = '(?P<usuario>\\w+)@(?P<dominio>\\w+).(\\w+)'\n",
        "\n",
        "regex = re.compile(patron)"
      ]
    },
    {
      "cell_type": "code",
      "execution_count": null,
      "id": "9f2e9927",
      "metadata": {
        "colab": {
          "base_uri": "https://localhost:8080/"
        },
        "id": "9f2e9927",
        "outputId": "77bc3c65-5709-4ab9-e97c-5622c2d89871"
      },
      "outputs": [
        {
          "data": {
            "text/plain": [
              "('aña_laura', 'hotmail', 'com')"
            ]
          },
          "execution_count": 51,
          "metadata": {},
          "output_type": "execute_result"
        }
      ],
      "source": [
        "regex.search(texto).groups()"
      ]
    },
    {
      "cell_type": "code",
      "execution_count": null,
      "id": "c7fe433f",
      "metadata": {
        "id": "c7fe433f"
      },
      "outputs": [],
      "source": [
        "texto2= 'Buen dia soy florgimenez@yahoo.com.ar queria saber por que tengo ausente la clase 35'\n",
        "\n",
        "patron = '(?P<usuario>\\w+)@(?P<dominio>\\w+).(\\w+)'\n",
        "\n",
        "regex = re.compile(patron)"
      ]
    },
    {
      "cell_type": "code",
      "execution_count": null,
      "id": "841f915c",
      "metadata": {
        "colab": {
          "base_uri": "https://localhost:8080/"
        },
        "id": "841f915c",
        "outputId": "f01da724-b463-4582-f920-c859a6f981e5"
      },
      "outputs": [
        {
          "data": {
            "text/plain": [
              "('florgimenez', 'yahoo', 'com')"
            ]
          },
          "execution_count": 55,
          "metadata": {},
          "output_type": "execute_result"
        }
      ],
      "source": [
        "regex.search(texto2).groups()"
      ]
    },
    {
      "cell_type": "code",
      "execution_count": null,
      "id": "5db36b7f",
      "metadata": {
        "colab": {
          "base_uri": "https://localhost:8080/"
        },
        "id": "5db36b7f",
        "outputId": "ff7866c6-13e5-451d-b539-e6978620a1e2"
      },
      "outputs": [
        {
          "data": {
            "text/plain": [
              "('aña_laura', 'hotmail', 'com')"
            ]
          },
          "execution_count": 56,
          "metadata": {},
          "output_type": "execute_result"
        }
      ],
      "source": [
        "regex.search(texto).groups()"
      ]
    },
    {
      "cell_type": "markdown",
      "id": "173a9655",
      "metadata": {
        "id": "173a9655"
      },
      "source": [
        "### Caracteres optativos `?`"
      ]
    },
    {
      "cell_type": "code",
      "execution_count": null,
      "id": "a14d968a",
      "metadata": {
        "id": "a14d968a"
      },
      "outputs": [],
      "source": [
        "patron = '(\\w+)@(\\w+).(\\w+).(ar)?'\n",
        "regex = re.compile(patron)"
      ]
    },
    {
      "cell_type": "code",
      "execution_count": null,
      "id": "454de8b0",
      "metadata": {
        "colab": {
          "base_uri": "https://localhost:8080/"
        },
        "id": "454de8b0",
        "outputId": "8f4591de-df4e-4a96-a8c6-c1cd69916986"
      },
      "outputs": [
        {
          "data": {
            "text/plain": [
              "('florgimenez', 'yahoo', 'com', 'ar')"
            ]
          },
          "execution_count": 82,
          "metadata": {},
          "output_type": "execute_result"
        }
      ],
      "source": [
        "regex.search(texto2).groups()"
      ]
    },
    {
      "cell_type": "code",
      "execution_count": null,
      "id": "d8f2cb98",
      "metadata": {
        "colab": {
          "base_uri": "https://localhost:8080/"
        },
        "id": "d8f2cb98",
        "outputId": "26ee5b8d-362c-40d7-c615-c943c1a2c9e6"
      },
      "outputs": [
        {
          "data": {
            "text/plain": [
              "('aña_laura', 'hotmail', 'com', None)"
            ]
          },
          "execution_count": 59,
          "metadata": {},
          "output_type": "execute_result"
        }
      ],
      "source": [
        "regex.search(texto).groups()"
      ]
    },
    {
      "cell_type": "markdown",
      "id": "izogPnFNrNvb",
      "metadata": {
        "id": "izogPnFNrNvb"
      },
      "source": [
        "### Flags\n"
      ]
    },
    {
      "cell_type": "code",
      "execution_count": null,
      "id": "5FPzYzd9mn9j",
      "metadata": {
        "colab": {
          "base_uri": "https://localhost:8080/"
        },
        "id": "5FPzYzd9mn9j",
        "outputId": "6cb1f02e-5845-4fd8-972f-b9a6b7faa66c"
      },
      "outputs": [
        {
          "data": {
            "text/plain": [
              "0                                                None\n",
              "1                                                None\n",
              "2                                                None\n",
              "3         <re.Match object; span=(5, 8), match='amb'>\n",
              "4                                                None\n",
              "5                                                None\n",
              "6                                                None\n",
              "7                                                None\n",
              "8                                                None\n",
              "9                                                None\n",
              "10                                               None\n",
              "11    <re.Match object; span=(155, 158), match='amb'>\n",
              "12                                               None\n",
              "13      <re.Match object; span=(21, 24), match='amb'>\n",
              "14                                               None\n",
              "15                                               None\n",
              "16      <re.Match object; span=(36, 39), match='amb'>\n",
              "17      <re.Match object; span=(12, 15), match='amb'>\n",
              "18    <re.Match object; span=(398, 401), match='amb'>\n",
              "19    <re.Match object; span=(348, 351), match='amb'>\n",
              "20                                               None\n",
              "21                                               None\n",
              "22    <re.Match object; span=(106, 109), match='amb'>\n",
              "23    <re.Match object; span=(399, 402), match='amb'>\n",
              "24      <re.Match object; span=(91, 94), match='amb'>\n",
              "25      <re.Match object; span=(91, 94), match='amb'>\n",
              "26                                               None\n",
              "27                                               None\n",
              "28      <re.Match object; span=(91, 94), match='amb'>\n",
              "29      <re.Match object; span=(40, 43), match='amb'>\n",
              "30                                               None\n",
              "31      <re.Match object; span=(35, 38), match='amb'>\n",
              "32                                               None\n",
              "33      <re.Match object; span=(12, 15), match='amb'>\n",
              "34                                               None\n",
              "35      <re.Match object; span=(31, 34), match='amb'>\n",
              "36                                               None\n",
              "37                                               None\n",
              "38    <re.Match object; span=(253, 256), match='amb'>\n",
              "39                                               None\n",
              "40    <re.Match object; span=(960, 963), match='amb'>\n",
              "41                                               None\n",
              "42                                               None\n",
              "43                                               None\n",
              "44                                               None\n",
              "45      <re.Match object; span=(12, 15), match='amb'>\n",
              "46                                               None\n",
              "47                                               None\n",
              "48                                               None\n",
              "49                                               None\n",
              "Name: description, dtype: object"
            ]
          },
          "execution_count": 60,
          "metadata": {},
          "output_type": "execute_result"
        }
      ],
      "source": [
        "prope.description.apply(lambda x : re.search(\"amb\", x))"
      ]
    },
    {
      "cell_type": "code",
      "execution_count": null,
      "id": "IwfGgC-frjL7",
      "metadata": {
        "colab": {
          "base_uri": "https://localhost:8080/",
          "height": 70
        },
        "id": "IwfGgC-frjL7",
        "outputId": "03b7471a-9950-4f84-b861-e1c45d332a14"
      },
      "outputs": [
        {
          "data": {
            "application/vnd.google.colaboratory.intrinsic+json": {
              "type": "string"
            },
            "text/plain": [
              "'2 AMBIENTES TIPO CASA PLANTA BAJA POR PASILLO, REFACCIONADO A NUEVO, PATIO GRANDE, CON LAVADERO, LIVING COMEDOR CON COCINA INTEGRADA, ARTEFACTO DE COCINA, ALACENA, BAÑO COMPLETO, Y DORMITORIO. TODO EN EXCELENTE ESTADO, PARA HABITAR.NO ES APTO CREDITO Aviso publicado por Pixel Inmobiliario (Servicio de Páginas Web para Inmobiliarias).'"
            ]
          },
          "execution_count": 61,
          "metadata": {},
          "output_type": "execute_result"
        }
      ],
      "source": [
        "prope.description[0]"
      ]
    },
    {
      "cell_type": "markdown",
      "id": "w9XxjzCNrtXa",
      "metadata": {
        "id": "w9XxjzCNrtXa"
      },
      "source": [
        "**queremos que ignore si es mayusculas o minisuclas**"
      ]
    },
    {
      "cell_type": "code",
      "execution_count": null,
      "id": "KXH9cS9nsmPO",
      "metadata": {
        "colab": {
          "base_uri": "https://localhost:8080/"
        },
        "id": "KXH9cS9nsmPO",
        "outputId": "ca4f7fc2-5a73-4007-f814-e41535704b15"
      },
      "outputs": [
        {
          "data": {
            "text/plain": [
              "19"
            ]
          },
          "execution_count": 62,
          "metadata": {},
          "output_type": "execute_result"
        }
      ],
      "source": [
        "prope.description.apply(lambda x : re.search(\"amb\", x)).count()"
      ]
    },
    {
      "cell_type": "code",
      "execution_count": null,
      "id": "2glxkfiXrWjj",
      "metadata": {
        "colab": {
          "base_uri": "https://localhost:8080/"
        },
        "id": "2glxkfiXrWjj",
        "outputId": "908de47f-185c-48fe-911e-212431e07589"
      },
      "outputs": [
        {
          "data": {
            "text/plain": [
              "25"
            ]
          },
          "execution_count": 63,
          "metadata": {},
          "output_type": "execute_result"
        }
      ],
      "source": [
        "prope.description.apply(lambda x : re.search(\"amb\", x, flags=re.I)).count()"
      ]
    },
    {
      "cell_type": "markdown",
      "id": "QfCbCFQBpqDf",
      "metadata": {
        "id": "QfCbCFQBpqDf"
      },
      "source": [
        "### Flags:\n",
        "\n",
        "Podemos ademas de las wildcards en la expresion regular agregar un parametro global que defina alguna caracteristica de la busqueda:\n",
        "\n",
        "```python\n",
        "re.I\tre.IGNORECASE\tignore case.\n",
        "re.M\tre.MULTILINE\tmake begin/end {^, $} consider each line.\n",
        "re.S\tre.DOTALL\tmake . match newline too.\n",
        "re.U\tre.UNICODE\tmake {\\w, \\W, \\b, \\B} follow Unicode rules.\n",
        "re.L\tre.LOCALE\tmake {\\w, \\W, \\b, \\B} follow locale.\n",
        "re.X\tre.VERBOSE\tallow comment in regex.\n",
        "```"
      ]
    },
    {
      "cell_type": "markdown",
      "id": "_gpqxdAKvugs",
      "metadata": {
        "id": "_gpqxdAKvugs"
      },
      "source": [
        "# Probando patrones:\n",
        "\n",
        "https://regex101.com/\n"
      ]
    },
    {
      "cell_type": "markdown",
      "id": "3sjFz73Qvw9h",
      "metadata": {
        "id": "3sjFz73Qvw9h"
      },
      "source": [
        "![](https://geekandpoke.typepad.com/.a/6a00d8341d3df553ef0192aa54031f970d-800wi)"
      ]
    },
    {
      "cell_type": "code",
      "execution_count": null,
      "id": "U92POz4cdbDf",
      "metadata": {
        "id": "U92POz4cdbDf"
      },
      "outputs": [],
      "source": []
    },
    {
      "cell_type": "markdown",
      "id": "-oHYsMbWdbdb",
      "metadata": {
        "id": "-oHYsMbWdbdb"
      },
      "source": [
        "# Ejemplo"
      ]
    },
    {
      "cell_type": "code",
      "execution_count": null,
      "id": "t2DdCETaeyuJ",
      "metadata": {
        "colab": {
          "base_uri": "https://localhost:8080/",
          "height": 70
        },
        "id": "t2DdCETaeyuJ",
        "outputId": "7297a88e-f745-4e24-c70c-b40d1b999c00"
      },
      "outputs": [
        {
          "data": {
            "application/vnd.google.colaboratory.intrinsic+json": {
              "type": "string"
            },
            "text/plain": [
              "'2 AMBIENTES TIPO CASA PLANTA BAJA POR PASILLO, REFACCIONADO A NUEVO, PATIO GRANDE, CON LAVADERO, LIVING COMEDOR CON COCINA INTEGRADA, ARTEFACTO DE COCINA, ALACENA, BAÑO COMPLETO, Y DORMITORIO. TODO EN EXCELENTE ESTADO, PARA HABITAR.NO ES APTO CREDITO Aviso publicado por Pixel Inmobiliario (Servicio de Páginas Web para Inmobiliarias).'"
            ]
          },
          "execution_count": 72,
          "metadata": {},
          "output_type": "execute_result"
        }
      ],
      "source": [
        "prope.description[0]"
      ]
    },
    {
      "cell_type": "code",
      "execution_count": null,
      "id": "UNuZHAbed5c9",
      "metadata": {
        "id": "UNuZHAbed5c9"
      },
      "outputs": [],
      "source": [
        "patron = '\\d+ amb'\n",
        "regex = re.compile(patron,flags=re.IGNORECASE)"
      ]
    },
    {
      "cell_type": "code",
      "execution_count": null,
      "id": "mOwysZ3geGdU",
      "metadata": {
        "colab": {
          "base_uri": "https://localhost:8080/"
        },
        "id": "mOwysZ3geGdU",
        "outputId": "35113d68-e549-4ddb-e88f-e03947071489"
      },
      "outputs": [
        {
          "data": {
            "text/plain": [
              "<re.Match object; span=(0, 5), match='2 AMB'>"
            ]
          },
          "execution_count": 84,
          "metadata": {},
          "output_type": "execute_result"
        }
      ],
      "source": [
        "regex.search(prope.description[0])"
      ]
    },
    {
      "cell_type": "code",
      "execution_count": null,
      "id": "V1lIsIvre8oh",
      "metadata": {
        "id": "V1lIsIvre8oh"
      },
      "outputs": [],
      "source": [
        "resultado=regex.search(prope.description[0])"
      ]
    },
    {
      "cell_type": "code",
      "execution_count": null,
      "id": "At5LGnWyfkZx",
      "metadata": {
        "colab": {
          "base_uri": "https://localhost:8080/",
          "height": 36
        },
        "id": "At5LGnWyfkZx",
        "outputId": "4f79016c-52e6-4b4d-9ff0-947512e242e5"
      },
      "outputs": [
        {
          "data": {
            "application/vnd.google.colaboratory.intrinsic+json": {
              "type": "string"
            },
            "text/plain": [
              "'2 AMB'"
            ]
          },
          "execution_count": 91,
          "metadata": {},
          "output_type": "execute_result"
        }
      ],
      "source": [
        "resultado.group()"
      ]
    },
    {
      "cell_type": "code",
      "execution_count": null,
      "id": "DQfUTqZ1f3FD",
      "metadata": {
        "id": "DQfUTqZ1f3FD"
      },
      "outputs": [],
      "source": [
        "def get_ambientes(x):\n",
        "  patron = '\\d+ amb'\n",
        "  regex = re.compile(patron,flags=re.IGNORECASE)\n",
        "  resultado=regex.search(x)\n",
        "  return resultado.group()"
      ]
    },
    {
      "cell_type": "code",
      "execution_count": null,
      "id": "f200dUDYgUI1",
      "metadata": {
        "colab": {
          "base_uri": "https://localhost:8080/",
          "height": 36
        },
        "id": "f200dUDYgUI1",
        "outputId": "bc47397a-cc9b-40eb-fccd-258acac75e9a"
      },
      "outputs": [
        {
          "data": {
            "application/vnd.google.colaboratory.intrinsic+json": {
              "type": "string"
            },
            "text/plain": [
              "'2 AMB'"
            ]
          },
          "execution_count": 96,
          "metadata": {},
          "output_type": "execute_result"
        }
      ],
      "source": [
        "get_ambientes(prope.description[0])"
      ]
    },
    {
      "cell_type": "code",
      "execution_count": null,
      "id": "7Ggv1hN4gXx5",
      "metadata": {
        "colab": {
          "base_uri": "https://localhost:8080/",
          "height": 263
        },
        "id": "7Ggv1hN4gXx5",
        "outputId": "6dc19ecb-e237-4b13-b8f9-a3cd45e2d3da"
      },
      "outputs": [
        {
          "ename": "AttributeError",
          "evalue": "ignored",
          "output_type": "error",
          "traceback": [
            "\u001b[0;31m---------------------------------------------------------------------------\u001b[0m",
            "\u001b[0;31mAttributeError\u001b[0m                            Traceback (most recent call last)",
            "\u001b[0;32m<ipython-input-97-6a2914111a17>\u001b[0m in \u001b[0;36m<cell line: 1>\u001b[0;34m()\u001b[0m\n\u001b[0;32m----> 1\u001b[0;31m \u001b[0mget_ambientes\u001b[0m\u001b[0;34m(\u001b[0m\u001b[0mprope\u001b[0m\u001b[0;34m.\u001b[0m\u001b[0mdescription\u001b[0m\u001b[0;34m[\u001b[0m\u001b[0;36m1\u001b[0m\u001b[0;34m]\u001b[0m\u001b[0;34m)\u001b[0m\u001b[0;34m\u001b[0m\u001b[0;34m\u001b[0m\u001b[0m\n\u001b[0m",
            "\u001b[0;32m<ipython-input-94-ece0207cea56>\u001b[0m in \u001b[0;36mget_ambientes\u001b[0;34m(x)\u001b[0m\n\u001b[1;32m      3\u001b[0m   \u001b[0mregex\u001b[0m \u001b[0;34m=\u001b[0m \u001b[0mre\u001b[0m\u001b[0;34m.\u001b[0m\u001b[0mcompile\u001b[0m\u001b[0;34m(\u001b[0m\u001b[0mpatron\u001b[0m\u001b[0;34m,\u001b[0m\u001b[0mflags\u001b[0m\u001b[0;34m=\u001b[0m\u001b[0mre\u001b[0m\u001b[0;34m.\u001b[0m\u001b[0mIGNORECASE\u001b[0m\u001b[0;34m)\u001b[0m\u001b[0;34m\u001b[0m\u001b[0;34m\u001b[0m\u001b[0m\n\u001b[1;32m      4\u001b[0m   \u001b[0mresultado\u001b[0m\u001b[0;34m=\u001b[0m\u001b[0mregex\u001b[0m\u001b[0;34m.\u001b[0m\u001b[0msearch\u001b[0m\u001b[0;34m(\u001b[0m\u001b[0mx\u001b[0m\u001b[0;34m)\u001b[0m\u001b[0;34m\u001b[0m\u001b[0;34m\u001b[0m\u001b[0m\n\u001b[0;32m----> 5\u001b[0;31m   \u001b[0;32mreturn\u001b[0m \u001b[0mresultado\u001b[0m\u001b[0;34m.\u001b[0m\u001b[0mgroup\u001b[0m\u001b[0;34m(\u001b[0m\u001b[0;34m)\u001b[0m\u001b[0;34m\u001b[0m\u001b[0;34m\u001b[0m\u001b[0m\n\u001b[0m",
            "\u001b[0;31mAttributeError\u001b[0m: 'NoneType' object has no attribute 'group'"
          ]
        }
      ],
      "source": [
        "get_ambientes(prope.description[1])"
      ]
    },
    {
      "cell_type": "code",
      "execution_count": null,
      "id": "X3N9W9qPgbFE",
      "metadata": {
        "colab": {
          "base_uri": "https://localhost:8080/",
          "height": 36
        },
        "id": "X3N9W9qPgbFE",
        "outputId": "13118e39-4e54-4214-b30e-4c92fe65a4d4"
      },
      "outputs": [
        {
          "data": {
            "application/vnd.google.colaboratory.intrinsic+json": {
              "type": "string"
            },
            "text/plain": [
              "'2 AMB'"
            ]
          },
          "execution_count": 98,
          "metadata": {},
          "output_type": "execute_result"
        }
      ],
      "source": [
        "get_ambientes(prope.description[2])"
      ]
    },
    {
      "cell_type": "code",
      "execution_count": null,
      "id": "YpJTEt6_gc82",
      "metadata": {
        "id": "YpJTEt6_gc82"
      },
      "outputs": [],
      "source": [
        "def get_ambientes(x):\n",
        "  patron = '\\d+ amb'\n",
        "  regex = re.compile(patron,flags=re.IGNORECASE)\n",
        "  resultado=regex.search(x)\n",
        "  try:\n",
        "    output=resultado.group()\n",
        "  except:\n",
        "    output=None\n",
        "  return output"
      ]
    },
    {
      "cell_type": "code",
      "execution_count": null,
      "id": "QMn6QvnmdRoA",
      "metadata": {
        "colab": {
          "base_uri": "https://localhost:8080/"
        },
        "id": "QMn6QvnmdRoA",
        "outputId": "f516099e-8279-4ab7-abc2-ecf1c7a84ab2"
      },
      "outputs": [
        {
          "data": {
            "text/plain": [
              "0     2 AMB\n",
              "1      None\n",
              "2     2 AMB\n",
              "3     3 amb\n",
              "4      None\n",
              "5      None\n",
              "6      None\n",
              "7      None\n",
              "8      None\n",
              "9      None\n",
              "10     None\n",
              "11    1 amb\n",
              "12    2 AMB\n",
              "13    3 amb\n",
              "14     None\n",
              "15     None\n",
              "16    4 amb\n",
              "17    3 amb\n",
              "18     None\n",
              "19     None\n",
              "20     None\n",
              "21     None\n",
              "22     None\n",
              "23     None\n",
              "24    4 amb\n",
              "25    4 amb\n",
              "26     None\n",
              "27     None\n",
              "28    4 amb\n",
              "29     None\n",
              "30     None\n",
              "31    3 amb\n",
              "32     None\n",
              "33    3 amb\n",
              "34     None\n",
              "35     None\n",
              "36     None\n",
              "37     None\n",
              "38     None\n",
              "39     None\n",
              "40    3 AMB\n",
              "41     None\n",
              "42     None\n",
              "43     None\n",
              "44     None\n",
              "45    3 amb\n",
              "46     None\n",
              "47     None\n",
              "48     None\n",
              "49     None\n",
              "Name: description, dtype: object"
            ]
          },
          "execution_count": 100,
          "metadata": {},
          "output_type": "execute_result"
        }
      ],
      "source": [
        "prope.description.apply(get_ambientes)"
      ]
    },
    {
      "cell_type": "code",
      "execution_count": null,
      "id": "uuI_DlIlg5e4",
      "metadata": {
        "id": "uuI_DlIlg5e4"
      },
      "outputs": [],
      "source": [
        "def get_ambientes(x):\n",
        "  patron = '\\d+ amb'\n",
        "  regex = re.compile(patron,flags=re.IGNORECASE)\n",
        "  resultado=regex.search(x)\n",
        "  try:\n",
        "    output=resultado.group()\n",
        "    output=output.split(' ')[0]\n",
        "\n",
        "  except:\n",
        "    output=None\n",
        "  return output"
      ]
    },
    {
      "cell_type": "code",
      "execution_count": null,
      "id": "7Qm7U8p9hB7A",
      "metadata": {
        "colab": {
          "base_uri": "https://localhost:8080/"
        },
        "id": "7Qm7U8p9hB7A",
        "outputId": "81b6bd2d-33cf-4fd5-d9ee-12838335ce00"
      },
      "outputs": [
        {
          "data": {
            "text/plain": [
              "0        2\n",
              "1     None\n",
              "2        2\n",
              "3        3\n",
              "4     None\n",
              "5     None\n",
              "6     None\n",
              "7     None\n",
              "8     None\n",
              "9     None\n",
              "10    None\n",
              "11       1\n",
              "12       2\n",
              "13       3\n",
              "14    None\n",
              "15    None\n",
              "16       4\n",
              "17       3\n",
              "18    None\n",
              "19    None\n",
              "20    None\n",
              "21    None\n",
              "22    None\n",
              "23    None\n",
              "24       4\n",
              "25       4\n",
              "26    None\n",
              "27    None\n",
              "28       4\n",
              "29    None\n",
              "30    None\n",
              "31       3\n",
              "32    None\n",
              "33       3\n",
              "34    None\n",
              "35    None\n",
              "36    None\n",
              "37    None\n",
              "38    None\n",
              "39    None\n",
              "40       3\n",
              "41    None\n",
              "42    None\n",
              "43    None\n",
              "44    None\n",
              "45       3\n",
              "46    None\n",
              "47    None\n",
              "48    None\n",
              "49    None\n",
              "Name: description, dtype: object"
            ]
          },
          "execution_count": 102,
          "metadata": {},
          "output_type": "execute_result"
        }
      ],
      "source": [
        "prope.description.apply(get_ambientes)"
      ]
    },
    {
      "cell_type": "markdown",
      "id": "LYDKDUWajQjQ",
      "metadata": {
        "id": "LYDKDUWajQjQ"
      },
      "source": [
        "# Regex en Pandas\n",
        "\n",
        "\n",
        "```\n",
        "count()\tCount occurrences of pattern in each string of the Series/Index\n",
        "replace()\tReplace the search string or pattern with the given value\n",
        "contains()\tTest if pattern or regex is contained within a string of a Series or Index. Calls re.search() and returns a boolean\n",
        "extract()\tExtract capture groups in the regex pat as columns in a DataFrame and returns the captured groups\n",
        "findall()\tFind all occurrences of pattern or regular expression in the Series/Index. Equivalent to applying re.findall() on all elements\n",
        "match()\tDetermine if each string matches a regular expression. Calls re.match() and returns a boolean\n",
        "split()\tEquivalent to str.split() and Accepts String or regular expression to split on\n",
        "rsplit()\tEquivalent to str.rsplit() and Splits the string in the Series/Index from the end\n",
        "```"
      ]
    },
    {
      "cell_type": "code",
      "execution_count": null,
      "id": "mHjj-LV7jvt4",
      "metadata": {
        "colab": {
          "base_uri": "https://localhost:8080/",
          "height": 36
        },
        "id": "mHjj-LV7jvt4",
        "outputId": "cfa965cb-6f03-4366-ac64-7a8677c5ac30"
      },
      "outputs": [
        {
          "data": {
            "application/vnd.google.colaboratory.intrinsic+json": {
              "type": "string"
            },
            "text/plain": [
              "'\\\\d+ amb'"
            ]
          },
          "execution_count": 103,
          "metadata": {},
          "output_type": "execute_result"
        }
      ],
      "source": [
        "patron"
      ]
    },
    {
      "cell_type": "code",
      "execution_count": null,
      "id": "KCG5Q3mrj8Q9",
      "metadata": {
        "id": "KCG5Q3mrj8Q9"
      },
      "outputs": [],
      "source": []
    },
    {
      "cell_type": "code",
      "execution_count": null,
      "id": "K5MEL8hhj2Yy",
      "metadata": {
        "colab": {
          "base_uri": "https://localhost:8080/"
        },
        "id": "K5MEL8hhj2Yy",
        "outputId": "265dbe29-5e8f-4377-d89c-8035fa6cf29a"
      },
      "outputs": [
        {
          "data": {
            "text/plain": [
              "0     1\n",
              "1     0\n",
              "2     1\n",
              "3     1\n",
              "4     0\n",
              "5     0\n",
              "6     0\n",
              "7     0\n",
              "8     0\n",
              "9     0\n",
              "10    0\n",
              "11    1\n",
              "12    1\n",
              "13    1\n",
              "14    0\n",
              "15    0\n",
              "16    1\n",
              "17    1\n",
              "18    0\n",
              "19    0\n",
              "20    0\n",
              "21    0\n",
              "22    0\n",
              "23    0\n",
              "24    1\n",
              "25    1\n",
              "26    0\n",
              "27    0\n",
              "28    1\n",
              "29    0\n",
              "30    0\n",
              "31    1\n",
              "32    0\n",
              "33    1\n",
              "34    0\n",
              "35    0\n",
              "36    0\n",
              "37    0\n",
              "38    0\n",
              "39    0\n",
              "40    1\n",
              "41    0\n",
              "42    0\n",
              "43    0\n",
              "44    0\n",
              "45    1\n",
              "46    0\n",
              "47    0\n",
              "48    0\n",
              "49    0\n",
              "Name: description, dtype: int64"
            ]
          },
          "execution_count": 108,
          "metadata": {},
          "output_type": "execute_result"
        }
      ],
      "source": [
        "prope.description.str.count(patron,flags=re.IGNORECASE)"
      ]
    },
    {
      "cell_type": "code",
      "execution_count": null,
      "id": "LuTnxV9pkJPE",
      "metadata": {
        "colab": {
          "base_uri": "https://localhost:8080/"
        },
        "id": "LuTnxV9pkJPE",
        "outputId": "585c79f1-ae78-45cc-a993-2b62abb9d41e"
      },
      "outputs": [
        {
          "data": {
            "text/plain": [
              "0     XXXXIENTES TIPO CASA PLANTA BAJA POR PASILLO, ...\n",
              "1     Venta de departamento en décimo piso al frente...\n",
              "2     XXXXIENTES 3ER PISO LATERAL LIVING COMEDOR AMP...\n",
              "3     PH XXXXientes con patio. Hay 3 deptos en lote,...\n",
              "4     DEPARTAMENTO CON FANTÁSTICA ILUMINACIÓN NATURA...\n",
              "5     Casa en el perímetro del barrio 338, ubicada e...\n",
              "6     MUY BUEN PH AL FRENTE CON ENTRADA INDEPENDIENT...\n",
              "7     EXCELENTE MONOAMBIENTE A ESTRENAR AMPLIO SUPER...\n",
              "8     EXCELENTE DOS AMBIENTES  ESTRENAR AMPLIO SUPER...\n",
              "9     MEDNOZA AL 7600A UNA CUADRA DE CALLE MENDOZAWH...\n",
              "10    Hermosa casa sin terminar de 3 dormitorios, ba...\n",
              "11    Entrada de Coche, Jardin, Living en desnivel, ...\n",
              "12    EXCELENTE DEPARTAMENTO XXXXIENTES CONTRAFRENTE...\n",
              "13     Torre I Mondrian. XXXXientes con terraza y do...\n",
              "14    Torre II Dalí. Ambiente unico divisible.Vitrau...\n",
              "15    ULTIMA UNIDAD DISPONIBLEHAUS BOULEVARD: Metros...\n",
              "16    Ventas Mataderos al frente Duplex XXXX.- Plant...\n",
              "17    Excelente XXXXientes en un 6 piso y con terraz...\n",
              "18    Casa sobre lote al golf en barrio San Isidro L...\n",
              "19    Excelente semipiso al contra frente en Bulnes ...\n",
              "20    Consta de: Comedor-cocina, cuatro dormitorios ...\n",
              "21    EXCELENTE ZONA, MULTIPLES MEDIOS DE TRANSPORTE...\n",
              "22    Edificada en 2 plantas. PB. amplio living con ...\n",
              "23    Hermoso departamento, ubicado en la calle Almi...\n",
              "24    EXCLUSIVO  DEPARTAMENTO DE EXCELENTE CATEGORIA...\n",
              "25    EXCLUSIVO  DEPARTAMENTO DE EXCELENTE CATEGORÍA...\n",
              "26    Casa en venta en complejo Villanueva barrio Sa...\n",
              "27    Estancias propone vivir rodeados de naturaleza...\n",
              "28    EXCLUSIVO  DEPARTAMENTO DE EXCELENTE CATEGORÍA...\n",
              "29    Departamento muy luminoso con todos sus ambien...\n",
              "30    Muy linda casa , toda en planta baja, doble pa...\n",
              "31    Muy buena casa tipo americana de XXXXientes co...\n",
              "32    EN VENTA, departamento ubicado en barrio Pueyr...\n",
              "33    Excelente XXXXientes en un 6 piso en esquina y...\n",
              "34    Amplio PH de 5 dormitorios, ubicado a 3 cuadra...\n",
              "35    Hermoso departamento de cuatro ambientes, refa...\n",
              "36    Casa en Pilar centro ,a pocas cuadras de la pl...\n",
              "37    Nuevos ingreso:-VENTA-Villa San Nicolas.Presen...\n",
              "38    Espectacular loft de exclusivo diseño, 210 ms,...\n",
              "39    Casa a estrenar en Barrio San Eduardo , Pilar ...\n",
              "40    LINDÍSIMO DEPARTAMENTO EN VENTA, XXXXIENTES CO...\n",
              "41    “Arecas” es un complejo de dúplex y departamen...\n",
              "42    Ubicado en planta baja, posee patio y un area ...\n",
              "43    Impecable depto, en venta con renta, Pilar Gar...\n",
              "44    Ideal Desarrollistas:Zona UCA .Densidad 800 ( ...\n",
              "45    Hermoso monoambiente, ideal Profesional!!!Apar...\n",
              "46    Excelente Duplex, en Condominio con Seguridad....\n",
              "47    ESTRUCTURA ECOLOGICA FLOTANTEIDEAL PARA UBICAR...\n",
              "48    PISO 13, Orientación norte, disposición al fre...\n",
              "49    JPL. Casa en el barrio San Sebastian con bajad...\n",
              "Name: description, dtype: object"
            ]
          },
          "execution_count": 109,
          "metadata": {},
          "output_type": "execute_result"
        }
      ],
      "source": [
        "prope.description.str.replace(patron,'XXXX',regex=True,flags=re.IGNORECASE)"
      ]
    },
    {
      "cell_type": "code",
      "execution_count": null,
      "id": "_w8CJqddkkqt",
      "metadata": {
        "colab": {
          "base_uri": "https://localhost:8080/"
        },
        "id": "_w8CJqddkkqt",
        "outputId": "b993f9a1-06dd-48df-fede-ae9e417a5dcd"
      },
      "outputs": [
        {
          "data": {
            "text/plain": [
              "0      True\n",
              "1     False\n",
              "2      True\n",
              "3      True\n",
              "4     False\n",
              "5     False\n",
              "6     False\n",
              "7     False\n",
              "8     False\n",
              "9     False\n",
              "10    False\n",
              "11     True\n",
              "12     True\n",
              "13     True\n",
              "14    False\n",
              "15    False\n",
              "16     True\n",
              "17     True\n",
              "18    False\n",
              "19    False\n",
              "20    False\n",
              "21    False\n",
              "22    False\n",
              "23    False\n",
              "24     True\n",
              "25     True\n",
              "26    False\n",
              "27    False\n",
              "28     True\n",
              "29    False\n",
              "30    False\n",
              "31     True\n",
              "32    False\n",
              "33     True\n",
              "34    False\n",
              "35    False\n",
              "36    False\n",
              "37    False\n",
              "38    False\n",
              "39    False\n",
              "40     True\n",
              "41    False\n",
              "42    False\n",
              "43    False\n",
              "44    False\n",
              "45     True\n",
              "46    False\n",
              "47    False\n",
              "48    False\n",
              "49    False\n",
              "Name: description, dtype: bool"
            ]
          },
          "execution_count": 110,
          "metadata": {},
          "output_type": "execute_result"
        }
      ],
      "source": [
        "prope.description.str.contains(patron,regex=True,flags=re.IGNORECASE)"
      ]
    },
    {
      "cell_type": "code",
      "execution_count": null,
      "id": "sbL6EiSIkuLK",
      "metadata": {
        "colab": {
          "base_uri": "https://localhost:8080/",
          "height": 1000
        },
        "id": "sbL6EiSIkuLK",
        "outputId": "fc2311af-4abc-4433-8d31-d2e1999834ff"
      },
      "outputs": [
        {
          "data": {
            "text/html": [
              "\n",
              "  <div id=\"df-73f8d573-95cd-42f1-b7a7-7e4397d40b84\" class=\"colab-df-container\">\n",
              "    <div>\n",
              "<style scoped>\n",
              "    .dataframe tbody tr th:only-of-type {\n",
              "        vertical-align: middle;\n",
              "    }\n",
              "\n",
              "    .dataframe tbody tr th {\n",
              "        vertical-align: top;\n",
              "    }\n",
              "\n",
              "    .dataframe thead th {\n",
              "        text-align: right;\n",
              "    }\n",
              "</style>\n",
              "<table border=\"1\" class=\"dataframe\">\n",
              "  <thead>\n",
              "    <tr style=\"text-align: right;\">\n",
              "      <th></th>\n",
              "      <th>0</th>\n",
              "    </tr>\n",
              "  </thead>\n",
              "  <tbody>\n",
              "    <tr>\n",
              "      <th>0</th>\n",
              "      <td>2 AMB</td>\n",
              "    </tr>\n",
              "    <tr>\n",
              "      <th>1</th>\n",
              "      <td>NaN</td>\n",
              "    </tr>\n",
              "    <tr>\n",
              "      <th>2</th>\n",
              "      <td>2 AMB</td>\n",
              "    </tr>\n",
              "    <tr>\n",
              "      <th>3</th>\n",
              "      <td>3 amb</td>\n",
              "    </tr>\n",
              "    <tr>\n",
              "      <th>4</th>\n",
              "      <td>NaN</td>\n",
              "    </tr>\n",
              "    <tr>\n",
              "      <th>5</th>\n",
              "      <td>NaN</td>\n",
              "    </tr>\n",
              "    <tr>\n",
              "      <th>6</th>\n",
              "      <td>NaN</td>\n",
              "    </tr>\n",
              "    <tr>\n",
              "      <th>7</th>\n",
              "      <td>NaN</td>\n",
              "    </tr>\n",
              "    <tr>\n",
              "      <th>8</th>\n",
              "      <td>NaN</td>\n",
              "    </tr>\n",
              "    <tr>\n",
              "      <th>9</th>\n",
              "      <td>NaN</td>\n",
              "    </tr>\n",
              "    <tr>\n",
              "      <th>10</th>\n",
              "      <td>NaN</td>\n",
              "    </tr>\n",
              "    <tr>\n",
              "      <th>11</th>\n",
              "      <td>1 amb</td>\n",
              "    </tr>\n",
              "    <tr>\n",
              "      <th>12</th>\n",
              "      <td>2 AMB</td>\n",
              "    </tr>\n",
              "    <tr>\n",
              "      <th>13</th>\n",
              "      <td>3 amb</td>\n",
              "    </tr>\n",
              "    <tr>\n",
              "      <th>14</th>\n",
              "      <td>NaN</td>\n",
              "    </tr>\n",
              "    <tr>\n",
              "      <th>15</th>\n",
              "      <td>NaN</td>\n",
              "    </tr>\n",
              "    <tr>\n",
              "      <th>16</th>\n",
              "      <td>4 amb</td>\n",
              "    </tr>\n",
              "    <tr>\n",
              "      <th>17</th>\n",
              "      <td>3 amb</td>\n",
              "    </tr>\n",
              "    <tr>\n",
              "      <th>18</th>\n",
              "      <td>NaN</td>\n",
              "    </tr>\n",
              "    <tr>\n",
              "      <th>19</th>\n",
              "      <td>NaN</td>\n",
              "    </tr>\n",
              "    <tr>\n",
              "      <th>20</th>\n",
              "      <td>NaN</td>\n",
              "    </tr>\n",
              "    <tr>\n",
              "      <th>21</th>\n",
              "      <td>NaN</td>\n",
              "    </tr>\n",
              "    <tr>\n",
              "      <th>22</th>\n",
              "      <td>NaN</td>\n",
              "    </tr>\n",
              "    <tr>\n",
              "      <th>23</th>\n",
              "      <td>NaN</td>\n",
              "    </tr>\n",
              "    <tr>\n",
              "      <th>24</th>\n",
              "      <td>4 amb</td>\n",
              "    </tr>\n",
              "    <tr>\n",
              "      <th>25</th>\n",
              "      <td>4 amb</td>\n",
              "    </tr>\n",
              "    <tr>\n",
              "      <th>26</th>\n",
              "      <td>NaN</td>\n",
              "    </tr>\n",
              "    <tr>\n",
              "      <th>27</th>\n",
              "      <td>NaN</td>\n",
              "    </tr>\n",
              "    <tr>\n",
              "      <th>28</th>\n",
              "      <td>4 amb</td>\n",
              "    </tr>\n",
              "    <tr>\n",
              "      <th>29</th>\n",
              "      <td>NaN</td>\n",
              "    </tr>\n",
              "    <tr>\n",
              "      <th>30</th>\n",
              "      <td>NaN</td>\n",
              "    </tr>\n",
              "    <tr>\n",
              "      <th>31</th>\n",
              "      <td>3 amb</td>\n",
              "    </tr>\n",
              "    <tr>\n",
              "      <th>32</th>\n",
              "      <td>NaN</td>\n",
              "    </tr>\n",
              "    <tr>\n",
              "      <th>33</th>\n",
              "      <td>3 amb</td>\n",
              "    </tr>\n",
              "    <tr>\n",
              "      <th>34</th>\n",
              "      <td>NaN</td>\n",
              "    </tr>\n",
              "    <tr>\n",
              "      <th>35</th>\n",
              "      <td>NaN</td>\n",
              "    </tr>\n",
              "    <tr>\n",
              "      <th>36</th>\n",
              "      <td>NaN</td>\n",
              "    </tr>\n",
              "    <tr>\n",
              "      <th>37</th>\n",
              "      <td>NaN</td>\n",
              "    </tr>\n",
              "    <tr>\n",
              "      <th>38</th>\n",
              "      <td>NaN</td>\n",
              "    </tr>\n",
              "    <tr>\n",
              "      <th>39</th>\n",
              "      <td>NaN</td>\n",
              "    </tr>\n",
              "    <tr>\n",
              "      <th>40</th>\n",
              "      <td>3 AMB</td>\n",
              "    </tr>\n",
              "    <tr>\n",
              "      <th>41</th>\n",
              "      <td>NaN</td>\n",
              "    </tr>\n",
              "    <tr>\n",
              "      <th>42</th>\n",
              "      <td>NaN</td>\n",
              "    </tr>\n",
              "    <tr>\n",
              "      <th>43</th>\n",
              "      <td>NaN</td>\n",
              "    </tr>\n",
              "    <tr>\n",
              "      <th>44</th>\n",
              "      <td>NaN</td>\n",
              "    </tr>\n",
              "    <tr>\n",
              "      <th>45</th>\n",
              "      <td>3 amb</td>\n",
              "    </tr>\n",
              "    <tr>\n",
              "      <th>46</th>\n",
              "      <td>NaN</td>\n",
              "    </tr>\n",
              "    <tr>\n",
              "      <th>47</th>\n",
              "      <td>NaN</td>\n",
              "    </tr>\n",
              "    <tr>\n",
              "      <th>48</th>\n",
              "      <td>NaN</td>\n",
              "    </tr>\n",
              "    <tr>\n",
              "      <th>49</th>\n",
              "      <td>NaN</td>\n",
              "    </tr>\n",
              "  </tbody>\n",
              "</table>\n",
              "</div>\n",
              "    <div class=\"colab-df-buttons\">\n",
              "\n",
              "  <div class=\"colab-df-container\">\n",
              "    <button class=\"colab-df-convert\" onclick=\"convertToInteractive('df-73f8d573-95cd-42f1-b7a7-7e4397d40b84')\"\n",
              "            title=\"Convert this dataframe to an interactive table.\"\n",
              "            style=\"display:none;\">\n",
              "\n",
              "  <svg xmlns=\"http://www.w3.org/2000/svg\" height=\"24px\" viewBox=\"0 -960 960 960\">\n",
              "    <path d=\"M120-120v-720h720v720H120Zm60-500h600v-160H180v160Zm220 220h160v-160H400v160Zm0 220h160v-160H400v160ZM180-400h160v-160H180v160Zm440 0h160v-160H620v160ZM180-180h160v-160H180v160Zm440 0h160v-160H620v160Z\"/>\n",
              "  </svg>\n",
              "    </button>\n",
              "\n",
              "  <style>\n",
              "    .colab-df-container {\n",
              "      display:flex;\n",
              "      gap: 12px;\n",
              "    }\n",
              "\n",
              "    .colab-df-convert {\n",
              "      background-color: #E8F0FE;\n",
              "      border: none;\n",
              "      border-radius: 50%;\n",
              "      cursor: pointer;\n",
              "      display: none;\n",
              "      fill: #1967D2;\n",
              "      height: 32px;\n",
              "      padding: 0 0 0 0;\n",
              "      width: 32px;\n",
              "    }\n",
              "\n",
              "    .colab-df-convert:hover {\n",
              "      background-color: #E2EBFA;\n",
              "      box-shadow: 0px 1px 2px rgba(60, 64, 67, 0.3), 0px 1px 3px 1px rgba(60, 64, 67, 0.15);\n",
              "      fill: #174EA6;\n",
              "    }\n",
              "\n",
              "    .colab-df-buttons div {\n",
              "      margin-bottom: 4px;\n",
              "    }\n",
              "\n",
              "    [theme=dark] .colab-df-convert {\n",
              "      background-color: #3B4455;\n",
              "      fill: #D2E3FC;\n",
              "    }\n",
              "\n",
              "    [theme=dark] .colab-df-convert:hover {\n",
              "      background-color: #434B5C;\n",
              "      box-shadow: 0px 1px 3px 1px rgba(0, 0, 0, 0.15);\n",
              "      filter: drop-shadow(0px 1px 2px rgba(0, 0, 0, 0.3));\n",
              "      fill: #FFFFFF;\n",
              "    }\n",
              "  </style>\n",
              "\n",
              "    <script>\n",
              "      const buttonEl =\n",
              "        document.querySelector('#df-73f8d573-95cd-42f1-b7a7-7e4397d40b84 button.colab-df-convert');\n",
              "      buttonEl.style.display =\n",
              "        google.colab.kernel.accessAllowed ? 'block' : 'none';\n",
              "\n",
              "      async function convertToInteractive(key) {\n",
              "        const element = document.querySelector('#df-73f8d573-95cd-42f1-b7a7-7e4397d40b84');\n",
              "        const dataTable =\n",
              "          await google.colab.kernel.invokeFunction('convertToInteractive',\n",
              "                                                    [key], {});\n",
              "        if (!dataTable) return;\n",
              "\n",
              "        const docLinkHtml = 'Like what you see? Visit the ' +\n",
              "          '<a target=\"_blank\" href=https://colab.research.google.com/notebooks/data_table.ipynb>data table notebook</a>'\n",
              "          + ' to learn more about interactive tables.';\n",
              "        element.innerHTML = '';\n",
              "        dataTable['output_type'] = 'display_data';\n",
              "        await google.colab.output.renderOutput(dataTable, element);\n",
              "        const docLink = document.createElement('div');\n",
              "        docLink.innerHTML = docLinkHtml;\n",
              "        element.appendChild(docLink);\n",
              "      }\n",
              "    </script>\n",
              "  </div>\n",
              "\n",
              "\n",
              "<div id=\"df-7e38be8a-5ac5-49ec-af5e-f1f33ac23a1c\">\n",
              "  <button class=\"colab-df-quickchart\" onclick=\"quickchart('df-7e38be8a-5ac5-49ec-af5e-f1f33ac23a1c')\"\n",
              "            title=\"Suggest charts.\"\n",
              "            style=\"display:none;\">\n",
              "\n",
              "<svg xmlns=\"http://www.w3.org/2000/svg\" height=\"24px\"viewBox=\"0 0 24 24\"\n",
              "     width=\"24px\">\n",
              "    <g>\n",
              "        <path d=\"M19 3H5c-1.1 0-2 .9-2 2v14c0 1.1.9 2 2 2h14c1.1 0 2-.9 2-2V5c0-1.1-.9-2-2-2zM9 17H7v-7h2v7zm4 0h-2V7h2v10zm4 0h-2v-4h2v4z\"/>\n",
              "    </g>\n",
              "</svg>\n",
              "  </button>\n",
              "\n",
              "<style>\n",
              "  .colab-df-quickchart {\n",
              "      --bg-color: #E8F0FE;\n",
              "      --fill-color: #1967D2;\n",
              "      --hover-bg-color: #E2EBFA;\n",
              "      --hover-fill-color: #174EA6;\n",
              "      --disabled-fill-color: #AAA;\n",
              "      --disabled-bg-color: #DDD;\n",
              "  }\n",
              "\n",
              "  [theme=dark] .colab-df-quickchart {\n",
              "      --bg-color: #3B4455;\n",
              "      --fill-color: #D2E3FC;\n",
              "      --hover-bg-color: #434B5C;\n",
              "      --hover-fill-color: #FFFFFF;\n",
              "      --disabled-bg-color: #3B4455;\n",
              "      --disabled-fill-color: #666;\n",
              "  }\n",
              "\n",
              "  .colab-df-quickchart {\n",
              "    background-color: var(--bg-color);\n",
              "    border: none;\n",
              "    border-radius: 50%;\n",
              "    cursor: pointer;\n",
              "    display: none;\n",
              "    fill: var(--fill-color);\n",
              "    height: 32px;\n",
              "    padding: 0;\n",
              "    width: 32px;\n",
              "  }\n",
              "\n",
              "  .colab-df-quickchart:hover {\n",
              "    background-color: var(--hover-bg-color);\n",
              "    box-shadow: 0 1px 2px rgba(60, 64, 67, 0.3), 0 1px 3px 1px rgba(60, 64, 67, 0.15);\n",
              "    fill: var(--button-hover-fill-color);\n",
              "  }\n",
              "\n",
              "  .colab-df-quickchart-complete:disabled,\n",
              "  .colab-df-quickchart-complete:disabled:hover {\n",
              "    background-color: var(--disabled-bg-color);\n",
              "    fill: var(--disabled-fill-color);\n",
              "    box-shadow: none;\n",
              "  }\n",
              "\n",
              "  .colab-df-spinner {\n",
              "    border: 2px solid var(--fill-color);\n",
              "    border-color: transparent;\n",
              "    border-bottom-color: var(--fill-color);\n",
              "    animation:\n",
              "      spin 1s steps(1) infinite;\n",
              "  }\n",
              "\n",
              "  @keyframes spin {\n",
              "    0% {\n",
              "      border-color: transparent;\n",
              "      border-bottom-color: var(--fill-color);\n",
              "      border-left-color: var(--fill-color);\n",
              "    }\n",
              "    20% {\n",
              "      border-color: transparent;\n",
              "      border-left-color: var(--fill-color);\n",
              "      border-top-color: var(--fill-color);\n",
              "    }\n",
              "    30% {\n",
              "      border-color: transparent;\n",
              "      border-left-color: var(--fill-color);\n",
              "      border-top-color: var(--fill-color);\n",
              "      border-right-color: var(--fill-color);\n",
              "    }\n",
              "    40% {\n",
              "      border-color: transparent;\n",
              "      border-right-color: var(--fill-color);\n",
              "      border-top-color: var(--fill-color);\n",
              "    }\n",
              "    60% {\n",
              "      border-color: transparent;\n",
              "      border-right-color: var(--fill-color);\n",
              "    }\n",
              "    80% {\n",
              "      border-color: transparent;\n",
              "      border-right-color: var(--fill-color);\n",
              "      border-bottom-color: var(--fill-color);\n",
              "    }\n",
              "    90% {\n",
              "      border-color: transparent;\n",
              "      border-bottom-color: var(--fill-color);\n",
              "    }\n",
              "  }\n",
              "</style>\n",
              "\n",
              "  <script>\n",
              "    async function quickchart(key) {\n",
              "      const quickchartButtonEl =\n",
              "        document.querySelector('#' + key + ' button');\n",
              "      quickchartButtonEl.disabled = true;  // To prevent multiple clicks.\n",
              "      quickchartButtonEl.classList.add('colab-df-spinner');\n",
              "      try {\n",
              "        const charts = await google.colab.kernel.invokeFunction(\n",
              "            'suggestCharts', [key], {});\n",
              "      } catch (error) {\n",
              "        console.error('Error during call to suggestCharts:', error);\n",
              "      }\n",
              "      quickchartButtonEl.classList.remove('colab-df-spinner');\n",
              "      quickchartButtonEl.classList.add('colab-df-quickchart-complete');\n",
              "    }\n",
              "    (() => {\n",
              "      let quickchartButtonEl =\n",
              "        document.querySelector('#df-7e38be8a-5ac5-49ec-af5e-f1f33ac23a1c button');\n",
              "      quickchartButtonEl.style.display =\n",
              "        google.colab.kernel.accessAllowed ? 'block' : 'none';\n",
              "    })();\n",
              "  </script>\n",
              "</div>\n",
              "    </div>\n",
              "  </div>\n"
            ],
            "text/plain": [
              "        0\n",
              "0   2 AMB\n",
              "1     NaN\n",
              "2   2 AMB\n",
              "3   3 amb\n",
              "4     NaN\n",
              "5     NaN\n",
              "6     NaN\n",
              "7     NaN\n",
              "8     NaN\n",
              "9     NaN\n",
              "10    NaN\n",
              "11  1 amb\n",
              "12  2 AMB\n",
              "13  3 amb\n",
              "14    NaN\n",
              "15    NaN\n",
              "16  4 amb\n",
              "17  3 amb\n",
              "18    NaN\n",
              "19    NaN\n",
              "20    NaN\n",
              "21    NaN\n",
              "22    NaN\n",
              "23    NaN\n",
              "24  4 amb\n",
              "25  4 amb\n",
              "26    NaN\n",
              "27    NaN\n",
              "28  4 amb\n",
              "29    NaN\n",
              "30    NaN\n",
              "31  3 amb\n",
              "32    NaN\n",
              "33  3 amb\n",
              "34    NaN\n",
              "35    NaN\n",
              "36    NaN\n",
              "37    NaN\n",
              "38    NaN\n",
              "39    NaN\n",
              "40  3 AMB\n",
              "41    NaN\n",
              "42    NaN\n",
              "43    NaN\n",
              "44    NaN\n",
              "45  3 amb\n",
              "46    NaN\n",
              "47    NaN\n",
              "48    NaN\n",
              "49    NaN"
            ]
          },
          "execution_count": 116,
          "metadata": {},
          "output_type": "execute_result"
        }
      ],
      "source": [
        "patron = '(\\d+ amb)'\n",
        "regex = re.compile(patron,flags=re.IGNORECASE)\n",
        "prope.description.str.extract(regex)"
      ]
    },
    {
      "cell_type": "code",
      "execution_count": null,
      "id": "lazF_Finltnq",
      "metadata": {
        "id": "lazF_Finltnq"
      },
      "outputs": [],
      "source": [
        "#para sacar las tildes se puede usar unidecode\n"
      ]
    }
  ],
  "metadata": {
    "colab": {
      "provenance": []
    },
    "kernelspec": {
      "display_name": "Python 3 (ipykernel)",
      "language": "python",
      "name": "python3"
    },
    "language_info": {
      "codemirror_mode": {
        "name": "ipython",
        "version": 3
      },
      "file_extension": ".py",
      "mimetype": "text/x-python",
      "name": "python",
      "nbconvert_exporter": "python",
      "pygments_lexer": "ipython3",
      "version": "3.10.10"
    }
  },
  "nbformat": 4,
  "nbformat_minor": 5
}
